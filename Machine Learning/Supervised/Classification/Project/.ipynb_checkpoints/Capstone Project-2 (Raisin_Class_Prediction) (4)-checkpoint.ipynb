{
 "cells": [
  {
   "cell_type": "markdown",
   "id": "6608d87a-1718-4198-aa94-5018bed4a106",
   "metadata": {
    "id": "6608d87a-1718-4198-aa94-5018bed4a106"
   },
   "source": [
    "# Raisin Class Prediction"
   ]
  },
  {
   "cell_type": "markdown",
   "id": "392a02f0-fdda-44ae-a0fc-97f3b03924a9",
   "metadata": {
    "id": "392a02f0-fdda-44ae-a0fc-97f3b03924a9"
   },
   "source": [
    "Data Set Information:\n",
    "\n",
    "Images of Kecimen and Besni raisin varieties grown in Turkey were obtained with CVS. A total of 900 raisin grains were used, including 450 pieces from both varieties. These images were subjected to various stages of pre-processing and 7 morphological features were extracted. These features have been classified using three different artificial intelligence techniques.\n",
    "\n",
    "\n",
    "Attribute Information:\n",
    "\n",
    "1. Area: Gives the number of pixels within the boundaries of the raisin.\n",
    "2. Perimeter: It measures the environment by calculating the distance between the boundaries of the raisin and the pixels around it.\n",
    "3. MajorAxisLength: Gives the length of the main axis, which is the longest line that can be drawn on the raisin.\n",
    "4. MinorAxisLength: Gives the length of the small axis, which is the shortest line that can be drawn on the raisin.\n",
    "5. Eccentricity: It gives a measure of the eccentricity of the ellipse, which has the same moments as raisins.\n",
    "6. ConvexArea: Gives the number of pixels of the smallest convex shell of the region formed by the raisin.\n",
    "7. Extent: Gives the ratio of the region formed by the raisin to the total pixels in the bounding box.\n",
    "8. Class: Kecimen and Besni raisin."
   ]
  },
  {
   "cell_type": "markdown",
   "id": "9f64a47c-5aa7-4653-98ea-6c645df4572b",
   "metadata": {
    "id": "9f64a47c-5aa7-4653-98ea-6c645df4572b"
   },
   "source": [
    "# Import libraries"
   ]
  },
  {
   "cell_type": "code",
   "execution_count": null,
   "id": "8ecb3841",
   "metadata": {},
   "outputs": [],
   "source": []
  },
  {
   "cell_type": "markdown",
   "id": "a589228f-f7be-4c79-94fd-e45cb2c473f4",
   "metadata": {
    "id": "a589228f-f7be-4c79-94fd-e45cb2c473f4",
    "tags": []
   },
   "source": [
    "## Exploratory Data Analysis and Visualization"
   ]
  },
  {
   "cell_type": "code",
   "execution_count": null,
   "id": "a408cba6",
   "metadata": {},
   "outputs": [],
   "source": [
    "df = pd.read_csv(\"Raisin_Dataset.xlsx\")\n",
    "df.head()"
   ]
  },
  {
   "cell_type": "markdown",
   "id": "ab14529b-fa6d-4594-9740-4423f7e8e5d2",
   "metadata": {
    "id": "ab14529b-fa6d-4594-9740-4423f7e8e5d2"
   },
   "source": [
    "## Train | Test Split and Scaling"
   ]
  },
  {
   "cell_type": "code",
   "execution_count": null,
   "id": "cd3070c8",
   "metadata": {},
   "outputs": [],
   "source": []
  },
  {
   "cell_type": "markdown",
   "id": "4e3dcb9c",
   "metadata": {
    "id": "4e3dcb9c"
   },
   "source": [
    "# Logistic Regression"
   ]
  },
  {
   "cell_type": "code",
   "execution_count": null,
   "id": "31124f68",
   "metadata": {},
   "outputs": [],
   "source": []
  },
  {
   "cell_type": "markdown",
   "id": "61461cd3",
   "metadata": {
    "id": "61461cd3"
   },
   "source": [
    "## Model Performance"
   ]
  },
  {
   "cell_type": "code",
   "execution_count": null,
   "id": "45e1cfed",
   "metadata": {},
   "outputs": [],
   "source": []
  },
  {
   "cell_type": "markdown",
   "id": "e101279a",
   "metadata": {
    "id": "e101279a"
   },
   "source": [
    "### Cross Validate"
   ]
  },
  {
   "cell_type": "code",
   "execution_count": null,
   "id": "a5aa0daa",
   "metadata": {},
   "outputs": [],
   "source": []
  },
  {
   "cell_type": "markdown",
   "id": "fd39b4ec",
   "metadata": {
    "id": "fd39b4ec"
   },
   "source": [
    "### GridSearchCV"
   ]
  },
  {
   "cell_type": "code",
   "execution_count": null,
   "id": "529374a5",
   "metadata": {},
   "outputs": [],
   "source": []
  },
  {
   "cell_type": "markdown",
   "id": "9dc6e45b",
   "metadata": {
    "id": "9dc6e45b"
   },
   "source": [
    "## ROC (Receiver Operating Curve) and AUC (Area Under Curve)"
   ]
  },
  {
   "cell_type": "code",
   "execution_count": null,
   "id": "41c4a402",
   "metadata": {},
   "outputs": [],
   "source": []
  },
  {
   "cell_type": "markdown",
   "id": "8373bd76",
   "metadata": {
    "id": "8373bd76"
   },
   "source": [
    "# Conclusion "
   ]
  },
  {
   "cell_type": "raw",
   "id": "2774b187",
   "metadata": {
    "id": "aae17dd9"
   },
   "source": []
  }
 ],
 "metadata": {
  "colab": {
   "collapsed_sections": [],
   "name": "Case Study_2_solution-.ipynb",
   "provenance": []
  },
  "hide_input": false,
  "interpreter": {
   "hash": "b91502e98c93ec413571a3c4a71c4e7e2f090119475bdef759aa0802c5125d05"
  },
  "kernelspec": {
   "display_name": "Python 3 (ipykernel)",
   "language": "python",
   "name": "python3"
  },
  "language_info": {
   "codemirror_mode": {
    "name": "ipython",
    "version": 3
   },
   "file_extension": ".py",
   "mimetype": "text/x-python",
   "name": "python",
   "nbconvert_exporter": "python",
   "pygments_lexer": "ipython3",
   "version": "3.9.13"
  },
  "toc": {
   "base_numbering": 1,
   "nav_menu": {},
   "number_sections": true,
   "sideBar": true,
   "skip_h1_title": false,
   "title_cell": "Table of Contents",
   "title_sidebar": "Contents",
   "toc_cell": false,
   "toc_position": {},
   "toc_section_display": true,
   "toc_window_display": true
  },
  "varInspector": {
   "cols": {
    "lenName": 16,
    "lenType": 16,
    "lenVar": 40
   },
   "kernels_config": {
    "python": {
     "delete_cmd_postfix": "",
     "delete_cmd_prefix": "del ",
     "library": "var_list.py",
     "varRefreshCmd": "print(var_dic_list())"
    },
    "r": {
     "delete_cmd_postfix": ") ",
     "delete_cmd_prefix": "rm(",
     "library": "var_list.r",
     "varRefreshCmd": "cat(var_dic_list()) "
    }
   },
   "types_to_exclude": [
    "module",
    "function",
    "builtin_function_or_method",
    "instance",
    "_Feature"
   ],
   "window_display": false
  }
 },
 "nbformat": 4,
 "nbformat_minor": 5
}
