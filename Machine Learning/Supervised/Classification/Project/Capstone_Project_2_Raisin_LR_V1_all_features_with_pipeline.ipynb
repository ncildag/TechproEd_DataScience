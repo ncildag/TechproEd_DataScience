{
 "cells": [
  {
   "cell_type": "markdown",
   "id": "6608d87a-1718-4198-aa94-5018bed4a106",
   "metadata": {
    "id": "6608d87a-1718-4198-aa94-5018bed4a106"
   },
   "source": [
    "# Raisin Class Prediction"
   ]
  },
  {
   "cell_type": "markdown",
   "id": "392a02f0-fdda-44ae-a0fc-97f3b03924a9",
   "metadata": {
    "id": "392a02f0-fdda-44ae-a0fc-97f3b03924a9"
   },
   "source": [
    "Data Set Information:\n",
    "\n",
    "Images of Kecimen and Besni raisin varieties grown in Turkey were obtained with CVS. A total of 900 raisin grains were used, including 450 pieces from both varieties. These images were subjected to various stages of pre-processing and 7 morphological features were extracted. These features have been classified using three different artificial intelligence techniques.\n",
    "\n",
    "\n",
    "Attribute Information:\n",
    "\n",
    "1. Area: Gives the number of pixels within the boundaries of the raisin.\n",
    "2. Perimeter: It measures the environment by calculating the distance between the boundaries of the raisin and the pixels around it.\n",
    "3. MajorAxisLength: Gives the length of the main axis, which is the longest line that can be drawn on the raisin.\n",
    "4. MinorAxisLength: Gives the length of the small axis, which is the shortest line that can be drawn on the raisin.\n",
    "5. Eccentricity: It gives a measure of the eccentricity of the ellipse, which has the same moments as raisins.\n",
    "6. ConvexArea: Gives the number of pixels of the smallest convex shell of the region formed by the raisin.\n",
    "7. Extent: Gives the ratio of the region formed by the raisin to the total pixels in the bounding box.\n",
    "8. Class: Kecimen and Besni raisin."
   ]
  },
  {
   "cell_type": "markdown",
   "id": "9f64a47c-5aa7-4653-98ea-6c645df4572b",
   "metadata": {
    "id": "9f64a47c-5aa7-4653-98ea-6c645df4572b"
   },
   "source": [
    "# Import libraries"
   ]
  },
  {
   "cell_type": "code",
   "execution_count": 12,
   "id": "8ecb3841",
   "metadata": {
    "ExecuteTime": {
     "end_time": "2023-07-30T17:58:44.933440Z",
     "start_time": "2023-07-30T17:58:44.912496Z"
    }
   },
   "outputs": [],
   "source": [
    "import numpy as np\n",
    "import pandas as pd\n",
    "import seaborn as sns\n",
    "\n",
    "import matplotlib.pyplot as plt\n",
    "%matplotlib inline\n",
    "#%matplotlib notebook\n",
    "plt.rcParams[\"figure.figsize\"] = (10,6)\n",
    "import warnings\n",
    "warnings.filterwarnings(\"ignore\")\n",
    "warnings.warn(\"this will not show\")\n",
    "pd.set_option('display.float_format', lambda x: '%.3f' % x)"
   ]
  },
  {
   "cell_type": "code",
   "execution_count": 3,
   "id": "8d13064c",
   "metadata": {
    "ExecuteTime": {
     "end_time": "2023-07-30T17:58:20.125252Z",
     "start_time": "2023-07-30T17:58:18.918916Z"
    }
   },
   "outputs": [],
   "source": [
    "df_raisin = pd.read_excel(\"Raisin_Dataset.xlsx\")"
   ]
  },
  {
   "cell_type": "code",
   "execution_count": 4,
   "id": "83e595d4",
   "metadata": {
    "ExecuteTime": {
     "end_time": "2023-07-30T17:58:20.171131Z",
     "start_time": "2023-07-30T17:58:20.136224Z"
    }
   },
   "outputs": [
    {
     "data": {
      "text/html": [
       "<div>\n",
       "<style scoped>\n",
       "    .dataframe tbody tr th:only-of-type {\n",
       "        vertical-align: middle;\n",
       "    }\n",
       "\n",
       "    .dataframe tbody tr th {\n",
       "        vertical-align: top;\n",
       "    }\n",
       "\n",
       "    .dataframe thead th {\n",
       "        text-align: right;\n",
       "    }\n",
       "</style>\n",
       "<table border=\"1\" class=\"dataframe\">\n",
       "  <thead>\n",
       "    <tr style=\"text-align: right;\">\n",
       "      <th></th>\n",
       "      <th>Area</th>\n",
       "      <th>MajorAxisLength</th>\n",
       "      <th>MinorAxisLength</th>\n",
       "      <th>Eccentricity</th>\n",
       "      <th>ConvexArea</th>\n",
       "      <th>Extent</th>\n",
       "      <th>Perimeter</th>\n",
       "      <th>Class</th>\n",
       "    </tr>\n",
       "  </thead>\n",
       "  <tbody>\n",
       "    <tr>\n",
       "      <th>0</th>\n",
       "      <td>87524</td>\n",
       "      <td>442.246</td>\n",
       "      <td>253.291</td>\n",
       "      <td>0.820</td>\n",
       "      <td>90546</td>\n",
       "      <td>0.759</td>\n",
       "      <td>1184.040</td>\n",
       "      <td>Kecimen</td>\n",
       "    </tr>\n",
       "    <tr>\n",
       "      <th>1</th>\n",
       "      <td>75166</td>\n",
       "      <td>406.691</td>\n",
       "      <td>243.032</td>\n",
       "      <td>0.802</td>\n",
       "      <td>78789</td>\n",
       "      <td>0.684</td>\n",
       "      <td>1121.786</td>\n",
       "      <td>Kecimen</td>\n",
       "    </tr>\n",
       "    <tr>\n",
       "      <th>2</th>\n",
       "      <td>90856</td>\n",
       "      <td>442.267</td>\n",
       "      <td>266.328</td>\n",
       "      <td>0.798</td>\n",
       "      <td>93717</td>\n",
       "      <td>0.638</td>\n",
       "      <td>1208.575</td>\n",
       "      <td>Kecimen</td>\n",
       "    </tr>\n",
       "    <tr>\n",
       "      <th>3</th>\n",
       "      <td>45928</td>\n",
       "      <td>286.541</td>\n",
       "      <td>208.760</td>\n",
       "      <td>0.685</td>\n",
       "      <td>47336</td>\n",
       "      <td>0.700</td>\n",
       "      <td>844.162</td>\n",
       "      <td>Kecimen</td>\n",
       "    </tr>\n",
       "    <tr>\n",
       "      <th>4</th>\n",
       "      <td>79408</td>\n",
       "      <td>352.191</td>\n",
       "      <td>290.828</td>\n",
       "      <td>0.564</td>\n",
       "      <td>81463</td>\n",
       "      <td>0.793</td>\n",
       "      <td>1073.251</td>\n",
       "      <td>Kecimen</td>\n",
       "    </tr>\n",
       "  </tbody>\n",
       "</table>\n",
       "</div>"
      ],
      "text/plain": [
       "    Area  MajorAxisLength  MinorAxisLength  Eccentricity  ConvexArea  Extent  \\\n",
       "0  87524          442.246          253.291         0.820       90546   0.759   \n",
       "1  75166          406.691          243.032         0.802       78789   0.684   \n",
       "2  90856          442.267          266.328         0.798       93717   0.638   \n",
       "3  45928          286.541          208.760         0.685       47336   0.700   \n",
       "4  79408          352.191          290.828         0.564       81463   0.793   \n",
       "\n",
       "   Perimeter    Class  \n",
       "0   1184.040  Kecimen  \n",
       "1   1121.786  Kecimen  \n",
       "2   1208.575  Kecimen  \n",
       "3    844.162  Kecimen  \n",
       "4   1073.251  Kecimen  "
      ]
     },
     "execution_count": 4,
     "metadata": {},
     "output_type": "execute_result"
    }
   ],
   "source": [
    "df = df_raisin.copy()\n",
    "df.head()"
   ]
  },
  {
   "cell_type": "markdown",
   "id": "a589228f-f7be-4c79-94fd-e45cb2c473f4",
   "metadata": {
    "id": "a589228f-f7be-4c79-94fd-e45cb2c473f4",
    "tags": []
   },
   "source": [
    "## Exploratory Data Analysis and Visualization"
   ]
  },
  {
   "cell_type": "code",
   "execution_count": 5,
   "id": "a408cba6",
   "metadata": {
    "ExecuteTime": {
     "end_time": "2023-07-30T17:58:20.231967Z",
     "start_time": "2023-07-30T17:58:20.177115Z"
    }
   },
   "outputs": [
    {
     "name": "stdout",
     "output_type": "stream",
     "text": [
      "<class 'pandas.core.frame.DataFrame'>\n",
      "RangeIndex: 900 entries, 0 to 899\n",
      "Data columns (total 8 columns):\n",
      " #   Column           Non-Null Count  Dtype  \n",
      "---  ------           --------------  -----  \n",
      " 0   Area             900 non-null    int64  \n",
      " 1   MajorAxisLength  900 non-null    float64\n",
      " 2   MinorAxisLength  900 non-null    float64\n",
      " 3   Eccentricity     900 non-null    float64\n",
      " 4   ConvexArea       900 non-null    int64  \n",
      " 5   Extent           900 non-null    float64\n",
      " 6   Perimeter        900 non-null    float64\n",
      " 7   Class            900 non-null    object \n",
      "dtypes: float64(5), int64(2), object(1)\n",
      "memory usage: 56.4+ KB\n"
     ]
    }
   ],
   "source": [
    "df.info()"
   ]
  },
  {
   "cell_type": "code",
   "execution_count": 6,
   "id": "a5eb5cd8",
   "metadata": {
    "ExecuteTime": {
     "end_time": "2023-07-30T17:58:20.263882Z",
     "start_time": "2023-07-30T17:58:20.235958Z"
    }
   },
   "outputs": [
    {
     "data": {
      "text/html": [
       "<div>\n",
       "<style scoped>\n",
       "    .dataframe tbody tr th:only-of-type {\n",
       "        vertical-align: middle;\n",
       "    }\n",
       "\n",
       "    .dataframe tbody tr th {\n",
       "        vertical-align: top;\n",
       "    }\n",
       "\n",
       "    .dataframe thead th {\n",
       "        text-align: right;\n",
       "    }\n",
       "</style>\n",
       "<table border=\"1\" class=\"dataframe\">\n",
       "  <thead>\n",
       "    <tr style=\"text-align: right;\">\n",
       "      <th></th>\n",
       "      <th>Area</th>\n",
       "      <th>MajorAxisLength</th>\n",
       "      <th>MinorAxisLength</th>\n",
       "      <th>Eccentricity</th>\n",
       "      <th>ConvexArea</th>\n",
       "      <th>Extent</th>\n",
       "      <th>Perimeter</th>\n",
       "      <th>Class</th>\n",
       "    </tr>\n",
       "  </thead>\n",
       "  <tbody>\n",
       "    <tr>\n",
       "      <th>0</th>\n",
       "      <td>87524</td>\n",
       "      <td>442.246</td>\n",
       "      <td>253.291</td>\n",
       "      <td>0.820</td>\n",
       "      <td>90546</td>\n",
       "      <td>0.759</td>\n",
       "      <td>1184.040</td>\n",
       "      <td>0</td>\n",
       "    </tr>\n",
       "    <tr>\n",
       "      <th>1</th>\n",
       "      <td>75166</td>\n",
       "      <td>406.691</td>\n",
       "      <td>243.032</td>\n",
       "      <td>0.802</td>\n",
       "      <td>78789</td>\n",
       "      <td>0.684</td>\n",
       "      <td>1121.786</td>\n",
       "      <td>0</td>\n",
       "    </tr>\n",
       "    <tr>\n",
       "      <th>2</th>\n",
       "      <td>90856</td>\n",
       "      <td>442.267</td>\n",
       "      <td>266.328</td>\n",
       "      <td>0.798</td>\n",
       "      <td>93717</td>\n",
       "      <td>0.638</td>\n",
       "      <td>1208.575</td>\n",
       "      <td>0</td>\n",
       "    </tr>\n",
       "    <tr>\n",
       "      <th>3</th>\n",
       "      <td>45928</td>\n",
       "      <td>286.541</td>\n",
       "      <td>208.760</td>\n",
       "      <td>0.685</td>\n",
       "      <td>47336</td>\n",
       "      <td>0.700</td>\n",
       "      <td>844.162</td>\n",
       "      <td>0</td>\n",
       "    </tr>\n",
       "    <tr>\n",
       "      <th>4</th>\n",
       "      <td>79408</td>\n",
       "      <td>352.191</td>\n",
       "      <td>290.828</td>\n",
       "      <td>0.564</td>\n",
       "      <td>81463</td>\n",
       "      <td>0.793</td>\n",
       "      <td>1073.251</td>\n",
       "      <td>0</td>\n",
       "    </tr>\n",
       "  </tbody>\n",
       "</table>\n",
       "</div>"
      ],
      "text/plain": [
       "    Area  MajorAxisLength  MinorAxisLength  Eccentricity  ConvexArea  Extent  \\\n",
       "0  87524          442.246          253.291         0.820       90546   0.759   \n",
       "1  75166          406.691          243.032         0.802       78789   0.684   \n",
       "2  90856          442.267          266.328         0.798       93717   0.638   \n",
       "3  45928          286.541          208.760         0.685       47336   0.700   \n",
       "4  79408          352.191          290.828         0.564       81463   0.793   \n",
       "\n",
       "   Perimeter  Class  \n",
       "0   1184.040      0  \n",
       "1   1121.786      0  \n",
       "2   1208.575      0  \n",
       "3    844.162      0  \n",
       "4   1073.251      0  "
      ]
     },
     "execution_count": 6,
     "metadata": {},
     "output_type": "execute_result"
    }
   ],
   "source": [
    "df[\"Class\"] = df[\"Class\"].map({\"Kecimen\": 0, \"Besni\": 1})\n",
    "df.head()\n"
   ]
  },
  {
   "cell_type": "code",
   "execution_count": 7,
   "id": "77d4b2b8",
   "metadata": {
    "ExecuteTime": {
     "end_time": "2023-07-30T17:58:20.325717Z",
     "start_time": "2023-07-30T17:58:20.267872Z"
    }
   },
   "outputs": [
    {
     "data": {
      "text/html": [
       "<div>\n",
       "<style scoped>\n",
       "    .dataframe tbody tr th:only-of-type {\n",
       "        vertical-align: middle;\n",
       "    }\n",
       "\n",
       "    .dataframe tbody tr th {\n",
       "        vertical-align: top;\n",
       "    }\n",
       "\n",
       "    .dataframe thead th {\n",
       "        text-align: right;\n",
       "    }\n",
       "</style>\n",
       "<table border=\"1\" class=\"dataframe\">\n",
       "  <thead>\n",
       "    <tr style=\"text-align: right;\">\n",
       "      <th></th>\n",
       "      <th>count</th>\n",
       "      <th>mean</th>\n",
       "      <th>std</th>\n",
       "      <th>min</th>\n",
       "      <th>25%</th>\n",
       "      <th>50%</th>\n",
       "      <th>75%</th>\n",
       "      <th>max</th>\n",
       "    </tr>\n",
       "  </thead>\n",
       "  <tbody>\n",
       "    <tr>\n",
       "      <th>Area</th>\n",
       "      <td>900.000</td>\n",
       "      <td>87804.128</td>\n",
       "      <td>39002.111</td>\n",
       "      <td>25387.000</td>\n",
       "      <td>59348.000</td>\n",
       "      <td>78902.000</td>\n",
       "      <td>105028.250</td>\n",
       "      <td>235047.000</td>\n",
       "    </tr>\n",
       "    <tr>\n",
       "      <th>MajorAxisLength</th>\n",
       "      <td>900.000</td>\n",
       "      <td>430.930</td>\n",
       "      <td>116.035</td>\n",
       "      <td>225.630</td>\n",
       "      <td>345.443</td>\n",
       "      <td>407.804</td>\n",
       "      <td>494.187</td>\n",
       "      <td>997.292</td>\n",
       "    </tr>\n",
       "    <tr>\n",
       "      <th>MinorAxisLength</th>\n",
       "      <td>900.000</td>\n",
       "      <td>254.488</td>\n",
       "      <td>49.989</td>\n",
       "      <td>143.711</td>\n",
       "      <td>219.111</td>\n",
       "      <td>247.848</td>\n",
       "      <td>279.889</td>\n",
       "      <td>492.275</td>\n",
       "    </tr>\n",
       "    <tr>\n",
       "      <th>Eccentricity</th>\n",
       "      <td>900.000</td>\n",
       "      <td>0.782</td>\n",
       "      <td>0.090</td>\n",
       "      <td>0.349</td>\n",
       "      <td>0.742</td>\n",
       "      <td>0.799</td>\n",
       "      <td>0.843</td>\n",
       "      <td>0.962</td>\n",
       "    </tr>\n",
       "    <tr>\n",
       "      <th>ConvexArea</th>\n",
       "      <td>900.000</td>\n",
       "      <td>91186.090</td>\n",
       "      <td>40769.290</td>\n",
       "      <td>26139.000</td>\n",
       "      <td>61513.250</td>\n",
       "      <td>81651.000</td>\n",
       "      <td>108375.750</td>\n",
       "      <td>278217.000</td>\n",
       "    </tr>\n",
       "    <tr>\n",
       "      <th>Extent</th>\n",
       "      <td>900.000</td>\n",
       "      <td>0.700</td>\n",
       "      <td>0.053</td>\n",
       "      <td>0.380</td>\n",
       "      <td>0.671</td>\n",
       "      <td>0.707</td>\n",
       "      <td>0.735</td>\n",
       "      <td>0.835</td>\n",
       "    </tr>\n",
       "    <tr>\n",
       "      <th>Perimeter</th>\n",
       "      <td>900.000</td>\n",
       "      <td>1165.907</td>\n",
       "      <td>273.764</td>\n",
       "      <td>619.074</td>\n",
       "      <td>966.411</td>\n",
       "      <td>1119.509</td>\n",
       "      <td>1308.390</td>\n",
       "      <td>2697.753</td>\n",
       "    </tr>\n",
       "    <tr>\n",
       "      <th>Class</th>\n",
       "      <td>900.000</td>\n",
       "      <td>0.500</td>\n",
       "      <td>0.500</td>\n",
       "      <td>0.000</td>\n",
       "      <td>0.000</td>\n",
       "      <td>0.500</td>\n",
       "      <td>1.000</td>\n",
       "      <td>1.000</td>\n",
       "    </tr>\n",
       "  </tbody>\n",
       "</table>\n",
       "</div>"
      ],
      "text/plain": [
       "                  count      mean       std       min       25%       50%  \\\n",
       "Area            900.000 87804.128 39002.111 25387.000 59348.000 78902.000   \n",
       "MajorAxisLength 900.000   430.930   116.035   225.630   345.443   407.804   \n",
       "MinorAxisLength 900.000   254.488    49.989   143.711   219.111   247.848   \n",
       "Eccentricity    900.000     0.782     0.090     0.349     0.742     0.799   \n",
       "ConvexArea      900.000 91186.090 40769.290 26139.000 61513.250 81651.000   \n",
       "Extent          900.000     0.700     0.053     0.380     0.671     0.707   \n",
       "Perimeter       900.000  1165.907   273.764   619.074   966.411  1119.509   \n",
       "Class           900.000     0.500     0.500     0.000     0.000     0.500   \n",
       "\n",
       "                       75%        max  \n",
       "Area            105028.250 235047.000  \n",
       "MajorAxisLength    494.187    997.292  \n",
       "MinorAxisLength    279.889    492.275  \n",
       "Eccentricity         0.843      0.962  \n",
       "ConvexArea      108375.750 278217.000  \n",
       "Extent               0.735      0.835  \n",
       "Perimeter         1308.390   2697.753  \n",
       "Class                1.000      1.000  "
      ]
     },
     "execution_count": 7,
     "metadata": {},
     "output_type": "execute_result"
    }
   ],
   "source": [
    "df.describe().T"
   ]
  },
  {
   "cell_type": "code",
   "execution_count": 8,
   "id": "62f6bf91",
   "metadata": {
    "ExecuteTime": {
     "end_time": "2023-07-30T17:58:20.341676Z",
     "start_time": "2023-07-30T17:58:20.329707Z"
    }
   },
   "outputs": [
    {
     "data": {
      "text/plain": [
       "0    450\n",
       "1    450\n",
       "Name: Class, dtype: int64"
      ]
     },
     "execution_count": 8,
     "metadata": {},
     "output_type": "execute_result"
    }
   ],
   "source": [
    "df.Class.value_counts()"
   ]
  },
  {
   "cell_type": "code",
   "execution_count": 9,
   "id": "71d192ce",
   "metadata": {
    "ExecuteTime": {
     "end_time": "2023-07-30T17:58:22.533279Z",
     "start_time": "2023-07-30T17:58:20.345665Z"
    }
   },
   "outputs": [
    {
     "data": {
      "image/png": "[encoded data removed]",
      "text/plain": [
       "<Figure size 1400x2000 with 8 Axes>"
      ]
     },
     "metadata": {},
     "output_type": "display_data"
    }
   ],
   "source": [
    "plt.figure(figsize = (14, 20))\n",
    "plotnumber = 1\n",
    "for column in df:\n",
    "    if plotnumber <= 30:\n",
    "        ax = plt.subplot(4, 2, plotnumber)\n",
    "        sns.distplot(df[column])\n",
    "        plt.xlabel(column)\n",
    "    plotnumber += 1\n",
    "plt.tight_layout()\n",
    "plt.show()"
   ]
  },
  {
   "cell_type": "code",
   "execution_count": 10,
   "id": "3a4dcb28",
   "metadata": {
    "ExecuteTime": {
     "end_time": "2023-07-30T17:58:22.928574Z",
     "start_time": "2023-07-30T17:58:22.536230Z"
    }
   },
   "outputs": [
    {
     "ename": "ModuleNotFoundError",
     "evalue": "No module named 'summarytools'",
     "output_type": "error",
     "traceback": [
      "\u001b[1;31m---------------------------------------------------------------------------\u001b[0m",
      "\u001b[1;31mModuleNotFoundError\u001b[0m                       Traceback (most recent call last)",
      "\u001b[1;32m~\\AppData\\Local\\Temp\\ipykernel_21016\\4242549437.py\u001b[0m in \u001b[0;36m<module>\u001b[1;34m\u001b[0m\n\u001b[1;32m----> 1\u001b[1;33m \u001b[1;32mfrom\u001b[0m \u001b[0msummarytools\u001b[0m \u001b[1;32mimport\u001b[0m \u001b[0mdfSummary\u001b[0m\u001b[1;33m\u001b[0m\u001b[1;33m\u001b[0m\u001b[0m\n\u001b[0m\u001b[0;32m      2\u001b[0m \u001b[1;33m\u001b[0m\u001b[0m\n\u001b[0;32m      3\u001b[0m \u001b[0mdfSummary\u001b[0m\u001b[1;33m(\u001b[0m\u001b[0mdf\u001b[0m\u001b[1;33m)\u001b[0m\u001b[1;33m\u001b[0m\u001b[1;33m\u001b[0m\u001b[0m\n",
      "\u001b[1;31mModuleNotFoundError\u001b[0m: No module named 'summarytools'"
     ]
    }
   ],
   "source": [
    "from summarytools import dfSummary\n",
    "\n",
    "dfSummary(df)"
   ]
  },
  {
   "cell_type": "code",
   "execution_count": null,
   "id": "c7eb7c35",
   "metadata": {
    "ExecuteTime": {
     "end_time": "2023-07-30T17:58:23.006364Z",
     "start_time": "2023-07-30T17:58:23.006364Z"
    }
   },
   "outputs": [],
   "source": [
    "df.corr()"
   ]
  },
  {
   "cell_type": "raw",
   "id": "8c962d76",
   "metadata": {},
   "source": [
    "sns.pairplot(df,\n",
    "             kind = \"reg\", \n",
    "             diag_kind = \"kde\", \n",
    "             diag_kws={\"color\":\"red\"}, \n",
    "             plot_kws={\"line_kws\":{\"color\":\"red\"}});"
   ]
  },
  {
   "cell_type": "code",
   "execution_count": null,
   "id": "1db0dde5",
   "metadata": {
    "ExecuteTime": {
     "end_time": "2023-07-30T17:58:23.009356Z",
     "start_time": "2023-07-30T17:58:23.009356Z"
    }
   },
   "outputs": [],
   "source": [
    "sns.heatmap(df.corr(), annot = True);"
   ]
  },
  {
   "cell_type": "code",
   "execution_count": null,
   "id": "f874f0ed",
   "metadata": {},
   "outputs": [],
   "source": []
  },
  {
   "cell_type": "code",
   "execution_count": null,
   "id": "964b4293",
   "metadata": {},
   "outputs": [],
   "source": []
  },
  {
   "cell_type": "code",
   "execution_count": null,
   "id": "97559c17",
   "metadata": {},
   "outputs": [],
   "source": []
  },
  {
   "cell_type": "code",
   "execution_count": null,
   "id": "895bd7a3",
   "metadata": {},
   "outputs": [],
   "source": []
  },
  {
   "cell_type": "code",
   "execution_count": null,
   "id": "a9b0be81",
   "metadata": {},
   "outputs": [],
   "source": []
  },
  {
   "cell_type": "code",
   "execution_count": null,
   "id": "383afdaa",
   "metadata": {},
   "outputs": [],
   "source": []
  },
  {
   "cell_type": "code",
   "execution_count": null,
   "id": "e4ed2593",
   "metadata": {},
   "outputs": [],
   "source": []
  },
  {
   "cell_type": "code",
   "execution_count": null,
   "id": "71a59042",
   "metadata": {},
   "outputs": [],
   "source": []
  },
  {
   "cell_type": "code",
   "execution_count": null,
   "id": "2164a9ee",
   "metadata": {
    "ExecuteTime": {
     "end_time": "2023-07-30T17:58:23.012349Z",
     "start_time": "2023-07-30T17:58:23.012349Z"
    }
   },
   "outputs": [],
   "source": [
    "index = 0\n",
    "plt.figure(figsize=(20,20))\n",
    "for feature in df.columns:\n",
    "    if feature != \"Class\":\n",
    "        index += 1\n",
    "        plt.subplot(3,3,index)\n",
    "        sns.boxplot(x='Class',y=feature,data=df)\n",
    "plt.show()"
   ]
  },
  {
   "cell_type": "code",
   "execution_count": null,
   "id": "7ff6c90e",
   "metadata": {
    "ExecuteTime": {
     "end_time": "2023-07-30T17:58:23.014343Z",
     "start_time": "2023-07-30T17:58:23.014343Z"
    }
   },
   "outputs": [],
   "source": [
    "df.corr()[\"Class\"].drop(\"Class\").sort_values().plot.barh()\n",
    "plt.show()"
   ]
  },
  {
   "cell_type": "code",
   "execution_count": null,
   "id": "ba085ddc",
   "metadata": {},
   "outputs": [],
   "source": []
  },
  {
   "cell_type": "code",
   "execution_count": null,
   "id": "df918071",
   "metadata": {},
   "outputs": [],
   "source": []
  },
  {
   "cell_type": "markdown",
   "id": "ab14529b-fa6d-4594-9740-4423f7e8e5d2",
   "metadata": {
    "id": "ab14529b-fa6d-4594-9740-4423f7e8e5d2"
   },
   "source": [
    "## Train | Test Split and Scaling"
   ]
  },
  {
   "cell_type": "code",
   "execution_count": null,
   "id": "cd3070c8",
   "metadata": {
    "ExecuteTime": {
     "end_time": "2023-07-30T17:58:23.017336Z",
     "start_time": "2023-07-30T17:58:23.017336Z"
    }
   },
   "outputs": [],
   "source": [
    "X = df.drop(\"Class\", axis = 1)\n",
    "y = df[\"Class\"]"
   ]
  },
  {
   "cell_type": "code",
   "execution_count": null,
   "id": "98fb610e",
   "metadata": {
    "ExecuteTime": {
     "end_time": "2023-07-30T17:58:23.020328Z",
     "start_time": "2023-07-30T17:58:23.020328Z"
    }
   },
   "outputs": [],
   "source": [
    "from sklearn.model_selection import train_test_split"
   ]
  },
  {
   "cell_type": "code",
   "execution_count": null,
   "id": "6888091d",
   "metadata": {
    "ExecuteTime": {
     "end_time": "2023-07-30T17:58:23.023320Z",
     "start_time": "2023-07-30T17:58:23.023320Z"
    }
   },
   "outputs": [],
   "source": [
    "X_train, X_test, y_train, y_test = train_test_split(X, \n",
    "                                                    y, \n",
    "                                                    test_size=0.20, \n",
    "                                                    random_state=42)"
   ]
  },
  {
   "cell_type": "markdown",
   "id": "fbf485e1",
   "metadata": {},
   "source": [
    "## Scaling"
   ]
  },
  {
   "cell_type": "code",
   "execution_count": null,
   "id": "7eea0233",
   "metadata": {
    "ExecuteTime": {
     "end_time": "2023-07-30T17:58:23.028310Z",
     "start_time": "2023-07-30T17:58:23.028310Z"
    }
   },
   "outputs": [],
   "source": [
    "from sklearn.preprocessing import StandardScaler\n",
    "\n",
    "scaler = StandardScaler()"
   ]
  },
  {
   "cell_type": "code",
   "execution_count": null,
   "id": "004f41c8",
   "metadata": {
    "ExecuteTime": {
     "end_time": "2023-07-30T17:58:23.030300Z",
     "start_time": "2023-07-30T17:58:23.030300Z"
    }
   },
   "outputs": [],
   "source": [
    "X_train_scaled = scaler.fit_transform(X_train) \n",
    "\n",
    "# scale.fit işlemini sadece X_train uygulanır"
   ]
  },
  {
   "cell_type": "code",
   "execution_count": null,
   "id": "e7b3453b",
   "metadata": {
    "ExecuteTime": {
     "end_time": "2023-07-30T17:58:23.032295Z",
     "start_time": "2023-07-30T17:58:23.032295Z"
    }
   },
   "outputs": [],
   "source": [
    "X_test_scaled = scaler.transform(X_test)\n",
    "\n",
    "# X_test'e transform yapılır."
   ]
  },
  {
   "cell_type": "markdown",
   "id": "4e3dcb9c",
   "metadata": {
    "id": "4e3dcb9c"
   },
   "source": [
    "# Logistic Regression"
   ]
  },
  {
   "cell_type": "code",
   "execution_count": null,
   "id": "31124f68",
   "metadata": {
    "ExecuteTime": {
     "end_time": "2023-07-30T17:58:23.037282Z",
     "start_time": "2023-07-30T17:58:23.037282Z"
    }
   },
   "outputs": [],
   "source": [
    "from sklearn.linear_model import LogisticRegression"
   ]
  },
  {
   "cell_type": "code",
   "execution_count": null,
   "id": "baaac9a7",
   "metadata": {
    "ExecuteTime": {
     "end_time": "2023-07-30T17:58:23.039277Z",
     "start_time": "2023-07-30T17:58:23.039277Z"
    }
   },
   "outputs": [],
   "source": [
    "log_model = LogisticRegression()"
   ]
  },
  {
   "cell_type": "code",
   "execution_count": null,
   "id": "39c639c7",
   "metadata": {
    "ExecuteTime": {
     "end_time": "2023-07-30T17:58:23.042269Z",
     "start_time": "2023-07-30T17:58:23.042269Z"
    }
   },
   "outputs": [],
   "source": [
    "log_model.fit(X_train_scaled,y_train)"
   ]
  },
  {
   "cell_type": "code",
   "execution_count": null,
   "id": "a3bdefb8",
   "metadata": {
    "ExecuteTime": {
     "end_time": "2023-07-30T17:58:23.044264Z",
     "start_time": "2023-07-30T17:58:23.044264Z"
    }
   },
   "outputs": [],
   "source": [
    "y_pred = log_model.predict(X_test_scaled)\n",
    "y_pred"
   ]
  },
  {
   "cell_type": "code",
   "execution_count": null,
   "id": "04bc3def",
   "metadata": {
    "ExecuteTime": {
     "end_time": "2023-07-30T17:58:23.046257Z",
     "start_time": "2023-07-30T17:58:23.046257Z"
    }
   },
   "outputs": [],
   "source": [
    "y_pred_proba = log_model.predict_proba(X_test_scaled) ## olasılık hesaplarını görmek için kullanılan kod\n",
    "y_pred_proba"
   ]
  },
  {
   "cell_type": "markdown",
   "id": "61461cd3",
   "metadata": {
    "id": "61461cd3"
   },
   "source": [
    "## Model Performance"
   ]
  },
  {
   "cell_type": "code",
   "execution_count": null,
   "id": "45e1cfed",
   "metadata": {
    "ExecuteTime": {
     "end_time": "2023-07-30T17:58:23.049250Z",
     "start_time": "2023-07-30T17:58:23.049250Z"
    }
   },
   "outputs": [],
   "source": [
    "from sklearn.metrics import confusion_matrix, classification_report, plot_confusion_matrix"
   ]
  },
  {
   "cell_type": "code",
   "execution_count": null,
   "id": "5bc54bf4",
   "metadata": {
    "ExecuteTime": {
     "end_time": "2023-07-30T17:58:23.052242Z",
     "start_time": "2023-07-30T17:58:23.052242Z"
    }
   },
   "outputs": [],
   "source": [
    "\n",
    "print(confusion_matrix(y_test, y_pred))\n",
    "\n",
    "plot_confusion_matrix(log_model, X_test_scaled, y_test);\n",
    "\n"
   ]
  },
  {
   "cell_type": "code",
   "execution_count": null,
   "id": "41719c0b",
   "metadata": {
    "ExecuteTime": {
     "end_time": "2023-07-30T17:58:23.054237Z",
     "start_time": "2023-07-30T17:58:23.054237Z"
    }
   },
   "outputs": [],
   "source": [
    "y_train_pred = log_model.predict(X_train_scaled)\n",
    "print(classification_report(y_train,y_train_pred))"
   ]
  },
  {
   "cell_type": "markdown",
   "id": "e101279a",
   "metadata": {
    "id": "e101279a"
   },
   "source": [
    "### Cross Validate"
   ]
  },
  {
   "cell_type": "code",
   "execution_count": null,
   "id": "a5aa0daa",
   "metadata": {
    "ExecuteTime": {
     "end_time": "2023-07-30T17:58:23.057230Z",
     "start_time": "2023-07-30T17:58:23.057230Z"
    }
   },
   "outputs": [],
   "source": [
    "from sklearn.linear_model import LogisticRegression\n",
    "from sklearn.model_selection import cross_validate\n",
    "\n",
    "\n",
    "model = LogisticRegression()\n",
    "scores = cross_validate(model, \n",
    "                        X_train_scaled, \n",
    "                        y_train, \n",
    "                        scoring = ['accuracy', 'precision','recall','f1'], \n",
    "                        cv = 10)\n",
    "df_scores = pd.DataFrame(scores, index = range(1, 11))\n",
    "df_scores"
   ]
  },
  {
   "cell_type": "code",
   "execution_count": null,
   "id": "8a188c7b",
   "metadata": {
    "ExecuteTime": {
     "end_time": "2023-07-30T17:58:23.059223Z",
     "start_time": "2023-07-30T17:58:23.059223Z"
    }
   },
   "outputs": [],
   "source": [
    "df_scores.mean()[2:]"
   ]
  },
  {
   "cell_type": "code",
   "execution_count": null,
   "id": "f764de9b",
   "metadata": {
    "ExecuteTime": {
     "end_time": "2023-07-30T17:58:23.062215Z",
     "start_time": "2023-07-30T17:58:23.062215Z"
    }
   },
   "outputs": [],
   "source": [
    "print(\"Test Set\")\n",
    "print(classification_report(y_test,y_pred))\n",
    "\n",
    "print(\"Train Set\\n\")\n",
    "y_train_pred = log_model.predict(X_train_scaled)\n",
    "print(classification_report(y_train,y_train_pred))"
   ]
  },
  {
   "cell_type": "code",
   "execution_count": null,
   "id": "0c5e35a7",
   "metadata": {
    "ExecuteTime": {
     "end_time": "2023-07-30T17:58:23.065207Z",
     "start_time": "2023-07-30T17:58:23.065207Z"
    }
   },
   "outputs": [],
   "source": [
    "def eval_metric(model, X_train, y_train, X_test, y_test):\n",
    "    y_train_pred = model.predict(X_train)\n",
    "    y_pred = model.predict(X_test)\n",
    "    print(\"Test_Set\")\n",
    "    print(confusion_matrix(y_test, y_pred))\n",
    "    print(classification_report(y_test, y_pred))\n",
    "    print()\n",
    "    print(\"Train_Set\")\n",
    "    print(confusion_matrix(y_train, y_train_pred))\n",
    "    print(classification_report(y_train, y_train_pred))"
   ]
  },
  {
   "cell_type": "code",
   "execution_count": null,
   "id": "2a60cf9a",
   "metadata": {
    "ExecuteTime": {
     "end_time": "2023-07-30T17:58:23.069197Z",
     "start_time": "2023-07-30T17:58:23.069197Z"
    }
   },
   "outputs": [],
   "source": [
    "eval_metric(log_model, X_train_scaled, y_train, X_test_scaled, y_test)"
   ]
  },
  {
   "cell_type": "markdown",
   "id": "fd39b4ec",
   "metadata": {
    "id": "fd39b4ec"
   },
   "source": [
    "### GridSearchCV"
   ]
  },
  {
   "cell_type": "code",
   "execution_count": null,
   "id": "529374a5",
   "metadata": {
    "ExecuteTime": {
     "end_time": "2023-07-30T17:58:23.072189Z",
     "start_time": "2023-07-30T17:58:23.072189Z"
    }
   },
   "outputs": [],
   "source": [
    "from sklearn.model_selection import GridSearchCV"
   ]
  },
  {
   "cell_type": "code",
   "execution_count": null,
   "id": "101e6d57",
   "metadata": {
    "ExecuteTime": {
     "end_time": "2023-07-30T17:58:23.076178Z",
     "start_time": "2023-07-30T17:58:23.076178Z"
    }
   },
   "outputs": [],
   "source": [
    "log_model = LogisticRegression(max_iter=10000, \n",
    "                               random_state =42,)\n",
    "\n",
    "penalty = [\"l1\", \"l2\"]\n",
    "C = np.logspace(-1, 5, 20)\n",
    "param_grid = {\n",
    "    \"solver\": ['liblinear', 'saga'],\n",
    "    \"penalty\": penalty,\n",
    "     \"C\" : C\n",
    "}\n",
    "\n",
    "\n",
    "grid_model = GridSearchCV(log_model,\n",
    "                          param_grid = param_grid,\n",
    "                          cv=10)"
   ]
  },
  {
   "cell_type": "code",
   "execution_count": null,
   "id": "3c8032fd",
   "metadata": {
    "ExecuteTime": {
     "end_time": "2023-07-30T17:58:23.079172Z",
     "start_time": "2023-07-30T17:58:23.079172Z"
    }
   },
   "outputs": [],
   "source": [
    "grid_model.fit(X_train_scaled, y_train)"
   ]
  },
  {
   "cell_type": "code",
   "execution_count": null,
   "id": "a1d91bc8",
   "metadata": {
    "ExecuteTime": {
     "end_time": "2023-07-30T17:58:23.082162Z",
     "start_time": "2023-07-30T17:58:23.082162Z"
    }
   },
   "outputs": [],
   "source": [
    "grid_model.best_params_"
   ]
  },
  {
   "cell_type": "code",
   "execution_count": null,
   "id": "32a2d93d",
   "metadata": {
    "ExecuteTime": {
     "end_time": "2023-07-30T17:58:23.086152Z",
     "start_time": "2023-07-30T17:58:23.086152Z"
    }
   },
   "outputs": [],
   "source": [
    "grid_model.best_score_ # default: accuracy"
   ]
  },
  {
   "cell_type": "code",
   "execution_count": null,
   "id": "720871a7",
   "metadata": {
    "ExecuteTime": {
     "end_time": "2023-07-30T17:58:23.090140Z",
     "start_time": "2023-07-30T17:58:23.090140Z"
    }
   },
   "outputs": [],
   "source": [
    "y_pred = grid_model.predict(X_test_scaled)\n",
    "y_pred"
   ]
  },
  {
   "cell_type": "code",
   "execution_count": null,
   "id": "4c64d53c",
   "metadata": {
    "ExecuteTime": {
     "end_time": "2023-07-30T17:58:23.093133Z",
     "start_time": "2023-07-30T17:58:23.093133Z"
    }
   },
   "outputs": [],
   "source": [
    "plot_confusion_matrix(grid_model, X_test_scaled, y_test)\n",
    "plt.show()"
   ]
  },
  {
   "cell_type": "code",
   "execution_count": null,
   "id": "22588878",
   "metadata": {
    "ExecuteTime": {
     "end_time": "2023-07-30T17:58:23.096125Z",
     "start_time": "2023-07-30T17:58:23.096125Z"
    }
   },
   "outputs": [],
   "source": [
    "eval_metric(grid_model, X_train_scaled, y_train, X_test_scaled, y_test)"
   ]
  },
  {
   "attachments": {
    "image.png": {
     "image/png": "[encoded data removed]"
    }
   },
   "cell_type": "markdown",
   "id": "1554ebff",
   "metadata": {},
   "source": [
    "![image.png](attachment:image.png)"
   ]
  },
  {
   "cell_type": "markdown",
   "id": "9dc6e45b",
   "metadata": {
    "id": "9dc6e45b"
   },
   "source": [
    "## ROC (Receiver Operating Curve) and AUC (Area Under Curve)"
   ]
  },
  {
   "cell_type": "code",
   "execution_count": null,
   "id": "41c4a402",
   "metadata": {
    "ExecuteTime": {
     "end_time": "2023-07-30T17:58:23.099116Z",
     "start_time": "2023-07-30T17:58:23.099116Z"
    }
   },
   "outputs": [],
   "source": [
    "from sklearn.metrics import plot_roc_curve, plot_precision_recall_curve\n",
    "from sklearn.metrics import roc_auc_score, auc, roc_curve"
   ]
  },
  {
   "cell_type": "code",
   "execution_count": null,
   "id": "ea013c9b",
   "metadata": {
    "ExecuteTime": {
     "end_time": "2023-07-30T17:58:23.103106Z",
     "start_time": "2023-07-30T17:58:23.103106Z"
    }
   },
   "outputs": [],
   "source": [
    "#plot_roc_curve(log_model, X_test_scaled, y_test)"
   ]
  },
  {
   "cell_type": "code",
   "execution_count": null,
   "id": "b8c90708",
   "metadata": {
    "ExecuteTime": {
     "end_time": "2023-07-30T17:58:23.106098Z",
     "start_time": "2023-07-30T17:58:23.106098Z"
    }
   },
   "outputs": [],
   "source": [
    "roc_auc_score(y_test, y_pred_proba[:,1])\n"
   ]
  },
  {
   "cell_type": "code",
   "execution_count": null,
   "id": "9eec71f4",
   "metadata": {
    "ExecuteTime": {
     "end_time": "2023-07-30T17:58:23.109091Z",
     "start_time": "2023-07-30T17:58:23.109091Z"
    }
   },
   "outputs": [],
   "source": [
    "#plot_precision_recall_curve(log_model, X_test_scaled, y_test);\n"
   ]
  },
  {
   "cell_type": "code",
   "execution_count": null,
   "id": "2686bcd6",
   "metadata": {
    "ExecuteTime": {
     "end_time": "2023-07-30T17:58:23.112082Z",
     "start_time": "2023-07-30T17:58:23.112082Z"
    }
   },
   "outputs": [],
   "source": [
    "from yellowbrick.classifier import ROCAUC\n",
    "\n",
    "model = grid_model\n",
    "visualizer = ROCAUC(model)\n",
    "visualizer.fit(X_train_scaled, y_train)        # Fit the training data to the visualizer\n",
    "visualizer.score(X_test_scaled, y_test)        # Evaluate the model on the test data\n",
    "visualizer.show();"
   ]
  },
  {
   "cell_type": "code",
   "execution_count": null,
   "id": "97e7648c",
   "metadata": {},
   "outputs": [],
   "source": []
  },
  {
   "cell_type": "markdown",
   "id": "8373bd76",
   "metadata": {
    "id": "8373bd76"
   },
   "source": [
    "# Conclusion "
   ]
  },
  {
   "cell_type": "markdown",
   "id": "776a9b99",
   "metadata": {},
   "source": [
    "## Final Model"
   ]
  },
  {
   "cell_type": "code",
   "execution_count": null,
   "id": "ea079dee",
   "metadata": {
    "ExecuteTime": {
     "end_time": "2023-07-30T17:58:23.116071Z",
     "start_time": "2023-07-30T17:58:23.116071Z"
    }
   },
   "outputs": [],
   "source": [
    "scaler = StandardScaler().fit(X) #bütün datayı scale yapıyorum"
   ]
  },
  {
   "cell_type": "code",
   "execution_count": null,
   "id": "6b8fc194",
   "metadata": {
    "ExecuteTime": {
     "end_time": "2023-07-30T17:58:23.119065Z",
     "start_time": "2023-07-30T17:58:23.119065Z"
    }
   },
   "outputs": [],
   "source": [
    "import pickle\n",
    "pickle.dump(scaler, open(\"scaler_raisin\", 'wb')) #scale modelimi kayıt ediyorum"
   ]
  },
  {
   "cell_type": "code",
   "execution_count": null,
   "id": "6e4eb798",
   "metadata": {
    "ExecuteTime": {
     "end_time": "2023-07-30T17:58:23.123053Z",
     "start_time": "2023-07-30T17:58:23.123053Z"
    }
   },
   "outputs": [],
   "source": [
    "X_scaled_raisin = scaler.transform(X) #sonra transform yapıyorum"
   ]
  },
  {
   "cell_type": "code",
   "execution_count": null,
   "id": "1d4fd450",
   "metadata": {
    "ExecuteTime": {
     "end_time": "2023-07-30T17:58:23.125047Z",
     "start_time": "2023-07-30T17:58:23.125047Z"
    }
   },
   "outputs": [],
   "source": [
    "final_model = LogisticRegression().fit(X_scaled_raisin, y)#final modelimi oluşturuyorum"
   ]
  },
  {
   "cell_type": "code",
   "execution_count": null,
   "id": "45f7b684",
   "metadata": {
    "ExecuteTime": {
     "end_time": "2023-07-30T17:58:23.128039Z",
     "start_time": "2023-07-30T17:58:23.128039Z"
    }
   },
   "outputs": [],
   "source": [
    "pickle.dump(final_model, open(\"final_model_raisin\", 'wb'))#onuda kayıt ediyorum"
   ]
  },
  {
   "cell_type": "code",
   "execution_count": null,
   "id": "b4ecc0d1",
   "metadata": {
    "ExecuteTime": {
     "end_time": "2023-07-30T17:58:23.131030Z",
     "start_time": "2023-07-30T17:58:23.131030Z"
    }
   },
   "outputs": [],
   "source": [
    "X.describe().T#describe bakıyorum ki buradaki skorlara yakın skorlar verip tahmin yapacağı"
   ]
  },
  {
   "cell_type": "code",
   "execution_count": null,
   "id": "02dc78de",
   "metadata": {
    "ExecuteTime": {
     "end_time": "2023-07-30T17:58:23.134023Z",
     "start_time": "2023-07-30T17:58:23.133026Z"
    }
   },
   "outputs": [],
   "source": [
    "my_dict = {\"Area\": [110804.128, 50804.128, 80804.128],\n",
    "           \"MajorAxisLength\": [400.930, 200.930, 500.930],\n",
    "           \"MinorAxisLength\": [200.488, 280.488, 225.488],\n",
    "           \"Eccentricity\": [0.482, 0.682, 0.882],\n",
    "           \"ConvexArea\": [80186.090, 100186.090, 12086.090],\n",
    "           \"Extent\": [0.482, 0.682, 0.882], \n",
    "           \"Perimeter\": [1065.907, 1865.907, 2265.907], \n",
    "          }\n",
    "sample = pd.DataFrame(my_dict)\n",
    "sample"
   ]
  },
  {
   "cell_type": "code",
   "execution_count": null,
   "id": "53192d0d",
   "metadata": {
    "ExecuteTime": {
     "end_time": "2023-07-30T17:58:23.137015Z",
     "start_time": "2023-07-30T17:58:23.137015Z"
    }
   },
   "outputs": [],
   "source": [
    "final_model.predict(sample)"
   ]
  },
  {
   "cell_type": "code",
   "execution_count": null,
   "id": "f4dc0166",
   "metadata": {
    "ExecuteTime": {
     "end_time": "2023-07-30T17:58:23.140007Z",
     "start_time": "2023-07-30T17:58:23.140007Z"
    }
   },
   "outputs": [],
   "source": [
    "scaler_raisin = pickle.load(open(\"scaler_raisin\", \"rb\")) # model load edilir"
   ]
  },
  {
   "cell_type": "code",
   "execution_count": null,
   "id": "38bbb3b1",
   "metadata": {
    "ExecuteTime": {
     "end_time": "2023-07-30T17:58:23.143000Z",
     "start_time": "2023-07-30T17:58:23.143000Z"
    }
   },
   "outputs": [],
   "source": [
    "sample_raisin_scaled = scaler_raisin.transform(sample) \n",
    "\n",
    "# modele (scaler_hearing) df (sample) verilir\n",
    "\n",
    "sample_raisin_scaled"
   ]
  },
  {
   "cell_type": "code",
   "execution_count": null,
   "id": "27e61ee3",
   "metadata": {
    "ExecuteTime": {
     "end_time": "2023-07-30T17:58:23.144995Z",
     "start_time": "2023-07-30T17:58:23.144995Z"
    }
   },
   "outputs": [],
   "source": [
    "final_model = pickle.load(open(\"final_model_raisin\", \"rb\"))\n",
    "\n",
    "# Model kuruldu"
   ]
  },
  {
   "cell_type": "code",
   "execution_count": null,
   "id": "f1851695",
   "metadata": {
    "ExecuteTime": {
     "end_time": "2023-07-30T17:58:23.146988Z",
     "start_time": "2023-07-30T17:58:23.146988Z"
    }
   },
   "outputs": [],
   "source": [
    "predictions = final_model.predict(sample_raisin_scaled) \n",
    "predictions\n",
    "# final modele predict için scale edilen sample verilir"
   ]
  },
  {
   "cell_type": "code",
   "execution_count": null,
   "id": "59d5f17c",
   "metadata": {
    "ExecuteTime": {
     "end_time": "2023-07-30T17:58:23.149980Z",
     "start_time": "2023-07-30T17:58:23.149980Z"
    }
   },
   "outputs": [],
   "source": [
    "predictions_proba = final_model.predict_proba(sample_raisin_scaled) \n",
    "# samplenin proba değerlerini alırız\n",
    "\n",
    "predictions_proba"
   ]
  },
  {
   "cell_type": "code",
   "execution_count": 69,
   "id": "9b1e3ba1",
   "metadata": {},
   "outputs": [
    {
     "data": {
      "text/html": [
       "<div>\n",
       "<style scoped>\n",
       "    .dataframe tbody tr th:only-of-type {\n",
       "        vertical-align: middle;\n",
       "    }\n",
       "\n",
       "    .dataframe tbody tr th {\n",
       "        vertical-align: top;\n",
       "    }\n",
       "\n",
       "    .dataframe thead th {\n",
       "        text-align: right;\n",
       "    }\n",
       "</style>\n",
       "<table border=\"1\" class=\"dataframe\">\n",
       "  <thead>\n",
       "    <tr style=\"text-align: right;\">\n",
       "      <th></th>\n",
       "      <th>Area</th>\n",
       "      <th>MajorAxisLength</th>\n",
       "      <th>MinorAxisLength</th>\n",
       "      <th>Eccentricity</th>\n",
       "      <th>ConvexArea</th>\n",
       "      <th>Extent</th>\n",
       "      <th>Perimeter</th>\n",
       "      <th>pred</th>\n",
       "      <th>pred_proba_keçimen</th>\n",
       "      <th>pred_proba_besni</th>\n",
       "    </tr>\n",
       "  </thead>\n",
       "  <tbody>\n",
       "    <tr>\n",
       "      <th>0</th>\n",
       "      <td>110804.128</td>\n",
       "      <td>400.930</td>\n",
       "      <td>200.488</td>\n",
       "      <td>0.482</td>\n",
       "      <td>80186.090</td>\n",
       "      <td>0.482</td>\n",
       "      <td>1065.907</td>\n",
       "      <td>1</td>\n",
       "      <td>0.398</td>\n",
       "      <td>0.602</td>\n",
       "    </tr>\n",
       "    <tr>\n",
       "      <th>1</th>\n",
       "      <td>50804.128</td>\n",
       "      <td>200.930</td>\n",
       "      <td>280.488</td>\n",
       "      <td>0.682</td>\n",
       "      <td>100186.090</td>\n",
       "      <td>0.682</td>\n",
       "      <td>1865.907</td>\n",
       "      <td>1</td>\n",
       "      <td>0.012</td>\n",
       "      <td>0.988</td>\n",
       "    </tr>\n",
       "    <tr>\n",
       "      <th>2</th>\n",
       "      <td>80804.128</td>\n",
       "      <td>500.930</td>\n",
       "      <td>225.488</td>\n",
       "      <td>0.882</td>\n",
       "      <td>12086.090</td>\n",
       "      <td>0.882</td>\n",
       "      <td>2265.907</td>\n",
       "      <td>1</td>\n",
       "      <td>0.000</td>\n",
       "      <td>1.000</td>\n",
       "    </tr>\n",
       "  </tbody>\n",
       "</table>\n",
       "</div>"
      ],
      "text/plain": [
       "        Area  MajorAxisLength  MinorAxisLength  Eccentricity  ConvexArea  \\\n",
       "0 110804.128          400.930          200.488         0.482   80186.090   \n",
       "1  50804.128          200.930          280.488         0.682  100186.090   \n",
       "2  80804.128          500.930          225.488         0.882   12086.090   \n",
       "\n",
       "   Extent  Perimeter  pred  pred_proba_keçimen  pred_proba_besni  \n",
       "0   0.482   1065.907     1               0.398             0.602  \n",
       "1   0.682   1865.907     1               0.012             0.988  \n",
       "2   0.882   2265.907     1               0.000             1.000  "
      ]
     },
     "execution_count": 69,
     "metadata": {},
     "output_type": "execute_result"
    }
   ],
   "source": [
    "sample[\"pred\"] = predictions\n",
    "sample[\"pred_proba_keçimen\"] = predictions_proba[:,0]\n",
    "sample[\"pred_proba_besni\"] = predictions_proba[:,1]\n",
    "\n",
    "sample"
   ]
  },
  {
   "cell_type": "markdown",
   "id": "5ebe57d9",
   "metadata": {},
   "source": [
    "## Final Model with GridSearch"
   ]
  },
  {
   "cell_type": "code",
   "execution_count": 70,
   "id": "0b60ee86",
   "metadata": {},
   "outputs": [
    {
     "data": {
      "text/plain": [
       "{'C': 0.42813323987193935, 'penalty': 'l1', 'solver': 'saga'}"
      ]
     },
     "execution_count": 70,
     "metadata": {},
     "output_type": "execute_result"
    }
   ],
   "source": [
    "grid_model.best_params_"
   ]
  },
  {
   "cell_type": "code",
   "execution_count": 71,
   "id": "88dd50f3",
   "metadata": {
    "id": "aae17dd9"
   },
   "outputs": [],
   "source": [
    "final_model_new = LogisticRegression(C=0.42813323987193935, penalty='l1', solver='liblinear').fit(X_scaled_raisin, y)\n"
   ]
  },
  {
   "cell_type": "code",
   "execution_count": 72,
   "id": "a34e4cdb",
   "metadata": {},
   "outputs": [],
   "source": [
    "prediction2 = final_model_new.predict(sample_raisin_scaled)\n",
    "prediction_proba2 = final_model_new.predict_proba(sample_raisin_scaled)"
   ]
  },
  {
   "cell_type": "code",
   "execution_count": 73,
   "id": "fbd9447e",
   "metadata": {
    "scrolled": true
   },
   "outputs": [
    {
     "data": {
      "text/html": [
       "<div>\n",
       "<style scoped>\n",
       "    .dataframe tbody tr th:only-of-type {\n",
       "        vertical-align: middle;\n",
       "    }\n",
       "\n",
       "    .dataframe tbody tr th {\n",
       "        vertical-align: top;\n",
       "    }\n",
       "\n",
       "    .dataframe thead th {\n",
       "        text-align: right;\n",
       "    }\n",
       "</style>\n",
       "<table border=\"1\" class=\"dataframe\">\n",
       "  <thead>\n",
       "    <tr style=\"text-align: right;\">\n",
       "      <th></th>\n",
       "      <th>Area</th>\n",
       "      <th>MajorAxisLength</th>\n",
       "      <th>MinorAxisLength</th>\n",
       "      <th>Eccentricity</th>\n",
       "      <th>ConvexArea</th>\n",
       "      <th>Extent</th>\n",
       "      <th>Perimeter</th>\n",
       "      <th>pred</th>\n",
       "      <th>pred_proba_keçimen</th>\n",
       "      <th>pred_proba_besni</th>\n",
       "    </tr>\n",
       "  </thead>\n",
       "  <tbody>\n",
       "    <tr>\n",
       "      <th>0</th>\n",
       "      <td>110804.128</td>\n",
       "      <td>400.930</td>\n",
       "      <td>200.488</td>\n",
       "      <td>0.482</td>\n",
       "      <td>80186.090</td>\n",
       "      <td>0.482</td>\n",
       "      <td>1065.907</td>\n",
       "      <td>1</td>\n",
       "      <td>0.398</td>\n",
       "      <td>0.602</td>\n",
       "    </tr>\n",
       "    <tr>\n",
       "      <th>1</th>\n",
       "      <td>50804.128</td>\n",
       "      <td>200.930</td>\n",
       "      <td>280.488</td>\n",
       "      <td>0.682</td>\n",
       "      <td>100186.090</td>\n",
       "      <td>0.682</td>\n",
       "      <td>1865.907</td>\n",
       "      <td>1</td>\n",
       "      <td>0.012</td>\n",
       "      <td>0.988</td>\n",
       "    </tr>\n",
       "    <tr>\n",
       "      <th>2</th>\n",
       "      <td>80804.128</td>\n",
       "      <td>500.930</td>\n",
       "      <td>225.488</td>\n",
       "      <td>0.882</td>\n",
       "      <td>12086.090</td>\n",
       "      <td>0.882</td>\n",
       "      <td>2265.907</td>\n",
       "      <td>1</td>\n",
       "      <td>0.000</td>\n",
       "      <td>1.000</td>\n",
       "    </tr>\n",
       "  </tbody>\n",
       "</table>\n",
       "</div>"
      ],
      "text/plain": [
       "        Area  MajorAxisLength  MinorAxisLength  Eccentricity  ConvexArea  \\\n",
       "0 110804.128          400.930          200.488         0.482   80186.090   \n",
       "1  50804.128          200.930          280.488         0.682  100186.090   \n",
       "2  80804.128          500.930          225.488         0.882   12086.090   \n",
       "\n",
       "   Extent  Perimeter  pred  pred_proba_keçimen  pred_proba_besni  \n",
       "0   0.482   1065.907     1               0.398             0.602  \n",
       "1   0.682   1865.907     1               0.012             0.988  \n",
       "2   0.882   2265.907     1               0.000             1.000  "
      ]
     },
     "execution_count": 73,
     "metadata": {},
     "output_type": "execute_result"
    }
   ],
   "source": [
    "sample[\"pred\"] = predictions\n",
    "sample[\"pred_proba_keçimen\"] = predictions_proba[:,0]\n",
    "sample[\"pred_proba_besni\"] = predictions_proba[:,1]\n",
    "\n",
    "sample"
   ]
  },
  {
   "cell_type": "markdown",
   "id": "253ceb77",
   "metadata": {},
   "source": [
    "# with pipeline"
   ]
  },
  {
   "cell_type": "code",
   "execution_count": 74,
   "id": "vanilla-channels",
   "metadata": {},
   "outputs": [],
   "source": [
    "from sklearn.pipeline import Pipeline\n",
    "from sklearn.preprocessing import StandardScaler\n",
    "\n",
    "scaler = StandardScaler()"
   ]
  },
  {
   "cell_type": "code",
   "execution_count": 188,
   "id": "natural-celebration",
   "metadata": {},
   "outputs": [],
   "source": [
    "operations = [(\"scaler\", StandardScaler()), \n",
    "              (\"logistic\", LogisticRegression())]"
   ]
  },
  {
   "cell_type": "code",
   "execution_count": 192,
   "id": "sweet-canberra",
   "metadata": {},
   "outputs": [],
   "source": [
    "pipe_model = Pipeline(steps=operations)"
   ]
  },
  {
   "cell_type": "code",
   "execution_count": 193,
   "id": "affected-syndicate",
   "metadata": {
    "scrolled": false
   },
   "outputs": [
    {
     "data": {
      "text/html": [
       "<style>#sk-container-id-22 {color: black;background-color: white;}#sk-container-id-22 pre{padding: 0;}#sk-container-id-22 div.sk-toggleable {background-color: white;}#sk-container-id-22 label.sk-toggleable__label {cursor: pointer;display: block;width: 100%;margin-bottom: 0;padding: 0.3em;box-sizing: border-box;text-align: center;}#sk-container-id-22 label.sk-toggleable__label-arrow:before {content: \"▸\";float: left;margin-right: 0.25em;color: #696969;}#sk-container-id-22 label.sk-toggleable__label-arrow:hover:before {color: black;}#sk-container-id-22 div.sk-estimator:hover label.sk-toggleable__label-arrow:before {color: black;}#sk-container-id-22 div.sk-toggleable__content {max-height: 0;max-width: 0;overflow: hidden;text-align: left;background-color: #f0f8ff;}#sk-container-id-22 div.sk-toggleable__content pre {margin: 0.2em;color: black;border-radius: 0.25em;background-color: #f0f8ff;}#sk-container-id-22 input.sk-toggleable__control:checked~div.sk-toggleable__content {max-height: 200px;max-width: 100%;overflow: auto;}#sk-container-id-22 input.sk-toggleable__control:checked~label.sk-toggleable__label-arrow:before {content: \"▾\";}#sk-container-id-22 div.sk-estimator input.sk-toggleable__control:checked~label.sk-toggleable__label {background-color: #d4ebff;}#sk-container-id-22 div.sk-label input.sk-toggleable__control:checked~label.sk-toggleable__label {background-color: #d4ebff;}#sk-container-id-22 input.sk-hidden--visually {border: 0;clip: rect(1px 1px 1px 1px);clip: rect(1px, 1px, 1px, 1px);height: 1px;margin: -1px;overflow: hidden;padding: 0;position: absolute;width: 1px;}#sk-container-id-22 div.sk-estimator {font-family: monospace;background-color: #f0f8ff;border: 1px dotted black;border-radius: 0.25em;box-sizing: border-box;margin-bottom: 0.5em;}#sk-container-id-22 div.sk-estimator:hover {background-color: #d4ebff;}#sk-container-id-22 div.sk-parallel-item::after {content: \"\";width: 100%;border-bottom: 1px solid gray;flex-grow: 1;}#sk-container-id-22 div.sk-label:hover label.sk-toggleable__label {background-color: #d4ebff;}#sk-container-id-22 div.sk-serial::before {content: \"\";position: absolute;border-left: 1px solid gray;box-sizing: border-box;top: 0;bottom: 0;left: 50%;z-index: 0;}#sk-container-id-22 div.sk-serial {display: flex;flex-direction: column;align-items: center;background-color: white;padding-right: 0.2em;padding-left: 0.2em;position: relative;}#sk-container-id-22 div.sk-item {position: relative;z-index: 1;}#sk-container-id-22 div.sk-parallel {display: flex;align-items: stretch;justify-content: center;background-color: white;position: relative;}#sk-container-id-22 div.sk-item::before, #sk-container-id-22 div.sk-parallel-item::before {content: \"\";position: absolute;border-left: 1px solid gray;box-sizing: border-box;top: 0;bottom: 0;left: 50%;z-index: -1;}#sk-container-id-22 div.sk-parallel-item {display: flex;flex-direction: column;z-index: 1;position: relative;background-color: white;}#sk-container-id-22 div.sk-parallel-item:first-child::after {align-self: flex-end;width: 50%;}#sk-container-id-22 div.sk-parallel-item:last-child::after {align-self: flex-start;width: 50%;}#sk-container-id-22 div.sk-parallel-item:only-child::after {width: 0;}#sk-container-id-22 div.sk-dashed-wrapped {border: 1px dashed gray;margin: 0 0.4em 0.5em 0.4em;box-sizing: border-box;padding-bottom: 0.4em;background-color: white;}#sk-container-id-22 div.sk-label label {font-family: monospace;font-weight: bold;display: inline-block;line-height: 1.2em;}#sk-container-id-22 div.sk-label-container {text-align: center;}#sk-container-id-22 div.sk-container {/* jupyter's `normalize.less` sets `[hidden] { display: none; }` but bootstrap.min.css set `[hidden] { display: none !important; }` so we also need the `!important` here to be able to override the default hidden behavior on the sphinx rendered scikit-learn.org. See: https://github.com/scikit-learn/scikit-learn/issues/21755 */display: inline-block !important;position: relative;}#sk-container-id-22 div.sk-text-repr-fallback {display: none;}</style><div id=\"sk-container-id-22\" class=\"sk-top-container\"><div class=\"sk-text-repr-fallback\"><pre>Pipeline(steps=[(&#x27;scaler&#x27;, StandardScaler()),\n",
       "                (&#x27;logistic&#x27;, LogisticRegression())])</pre><b>In a Jupyter environment, please rerun this cell to show the HTML representation or trust the notebook. <br />On GitHub, the HTML representation is unable to render, please try loading this page with nbviewer.org.</b></div><div class=\"sk-container\" hidden><div class=\"sk-item sk-dashed-wrapped\"><div class=\"sk-label-container\"><div class=\"sk-label sk-toggleable\"><input class=\"sk-toggleable__control sk-hidden--visually\" id=\"sk-estimator-id-69\" type=\"checkbox\" ><label for=\"sk-estimator-id-69\" class=\"sk-toggleable__label sk-toggleable__label-arrow\">Pipeline</label><div class=\"sk-toggleable__content\"><pre>Pipeline(steps=[(&#x27;scaler&#x27;, StandardScaler()),\n",
       "                (&#x27;logistic&#x27;, LogisticRegression())])</pre></div></div></div><div class=\"sk-serial\"><div class=\"sk-item\"><div class=\"sk-estimator sk-toggleable\"><input class=\"sk-toggleable__control sk-hidden--visually\" id=\"sk-estimator-id-70\" type=\"checkbox\" ><label for=\"sk-estimator-id-70\" class=\"sk-toggleable__label sk-toggleable__label-arrow\">StandardScaler</label><div class=\"sk-toggleable__content\"><pre>StandardScaler()</pre></div></div></div><div class=\"sk-item\"><div class=\"sk-estimator sk-toggleable\"><input class=\"sk-toggleable__control sk-hidden--visually\" id=\"sk-estimator-id-71\" type=\"checkbox\" ><label for=\"sk-estimator-id-71\" class=\"sk-toggleable__label sk-toggleable__label-arrow\">LogisticRegression</label><div class=\"sk-toggleable__content\"><pre>LogisticRegression()</pre></div></div></div></div></div></div></div>"
      ],
      "text/plain": [
       "Pipeline(steps=[('scaler', StandardScaler()),\n",
       "                ('logistic', LogisticRegression())])"
      ]
     },
     "execution_count": 193,
     "metadata": {},
     "output_type": "execute_result"
    }
   ],
   "source": [
    "pipe_model.fit(X_train, y_train)"
   ]
  },
  {
   "cell_type": "code",
   "execution_count": 194,
   "id": "aggregate-casting",
   "metadata": {},
   "outputs": [
    {
     "data": {
      "text/plain": [
       "array([1, 0, 0, 1, 0, 0, 0, 1, 0, 0, 1, 1, 1, 0, 1, 1, 1, 0, 0, 1, 0, 1,\n",
       "       0, 0, 1, 0, 1, 1, 1, 1, 0, 1, 1, 1, 1, 1, 0, 1, 0, 0, 0, 0, 0, 0,\n",
       "       1, 1, 0, 1, 1, 1, 1, 0, 1, 0, 0, 0, 0, 1, 0, 1, 1, 0, 1, 0, 0, 0,\n",
       "       1, 1, 0, 0, 1, 1, 0, 0, 1, 1, 0, 1, 0, 1, 1, 0, 1, 0, 1, 1, 0, 1,\n",
       "       1, 1, 0, 0, 1, 1, 1, 1, 0, 0, 1, 1, 1, 0, 1, 1, 1, 0, 1, 0, 1, 0,\n",
       "       1, 1, 1, 0, 1, 0, 0, 0, 0, 1, 0, 0, 0, 0, 1, 0, 0, 1, 0, 0, 1, 1,\n",
       "       1, 0, 1, 0, 1, 1, 1, 0, 0, 0, 1, 0, 1, 0, 1, 0, 1, 0, 0, 1, 0, 1,\n",
       "       0, 0, 0, 0, 0, 0, 0, 1, 0, 0, 1, 1, 0, 1, 1, 1, 0, 0, 0, 0, 1, 1,\n",
       "       1, 1, 0, 0], dtype=int64)"
      ]
     },
     "execution_count": 194,
     "metadata": {},
     "output_type": "execute_result"
    }
   ],
   "source": [
    "y_pred = pipe_model.predict(X_test)\n",
    "y_pred"
   ]
  },
  {
   "cell_type": "markdown",
   "id": "0508732c",
   "metadata": {},
   "source": [
    "## Changing the parameters of the pipe_model"
   ]
  },
  {
   "cell_type": "code",
   "execution_count": 200,
   "id": "c1176a55",
   "metadata": {},
   "outputs": [
    {
     "data": {
      "text/plain": [
       "{'memory': None,\n",
       " 'steps': [('scaler', StandardScaler()), ('logistic', LogisticRegression())],\n",
       " 'verbose': False,\n",
       " 'scaler': StandardScaler(),\n",
       " 'logistic': LogisticRegression(),\n",
       " 'scaler__copy': True,\n",
       " 'scaler__with_mean': True,\n",
       " 'scaler__with_std': True,\n",
       " 'logistic__C': 1.0,\n",
       " 'logistic__class_weight': None,\n",
       " 'logistic__dual': False,\n",
       " 'logistic__fit_intercept': True,\n",
       " 'logistic__intercept_scaling': 1,\n",
       " 'logistic__l1_ratio': None,\n",
       " 'logistic__max_iter': 100,\n",
       " 'logistic__multi_class': 'auto',\n",
       " 'logistic__n_jobs': None,\n",
       " 'logistic__penalty': 'l2',\n",
       " 'logistic__random_state': None,\n",
       " 'logistic__solver': 'lbfgs',\n",
       " 'logistic__tol': 0.0001,\n",
       " 'logistic__verbose': 0,\n",
       " 'logistic__warm_start': False}"
      ]
     },
     "execution_count": 200,
     "metadata": {},
     "output_type": "execute_result"
    }
   ],
   "source": [
    "pipe_model.get_params() \n",
    "\n",
    "# Seçtiğimiz ML algoritmasına göre ilgili parametre listesini getirir."
   ]
  },
  {
   "cell_type": "code",
   "execution_count": 199,
   "id": "8d73b39a",
   "metadata": {},
   "outputs": [
    {
     "data": {
      "text/html": [
       "<style>#sk-container-id-23 {color: black;background-color: white;}#sk-container-id-23 pre{padding: 0;}#sk-container-id-23 div.sk-toggleable {background-color: white;}#sk-container-id-23 label.sk-toggleable__label {cursor: pointer;display: block;width: 100%;margin-bottom: 0;padding: 0.3em;box-sizing: border-box;text-align: center;}#sk-container-id-23 label.sk-toggleable__label-arrow:before {content: \"▸\";float: left;margin-right: 0.25em;color: #696969;}#sk-container-id-23 label.sk-toggleable__label-arrow:hover:before {color: black;}#sk-container-id-23 div.sk-estimator:hover label.sk-toggleable__label-arrow:before {color: black;}#sk-container-id-23 div.sk-toggleable__content {max-height: 0;max-width: 0;overflow: hidden;text-align: left;background-color: #f0f8ff;}#sk-container-id-23 div.sk-toggleable__content pre {margin: 0.2em;color: black;border-radius: 0.25em;background-color: #f0f8ff;}#sk-container-id-23 input.sk-toggleable__control:checked~div.sk-toggleable__content {max-height: 200px;max-width: 100%;overflow: auto;}#sk-container-id-23 input.sk-toggleable__control:checked~label.sk-toggleable__label-arrow:before {content: \"▾\";}#sk-container-id-23 div.sk-estimator input.sk-toggleable__control:checked~label.sk-toggleable__label {background-color: #d4ebff;}#sk-container-id-23 div.sk-label input.sk-toggleable__control:checked~label.sk-toggleable__label {background-color: #d4ebff;}#sk-container-id-23 input.sk-hidden--visually {border: 0;clip: rect(1px 1px 1px 1px);clip: rect(1px, 1px, 1px, 1px);height: 1px;margin: -1px;overflow: hidden;padding: 0;position: absolute;width: 1px;}#sk-container-id-23 div.sk-estimator {font-family: monospace;background-color: #f0f8ff;border: 1px dotted black;border-radius: 0.25em;box-sizing: border-box;margin-bottom: 0.5em;}#sk-container-id-23 div.sk-estimator:hover {background-color: #d4ebff;}#sk-container-id-23 div.sk-parallel-item::after {content: \"\";width: 100%;border-bottom: 1px solid gray;flex-grow: 1;}#sk-container-id-23 div.sk-label:hover label.sk-toggleable__label {background-color: #d4ebff;}#sk-container-id-23 div.sk-serial::before {content: \"\";position: absolute;border-left: 1px solid gray;box-sizing: border-box;top: 0;bottom: 0;left: 50%;z-index: 0;}#sk-container-id-23 div.sk-serial {display: flex;flex-direction: column;align-items: center;background-color: white;padding-right: 0.2em;padding-left: 0.2em;position: relative;}#sk-container-id-23 div.sk-item {position: relative;z-index: 1;}#sk-container-id-23 div.sk-parallel {display: flex;align-items: stretch;justify-content: center;background-color: white;position: relative;}#sk-container-id-23 div.sk-item::before, #sk-container-id-23 div.sk-parallel-item::before {content: \"\";position: absolute;border-left: 1px solid gray;box-sizing: border-box;top: 0;bottom: 0;left: 50%;z-index: -1;}#sk-container-id-23 div.sk-parallel-item {display: flex;flex-direction: column;z-index: 1;position: relative;background-color: white;}#sk-container-id-23 div.sk-parallel-item:first-child::after {align-self: flex-end;width: 50%;}#sk-container-id-23 div.sk-parallel-item:last-child::after {align-self: flex-start;width: 50%;}#sk-container-id-23 div.sk-parallel-item:only-child::after {width: 0;}#sk-container-id-23 div.sk-dashed-wrapped {border: 1px dashed gray;margin: 0 0.4em 0.5em 0.4em;box-sizing: border-box;padding-bottom: 0.4em;background-color: white;}#sk-container-id-23 div.sk-label label {font-family: monospace;font-weight: bold;display: inline-block;line-height: 1.2em;}#sk-container-id-23 div.sk-label-container {text-align: center;}#sk-container-id-23 div.sk-container {/* jupyter's `normalize.less` sets `[hidden] { display: none; }` but bootstrap.min.css set `[hidden] { display: none !important; }` so we also need the `!important` here to be able to override the default hidden behavior on the sphinx rendered scikit-learn.org. See: https://github.com/scikit-learn/scikit-learn/issues/21755 */display: inline-block !important;position: relative;}#sk-container-id-23 div.sk-text-repr-fallback {display: none;}</style><div id=\"sk-container-id-23\" class=\"sk-top-container\"><div class=\"sk-text-repr-fallback\"><pre>Pipeline(steps=[(&#x27;scaler&#x27;, StandardScaler()),\n",
       "                (&#x27;logistic&#x27;, LogisticRegression())])</pre><b>In a Jupyter environment, please rerun this cell to show the HTML representation or trust the notebook. <br />On GitHub, the HTML representation is unable to render, please try loading this page with nbviewer.org.</b></div><div class=\"sk-container\" hidden><div class=\"sk-item sk-dashed-wrapped\"><div class=\"sk-label-container\"><div class=\"sk-label sk-toggleable\"><input class=\"sk-toggleable__control sk-hidden--visually\" id=\"sk-estimator-id-72\" type=\"checkbox\" ><label for=\"sk-estimator-id-72\" class=\"sk-toggleable__label sk-toggleable__label-arrow\">Pipeline</label><div class=\"sk-toggleable__content\"><pre>Pipeline(steps=[(&#x27;scaler&#x27;, StandardScaler()),\n",
       "                (&#x27;logistic&#x27;, LogisticRegression())])</pre></div></div></div><div class=\"sk-serial\"><div class=\"sk-item\"><div class=\"sk-estimator sk-toggleable\"><input class=\"sk-toggleable__control sk-hidden--visually\" id=\"sk-estimator-id-73\" type=\"checkbox\" ><label for=\"sk-estimator-id-73\" class=\"sk-toggleable__label sk-toggleable__label-arrow\">StandardScaler</label><div class=\"sk-toggleable__content\"><pre>StandardScaler()</pre></div></div></div><div class=\"sk-item\"><div class=\"sk-estimator sk-toggleable\"><input class=\"sk-toggleable__control sk-hidden--visually\" id=\"sk-estimator-id-74\" type=\"checkbox\" ><label for=\"sk-estimator-id-74\" class=\"sk-toggleable__label sk-toggleable__label-arrow\">LogisticRegression</label><div class=\"sk-toggleable__content\"><pre>LogisticRegression()</pre></div></div></div></div></div></div></div>"
      ],
      "text/plain": [
       "Pipeline(steps=[('scaler', StandardScaler()),\n",
       "                ('logistic', LogisticRegression())])"
      ]
     },
     "execution_count": 199,
     "metadata": {},
     "output_type": "execute_result"
    }
   ],
   "source": [
    "pipe_model.set_params(logistic__max_iter=100)\n",
    "\n",
    "# Yukarıdaki listeden ihtiyaç duyulan parametre değişikliği yapar."
   ]
  },
  {
   "cell_type": "markdown",
   "id": "50cba5e2",
   "metadata": {},
   "source": [
    "## GridSearch on Pipeline"
   ]
  },
  {
   "cell_type": "code",
   "execution_count": 203,
   "id": "stainless-values",
   "metadata": {},
   "outputs": [],
   "source": [
    "from sklearn.model_selection import GridSearchCV"
   ]
  },
  {
   "cell_type": "code",
   "execution_count": 83,
   "id": "e19d69ce",
   "metadata": {},
   "outputs": [],
   "source": [
    "\n",
    "penalty = [\"l1\", \"l2\"]\n",
    "C = np.logspace(-1, 5, 20)\n",
    "param_grid = {\n",
    "    \"logistic__solver\": ['liblinear', 'saga'],\n",
    "    \"logistic__penalty\": penalty,\n",
    "     \"logistic__C\" : C\n",
    "}"
   ]
  },
  {
   "cell_type": "code",
   "execution_count": 84,
   "id": "6984c049",
   "metadata": {},
   "outputs": [],
   "source": [
    "operations = [(\"scaler\", StandardScaler()), \n",
    "              (\"logistic\", LogisticRegression())]"
   ]
  },
  {
   "cell_type": "code",
   "execution_count": 85,
   "id": "renewable-amplifier",
   "metadata": {},
   "outputs": [],
   "source": [
    "pipe_model = Pipeline(steps=operations)"
   ]
  },
  {
   "cell_type": "code",
   "execution_count": 113,
   "id": "twelve-centre",
   "metadata": {},
   "outputs": [],
   "source": [
    "pipe_grid = GridSearchCV(pipe_model, param_grid, cv=10, scoring= \"accuracy\")"
   ]
  },
  {
   "cell_type": "code",
   "execution_count": 204,
   "id": "fitted-conviction",
   "metadata": {
    "scrolled": false
   },
   "outputs": [
    {
     "data": {
      "text/html": [
       "<style>#sk-container-id-24 {color: black;background-color: white;}#sk-container-id-24 pre{padding: 0;}#sk-container-id-24 div.sk-toggleable {background-color: white;}#sk-container-id-24 label.sk-toggleable__label {cursor: pointer;display: block;width: 100%;margin-bottom: 0;padding: 0.3em;box-sizing: border-box;text-align: center;}#sk-container-id-24 label.sk-toggleable__label-arrow:before {content: \"▸\";float: left;margin-right: 0.25em;color: #696969;}#sk-container-id-24 label.sk-toggleable__label-arrow:hover:before {color: black;}#sk-container-id-24 div.sk-estimator:hover label.sk-toggleable__label-arrow:before {color: black;}#sk-container-id-24 div.sk-toggleable__content {max-height: 0;max-width: 0;overflow: hidden;text-align: left;background-color: #f0f8ff;}#sk-container-id-24 div.sk-toggleable__content pre {margin: 0.2em;color: black;border-radius: 0.25em;background-color: #f0f8ff;}#sk-container-id-24 input.sk-toggleable__control:checked~div.sk-toggleable__content {max-height: 200px;max-width: 100%;overflow: auto;}#sk-container-id-24 input.sk-toggleable__control:checked~label.sk-toggleable__label-arrow:before {content: \"▾\";}#sk-container-id-24 div.sk-estimator input.sk-toggleable__control:checked~label.sk-toggleable__label {background-color: #d4ebff;}#sk-container-id-24 div.sk-label input.sk-toggleable__control:checked~label.sk-toggleable__label {background-color: #d4ebff;}#sk-container-id-24 input.sk-hidden--visually {border: 0;clip: rect(1px 1px 1px 1px);clip: rect(1px, 1px, 1px, 1px);height: 1px;margin: -1px;overflow: hidden;padding: 0;position: absolute;width: 1px;}#sk-container-id-24 div.sk-estimator {font-family: monospace;background-color: #f0f8ff;border: 1px dotted black;border-radius: 0.25em;box-sizing: border-box;margin-bottom: 0.5em;}#sk-container-id-24 div.sk-estimator:hover {background-color: #d4ebff;}#sk-container-id-24 div.sk-parallel-item::after {content: \"\";width: 100%;border-bottom: 1px solid gray;flex-grow: 1;}#sk-container-id-24 div.sk-label:hover label.sk-toggleable__label {background-color: #d4ebff;}#sk-container-id-24 div.sk-serial::before {content: \"\";position: absolute;border-left: 1px solid gray;box-sizing: border-box;top: 0;bottom: 0;left: 50%;z-index: 0;}#sk-container-id-24 div.sk-serial {display: flex;flex-direction: column;align-items: center;background-color: white;padding-right: 0.2em;padding-left: 0.2em;position: relative;}#sk-container-id-24 div.sk-item {position: relative;z-index: 1;}#sk-container-id-24 div.sk-parallel {display: flex;align-items: stretch;justify-content: center;background-color: white;position: relative;}#sk-container-id-24 div.sk-item::before, #sk-container-id-24 div.sk-parallel-item::before {content: \"\";position: absolute;border-left: 1px solid gray;box-sizing: border-box;top: 0;bottom: 0;left: 50%;z-index: -1;}#sk-container-id-24 div.sk-parallel-item {display: flex;flex-direction: column;z-index: 1;position: relative;background-color: white;}#sk-container-id-24 div.sk-parallel-item:first-child::after {align-self: flex-end;width: 50%;}#sk-container-id-24 div.sk-parallel-item:last-child::after {align-self: flex-start;width: 50%;}#sk-container-id-24 div.sk-parallel-item:only-child::after {width: 0;}#sk-container-id-24 div.sk-dashed-wrapped {border: 1px dashed gray;margin: 0 0.4em 0.5em 0.4em;box-sizing: border-box;padding-bottom: 0.4em;background-color: white;}#sk-container-id-24 div.sk-label label {font-family: monospace;font-weight: bold;display: inline-block;line-height: 1.2em;}#sk-container-id-24 div.sk-label-container {text-align: center;}#sk-container-id-24 div.sk-container {/* jupyter's `normalize.less` sets `[hidden] { display: none; }` but bootstrap.min.css set `[hidden] { display: none !important; }` so we also need the `!important` here to be able to override the default hidden behavior on the sphinx rendered scikit-learn.org. See: https://github.com/scikit-learn/scikit-learn/issues/21755 */display: inline-block !important;position: relative;}#sk-container-id-24 div.sk-text-repr-fallback {display: none;}</style><div id=\"sk-container-id-24\" class=\"sk-top-container\"><div class=\"sk-text-repr-fallback\"><pre>GridSearchCV(cv=10,\n",
       "             estimator=Pipeline(steps=[(&#x27;scaler&#x27;, StandardScaler()),\n",
       "                                       (&#x27;logistic&#x27;, LogisticRegression())]),\n",
       "             param_grid={&#x27;logistic__C&#x27;: array([1.00000000e-01, 2.06913808e-01, 4.28133240e-01, 8.85866790e-01,\n",
       "       1.83298071e+00, 3.79269019e+00, 7.84759970e+00, 1.62377674e+01,\n",
       "       3.35981829e+01, 6.95192796e+01, 1.43844989e+02, 2.97635144e+02,\n",
       "       6.15848211e+02, 1.27427499e+03, 2.63665090e+03, 5.45559478e+03,\n",
       "       1.12883789e+04, 2.33572147e+04, 4.83293024e+04, 1.00000000e+05]),\n",
       "                         &#x27;logistic__penalty&#x27;: [&#x27;l1&#x27;, &#x27;l2&#x27;],\n",
       "                         &#x27;logistic__solver&#x27;: [&#x27;liblinear&#x27;, &#x27;saga&#x27;]},\n",
       "             scoring=&#x27;accuracy&#x27;)</pre><b>In a Jupyter environment, please rerun this cell to show the HTML representation or trust the notebook. <br />On GitHub, the HTML representation is unable to render, please try loading this page with nbviewer.org.</b></div><div class=\"sk-container\" hidden><div class=\"sk-item sk-dashed-wrapped\"><div class=\"sk-label-container\"><div class=\"sk-label sk-toggleable\"><input class=\"sk-toggleable__control sk-hidden--visually\" id=\"sk-estimator-id-75\" type=\"checkbox\" ><label for=\"sk-estimator-id-75\" class=\"sk-toggleable__label sk-toggleable__label-arrow\">GridSearchCV</label><div class=\"sk-toggleable__content\"><pre>GridSearchCV(cv=10,\n",
       "             estimator=Pipeline(steps=[(&#x27;scaler&#x27;, StandardScaler()),\n",
       "                                       (&#x27;logistic&#x27;, LogisticRegression())]),\n",
       "             param_grid={&#x27;logistic__C&#x27;: array([1.00000000e-01, 2.06913808e-01, 4.28133240e-01, 8.85866790e-01,\n",
       "       1.83298071e+00, 3.79269019e+00, 7.84759970e+00, 1.62377674e+01,\n",
       "       3.35981829e+01, 6.95192796e+01, 1.43844989e+02, 2.97635144e+02,\n",
       "       6.15848211e+02, 1.27427499e+03, 2.63665090e+03, 5.45559478e+03,\n",
       "       1.12883789e+04, 2.33572147e+04, 4.83293024e+04, 1.00000000e+05]),\n",
       "                         &#x27;logistic__penalty&#x27;: [&#x27;l1&#x27;, &#x27;l2&#x27;],\n",
       "                         &#x27;logistic__solver&#x27;: [&#x27;liblinear&#x27;, &#x27;saga&#x27;]},\n",
       "             scoring=&#x27;accuracy&#x27;)</pre></div></div></div><div class=\"sk-parallel\"><div class=\"sk-parallel-item\"><div class=\"sk-item\"><div class=\"sk-label-container\"><div class=\"sk-label sk-toggleable\"><input class=\"sk-toggleable__control sk-hidden--visually\" id=\"sk-estimator-id-76\" type=\"checkbox\" ><label for=\"sk-estimator-id-76\" class=\"sk-toggleable__label sk-toggleable__label-arrow\">estimator: Pipeline</label><div class=\"sk-toggleable__content\"><pre>Pipeline(steps=[(&#x27;scaler&#x27;, StandardScaler()),\n",
       "                (&#x27;logistic&#x27;, LogisticRegression())])</pre></div></div></div><div class=\"sk-serial\"><div class=\"sk-item\"><div class=\"sk-serial\"><div class=\"sk-item\"><div class=\"sk-estimator sk-toggleable\"><input class=\"sk-toggleable__control sk-hidden--visually\" id=\"sk-estimator-id-77\" type=\"checkbox\" ><label for=\"sk-estimator-id-77\" class=\"sk-toggleable__label sk-toggleable__label-arrow\">StandardScaler</label><div class=\"sk-toggleable__content\"><pre>StandardScaler()</pre></div></div></div><div class=\"sk-item\"><div class=\"sk-estimator sk-toggleable\"><input class=\"sk-toggleable__control sk-hidden--visually\" id=\"sk-estimator-id-78\" type=\"checkbox\" ><label for=\"sk-estimator-id-78\" class=\"sk-toggleable__label sk-toggleable__label-arrow\">LogisticRegression</label><div class=\"sk-toggleable__content\"><pre>LogisticRegression()</pre></div></div></div></div></div></div></div></div></div></div></div></div>"
      ],
      "text/plain": [
       "GridSearchCV(cv=10,\n",
       "             estimator=Pipeline(steps=[('scaler', StandardScaler()),\n",
       "                                       ('logistic', LogisticRegression())]),\n",
       "             param_grid={'logistic__C': array([1.00000000e-01, 2.06913808e-01, 4.28133240e-01, 8.85866790e-01,\n",
       "       1.83298071e+00, 3.79269019e+00, 7.84759970e+00, 1.62377674e+01,\n",
       "       3.35981829e+01, 6.95192796e+01, 1.43844989e+02, 2.97635144e+02,\n",
       "       6.15848211e+02, 1.27427499e+03, 2.63665090e+03, 5.45559478e+03,\n",
       "       1.12883789e+04, 2.33572147e+04, 4.83293024e+04, 1.00000000e+05]),\n",
       "                         'logistic__penalty': ['l1', 'l2'],\n",
       "                         'logistic__solver': ['liblinear', 'saga']},\n",
       "             scoring='accuracy')"
      ]
     },
     "execution_count": 204,
     "metadata": {},
     "output_type": "execute_result"
    }
   ],
   "source": [
    "pipe_grid.fit(X_train,y_train)"
   ]
  },
  {
   "cell_type": "code",
   "execution_count": 205,
   "id": "early-passenger",
   "metadata": {},
   "outputs": [
    {
     "data": {
      "text/plain": [
       "{'logistic__C': 0.8858667904100825,\n",
       " 'logistic__penalty': 'l1',\n",
       " 'logistic__solver': 'liblinear'}"
      ]
     },
     "execution_count": 205,
     "metadata": {},
     "output_type": "execute_result"
    }
   ],
   "source": [
    "pipe_grid.best_params_"
   ]
  },
  {
   "cell_type": "code",
   "execution_count": 206,
   "id": "39e5b5a2",
   "metadata": {},
   "outputs": [
    {
     "data": {
      "text/plain": [
       "0.8680555555555556"
      ]
     },
     "execution_count": 206,
     "metadata": {},
     "output_type": "execute_result"
    }
   ],
   "source": [
    "pipe_grid.best_score_ # accuracy"
   ]
  },
  {
   "cell_type": "markdown",
   "id": "documentary-clearance",
   "metadata": {},
   "source": [
    "## Final pipe_model "
   ]
  },
  {
   "cell_type": "code",
   "execution_count": 180,
   "id": "desirable-nicholas",
   "metadata": {},
   "outputs": [],
   "source": [
    "operations = [(\"scaler\", StandardScaler()), \n",
    "              (\"logistic\", LogisticRegression(C = 0.8858667904100825,\n",
    "                                             penalty = 'l1',\n",
    "                                             solver = 'liblinear'))]\n",
    "\n",
    "# LogisticRegression içindeki hyperparametreleri pipe_grid.best_params_'dan aldık."
   ]
  },
  {
   "cell_type": "code",
   "execution_count": 181,
   "id": "federal-india",
   "metadata": {},
   "outputs": [],
   "source": [
    "pipe_final = Pipeline(operations)"
   ]
  },
  {
   "cell_type": "code",
   "execution_count": 207,
   "id": "guilty-conviction",
   "metadata": {
    "scrolled": true
   },
   "outputs": [
    {
     "data": {
      "text/html": [
       "<style>#sk-container-id-25 {color: black;background-color: white;}#sk-container-id-25 pre{padding: 0;}#sk-container-id-25 div.sk-toggleable {background-color: white;}#sk-container-id-25 label.sk-toggleable__label {cursor: pointer;display: block;width: 100%;margin-bottom: 0;padding: 0.3em;box-sizing: border-box;text-align: center;}#sk-container-id-25 label.sk-toggleable__label-arrow:before {content: \"▸\";float: left;margin-right: 0.25em;color: #696969;}#sk-container-id-25 label.sk-toggleable__label-arrow:hover:before {color: black;}#sk-container-id-25 div.sk-estimator:hover label.sk-toggleable__label-arrow:before {color: black;}#sk-container-id-25 div.sk-toggleable__content {max-height: 0;max-width: 0;overflow: hidden;text-align: left;background-color: #f0f8ff;}#sk-container-id-25 div.sk-toggleable__content pre {margin: 0.2em;color: black;border-radius: 0.25em;background-color: #f0f8ff;}#sk-container-id-25 input.sk-toggleable__control:checked~div.sk-toggleable__content {max-height: 200px;max-width: 100%;overflow: auto;}#sk-container-id-25 input.sk-toggleable__control:checked~label.sk-toggleable__label-arrow:before {content: \"▾\";}#sk-container-id-25 div.sk-estimator input.sk-toggleable__control:checked~label.sk-toggleable__label {background-color: #d4ebff;}#sk-container-id-25 div.sk-label input.sk-toggleable__control:checked~label.sk-toggleable__label {background-color: #d4ebff;}#sk-container-id-25 input.sk-hidden--visually {border: 0;clip: rect(1px 1px 1px 1px);clip: rect(1px, 1px, 1px, 1px);height: 1px;margin: -1px;overflow: hidden;padding: 0;position: absolute;width: 1px;}#sk-container-id-25 div.sk-estimator {font-family: monospace;background-color: #f0f8ff;border: 1px dotted black;border-radius: 0.25em;box-sizing: border-box;margin-bottom: 0.5em;}#sk-container-id-25 div.sk-estimator:hover {background-color: #d4ebff;}#sk-container-id-25 div.sk-parallel-item::after {content: \"\";width: 100%;border-bottom: 1px solid gray;flex-grow: 1;}#sk-container-id-25 div.sk-label:hover label.sk-toggleable__label {background-color: #d4ebff;}#sk-container-id-25 div.sk-serial::before {content: \"\";position: absolute;border-left: 1px solid gray;box-sizing: border-box;top: 0;bottom: 0;left: 50%;z-index: 0;}#sk-container-id-25 div.sk-serial {display: flex;flex-direction: column;align-items: center;background-color: white;padding-right: 0.2em;padding-left: 0.2em;position: relative;}#sk-container-id-25 div.sk-item {position: relative;z-index: 1;}#sk-container-id-25 div.sk-parallel {display: flex;align-items: stretch;justify-content: center;background-color: white;position: relative;}#sk-container-id-25 div.sk-item::before, #sk-container-id-25 div.sk-parallel-item::before {content: \"\";position: absolute;border-left: 1px solid gray;box-sizing: border-box;top: 0;bottom: 0;left: 50%;z-index: -1;}#sk-container-id-25 div.sk-parallel-item {display: flex;flex-direction: column;z-index: 1;position: relative;background-color: white;}#sk-container-id-25 div.sk-parallel-item:first-child::after {align-self: flex-end;width: 50%;}#sk-container-id-25 div.sk-parallel-item:last-child::after {align-self: flex-start;width: 50%;}#sk-container-id-25 div.sk-parallel-item:only-child::after {width: 0;}#sk-container-id-25 div.sk-dashed-wrapped {border: 1px dashed gray;margin: 0 0.4em 0.5em 0.4em;box-sizing: border-box;padding-bottom: 0.4em;background-color: white;}#sk-container-id-25 div.sk-label label {font-family: monospace;font-weight: bold;display: inline-block;line-height: 1.2em;}#sk-container-id-25 div.sk-label-container {text-align: center;}#sk-container-id-25 div.sk-container {/* jupyter's `normalize.less` sets `[hidden] { display: none; }` but bootstrap.min.css set `[hidden] { display: none !important; }` so we also need the `!important` here to be able to override the default hidden behavior on the sphinx rendered scikit-learn.org. See: https://github.com/scikit-learn/scikit-learn/issues/21755 */display: inline-block !important;position: relative;}#sk-container-id-25 div.sk-text-repr-fallback {display: none;}</style><div id=\"sk-container-id-25\" class=\"sk-top-container\"><div class=\"sk-text-repr-fallback\"><pre>Pipeline(steps=[(&#x27;scaler&#x27;, StandardScaler()),\n",
       "                (&#x27;logistic&#x27;,\n",
       "                 LogisticRegression(C=0.8858667904100825, penalty=&#x27;l1&#x27;,\n",
       "                                    solver=&#x27;liblinear&#x27;))])</pre><b>In a Jupyter environment, please rerun this cell to show the HTML representation or trust the notebook. <br />On GitHub, the HTML representation is unable to render, please try loading this page with nbviewer.org.</b></div><div class=\"sk-container\" hidden><div class=\"sk-item sk-dashed-wrapped\"><div class=\"sk-label-container\"><div class=\"sk-label sk-toggleable\"><input class=\"sk-toggleable__control sk-hidden--visually\" id=\"sk-estimator-id-79\" type=\"checkbox\" ><label for=\"sk-estimator-id-79\" class=\"sk-toggleable__label sk-toggleable__label-arrow\">Pipeline</label><div class=\"sk-toggleable__content\"><pre>Pipeline(steps=[(&#x27;scaler&#x27;, StandardScaler()),\n",
       "                (&#x27;logistic&#x27;,\n",
       "                 LogisticRegression(C=0.8858667904100825, penalty=&#x27;l1&#x27;,\n",
       "                                    solver=&#x27;liblinear&#x27;))])</pre></div></div></div><div class=\"sk-serial\"><div class=\"sk-item\"><div class=\"sk-estimator sk-toggleable\"><input class=\"sk-toggleable__control sk-hidden--visually\" id=\"sk-estimator-id-80\" type=\"checkbox\" ><label for=\"sk-estimator-id-80\" class=\"sk-toggleable__label sk-toggleable__label-arrow\">StandardScaler</label><div class=\"sk-toggleable__content\"><pre>StandardScaler()</pre></div></div></div><div class=\"sk-item\"><div class=\"sk-estimator sk-toggleable\"><input class=\"sk-toggleable__control sk-hidden--visually\" id=\"sk-estimator-id-81\" type=\"checkbox\" ><label for=\"sk-estimator-id-81\" class=\"sk-toggleable__label sk-toggleable__label-arrow\">LogisticRegression</label><div class=\"sk-toggleable__content\"><pre>LogisticRegression(C=0.8858667904100825, penalty=&#x27;l1&#x27;, solver=&#x27;liblinear&#x27;)</pre></div></div></div></div></div></div></div>"
      ],
      "text/plain": [
       "Pipeline(steps=[('scaler', StandardScaler()),\n",
       "                ('logistic',\n",
       "                 LogisticRegression(C=0.8858667904100825, penalty='l1',\n",
       "                                    solver='liblinear'))])"
      ]
     },
     "execution_count": 207,
     "metadata": {},
     "output_type": "execute_result"
    }
   ],
   "source": [
    "pipe_final.fit(X, y)"
   ]
  },
  {
   "cell_type": "markdown",
   "id": "stylish-parking",
   "metadata": {},
   "source": [
    "## Predict New Observations with pipe_model"
   ]
  },
  {
   "cell_type": "code",
   "execution_count": 183,
   "id": "oriented-drawing",
   "metadata": {},
   "outputs": [
    {
     "data": {
      "text/html": [
       "<div>\n",
       "<style scoped>\n",
       "    .dataframe tbody tr th:only-of-type {\n",
       "        vertical-align: middle;\n",
       "    }\n",
       "\n",
       "    .dataframe tbody tr th {\n",
       "        vertical-align: top;\n",
       "    }\n",
       "\n",
       "    .dataframe thead th {\n",
       "        text-align: right;\n",
       "    }\n",
       "</style>\n",
       "<table border=\"1\" class=\"dataframe\">\n",
       "  <thead>\n",
       "    <tr style=\"text-align: right;\">\n",
       "      <th></th>\n",
       "      <th>Area</th>\n",
       "      <th>MajorAxisLength</th>\n",
       "      <th>MinorAxisLength</th>\n",
       "      <th>Eccentricity</th>\n",
       "      <th>ConvexArea</th>\n",
       "      <th>Extent</th>\n",
       "      <th>Perimeter</th>\n",
       "    </tr>\n",
       "  </thead>\n",
       "  <tbody>\n",
       "    <tr>\n",
       "      <th>0</th>\n",
       "      <td>110804.128</td>\n",
       "      <td>400.930</td>\n",
       "      <td>200.488</td>\n",
       "      <td>0.482</td>\n",
       "      <td>80186.090</td>\n",
       "      <td>0.482</td>\n",
       "      <td>1065.907</td>\n",
       "    </tr>\n",
       "    <tr>\n",
       "      <th>1</th>\n",
       "      <td>50804.128</td>\n",
       "      <td>200.930</td>\n",
       "      <td>280.488</td>\n",
       "      <td>0.682</td>\n",
       "      <td>100186.090</td>\n",
       "      <td>0.682</td>\n",
       "      <td>1865.907</td>\n",
       "    </tr>\n",
       "    <tr>\n",
       "      <th>2</th>\n",
       "      <td>80804.128</td>\n",
       "      <td>500.930</td>\n",
       "      <td>225.488</td>\n",
       "      <td>0.882</td>\n",
       "      <td>12086.090</td>\n",
       "      <td>0.882</td>\n",
       "      <td>2265.907</td>\n",
       "    </tr>\n",
       "  </tbody>\n",
       "</table>\n",
       "</div>"
      ],
      "text/plain": [
       "        Area  MajorAxisLength  MinorAxisLength  Eccentricity  ConvexArea  \\\n",
       "0 110804.128          400.930          200.488         0.482   80186.090   \n",
       "1  50804.128          200.930          280.488         0.682  100186.090   \n",
       "2  80804.128          500.930          225.488         0.882   12086.090   \n",
       "\n",
       "   Extent  Perimeter  \n",
       "0   0.482   1065.907  \n",
       "1   0.682   1865.907  \n",
       "2   0.882   2265.907  "
      ]
     },
     "execution_count": 183,
     "metadata": {},
     "output_type": "execute_result"
    }
   ],
   "source": [
    "new_obs = {\"Area\": [110804.128, 50804.128, 80804.128],\n",
    "           \"MajorAxisLength\": [400.930, 200.930, 500.930],\n",
    "           \"MinorAxisLength\": [200.488, 280.488, 225.488],\n",
    "           \"Eccentricity\": [0.482, 0.682, 0.882],\n",
    "           \"ConvexArea\": [80186.090, 100186.090, 12086.090],\n",
    "           \"Extent\": [0.482, 0.682, 0.882], \n",
    "           \"Perimeter\": [1065.907, 1865.907, 2265.907], \n",
    "          }\n",
    "samples = pd.DataFrame(new_obs)\n",
    "samples"
   ]
  },
  {
   "cell_type": "code",
   "execution_count": 184,
   "id": "stock-sapphire",
   "metadata": {},
   "outputs": [
    {
     "data": {
      "text/plain": [
       "array([0, 1, 1], dtype=int64)"
      ]
     },
     "execution_count": 184,
     "metadata": {},
     "output_type": "execute_result"
    }
   ],
   "source": [
    "predictions = pipe_final.predict(samples)\n",
    "predictions"
   ]
  },
  {
   "cell_type": "code",
   "execution_count": 208,
   "id": "smart-drive",
   "metadata": {},
   "outputs": [
    {
     "data": {
      "text/plain": [
       "array([[6.19602627e-01, 3.80397373e-01],\n",
       "       [7.79283219e-05, 9.99922072e-01],\n",
       "       [1.10468523e-07, 9.99999890e-01]])"
      ]
     },
     "execution_count": 208,
     "metadata": {},
     "output_type": "execute_result"
    }
   ],
   "source": [
    "predictions_proba = pipe_final.predict_proba(samples)\n",
    "predictions_proba"
   ]
  },
  {
   "cell_type": "code",
   "execution_count": 209,
   "id": "italic-investigator",
   "metadata": {
    "scrolled": true
   },
   "outputs": [
    {
     "data": {
      "text/html": [
       "<div>\n",
       "<style scoped>\n",
       "    .dataframe tbody tr th:only-of-type {\n",
       "        vertical-align: middle;\n",
       "    }\n",
       "\n",
       "    .dataframe tbody tr th {\n",
       "        vertical-align: top;\n",
       "    }\n",
       "\n",
       "    .dataframe thead th {\n",
       "        text-align: right;\n",
       "    }\n",
       "</style>\n",
       "<table border=\"1\" class=\"dataframe\">\n",
       "  <thead>\n",
       "    <tr style=\"text-align: right;\">\n",
       "      <th></th>\n",
       "      <th>Area</th>\n",
       "      <th>MajorAxisLength</th>\n",
       "      <th>MinorAxisLength</th>\n",
       "      <th>Eccentricity</th>\n",
       "      <th>ConvexArea</th>\n",
       "      <th>Extent</th>\n",
       "      <th>Perimeter</th>\n",
       "      <th>pred</th>\n",
       "      <th>pred_proba_keçimen</th>\n",
       "      <th>pred_proba_besni</th>\n",
       "    </tr>\n",
       "  </thead>\n",
       "  <tbody>\n",
       "    <tr>\n",
       "      <th>0</th>\n",
       "      <td>110804.128</td>\n",
       "      <td>400.930</td>\n",
       "      <td>200.488</td>\n",
       "      <td>0.482</td>\n",
       "      <td>80186.090</td>\n",
       "      <td>0.482</td>\n",
       "      <td>1065.907</td>\n",
       "      <td>0</td>\n",
       "      <td>0.620</td>\n",
       "      <td>0.380</td>\n",
       "    </tr>\n",
       "    <tr>\n",
       "      <th>1</th>\n",
       "      <td>50804.128</td>\n",
       "      <td>200.930</td>\n",
       "      <td>280.488</td>\n",
       "      <td>0.682</td>\n",
       "      <td>100186.090</td>\n",
       "      <td>0.682</td>\n",
       "      <td>1865.907</td>\n",
       "      <td>1</td>\n",
       "      <td>0.000</td>\n",
       "      <td>1.000</td>\n",
       "    </tr>\n",
       "    <tr>\n",
       "      <th>2</th>\n",
       "      <td>80804.128</td>\n",
       "      <td>500.930</td>\n",
       "      <td>225.488</td>\n",
       "      <td>0.882</td>\n",
       "      <td>12086.090</td>\n",
       "      <td>0.882</td>\n",
       "      <td>2265.907</td>\n",
       "      <td>1</td>\n",
       "      <td>0.000</td>\n",
       "      <td>1.000</td>\n",
       "    </tr>\n",
       "  </tbody>\n",
       "</table>\n",
       "</div>"
      ],
      "text/plain": [
       "        Area  MajorAxisLength  MinorAxisLength  Eccentricity  ConvexArea  \\\n",
       "0 110804.128          400.930          200.488         0.482   80186.090   \n",
       "1  50804.128          200.930          280.488         0.682  100186.090   \n",
       "2  80804.128          500.930          225.488         0.882   12086.090   \n",
       "\n",
       "   Extent  Perimeter  pred  pred_proba_keçimen  pred_proba_besni  \n",
       "0   0.482   1065.907     0               0.620             0.380  \n",
       "1   0.682   1865.907     1               0.000             1.000  \n",
       "2   0.882   2265.907     1               0.000             1.000  "
      ]
     },
     "execution_count": 209,
     "metadata": {},
     "output_type": "execute_result"
    }
   ],
   "source": [
    "sample[\"pred\"] = predictions\n",
    "sample[\"pred_proba_keçimen\"] = predictions_proba[:,0]\n",
    "sample[\"pred_proba_besni\"] = predictions_proba[:,1]\n",
    "\n",
    "sample"
   ]
  },
  {
   "cell_type": "code",
   "execution_count": null,
   "id": "17e2b023",
   "metadata": {},
   "outputs": [],
   "source": []
  },
  {
   "cell_type": "code",
   "execution_count": null,
   "id": "0803048a",
   "metadata": {},
   "outputs": [],
   "source": []
  },
  {
   "cell_type": "code",
   "execution_count": null,
   "id": "64e7a9f2",
   "metadata": {},
   "outputs": [],
   "source": []
  },
  {
   "cell_type": "code",
   "execution_count": null,
   "id": "a058e7d5",
   "metadata": {},
   "outputs": [],
   "source": []
  }
 ],
 "metadata": {
  "colab": {
   "collapsed_sections": [],
   "name": "Case Study_2_solution-.ipynb",
   "provenance": []
  },
  "hide_input": false,
  "interpreter": {
   "hash": "b91502e98c93ec413571a3c4a71c4e7e2f090119475bdef759aa0802c5125d05"
  },
  "kernelspec": {
   "display_name": "Python 3 (ipykernel)",
   "language": "python",
   "name": "python3"
  },
  "language_info": {
   "codemirror_mode": {
    "name": "ipython",
    "version": 3
   },
   "file_extension": ".py",
   "mimetype": "text/x-python",
   "name": "python",
   "nbconvert_exporter": "python",
   "pygments_lexer": "ipython3",
   "version": "3.9.13"
  },
  "nbTranslate": {
   "displayLangs": [
    "*"
   ],
   "hotkey": "alt-t",
   "langInMainMenu": true,
   "sourceLang": "en",
   "targetLang": "fr",
   "useGoogleTranslate": true
  },
  "toc": {
   "base_numbering": 1,
   "nav_menu": {},
   "number_sections": true,
   "sideBar": true,
   "skip_h1_title": false,
   "title_cell": "Table of Contents",
   "title_sidebar": "Contents",
   "toc_cell": false,
   "toc_position": {
    "height": "calc(100% - 180px)",
    "left": "10px",
    "top": "150px",
    "width": "380.554px"
   },
   "toc_section_display": true,
   "toc_window_display": true
  },
  "varInspector": {
   "cols": {
    "lenName": 16,
    "lenType": 16,
    "lenVar": 40
   },
   "kernels_config": {
    "python": {
     "delete_cmd_postfix": "",
     "delete_cmd_prefix": "del ",
     "library": "var_list.py",
     "varRefreshCmd": "print(var_dic_list())"
    },
    "r": {
     "delete_cmd_postfix": ") ",
     "delete_cmd_prefix": "rm(",
     "library": "var_list.r",
     "varRefreshCmd": "cat(var_dic_list()) "
    }
   },
   "types_to_exclude": [
    "module",
    "function",
    "builtin_function_or_method",
    "instance",
    "_Feature"
   ],
   "window_display": false
  }
 },
 "nbformat": 4,
 "nbformat_minor": 5
}
