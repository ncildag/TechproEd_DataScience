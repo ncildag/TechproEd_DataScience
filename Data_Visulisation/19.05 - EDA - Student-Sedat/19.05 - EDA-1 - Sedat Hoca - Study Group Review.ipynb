{
 "cells": [
  {
   "cell_type": "markdown",
   "id": "6e672b65-f79f-435b-b51b-ea9a13b5619c",
   "metadata": {},
   "source": [
    "\n",
    "## <p style=\"background-color:#9d4f8c; font-family:newtimeroman; color:#FFF9ED; font-size:175%; text-align:center; border-radius:10px 10px;\">Reading HTML, EXCEL, CSV tables and SQL Connection  as Pandas Dataframe </p>"
   ]
  },
  {
   "cell_type": "markdown",
   "id": "a849e78e",
   "metadata": {
    "ExecuteTime": {
     "end_time": "2023-05-20T06:36:56.208398Z",
     "start_time": "2023-05-20T06:36:56.186459Z"
    }
   },
   "source": [
    "### Creation of fancy table of contents which contains links to section of doc:\n",
    "\n",
    "1. Use \"the a tag <a class=\"anchor\" id=\"2\"></a>\" after the header which is created in markdown.\n",
    "2. Use \"s1. [CSV Read](#2)\" structure in table of contents."
   ]
  },
  {
   "attachments": {
    "image.png": {
     "image/png": "[encoded data removed]"
    }
   },
   "cell_type": "markdown",
   "id": "36d064c4",
   "metadata": {},
   "source": [
    "![image.png](attachment:image.png)"
   ]
  },
  {
   "cell_type": "markdown",
   "id": "96d2cb83-4fcc-462c-a268-4a7f93634703",
   "metadata": {},
   "source": [
    "# **Table of Contents**\n",
    "\n",
    "1. [Import Library](#1)\n",
    "1. [CSV Read](#2)\n",
    "1. [CSV Output](#3)\n",
    "1. [Excel Input](#4)"
   ]
  },
  {
   "cell_type": "markdown",
   "id": "c8a22ae9-7f88-40b2-addf-028dc30809a6",
   "metadata": {},
   "source": [
    "---\n",
    "# 📤 **Import Library** <a class=\"anchor\" id=\"1\"></a>\n",
    "---"
   ]
  },
  {
   "cell_type": "code",
   "execution_count": 16,
   "id": "e1c78828-b64e-496e-a6ba-50870fc419a9",
   "metadata": {
    "ExecuteTime": {
     "end_time": "2023-05-20T07:05:47.461059Z",
     "start_time": "2023-05-20T07:05:47.451083Z"
    }
   },
   "outputs": [],
   "source": [
    "import pandas as pd\n",
    "import numpy as np\n",
    "\n",
    "import warnings\n",
    "warnings.filterwarnings(\"ignore\")\n",
    "warnings.warn(\"this will not show\")"
   ]
  },
  {
   "cell_type": "markdown",
   "id": "68937249-874e-4226-b42e-21772c81afa0",
   "metadata": {},
   "source": [
    "---\n",
    "# 💾 **CSV Read** <a class=\"anchor\" id=\"2\"></a>\n",
    "---"
   ]
  },
  {
   "cell_type": "code",
   "execution_count": 17,
   "id": "68732702",
   "metadata": {
    "ExecuteTime": {
     "end_time": "2023-05-20T07:05:53.186627Z",
     "start_time": "2023-05-20T07:05:53.169709Z"
    }
   },
   "outputs": [
    {
     "data": {
      "text/html": [
       "<div>\n",
       "<style scoped>\n",
       "    .dataframe tbody tr th:only-of-type {\n",
       "        vertical-align: middle;\n",
       "    }\n",
       "\n",
       "    .dataframe tbody tr th {\n",
       "        vertical-align: top;\n",
       "    }\n",
       "\n",
       "    .dataframe thead th {\n",
       "        text-align: right;\n",
       "    }\n",
       "</style>\n",
       "<table border=\"1\" class=\"dataframe\">\n",
       "  <thead>\n",
       "    <tr style=\"text-align: right;\">\n",
       "      <th></th>\n",
       "      <th>name</th>\n",
       "      <th>age</th>\n",
       "      <th>job</th>\n",
       "    </tr>\n",
       "  </thead>\n",
       "  <tbody>\n",
       "    <tr>\n",
       "      <th>0</th>\n",
       "      <td>Murat</td>\n",
       "      <td>25</td>\n",
       "      <td>data_scintist</td>\n",
       "    </tr>\n",
       "    <tr>\n",
       "      <th>1</th>\n",
       "      <td>Hande</td>\n",
       "      <td>28</td>\n",
       "      <td>data_analyst</td>\n",
       "    </tr>\n",
       "    <tr>\n",
       "      <th>2</th>\n",
       "      <td>Ezgi</td>\n",
       "      <td>23</td>\n",
       "      <td>Hr</td>\n",
       "    </tr>\n",
       "  </tbody>\n",
       "</table>\n",
       "</div>"
      ],
      "text/plain": [
       "    name  age            job\n",
       "0  Murat   25  data_scintist\n",
       "1  Hande   28   data_analyst\n",
       "2   Ezgi   23             Hr"
      ]
     },
     "execution_count": 17,
     "metadata": {},
     "output_type": "execute_result"
    }
   ],
   "source": [
    "pd.read_csv(\"sample_comma.csv\")"
   ]
  },
  {
   "cell_type": "code",
   "execution_count": 90,
   "id": "18defe2b-f2d7-4b39-9bf5-219ad5883866",
   "metadata": {
    "ExecuteTime": {
     "end_time": "2023-05-21T12:09:36.110082Z",
     "start_time": "2023-05-21T12:09:35.355602Z"
    }
   },
   "outputs": [
    {
     "data": {
      "text/html": [
       "<div>\n",
       "<style scoped>\n",
       "    .dataframe tbody tr th:only-of-type {\n",
       "        vertical-align: middle;\n",
       "    }\n",
       "\n",
       "    .dataframe tbody tr th {\n",
       "        vertical-align: top;\n",
       "    }\n",
       "\n",
       "    .dataframe thead th {\n",
       "        text-align: right;\n",
       "    }\n",
       "</style>\n",
       "<table border=\"1\" class=\"dataframe\">\n",
       "  <thead>\n",
       "    <tr style=\"text-align: right;\">\n",
       "      <th></th>\n",
       "      <th>name;age;job</th>\n",
       "    </tr>\n",
       "  </thead>\n",
       "  <tbody>\n",
       "    <tr>\n",
       "      <th>0</th>\n",
       "      <td>Murat;25;data_scintist</td>\n",
       "    </tr>\n",
       "    <tr>\n",
       "      <th>1</th>\n",
       "      <td>Hande;28;data_analyst</td>\n",
       "    </tr>\n",
       "    <tr>\n",
       "      <th>2</th>\n",
       "      <td>Ezgi;23;Hr</td>\n",
       "    </tr>\n",
       "  </tbody>\n",
       "</table>\n",
       "</div>"
      ],
      "text/plain": [
       "             name;age;job\n",
       "0  Murat;25;data_scintist\n",
       "1   Hande;28;data_analyst\n",
       "2              Ezgi;23;Hr"
      ]
     },
     "execution_count": 90,
     "metadata": {},
     "output_type": "execute_result"
    }
   ],
   "source": [
    "# CSV dosyamiz comma separated degil de semicolon separated oldugundan \n",
    "#--Noktali virgül ile ayrildigindan separator'u noktali virgul (semi-colon) olarak vermeliyiz.\n",
    "\n",
    "pd.read_csv(\"sample_semicolon.csv\") \n"
   ]
  },
  {
   "cell_type": "code",
   "execution_count": 19,
   "id": "db0a0f4b",
   "metadata": {
    "ExecuteTime": {
     "end_time": "2023-05-20T07:06:45.900355Z",
     "start_time": "2023-05-20T07:06:45.873428Z"
    }
   },
   "outputs": [
    {
     "data": {
      "text/html": [
       "<div>\n",
       "<style scoped>\n",
       "    .dataframe tbody tr th:only-of-type {\n",
       "        vertical-align: middle;\n",
       "    }\n",
       "\n",
       "    .dataframe tbody tr th {\n",
       "        vertical-align: top;\n",
       "    }\n",
       "\n",
       "    .dataframe thead th {\n",
       "        text-align: right;\n",
       "    }\n",
       "</style>\n",
       "<table border=\"1\" class=\"dataframe\">\n",
       "  <thead>\n",
       "    <tr style=\"text-align: right;\">\n",
       "      <th></th>\n",
       "      <th>name</th>\n",
       "      <th>age</th>\n",
       "      <th>job</th>\n",
       "    </tr>\n",
       "  </thead>\n",
       "  <tbody>\n",
       "    <tr>\n",
       "      <th>0</th>\n",
       "      <td>Murat</td>\n",
       "      <td>25</td>\n",
       "      <td>data_scintist</td>\n",
       "    </tr>\n",
       "    <tr>\n",
       "      <th>1</th>\n",
       "      <td>Hande</td>\n",
       "      <td>28</td>\n",
       "      <td>data_analyst</td>\n",
       "    </tr>\n",
       "    <tr>\n",
       "      <th>2</th>\n",
       "      <td>Ezgi</td>\n",
       "      <td>23</td>\n",
       "      <td>Hr</td>\n",
       "    </tr>\n",
       "  </tbody>\n",
       "</table>\n",
       "</div>"
      ],
      "text/plain": [
       "    name  age            job\n",
       "0  Murat   25  data_scintist\n",
       "1  Hande   28   data_analyst\n",
       "2   Ezgi   23             Hr"
      ]
     },
     "execution_count": 19,
     "metadata": {},
     "output_type": "execute_result"
    }
   ],
   "source": [
    "pd.read_csv(\"sample_semicolon.csv\", sep=\";\")"
   ]
  },
  {
   "cell_type": "code",
   "execution_count": 91,
   "id": "35a53756",
   "metadata": {
    "ExecuteTime": {
     "end_time": "2023-05-21T12:10:55.779902Z",
     "start_time": "2023-05-21T12:10:55.698454Z"
    }
   },
   "outputs": [
    {
     "data": {
      "text/html": [
       "<div>\n",
       "<style scoped>\n",
       "    .dataframe tbody tr th:only-of-type {\n",
       "        vertical-align: middle;\n",
       "    }\n",
       "\n",
       "    .dataframe tbody tr th {\n",
       "        vertical-align: top;\n",
       "    }\n",
       "\n",
       "    .dataframe thead th {\n",
       "        text-align: right;\n",
       "    }\n",
       "</style>\n",
       "<table border=\"1\" class=\"dataframe\">\n",
       "  <thead>\n",
       "    <tr style=\"text-align: right;\">\n",
       "      <th></th>\n",
       "      <th>age</th>\n",
       "      <th>job</th>\n",
       "    </tr>\n",
       "    <tr>\n",
       "      <th>name</th>\n",
       "      <th></th>\n",
       "      <th></th>\n",
       "    </tr>\n",
       "  </thead>\n",
       "  <tbody>\n",
       "    <tr>\n",
       "      <th>Murat</th>\n",
       "      <td>25</td>\n",
       "      <td>data_scintist</td>\n",
       "    </tr>\n",
       "    <tr>\n",
       "      <th>Hande</th>\n",
       "      <td>28</td>\n",
       "      <td>data_analyst</td>\n",
       "    </tr>\n",
       "    <tr>\n",
       "      <th>Ezgi</th>\n",
       "      <td>23</td>\n",
       "      <td>Hr</td>\n",
       "    </tr>\n",
       "  </tbody>\n",
       "</table>\n",
       "</div>"
      ],
      "text/plain": [
       "       age            job\n",
       "name                     \n",
       "Murat   25  data_scintist\n",
       "Hande   28   data_analyst\n",
       "Ezgi    23             Hr"
      ]
     },
     "execution_count": 91,
     "metadata": {},
     "output_type": "execute_result"
    }
   ],
   "source": [
    "# 0'inci sutun index olarak kullanilsin.\n",
    "\n",
    "pd.read_csv(\"sample_semicolon.csv\", sep=\";\", index_col=0)"
   ]
  },
  {
   "cell_type": "code",
   "execution_count": 92,
   "id": "d609bfa0",
   "metadata": {
    "ExecuteTime": {
     "end_time": "2023-05-21T12:12:29.891729Z",
     "start_time": "2023-05-21T12:12:29.853016Z"
    },
    "scrolled": true
   },
   "outputs": [
    {
     "data": {
      "text/html": [
       "<div>\n",
       "<style scoped>\n",
       "    .dataframe tbody tr th:only-of-type {\n",
       "        vertical-align: middle;\n",
       "    }\n",
       "\n",
       "    .dataframe tbody tr th {\n",
       "        vertical-align: top;\n",
       "    }\n",
       "\n",
       "    .dataframe thead th {\n",
       "        text-align: right;\n",
       "    }\n",
       "</style>\n",
       "<table border=\"1\" class=\"dataframe\">\n",
       "  <thead>\n",
       "    <tr style=\"text-align: right;\">\n",
       "      <th></th>\n",
       "      <th>name\\tage\\tjob</th>\n",
       "    </tr>\n",
       "  </thead>\n",
       "  <tbody>\n",
       "    <tr>\n",
       "      <th>0</th>\n",
       "      <td>Murat\\t25\\tdata_scintist</td>\n",
       "    </tr>\n",
       "    <tr>\n",
       "      <th>1</th>\n",
       "      <td>Hande\\t28\\tdata_analyst</td>\n",
       "    </tr>\n",
       "    <tr>\n",
       "      <th>2</th>\n",
       "      <td>Ezgi\\t23\\tHr</td>\n",
       "    </tr>\n",
       "  </tbody>\n",
       "</table>\n",
       "</div>"
      ],
      "text/plain": [
       "             name\\tage\\tjob\n",
       "0  Murat\\t25\\tdata_scintist\n",
       "1   Hande\\t28\\tdata_analyst\n",
       "2              Ezgi\\t23\\tHr"
      ]
     },
     "execution_count": 92,
     "metadata": {},
     "output_type": "execute_result"
    }
   ],
   "source": [
    "#Yukarida comma separated, semi-colon separated dosya tiplerini görmüstuk.\n",
    "# Bir de Tab separated dosya tipi var.\n",
    "# Dikkat!!! Ücününde uzantisi csv(comma separated values).\n",
    "\n",
    "pd.read_csv(\"sample_tab.csv\")"
   ]
  },
  {
   "cell_type": "code",
   "execution_count": 93,
   "id": "9d95aeae",
   "metadata": {
    "ExecuteTime": {
     "end_time": "2023-05-21T12:12:47.720952Z",
     "start_time": "2023-05-21T12:12:47.671363Z"
    }
   },
   "outputs": [
    {
     "data": {
      "text/html": [
       "<div>\n",
       "<style scoped>\n",
       "    .dataframe tbody tr th:only-of-type {\n",
       "        vertical-align: middle;\n",
       "    }\n",
       "\n",
       "    .dataframe tbody tr th {\n",
       "        vertical-align: top;\n",
       "    }\n",
       "\n",
       "    .dataframe thead th {\n",
       "        text-align: right;\n",
       "    }\n",
       "</style>\n",
       "<table border=\"1\" class=\"dataframe\">\n",
       "  <thead>\n",
       "    <tr style=\"text-align: right;\">\n",
       "      <th></th>\n",
       "      <th>name</th>\n",
       "      <th>age</th>\n",
       "      <th>job</th>\n",
       "    </tr>\n",
       "  </thead>\n",
       "  <tbody>\n",
       "    <tr>\n",
       "      <th>0</th>\n",
       "      <td>Murat</td>\n",
       "      <td>25</td>\n",
       "      <td>data_scintist</td>\n",
       "    </tr>\n",
       "    <tr>\n",
       "      <th>1</th>\n",
       "      <td>Hande</td>\n",
       "      <td>28</td>\n",
       "      <td>data_analyst</td>\n",
       "    </tr>\n",
       "    <tr>\n",
       "      <th>2</th>\n",
       "      <td>Ezgi</td>\n",
       "      <td>23</td>\n",
       "      <td>Hr</td>\n",
       "    </tr>\n",
       "  </tbody>\n",
       "</table>\n",
       "</div>"
      ],
      "text/plain": [
       "    name  age            job\n",
       "0  Murat   25  data_scintist\n",
       "1  Hande   28   data_analyst\n",
       "2   Ezgi   23             Hr"
      ]
     },
     "execution_count": 93,
     "metadata": {},
     "output_type": "execute_result"
    }
   ],
   "source": [
    "pd.read_csv(\"sample_tab.csv\", sep=\"\\t\") #Separator tab olarak verilmeli."
   ]
  },
  {
   "cell_type": "code",
   "execution_count": 94,
   "id": "04f84d88",
   "metadata": {
    "ExecuteTime": {
     "end_time": "2023-05-21T12:13:20.945121Z",
     "start_time": "2023-05-21T12:13:20.912078Z"
    }
   },
   "outputs": [
    {
     "data": {
      "text/html": [
       "<div>\n",
       "<style scoped>\n",
       "    .dataframe tbody tr th:only-of-type {\n",
       "        vertical-align: middle;\n",
       "    }\n",
       "\n",
       "    .dataframe tbody tr th {\n",
       "        vertical-align: top;\n",
       "    }\n",
       "\n",
       "    .dataframe thead th {\n",
       "        text-align: right;\n",
       "    }\n",
       "</style>\n",
       "<table border=\"1\" class=\"dataframe\">\n",
       "  <thead>\n",
       "    <tr style=\"text-align: right;\">\n",
       "      <th></th>\n",
       "      <th>name</th>\n",
       "      <th>age</th>\n",
       "      <th>job</th>\n",
       "    </tr>\n",
       "  </thead>\n",
       "  <tbody>\n",
       "    <tr>\n",
       "      <th>0</th>\n",
       "      <td>name</td>\n",
       "      <td>age</td>\n",
       "      <td>job</td>\n",
       "    </tr>\n",
       "    <tr>\n",
       "      <th>1</th>\n",
       "      <td>Murat</td>\n",
       "      <td>yirmibes</td>\n",
       "      <td>data_scintist</td>\n",
       "    </tr>\n",
       "    <tr>\n",
       "      <th>2</th>\n",
       "      <td>Hande</td>\n",
       "      <td>28</td>\n",
       "      <td>data_analyst</td>\n",
       "    </tr>\n",
       "    <tr>\n",
       "      <th>3</th>\n",
       "      <td>Ezgi</td>\n",
       "      <td>23</td>\n",
       "      <td>Hr</td>\n",
       "    </tr>\n",
       "  </tbody>\n",
       "</table>\n",
       "</div>"
      ],
      "text/plain": [
       "    name       age            job\n",
       "0   name       age            job\n",
       "1  Murat  yirmibes  data_scintist\n",
       "2  Hande        28   data_analyst\n",
       "3   Ezgi        23             Hr"
      ]
     },
     "execution_count": 94,
     "metadata": {},
     "output_type": "execute_result"
    }
   ],
   "source": [
    "pd.read_csv(\"sample_unwanted.csv\") #Tekrar normal csv dosyamiza odaklaniyoruz. Ilk satir header olmali."
   ]
  },
  {
   "cell_type": "code",
   "execution_count": 99,
   "id": "dc111615",
   "metadata": {
    "ExecuteTime": {
     "end_time": "2023-05-21T12:16:35.443957Z",
     "start_time": "2023-05-21T12:16:35.424010Z"
    }
   },
   "outputs": [],
   "source": [
    "#Make the first row header"
   ]
  },
  {
   "cell_type": "code",
   "execution_count": 95,
   "id": "f72569ce",
   "metadata": {
    "ExecuteTime": {
     "end_time": "2023-05-21T12:14:24.311471Z",
     "start_time": "2023-05-21T12:14:24.280456Z"
    }
   },
   "outputs": [],
   "source": [
    "#pd.read_csv(\"sample_unwanted.csv\", header=1) \n",
    "#1.satiri header olarak kullanmis olduk. Header = 1. Satir \n",
    "# Fakat numaralar index olarak calismaz direk 1'den baslar. (Normalde header olan satirin index'i 0 fakat burda direk row number-satir numarasi esas alinmis oldu.)"
   ]
  },
  {
   "cell_type": "code",
   "execution_count": 100,
   "id": "e8ebe6c1",
   "metadata": {
    "ExecuteTime": {
     "end_time": "2023-05-21T12:16:55.073902Z",
     "start_time": "2023-05-21T12:16:55.059422Z"
    }
   },
   "outputs": [],
   "source": [
    "#Make the second row header of the table"
   ]
  },
  {
   "cell_type": "code",
   "execution_count": 96,
   "id": "6e61f578",
   "metadata": {
    "ExecuteTime": {
     "end_time": "2023-05-21T12:14:56.883227Z",
     "start_time": "2023-05-21T12:14:56.824386Z"
    }
   },
   "outputs": [
    {
     "data": {
      "text/html": [
       "<div>\n",
       "<style scoped>\n",
       "    .dataframe tbody tr th:only-of-type {\n",
       "        vertical-align: middle;\n",
       "    }\n",
       "\n",
       "    .dataframe tbody tr th {\n",
       "        vertical-align: top;\n",
       "    }\n",
       "\n",
       "    .dataframe thead th {\n",
       "        text-align: right;\n",
       "    }\n",
       "</style>\n",
       "<table border=\"1\" class=\"dataframe\">\n",
       "  <thead>\n",
       "    <tr style=\"text-align: right;\">\n",
       "      <th></th>\n",
       "      <th>Murat</th>\n",
       "      <th>yirmibes</th>\n",
       "      <th>data_scintist</th>\n",
       "    </tr>\n",
       "  </thead>\n",
       "  <tbody>\n",
       "    <tr>\n",
       "      <th>0</th>\n",
       "      <td>Hande</td>\n",
       "      <td>28</td>\n",
       "      <td>data_analyst</td>\n",
       "    </tr>\n",
       "    <tr>\n",
       "      <th>1</th>\n",
       "      <td>Ezgi</td>\n",
       "      <td>23</td>\n",
       "      <td>Hr</td>\n",
       "    </tr>\n",
       "  </tbody>\n",
       "</table>\n",
       "</div>"
      ],
      "text/plain": [
       "   Murat  yirmibes data_scintist\n",
       "0  Hande        28  data_analyst\n",
       "1   Ezgi        23            Hr"
      ]
     },
     "execution_count": 96,
     "metadata": {},
     "output_type": "execute_result"
    }
   ],
   "source": [
    "pd.read_csv(\"sample_unwanted.csv\", header=2)"
   ]
  },
  {
   "cell_type": "code",
   "execution_count": 97,
   "id": "1bb50030",
   "metadata": {
    "ExecuteTime": {
     "end_time": "2023-05-21T12:15:25.670653Z",
     "start_time": "2023-05-21T12:15:25.627389Z"
    }
   },
   "outputs": [
    {
     "data": {
      "text/html": [
       "<div>\n",
       "<style scoped>\n",
       "    .dataframe tbody tr th:only-of-type {\n",
       "        vertical-align: middle;\n",
       "    }\n",
       "\n",
       "    .dataframe tbody tr th {\n",
       "        vertical-align: top;\n",
       "    }\n",
       "\n",
       "    .dataframe thead th {\n",
       "        text-align: right;\n",
       "    }\n",
       "</style>\n",
       "<table border=\"1\" class=\"dataframe\">\n",
       "  <thead>\n",
       "    <tr style=\"text-align: right;\">\n",
       "      <th></th>\n",
       "      <th>name</th>\n",
       "      <th>age</th>\n",
       "      <th>job</th>\n",
       "    </tr>\n",
       "  </thead>\n",
       "  <tbody>\n",
       "    <tr>\n",
       "      <th>0</th>\n",
       "      <td>name</td>\n",
       "      <td>age</td>\n",
       "      <td>job</td>\n",
       "    </tr>\n",
       "    <tr>\n",
       "      <th>1</th>\n",
       "      <td>Murat</td>\n",
       "      <td>yirmibes</td>\n",
       "      <td>data_scintist</td>\n",
       "    </tr>\n",
       "    <tr>\n",
       "      <th>2</th>\n",
       "      <td>Hande</td>\n",
       "      <td>28</td>\n",
       "      <td>data_analyst</td>\n",
       "    </tr>\n",
       "    <tr>\n",
       "      <th>3</th>\n",
       "      <td>Ezgi</td>\n",
       "      <td>23</td>\n",
       "      <td>Hr</td>\n",
       "    </tr>\n",
       "  </tbody>\n",
       "</table>\n",
       "</div>"
      ],
      "text/plain": [
       "    name       age            job\n",
       "0   name       age            job\n",
       "1  Murat  yirmibes  data_scintist\n",
       "2  Hande        28   data_analyst\n",
       "3   Ezgi        23             Hr"
      ]
     },
     "execution_count": 97,
     "metadata": {},
     "output_type": "execute_result"
    }
   ],
   "source": [
    "pd.read_csv(\"sample_unwanted.csv\") # Age sutununda \"yirmibes\" degeri var ve bu diger integer lar ile uyumlu degil"
   ]
  },
  {
   "cell_type": "code",
   "execution_count": 98,
   "id": "e889b267",
   "metadata": {
    "ExecuteTime": {
     "end_time": "2023-05-21T12:16:02.452674Z",
     "start_time": "2023-05-21T12:16:02.404803Z"
    }
   },
   "outputs": [
    {
     "data": {
      "text/html": [
       "<div>\n",
       "<style scoped>\n",
       "    .dataframe tbody tr th:only-of-type {\n",
       "        vertical-align: middle;\n",
       "    }\n",
       "\n",
       "    .dataframe tbody tr th {\n",
       "        vertical-align: top;\n",
       "    }\n",
       "\n",
       "    .dataframe thead th {\n",
       "        text-align: right;\n",
       "    }\n",
       "</style>\n",
       "<table border=\"1\" class=\"dataframe\">\n",
       "  <thead>\n",
       "    <tr style=\"text-align: right;\">\n",
       "      <th></th>\n",
       "      <th>name</th>\n",
       "      <th>age</th>\n",
       "      <th>job</th>\n",
       "    </tr>\n",
       "  </thead>\n",
       "  <tbody>\n",
       "    <tr>\n",
       "      <th>0</th>\n",
       "      <td>Murat</td>\n",
       "      <td>NaN</td>\n",
       "      <td>data_scintist</td>\n",
       "    </tr>\n",
       "    <tr>\n",
       "      <th>1</th>\n",
       "      <td>Hande</td>\n",
       "      <td>28.0</td>\n",
       "      <td>data_analyst</td>\n",
       "    </tr>\n",
       "    <tr>\n",
       "      <th>2</th>\n",
       "      <td>Ezgi</td>\n",
       "      <td>23.0</td>\n",
       "      <td>Hr</td>\n",
       "    </tr>\n",
       "  </tbody>\n",
       "</table>\n",
       "</div>"
      ],
      "text/plain": [
       "    name   age            job\n",
       "0  Murat   NaN  data_scintist\n",
       "1  Hande  28.0   data_analyst\n",
       "2   Ezgi  23.0             Hr"
      ]
     },
     "execution_count": 98,
     "metadata": {},
     "output_type": "execute_result"
    }
   ],
   "source": [
    "pd.read_csv(\"sample_unwanted.csv\", na_values=\"yirmibes\", header=1) # \"Yirmibes\" NaN olarak degismis oldu. Ileride cleaning yaparken NaN degerleri ile zaten ugrasilacak."
   ]
  },
  {
   "cell_type": "markdown",
   "id": "8483d415-f6bd-4399-8d61-66209686c1b1",
   "metadata": {},
   "source": [
    "\n",
    "---\n",
    "#  **CSV Output** <a class=\"anchor\" id=\"3\"></a>\n",
    "---\n",
    "\n",
    "\n",
    "\n"
   ]
  },
  {
   "cell_type": "code",
   "execution_count": 36,
   "id": "1d12b834-3547-4569-a2dc-fbd9c33579fb",
   "metadata": {
    "ExecuteTime": {
     "end_time": "2023-05-20T07:19:01.226692Z",
     "start_time": "2023-05-20T07:19:01.191784Z"
    }
   },
   "outputs": [
    {
     "data": {
      "text/html": [
       "<div>\n",
       "<style scoped>\n",
       "    .dataframe tbody tr th:only-of-type {\n",
       "        vertical-align: middle;\n",
       "    }\n",
       "\n",
       "    .dataframe tbody tr th {\n",
       "        vertical-align: top;\n",
       "    }\n",
       "\n",
       "    .dataframe thead th {\n",
       "        text-align: right;\n",
       "    }\n",
       "</style>\n",
       "<table border=\"1\" class=\"dataframe\">\n",
       "  <thead>\n",
       "    <tr style=\"text-align: right;\">\n",
       "      <th></th>\n",
       "      <th>name</th>\n",
       "      <th>age</th>\n",
       "      <th>job</th>\n",
       "    </tr>\n",
       "  </thead>\n",
       "  <tbody>\n",
       "    <tr>\n",
       "      <th>0</th>\n",
       "      <td>Murat</td>\n",
       "      <td>NaN</td>\n",
       "      <td>data_scintist</td>\n",
       "    </tr>\n",
       "    <tr>\n",
       "      <th>1</th>\n",
       "      <td>Hande</td>\n",
       "      <td>28.0</td>\n",
       "      <td>data_analyst</td>\n",
       "    </tr>\n",
       "    <tr>\n",
       "      <th>2</th>\n",
       "      <td>Ezgi</td>\n",
       "      <td>23.0</td>\n",
       "      <td>Hr</td>\n",
       "    </tr>\n",
       "  </tbody>\n",
       "</table>\n",
       "</div>"
      ],
      "text/plain": [
       "    name   age            job\n",
       "0  Murat   NaN  data_scintist\n",
       "1  Hande  28.0   data_analyst\n",
       "2   Ezgi  23.0             Hr"
      ]
     },
     "execution_count": 36,
     "metadata": {},
     "output_type": "execute_result"
    }
   ],
   "source": [
    "df = pd.read_csv(\"sample_unwanted.csv\", na_values=\"yirmibes\", header=1)\n",
    "df"
   ]
  },
  {
   "cell_type": "code",
   "execution_count": 37,
   "id": "7023248f",
   "metadata": {
    "ExecuteTime": {
     "end_time": "2023-05-20T07:19:23.922751Z",
     "start_time": "2023-05-20T07:19:23.889838Z"
    }
   },
   "outputs": [],
   "source": [
    "df.to_csv(\"final.csv\") # Save as a new .csv file"
   ]
  },
  {
   "cell_type": "code",
   "execution_count": 38,
   "id": "a3368d5a",
   "metadata": {
    "ExecuteTime": {
     "end_time": "2023-05-20T07:19:31.803647Z",
     "start_time": "2023-05-20T07:19:31.767746Z"
    }
   },
   "outputs": [
    {
     "data": {
      "text/html": [
       "<div>\n",
       "<style scoped>\n",
       "    .dataframe tbody tr th:only-of-type {\n",
       "        vertical-align: middle;\n",
       "    }\n",
       "\n",
       "    .dataframe tbody tr th {\n",
       "        vertical-align: top;\n",
       "    }\n",
       "\n",
       "    .dataframe thead th {\n",
       "        text-align: right;\n",
       "    }\n",
       "</style>\n",
       "<table border=\"1\" class=\"dataframe\">\n",
       "  <thead>\n",
       "    <tr style=\"text-align: right;\">\n",
       "      <th></th>\n",
       "      <th>Unnamed: 0</th>\n",
       "      <th>name</th>\n",
       "      <th>age</th>\n",
       "      <th>job</th>\n",
       "    </tr>\n",
       "  </thead>\n",
       "  <tbody>\n",
       "    <tr>\n",
       "      <th>0</th>\n",
       "      <td>0</td>\n",
       "      <td>Murat</td>\n",
       "      <td>NaN</td>\n",
       "      <td>data_scintist</td>\n",
       "    </tr>\n",
       "    <tr>\n",
       "      <th>1</th>\n",
       "      <td>1</td>\n",
       "      <td>Hande</td>\n",
       "      <td>28.0</td>\n",
       "      <td>data_analyst</td>\n",
       "    </tr>\n",
       "    <tr>\n",
       "      <th>2</th>\n",
       "      <td>2</td>\n",
       "      <td>Ezgi</td>\n",
       "      <td>23.0</td>\n",
       "      <td>Hr</td>\n",
       "    </tr>\n",
       "  </tbody>\n",
       "</table>\n",
       "</div>"
      ],
      "text/plain": [
       "   Unnamed: 0   name   age            job\n",
       "0           0  Murat   NaN  data_scintist\n",
       "1           1  Hande  28.0   data_analyst\n",
       "2           2   Ezgi  23.0             Hr"
      ]
     },
     "execution_count": 38,
     "metadata": {},
     "output_type": "execute_result"
    }
   ],
   "source": [
    "pd.read_csv(\"final.csv\")"
   ]
  },
  {
   "cell_type": "code",
   "execution_count": 101,
   "id": "3d6e9f82",
   "metadata": {
    "ExecuteTime": {
     "end_time": "2023-05-21T12:17:46.651659Z",
     "start_time": "2023-05-21T12:17:46.567325Z"
    }
   },
   "outputs": [],
   "source": [
    "df.to_csv(\"final.nonindex.csv\", index = False) #Index'im olmasin diyoruz. Unnamed:0 sutunu haric tutulacak."
   ]
  },
  {
   "cell_type": "code",
   "execution_count": 40,
   "id": "7cfe4184",
   "metadata": {
    "ExecuteTime": {
     "end_time": "2023-05-20T07:20:13.481991Z",
     "start_time": "2023-05-20T07:20:13.439110Z"
    }
   },
   "outputs": [
    {
     "data": {
      "text/html": [
       "<div>\n",
       "<style scoped>\n",
       "    .dataframe tbody tr th:only-of-type {\n",
       "        vertical-align: middle;\n",
       "    }\n",
       "\n",
       "    .dataframe tbody tr th {\n",
       "        vertical-align: top;\n",
       "    }\n",
       "\n",
       "    .dataframe thead th {\n",
       "        text-align: right;\n",
       "    }\n",
       "</style>\n",
       "<table border=\"1\" class=\"dataframe\">\n",
       "  <thead>\n",
       "    <tr style=\"text-align: right;\">\n",
       "      <th></th>\n",
       "      <th>name</th>\n",
       "      <th>age</th>\n",
       "      <th>job</th>\n",
       "    </tr>\n",
       "  </thead>\n",
       "  <tbody>\n",
       "    <tr>\n",
       "      <th>0</th>\n",
       "      <td>Murat</td>\n",
       "      <td>NaN</td>\n",
       "      <td>data_scintist</td>\n",
       "    </tr>\n",
       "    <tr>\n",
       "      <th>1</th>\n",
       "      <td>Hande</td>\n",
       "      <td>28.0</td>\n",
       "      <td>data_analyst</td>\n",
       "    </tr>\n",
       "    <tr>\n",
       "      <th>2</th>\n",
       "      <td>Ezgi</td>\n",
       "      <td>23.0</td>\n",
       "      <td>Hr</td>\n",
       "    </tr>\n",
       "  </tbody>\n",
       "</table>\n",
       "</div>"
      ],
      "text/plain": [
       "    name   age            job\n",
       "0  Murat   NaN  data_scintist\n",
       "1  Hande  28.0   data_analyst\n",
       "2   Ezgi  23.0             Hr"
      ]
     },
     "execution_count": 40,
     "metadata": {},
     "output_type": "execute_result"
    }
   ],
   "source": [
    "pd.read_csv(\"final.nonindex.csv\")"
   ]
  },
  {
   "cell_type": "markdown",
   "id": "65453885-19d3-4845-a581-bac4a8b3fa19",
   "metadata": {},
   "source": [
    "---\n",
    "# 💾 **Excel Input** <a class=\"anchor\" id=\"4\"></a>\n",
    "---"
   ]
  },
  {
   "cell_type": "code",
   "execution_count": 41,
   "id": "40ff66fe",
   "metadata": {
    "ExecuteTime": {
     "end_time": "2023-05-20T07:21:28.353685Z",
     "start_time": "2023-05-20T07:21:17.701227Z"
    }
   },
   "outputs": [
    {
     "name": "stdout",
     "output_type": "stream",
     "text": [
      "Requirement already satisfied: openpyxl in c:\\users\\user\\anaconda3\\lib\\site-packages (3.0.10)\n",
      "Requirement already satisfied: et_xmlfile in c:\\users\\user\\anaconda3\\lib\\site-packages (from openpyxl) (1.1.0)\n"
     ]
    }
   ],
   "source": [
    "!pip install openpyxl"
   ]
  },
  {
   "cell_type": "code",
   "execution_count": 102,
   "id": "fd8ea3e9",
   "metadata": {
    "ExecuteTime": {
     "end_time": "2023-05-21T12:18:40.103954Z",
     "start_time": "2023-05-21T12:18:39.851018Z"
    }
   },
   "outputs": [
    {
     "data": {
      "text/html": [
       "<div>\n",
       "<style scoped>\n",
       "    .dataframe tbody tr th:only-of-type {\n",
       "        vertical-align: middle;\n",
       "    }\n",
       "\n",
       "    .dataframe tbody tr th {\n",
       "        vertical-align: top;\n",
       "    }\n",
       "\n",
       "    .dataframe thead th {\n",
       "        text-align: right;\n",
       "    }\n",
       "</style>\n",
       "<table border=\"1\" class=\"dataframe\">\n",
       "  <thead>\n",
       "    <tr style=\"text-align: right;\">\n",
       "      <th></th>\n",
       "      <th>a</th>\n",
       "      <th>b</th>\n",
       "      <th>c</th>\n",
       "      <th>d</th>\n",
       "    </tr>\n",
       "  </thead>\n",
       "  <tbody>\n",
       "    <tr>\n",
       "      <th>0</th>\n",
       "      <td>1</td>\n",
       "      <td>8</td>\n",
       "      <td>15</td>\n",
       "      <td>3</td>\n",
       "    </tr>\n",
       "    <tr>\n",
       "      <th>1</th>\n",
       "      <td>2</td>\n",
       "      <td>9</td>\n",
       "      <td>227</td>\n",
       "      <td>11</td>\n",
       "    </tr>\n",
       "    <tr>\n",
       "      <th>2</th>\n",
       "      <td>32</td>\n",
       "      <td>52</td>\n",
       "      <td>125</td>\n",
       "      <td>5</td>\n",
       "    </tr>\n",
       "    <tr>\n",
       "      <th>3</th>\n",
       "      <td>4</td>\n",
       "      <td>15</td>\n",
       "      <td>3</td>\n",
       "      <td>1</td>\n",
       "    </tr>\n",
       "  </tbody>\n",
       "</table>\n",
       "</div>"
      ],
      "text/plain": [
       "    a   b    c   d\n",
       "0   1   8   15   3\n",
       "1   2   9  227  11\n",
       "2  32  52  125   5\n",
       "3   4  15    3   1"
      ]
     },
     "execution_count": 102,
     "metadata": {},
     "output_type": "execute_result"
    }
   ],
   "source": [
    "pd.read_excel(\"sample_excel_1.xlsx\") #Dikkat!! Burasi eger birden fazla worksheet var ise ilk worksheet'i getirir."
   ]
  },
  {
   "cell_type": "code",
   "execution_count": 103,
   "id": "efd5b0ad",
   "metadata": {
    "ExecuteTime": {
     "end_time": "2023-05-21T12:18:42.917387Z",
     "start_time": "2023-05-21T12:18:42.872508Z"
    }
   },
   "outputs": [
    {
     "data": {
      "text/html": [
       "<div>\n",
       "<style scoped>\n",
       "    .dataframe tbody tr th:only-of-type {\n",
       "        vertical-align: middle;\n",
       "    }\n",
       "\n",
       "    .dataframe tbody tr th {\n",
       "        vertical-align: top;\n",
       "    }\n",
       "\n",
       "    .dataframe thead th {\n",
       "        text-align: right;\n",
       "    }\n",
       "</style>\n",
       "<table border=\"1\" class=\"dataframe\">\n",
       "  <thead>\n",
       "    <tr style=\"text-align: right;\">\n",
       "      <th></th>\n",
       "      <th>a</th>\n",
       "      <th>b</th>\n",
       "      <th>c</th>\n",
       "      <th>d</th>\n",
       "    </tr>\n",
       "  </thead>\n",
       "  <tbody>\n",
       "    <tr>\n",
       "      <th>0</th>\n",
       "      <td>1</td>\n",
       "      <td>8</td>\n",
       "      <td>15</td>\n",
       "      <td>3</td>\n",
       "    </tr>\n",
       "    <tr>\n",
       "      <th>1</th>\n",
       "      <td>2</td>\n",
       "      <td>9</td>\n",
       "      <td>227</td>\n",
       "      <td>11</td>\n",
       "    </tr>\n",
       "    <tr>\n",
       "      <th>2</th>\n",
       "      <td>32</td>\n",
       "      <td>52</td>\n",
       "      <td>125</td>\n",
       "      <td>5</td>\n",
       "    </tr>\n",
       "    <tr>\n",
       "      <th>3</th>\n",
       "      <td>4</td>\n",
       "      <td>15</td>\n",
       "      <td>3</td>\n",
       "      <td>1</td>\n",
       "    </tr>\n",
       "  </tbody>\n",
       "</table>\n",
       "</div>"
      ],
      "text/plain": [
       "    a   b    c   d\n",
       "0   1   8   15   3\n",
       "1   2   9  227  11\n",
       "2  32  52  125   5\n",
       "3   4  15    3   1"
      ]
     },
     "execution_count": 103,
     "metadata": {},
     "output_type": "execute_result"
    }
   ],
   "source": [
    "df_excel_1 = pd.read_excel(\"sample_excel_1.xlsx\", sheet_name=\"Sayfa1\")\n",
    "df_excel_1"
   ]
  },
  {
   "cell_type": "code",
   "execution_count": 142,
   "id": "939e3b42",
   "metadata": {
    "ExecuteTime": {
     "end_time": "2023-05-21T12:53:38.247906Z",
     "start_time": "2023-05-21T12:53:38.200033Z"
    }
   },
   "outputs": [
    {
     "data": {
      "text/html": [
       "<div>\n",
       "<style scoped>\n",
       "    .dataframe tbody tr th:only-of-type {\n",
       "        vertical-align: middle;\n",
       "    }\n",
       "\n",
       "    .dataframe tbody tr th {\n",
       "        vertical-align: top;\n",
       "    }\n",
       "\n",
       "    .dataframe thead th {\n",
       "        text-align: right;\n",
       "    }\n",
       "</style>\n",
       "<table border=\"1\" class=\"dataframe\">\n",
       "  <thead>\n",
       "    <tr style=\"text-align: right;\">\n",
       "      <th></th>\n",
       "      <th>personal</th>\n",
       "      <th>personal.1</th>\n",
       "      <th>general</th>\n",
       "    </tr>\n",
       "    <tr>\n",
       "      <th>0</th>\n",
       "      <th></th>\n",
       "      <th></th>\n",
       "      <th></th>\n",
       "    </tr>\n",
       "  </thead>\n",
       "  <tbody>\n",
       "    <tr>\n",
       "      <th>0</th>\n",
       "      <td>name</td>\n",
       "      <td>age</td>\n",
       "      <td>job</td>\n",
       "    </tr>\n",
       "    <tr>\n",
       "      <th>1</th>\n",
       "      <td>Murat</td>\n",
       "      <td>25</td>\n",
       "      <td>data_scintist</td>\n",
       "    </tr>\n",
       "    <tr>\n",
       "      <th>2</th>\n",
       "      <td>Hande</td>\n",
       "      <td>28</td>\n",
       "      <td>data_analyst</td>\n",
       "    </tr>\n",
       "    <tr>\n",
       "      <th>3</th>\n",
       "      <td>Ezgi</td>\n",
       "      <td>23</td>\n",
       "      <td>Hr</td>\n",
       "    </tr>\n",
       "  </tbody>\n",
       "</table>\n",
       "</div>"
      ],
      "text/plain": [
       "  personal personal.1        general\n",
       "0                                   \n",
       "0     name        age            job\n",
       "1    Murat         25  data_scintist\n",
       "2    Hande         28   data_analyst\n",
       "3     Ezgi         23             Hr"
      ]
     },
     "execution_count": 142,
     "metadata": {},
     "output_type": "execute_result"
    }
   ],
   "source": [
    "df_excel_2 = pd.read_excel(\"sample_excel_1.xlsx\", sheet_name=\"Sayfa2\", index_col=0)\n",
    "df_excel_2"
   ]
  },
  {
   "cell_type": "code",
   "execution_count": 143,
   "id": "7fa94cc1",
   "metadata": {
    "ExecuteTime": {
     "end_time": "2023-05-21T12:53:49.748246Z",
     "start_time": "2023-05-21T12:53:49.637764Z"
    }
   },
   "outputs": [
    {
     "data": {
      "text/html": [
       "<div>\n",
       "<style scoped>\n",
       "    .dataframe tbody tr th:only-of-type {\n",
       "        vertical-align: middle;\n",
       "    }\n",
       "\n",
       "    .dataframe tbody tr th {\n",
       "        vertical-align: top;\n",
       "    }\n",
       "\n",
       "    .dataframe thead th {\n",
       "        text-align: right;\n",
       "    }\n",
       "</style>\n",
       "<table border=\"1\" class=\"dataframe\">\n",
       "  <thead>\n",
       "    <tr style=\"text-align: right;\">\n",
       "      <th></th>\n",
       "      <th>0</th>\n",
       "      <th>name</th>\n",
       "      <th>age</th>\n",
       "      <th>job</th>\n",
       "    </tr>\n",
       "  </thead>\n",
       "  <tbody>\n",
       "    <tr>\n",
       "      <th>0</th>\n",
       "      <td>1</td>\n",
       "      <td>Murat</td>\n",
       "      <td>25</td>\n",
       "      <td>data_scintist</td>\n",
       "    </tr>\n",
       "    <tr>\n",
       "      <th>1</th>\n",
       "      <td>2</td>\n",
       "      <td>Hande</td>\n",
       "      <td>28</td>\n",
       "      <td>data_analyst</td>\n",
       "    </tr>\n",
       "    <tr>\n",
       "      <th>2</th>\n",
       "      <td>3</td>\n",
       "      <td>Ezgi</td>\n",
       "      <td>23</td>\n",
       "      <td>Hr</td>\n",
       "    </tr>\n",
       "  </tbody>\n",
       "</table>\n",
       "</div>"
      ],
      "text/plain": [
       "   0   name  age            job\n",
       "0  1  Murat   25  data_scintist\n",
       "1  2  Hande   28   data_analyst\n",
       "2  3   Ezgi   23             Hr"
      ]
     },
     "execution_count": 143,
     "metadata": {},
     "output_type": "execute_result"
    }
   ],
   "source": [
    "df_excel_1 = pd.read_excel(\"sample_excel_1.xlsx\", sheet_name=\"Sayfa2\", header=1)\n",
    "df_excel_1"
   ]
  },
  {
   "cell_type": "code",
   "execution_count": 144,
   "id": "433364b9",
   "metadata": {
    "ExecuteTime": {
     "end_time": "2023-05-21T12:53:55.254073Z",
     "start_time": "2023-05-21T12:53:55.208640Z"
    }
   },
   "outputs": [
    {
     "data": {
      "text/html": [
       "<div>\n",
       "<style scoped>\n",
       "    .dataframe tbody tr th:only-of-type {\n",
       "        vertical-align: middle;\n",
       "    }\n",
       "\n",
       "    .dataframe tbody tr th {\n",
       "        vertical-align: top;\n",
       "    }\n",
       "\n",
       "    .dataframe thead th {\n",
       "        text-align: right;\n",
       "    }\n",
       "</style>\n",
       "<table border=\"1\" class=\"dataframe\">\n",
       "  <thead>\n",
       "    <tr style=\"text-align: right;\">\n",
       "      <th></th>\n",
       "      <th>name</th>\n",
       "      <th>age</th>\n",
       "      <th>job</th>\n",
       "    </tr>\n",
       "    <tr>\n",
       "      <th>0</th>\n",
       "      <th></th>\n",
       "      <th></th>\n",
       "      <th></th>\n",
       "    </tr>\n",
       "  </thead>\n",
       "  <tbody>\n",
       "    <tr>\n",
       "      <th>1</th>\n",
       "      <td>Murat</td>\n",
       "      <td>25</td>\n",
       "      <td>data_scintist</td>\n",
       "    </tr>\n",
       "    <tr>\n",
       "      <th>2</th>\n",
       "      <td>Hande</td>\n",
       "      <td>28</td>\n",
       "      <td>data_analyst</td>\n",
       "    </tr>\n",
       "    <tr>\n",
       "      <th>3</th>\n",
       "      <td>Ezgi</td>\n",
       "      <td>23</td>\n",
       "      <td>Hr</td>\n",
       "    </tr>\n",
       "  </tbody>\n",
       "</table>\n",
       "</div>"
      ],
      "text/plain": [
       "    name  age            job\n",
       "0                           \n",
       "1  Murat   25  data_scintist\n",
       "2  Hande   28   data_analyst\n",
       "3   Ezgi   23             Hr"
      ]
     },
     "execution_count": 144,
     "metadata": {},
     "output_type": "execute_result"
    }
   ],
   "source": [
    "pd.read_excel(\"sample_excel_1.xlsx\", sheet_name=\"Sayfa2\", header=1, index_col=0) #Üstteki 0'in sutun index olsun dedik."
   ]
  },
  {
   "cell_type": "code",
   "execution_count": 145,
   "id": "3646fac8",
   "metadata": {
    "ExecuteTime": {
     "end_time": "2023-05-21T12:53:56.094313Z",
     "start_time": "2023-05-21T12:53:56.048633Z"
    }
   },
   "outputs": [
    {
     "data": {
      "text/plain": [
       "{'Sayfa1':     a   b    c   d\n",
       " 0   1   8   15   3\n",
       " 1   2   9  227  11\n",
       " 2  32  52  125   5\n",
       " 3   4  15    3   1,\n",
       " 'Sayfa2':    0 personal personal.1        general\n",
       " 0  0     name        age            job\n",
       " 1  1    Murat         25  data_scintist\n",
       " 2  2    Hande         28   data_analyst\n",
       " 3  3     Ezgi         23             Hr}"
      ]
     },
     "execution_count": 145,
     "metadata": {},
     "output_type": "execute_result"
    }
   ],
   "source": [
    "df_excel_dict = pd.read_excel(\"sample_excel_1.xlsx\", sheet_name=None) #Dictionary halinde tüm worksheetler gelir.\n",
    "df_excel_dict "
   ]
  },
  {
   "cell_type": "code",
   "execution_count": 146,
   "id": "d14e754b",
   "metadata": {
    "ExecuteTime": {
     "end_time": "2023-05-21T12:53:57.590144Z",
     "start_time": "2023-05-21T12:53:57.563406Z"
    }
   },
   "outputs": [
    {
     "data": {
      "text/plain": [
       "dict"
      ]
     },
     "execution_count": 146,
     "metadata": {},
     "output_type": "execute_result"
    }
   ],
   "source": [
    "type(df_excel_dict)"
   ]
  },
  {
   "cell_type": "code",
   "execution_count": 147,
   "id": "246cf06b",
   "metadata": {
    "ExecuteTime": {
     "end_time": "2023-05-21T12:53:58.012814Z",
     "start_time": "2023-05-21T12:53:57.989881Z"
    }
   },
   "outputs": [
    {
     "data": {
      "text/plain": [
       "dict_keys(['Sayfa1', 'Sayfa2'])"
      ]
     },
     "execution_count": 147,
     "metadata": {},
     "output_type": "execute_result"
    }
   ],
   "source": [
    "df_excel_dict.keys()"
   ]
  },
  {
   "cell_type": "code",
   "execution_count": 148,
   "id": "b1212266",
   "metadata": {
    "ExecuteTime": {
     "end_time": "2023-05-21T12:53:58.432875Z",
     "start_time": "2023-05-21T12:53:58.384979Z"
    }
   },
   "outputs": [
    {
     "data": {
      "text/plain": [
       "dict_values([    a   b    c   d\n",
       "0   1   8   15   3\n",
       "1   2   9  227  11\n",
       "2  32  52  125   5\n",
       "3   4  15    3   1,    0 personal personal.1        general\n",
       "0  0     name        age            job\n",
       "1  1    Murat         25  data_scintist\n",
       "2  2    Hande         28   data_analyst\n",
       "3  3     Ezgi         23             Hr])"
      ]
     },
     "execution_count": 148,
     "metadata": {},
     "output_type": "execute_result"
    }
   ],
   "source": [
    "df_excel_dict.values()"
   ]
  },
  {
   "cell_type": "markdown",
   "id": "39d8f5e3-bc81-40d2-a853-0c117caa75af",
   "metadata": {},
   "source": [
    "## Excel Output"
   ]
  },
  {
   "cell_type": "code",
   "execution_count": 149,
   "id": "aa55944d",
   "metadata": {
    "ExecuteTime": {
     "end_time": "2023-05-21T12:53:59.686352Z",
     "start_time": "2023-05-21T12:53:59.640469Z"
    }
   },
   "outputs": [
    {
     "data": {
      "text/html": [
       "<div>\n",
       "<style scoped>\n",
       "    .dataframe tbody tr th:only-of-type {\n",
       "        vertical-align: middle;\n",
       "    }\n",
       "\n",
       "    .dataframe tbody tr th {\n",
       "        vertical-align: top;\n",
       "    }\n",
       "\n",
       "    .dataframe thead th {\n",
       "        text-align: right;\n",
       "    }\n",
       "</style>\n",
       "<table border=\"1\" class=\"dataframe\">\n",
       "  <thead>\n",
       "    <tr style=\"text-align: right;\">\n",
       "      <th></th>\n",
       "      <th>0</th>\n",
       "      <th>name</th>\n",
       "      <th>age</th>\n",
       "      <th>job</th>\n",
       "    </tr>\n",
       "  </thead>\n",
       "  <tbody>\n",
       "    <tr>\n",
       "      <th>0</th>\n",
       "      <td>1</td>\n",
       "      <td>Murat</td>\n",
       "      <td>25</td>\n",
       "      <td>data_scintist</td>\n",
       "    </tr>\n",
       "    <tr>\n",
       "      <th>1</th>\n",
       "      <td>2</td>\n",
       "      <td>Hande</td>\n",
       "      <td>28</td>\n",
       "      <td>data_analyst</td>\n",
       "    </tr>\n",
       "    <tr>\n",
       "      <th>2</th>\n",
       "      <td>3</td>\n",
       "      <td>Ezgi</td>\n",
       "      <td>23</td>\n",
       "      <td>Hr</td>\n",
       "    </tr>\n",
       "  </tbody>\n",
       "</table>\n",
       "</div>"
      ],
      "text/plain": [
       "   0   name  age            job\n",
       "0  1  Murat   25  data_scintist\n",
       "1  2  Hande   28   data_analyst\n",
       "2  3   Ezgi   23             Hr"
      ]
     },
     "execution_count": 149,
     "metadata": {},
     "output_type": "execute_result"
    }
   ],
   "source": [
    "df_excel_1"
   ]
  },
  {
   "cell_type": "code",
   "execution_count": 150,
   "id": "b1fdaa3c",
   "metadata": {
    "ExecuteTime": {
     "end_time": "2023-05-21T12:54:00.217250Z",
     "start_time": "2023-05-21T12:54:00.195810Z"
    }
   },
   "outputs": [],
   "source": [
    "df_excel_1.to_csv(\"sample_excel_to_csv_file.csv\", index=False)"
   ]
  },
  {
   "cell_type": "code",
   "execution_count": 151,
   "id": "12ef6081",
   "metadata": {
    "ExecuteTime": {
     "end_time": "2023-05-21T12:54:01.742102Z",
     "start_time": "2023-05-21T12:54:01.620902Z"
    }
   },
   "outputs": [],
   "source": [
    "df_excel_1.to_excel(\"sample_excel_output.xlsx\", index=False)"
   ]
  },
  {
   "cell_type": "code",
   "execution_count": 152,
   "id": "b499a6d4",
   "metadata": {
    "ExecuteTime": {
     "end_time": "2023-05-21T12:54:02.403212Z",
     "start_time": "2023-05-21T12:54:02.315801Z"
    }
   },
   "outputs": [
    {
     "data": {
      "text/html": [
       "<div>\n",
       "<style scoped>\n",
       "    .dataframe tbody tr th:only-of-type {\n",
       "        vertical-align: middle;\n",
       "    }\n",
       "\n",
       "    .dataframe tbody tr th {\n",
       "        vertical-align: top;\n",
       "    }\n",
       "\n",
       "    .dataframe thead th {\n",
       "        text-align: right;\n",
       "    }\n",
       "</style>\n",
       "<table border=\"1\" class=\"dataframe\">\n",
       "  <thead>\n",
       "    <tr style=\"text-align: right;\">\n",
       "      <th></th>\n",
       "      <th>0</th>\n",
       "      <th>name</th>\n",
       "      <th>age</th>\n",
       "      <th>job</th>\n",
       "    </tr>\n",
       "  </thead>\n",
       "  <tbody>\n",
       "    <tr>\n",
       "      <th>0</th>\n",
       "      <td>1</td>\n",
       "      <td>Murat</td>\n",
       "      <td>25</td>\n",
       "      <td>data_scintist</td>\n",
       "    </tr>\n",
       "    <tr>\n",
       "      <th>1</th>\n",
       "      <td>2</td>\n",
       "      <td>Hande</td>\n",
       "      <td>28</td>\n",
       "      <td>data_analyst</td>\n",
       "    </tr>\n",
       "    <tr>\n",
       "      <th>2</th>\n",
       "      <td>3</td>\n",
       "      <td>Ezgi</td>\n",
       "      <td>23</td>\n",
       "      <td>Hr</td>\n",
       "    </tr>\n",
       "  </tbody>\n",
       "</table>\n",
       "</div>"
      ],
      "text/plain": [
       "   0   name  age            job\n",
       "0  1  Murat   25  data_scintist\n",
       "1  2  Hande   28   data_analyst\n",
       "2  3   Ezgi   23             Hr"
      ]
     },
     "execution_count": 152,
     "metadata": {},
     "output_type": "execute_result"
    }
   ],
   "source": [
    "pd.read_excel(\"sample_excel_output.xlsx\")"
   ]
  },
  {
   "cell_type": "code",
   "execution_count": 153,
   "id": "6dc83110",
   "metadata": {
    "ExecuteTime": {
     "end_time": "2023-05-21T12:54:02.995038Z",
     "start_time": "2023-05-21T12:54:02.952910Z"
    }
   },
   "outputs": [
    {
     "data": {
      "text/html": [
       "<div>\n",
       "<style scoped>\n",
       "    .dataframe tbody tr th:only-of-type {\n",
       "        vertical-align: middle;\n",
       "    }\n",
       "\n",
       "    .dataframe tbody tr th {\n",
       "        vertical-align: top;\n",
       "    }\n",
       "\n",
       "    .dataframe thead th {\n",
       "        text-align: right;\n",
       "    }\n",
       "</style>\n",
       "<table border=\"1\" class=\"dataframe\">\n",
       "  <thead>\n",
       "    <tr style=\"text-align: right;\">\n",
       "      <th></th>\n",
       "      <th>0</th>\n",
       "      <th>name</th>\n",
       "      <th>age</th>\n",
       "      <th>job</th>\n",
       "    </tr>\n",
       "  </thead>\n",
       "  <tbody>\n",
       "    <tr>\n",
       "      <th>0</th>\n",
       "      <td>1</td>\n",
       "      <td>Murat</td>\n",
       "      <td>25</td>\n",
       "      <td>data_scintist</td>\n",
       "    </tr>\n",
       "    <tr>\n",
       "      <th>1</th>\n",
       "      <td>2</td>\n",
       "      <td>Hande</td>\n",
       "      <td>28</td>\n",
       "      <td>data_analyst</td>\n",
       "    </tr>\n",
       "    <tr>\n",
       "      <th>2</th>\n",
       "      <td>3</td>\n",
       "      <td>Ezgi</td>\n",
       "      <td>23</td>\n",
       "      <td>Hr</td>\n",
       "    </tr>\n",
       "  </tbody>\n",
       "</table>\n",
       "</div>"
      ],
      "text/plain": [
       "   0   name  age            job\n",
       "0  1  Murat   25  data_scintist\n",
       "1  2  Hande   28   data_analyst\n",
       "2  3   Ezgi   23             Hr"
      ]
     },
     "execution_count": 153,
     "metadata": {},
     "output_type": "execute_result"
    }
   ],
   "source": [
    "df_excel_1"
   ]
  },
  {
   "cell_type": "code",
   "execution_count": 154,
   "id": "5176e8d7",
   "metadata": {
    "ExecuteTime": {
     "end_time": "2023-05-21T12:54:03.650194Z",
     "start_time": "2023-05-21T12:54:03.631243Z"
    }
   },
   "outputs": [],
   "source": [
    "# Tek bir code ile birden fazla worksheeti ayni file ile kaydetmek."
   ]
  },
  {
   "cell_type": "code",
   "execution_count": 158,
   "id": "907e6399",
   "metadata": {
    "ExecuteTime": {
     "end_time": "2023-05-21T12:55:08.905648Z",
     "start_time": "2023-05-21T12:55:08.855518Z"
    }
   },
   "outputs": [
    {
     "data": {
      "text/html": [
       "<div>\n",
       "<style scoped>\n",
       "    .dataframe tbody tr th:only-of-type {\n",
       "        vertical-align: middle;\n",
       "    }\n",
       "\n",
       "    .dataframe tbody tr th {\n",
       "        vertical-align: top;\n",
       "    }\n",
       "\n",
       "    .dataframe thead th {\n",
       "        text-align: right;\n",
       "    }\n",
       "</style>\n",
       "<table border=\"1\" class=\"dataframe\">\n",
       "  <thead>\n",
       "    <tr style=\"text-align: right;\">\n",
       "      <th></th>\n",
       "      <th>0</th>\n",
       "      <th>name</th>\n",
       "      <th>age</th>\n",
       "      <th>job</th>\n",
       "    </tr>\n",
       "  </thead>\n",
       "  <tbody>\n",
       "    <tr>\n",
       "      <th>0</th>\n",
       "      <td>1</td>\n",
       "      <td>Murat</td>\n",
       "      <td>25</td>\n",
       "      <td>data_scintist</td>\n",
       "    </tr>\n",
       "    <tr>\n",
       "      <th>1</th>\n",
       "      <td>2</td>\n",
       "      <td>Hande</td>\n",
       "      <td>28</td>\n",
       "      <td>data_analyst</td>\n",
       "    </tr>\n",
       "    <tr>\n",
       "      <th>2</th>\n",
       "      <td>3</td>\n",
       "      <td>Ezgi</td>\n",
       "      <td>23</td>\n",
       "      <td>Hr</td>\n",
       "    </tr>\n",
       "  </tbody>\n",
       "</table>\n",
       "</div>"
      ],
      "text/plain": [
       "   0   name  age            job\n",
       "0  1  Murat   25  data_scintist\n",
       "1  2  Hande   28   data_analyst\n",
       "2  3   Ezgi   23             Hr"
      ]
     },
     "execution_count": 158,
     "metadata": {},
     "output_type": "execute_result"
    }
   ],
   "source": [
    "df_excel_1"
   ]
  },
  {
   "cell_type": "code",
   "execution_count": 159,
   "id": "416b3d8f",
   "metadata": {
    "ExecuteTime": {
     "end_time": "2023-05-21T12:55:12.963744Z",
     "start_time": "2023-05-21T12:55:12.930834Z"
    }
   },
   "outputs": [
    {
     "data": {
      "text/html": [
       "<div>\n",
       "<style scoped>\n",
       "    .dataframe tbody tr th:only-of-type {\n",
       "        vertical-align: middle;\n",
       "    }\n",
       "\n",
       "    .dataframe tbody tr th {\n",
       "        vertical-align: top;\n",
       "    }\n",
       "\n",
       "    .dataframe thead th {\n",
       "        text-align: right;\n",
       "    }\n",
       "</style>\n",
       "<table border=\"1\" class=\"dataframe\">\n",
       "  <thead>\n",
       "    <tr style=\"text-align: right;\">\n",
       "      <th></th>\n",
       "      <th>personal</th>\n",
       "      <th>personal.1</th>\n",
       "      <th>general</th>\n",
       "    </tr>\n",
       "    <tr>\n",
       "      <th>0</th>\n",
       "      <th></th>\n",
       "      <th></th>\n",
       "      <th></th>\n",
       "    </tr>\n",
       "  </thead>\n",
       "  <tbody>\n",
       "    <tr>\n",
       "      <th>0</th>\n",
       "      <td>name</td>\n",
       "      <td>age</td>\n",
       "      <td>job</td>\n",
       "    </tr>\n",
       "    <tr>\n",
       "      <th>1</th>\n",
       "      <td>Murat</td>\n",
       "      <td>25</td>\n",
       "      <td>data_scintist</td>\n",
       "    </tr>\n",
       "    <tr>\n",
       "      <th>2</th>\n",
       "      <td>Hande</td>\n",
       "      <td>28</td>\n",
       "      <td>data_analyst</td>\n",
       "    </tr>\n",
       "    <tr>\n",
       "      <th>3</th>\n",
       "      <td>Ezgi</td>\n",
       "      <td>23</td>\n",
       "      <td>Hr</td>\n",
       "    </tr>\n",
       "  </tbody>\n",
       "</table>\n",
       "</div>"
      ],
      "text/plain": [
       "  personal personal.1        general\n",
       "0                                   \n",
       "0     name        age            job\n",
       "1    Murat         25  data_scintist\n",
       "2    Hande         28   data_analyst\n",
       "3     Ezgi         23             Hr"
      ]
     },
     "execution_count": 159,
     "metadata": {},
     "output_type": "execute_result"
    }
   ],
   "source": [
    "df_excel_2"
   ]
  },
  {
   "cell_type": "code",
   "execution_count": 155,
   "id": "bb70261d",
   "metadata": {
    "ExecuteTime": {
     "end_time": "2023-05-21T12:54:04.480938Z",
     "start_time": "2023-05-21T12:54:04.295854Z"
    }
   },
   "outputs": [],
   "source": [
    "with pd.ExcelWriter(\"Combined_1.xlsx\") as writer:\n",
    "    df_excel_1.to_excel(writer, sheet_name=\"garip_sayilar\")\n",
    "    df_excel_2.to_excel(writer, sheet_name=\"personel_bilgileri\", index=False)"
   ]
  },
  {
   "cell_type": "code",
   "execution_count": 156,
   "id": "f2824000",
   "metadata": {
    "ExecuteTime": {
     "end_time": "2023-05-21T12:54:06.091713Z",
     "start_time": "2023-05-21T12:54:05.981793Z"
    }
   },
   "outputs": [
    {
     "data": {
      "text/html": [
       "<div>\n",
       "<style scoped>\n",
       "    .dataframe tbody tr th:only-of-type {\n",
       "        vertical-align: middle;\n",
       "    }\n",
       "\n",
       "    .dataframe tbody tr th {\n",
       "        vertical-align: top;\n",
       "    }\n",
       "\n",
       "    .dataframe thead th {\n",
       "        text-align: right;\n",
       "    }\n",
       "</style>\n",
       "<table border=\"1\" class=\"dataframe\">\n",
       "  <thead>\n",
       "    <tr style=\"text-align: right;\">\n",
       "      <th></th>\n",
       "      <th>personal</th>\n",
       "      <th>personal.1</th>\n",
       "      <th>general</th>\n",
       "    </tr>\n",
       "  </thead>\n",
       "  <tbody>\n",
       "    <tr>\n",
       "      <th>0</th>\n",
       "      <td>name</td>\n",
       "      <td>age</td>\n",
       "      <td>job</td>\n",
       "    </tr>\n",
       "    <tr>\n",
       "      <th>1</th>\n",
       "      <td>Murat</td>\n",
       "      <td>25</td>\n",
       "      <td>data_scintist</td>\n",
       "    </tr>\n",
       "    <tr>\n",
       "      <th>2</th>\n",
       "      <td>Hande</td>\n",
       "      <td>28</td>\n",
       "      <td>data_analyst</td>\n",
       "    </tr>\n",
       "    <tr>\n",
       "      <th>3</th>\n",
       "      <td>Ezgi</td>\n",
       "      <td>23</td>\n",
       "      <td>Hr</td>\n",
       "    </tr>\n",
       "  </tbody>\n",
       "</table>\n",
       "</div>"
      ],
      "text/plain": [
       "  personal personal.1        general\n",
       "0     name        age            job\n",
       "1    Murat         25  data_scintist\n",
       "2    Hande         28   data_analyst\n",
       "3     Ezgi         23             Hr"
      ]
     },
     "execution_count": 156,
     "metadata": {},
     "output_type": "execute_result"
    }
   ],
   "source": [
    "pd.read_excel(\"Combined_1.xlsx\", sheet_name=\"personel_bilgileri\")"
   ]
  },
  {
   "cell_type": "code",
   "execution_count": 157,
   "id": "7e80f3c6",
   "metadata": {
    "ExecuteTime": {
     "end_time": "2023-05-21T12:54:39.664802Z",
     "start_time": "2023-05-21T12:54:39.571057Z"
    }
   },
   "outputs": [
    {
     "data": {
      "text/html": [
       "<div>\n",
       "<style scoped>\n",
       "    .dataframe tbody tr th:only-of-type {\n",
       "        vertical-align: middle;\n",
       "    }\n",
       "\n",
       "    .dataframe tbody tr th {\n",
       "        vertical-align: top;\n",
       "    }\n",
       "\n",
       "    .dataframe thead th {\n",
       "        text-align: right;\n",
       "    }\n",
       "</style>\n",
       "<table border=\"1\" class=\"dataframe\">\n",
       "  <thead>\n",
       "    <tr style=\"text-align: right;\">\n",
       "      <th></th>\n",
       "      <th>Unnamed: 0</th>\n",
       "      <th>0</th>\n",
       "      <th>name</th>\n",
       "      <th>age</th>\n",
       "      <th>job</th>\n",
       "    </tr>\n",
       "  </thead>\n",
       "  <tbody>\n",
       "    <tr>\n",
       "      <th>0</th>\n",
       "      <td>0</td>\n",
       "      <td>1</td>\n",
       "      <td>Murat</td>\n",
       "      <td>25</td>\n",
       "      <td>data_scintist</td>\n",
       "    </tr>\n",
       "    <tr>\n",
       "      <th>1</th>\n",
       "      <td>1</td>\n",
       "      <td>2</td>\n",
       "      <td>Hande</td>\n",
       "      <td>28</td>\n",
       "      <td>data_analyst</td>\n",
       "    </tr>\n",
       "    <tr>\n",
       "      <th>2</th>\n",
       "      <td>2</td>\n",
       "      <td>3</td>\n",
       "      <td>Ezgi</td>\n",
       "      <td>23</td>\n",
       "      <td>Hr</td>\n",
       "    </tr>\n",
       "  </tbody>\n",
       "</table>\n",
       "</div>"
      ],
      "text/plain": [
       "   Unnamed: 0  0   name  age            job\n",
       "0           0  1  Murat   25  data_scintist\n",
       "1           1  2  Hande   28   data_analyst\n",
       "2           2  3   Ezgi   23             Hr"
      ]
     },
     "execution_count": 157,
     "metadata": {},
     "output_type": "execute_result"
    }
   ],
   "source": [
    "pd.read_excel(\"Combined_1.xlsx\", sheet_name=\"garip_sayilar\")"
   ]
  },
  {
   "cell_type": "markdown",
   "id": "43f77380-82b5-43bc-be7e-18a811c08433",
   "metadata": {},
   "source": [
    "## Read HTML"
   ]
  },
  {
   "cell_type": "code",
   "execution_count": 160,
   "id": "5596c7ca",
   "metadata": {
    "ExecuteTime": {
     "end_time": "2023-05-21T12:56:33.390940Z",
     "start_time": "2023-05-21T12:55:43.055340Z"
    }
   },
   "outputs": [
    {
     "name": "stdout",
     "output_type": "stream",
     "text": [
      "Collecting package metadata (current_repodata.json): ...working... done\n",
      "Solving environment: ...working... done\n",
      "\n",
      "# All requested packages already installed.\n",
      "\n",
      "Retrieving notices: ...working... done\n",
      "\n",
      "Note: you may need to restart the kernel to use updated packages.\n"
     ]
    },
    {
     "name": "stderr",
     "output_type": "stream",
     "text": [
      "\n",
      "\n",
      "==> WARNING: A newer version of conda exists. <==\n",
      "  current version: 22.9.0\n",
      "  latest version: 23.3.1\n",
      "\n",
      "Please update conda by running\n",
      "\n",
      "    $ conda update -n base -c defaults conda\n",
      "\n",
      "\n"
     ]
    }
   ],
   "source": [
    "conda install lxml"
   ]
  },
  {
   "cell_type": "code",
   "execution_count": 161,
   "id": "579a290a-5329-462c-b804-3f2755617270",
   "metadata": {
    "ExecuteTime": {
     "end_time": "2023-05-21T12:56:52.957692Z",
     "start_time": "2023-05-21T12:56:33.396838Z"
    }
   },
   "outputs": [
    {
     "name": "stdout",
     "output_type": "stream",
     "text": [
      "Requirement already satisfied: lxml in c:\\users\\user\\anaconda3\\lib\\site-packages (4.9.1)\n",
      "Requirement already satisfied: html5lib in c:\\users\\user\\anaconda3\\lib\\site-packages (1.1)\n",
      "Requirement already satisfied: six>=1.9 in c:\\users\\user\\anaconda3\\lib\\site-packages (from html5lib) (1.16.0)\n",
      "Requirement already satisfied: webencodings in c:\\users\\user\\anaconda3\\lib\\site-packages (from html5lib) (0.5.1)\n",
      "Requirement already satisfied: BeautifulSoup4 in c:\\users\\user\\anaconda3\\lib\\site-packages (4.11.1)\n",
      "Requirement already satisfied: soupsieve>1.2 in c:\\users\\user\\anaconda3\\lib\\site-packages (from BeautifulSoup4) (2.3.1)\n"
     ]
    }
   ],
   "source": [
    "!pip install lxml\n",
    "!pip install html5lib\n",
    "!pip install BeautifulSoup4"
   ]
  },
  {
   "cell_type": "markdown",
   "id": "9bc5ceb2",
   "metadata": {},
   "source": [
    "https://hsgm.saglik.gov.tr/tr/haberler/yetkilendirilmis-covi-d-19-tani-laboratuvarlari.html"
   ]
  },
  {
   "cell_type": "code",
   "execution_count": 162,
   "id": "a16c3eb0",
   "metadata": {
    "ExecuteTime": {
     "end_time": "2023-05-21T12:56:52.973543Z",
     "start_time": "2023-05-21T12:56:52.962066Z"
    }
   },
   "outputs": [],
   "source": [
    "url = \"https://hsgm.saglik.gov.tr/tr/haberler/yetkilendirilmis-covi-d-19-tani-laboratuvarlari.html\""
   ]
  },
  {
   "cell_type": "code",
   "execution_count": 163,
   "id": "76c0f355",
   "metadata": {
    "ExecuteTime": {
     "end_time": "2023-05-21T12:56:55.610869Z",
     "start_time": "2023-05-21T12:56:52.978641Z"
    }
   },
   "outputs": [
    {
     "data": {
      "text/plain": [
       "[       0                      1                    2  \\\n",
       " 0     NO  YETKİLENDİRME GRUP NO                   İL   \n",
       " 1      1                      1                ADANA   \n",
       " 2      2                      3                ADANA   \n",
       " 3      3                      5                ADANA   \n",
       " 4      4                      5                ADANA   \n",
       " ..   ...                    ...                  ...   \n",
       " 519  519                      2            ZONGULDAK   \n",
       " 520  520                      5            ZONGULDAK   \n",
       " 521  521                      7  ZONGULDAK-K. EREĞLİ   \n",
       " 522  522                      6  ZONGULDAK-K. EREĞLİ   \n",
       " 523  523                      8  ZONGULDAK-K. EREĞLİ   \n",
       " \n",
       "                                                      3  \n",
       " 0                                                KURUM  \n",
       " 1    ADANA İL SAĞLIK MÜDÜRLÜĞÜ HALK SAĞLIĞI LABORAT...  \n",
       " 2                                ADANA ŞEHİR HASTANESİ  \n",
       " 3              ÇUKUROVA ÜNİVERSİTESİ BALCALI HASTANESİ  \n",
       " 4                              SEYHAN DEVLET HASTANESİ  \n",
       " ..                                                 ...  \n",
       " 519  ZONGULDAK BÜLENT ECEVİT ÜNİVERSİTESİ TIP FAKÜL...  \n",
       " 520                 ZONGULDAK ATATÜRK DEVLET HASTANESİ  \n",
       " 521                  KARADENİZ EREĞLİ DEVLET HASTANESİ  \n",
       " 522            ÖZEL KARADENİZ EREĞLİ ECHOMAR HASTANESİ  \n",
       " 523                      ÖZEL EREĞLİ ANADOLU HASTANESİ  \n",
       " \n",
       " [524 rows x 4 columns]]"
      ]
     },
     "execution_count": 163,
     "metadata": {},
     "output_type": "execute_result"
    }
   ],
   "source": [
    "df_covid = pd.read_html(url)\n",
    "df_covid"
   ]
  },
  {
   "cell_type": "code",
   "execution_count": 164,
   "id": "af3c341f",
   "metadata": {
    "ExecuteTime": {
     "end_time": "2023-05-21T12:56:55.642307Z",
     "start_time": "2023-05-21T12:56:55.613861Z"
    }
   },
   "outputs": [
    {
     "data": {
      "text/html": [
       "<div>\n",
       "<style scoped>\n",
       "    .dataframe tbody tr th:only-of-type {\n",
       "        vertical-align: middle;\n",
       "    }\n",
       "\n",
       "    .dataframe tbody tr th {\n",
       "        vertical-align: top;\n",
       "    }\n",
       "\n",
       "    .dataframe thead th {\n",
       "        text-align: right;\n",
       "    }\n",
       "</style>\n",
       "<table border=\"1\" class=\"dataframe\">\n",
       "  <thead>\n",
       "    <tr style=\"text-align: right;\">\n",
       "      <th></th>\n",
       "      <th>0</th>\n",
       "      <th>1</th>\n",
       "      <th>2</th>\n",
       "      <th>3</th>\n",
       "    </tr>\n",
       "  </thead>\n",
       "  <tbody>\n",
       "    <tr>\n",
       "      <th>0</th>\n",
       "      <td>NO</td>\n",
       "      <td>YETKİLENDİRME GRUP NO</td>\n",
       "      <td>İL</td>\n",
       "      <td>KURUM</td>\n",
       "    </tr>\n",
       "    <tr>\n",
       "      <th>1</th>\n",
       "      <td>1</td>\n",
       "      <td>1</td>\n",
       "      <td>ADANA</td>\n",
       "      <td>ADANA İL SAĞLIK MÜDÜRLÜĞÜ HALK SAĞLIĞI LABORAT...</td>\n",
       "    </tr>\n",
       "    <tr>\n",
       "      <th>2</th>\n",
       "      <td>2</td>\n",
       "      <td>3</td>\n",
       "      <td>ADANA</td>\n",
       "      <td>ADANA ŞEHİR HASTANESİ</td>\n",
       "    </tr>\n",
       "    <tr>\n",
       "      <th>3</th>\n",
       "      <td>3</td>\n",
       "      <td>5</td>\n",
       "      <td>ADANA</td>\n",
       "      <td>ÇUKUROVA ÜNİVERSİTESİ BALCALI HASTANESİ</td>\n",
       "    </tr>\n",
       "    <tr>\n",
       "      <th>4</th>\n",
       "      <td>4</td>\n",
       "      <td>5</td>\n",
       "      <td>ADANA</td>\n",
       "      <td>SEYHAN DEVLET HASTANESİ</td>\n",
       "    </tr>\n",
       "    <tr>\n",
       "      <th>...</th>\n",
       "      <td>...</td>\n",
       "      <td>...</td>\n",
       "      <td>...</td>\n",
       "      <td>...</td>\n",
       "    </tr>\n",
       "    <tr>\n",
       "      <th>519</th>\n",
       "      <td>519</td>\n",
       "      <td>2</td>\n",
       "      <td>ZONGULDAK</td>\n",
       "      <td>ZONGULDAK BÜLENT ECEVİT ÜNİVERSİTESİ TIP FAKÜL...</td>\n",
       "    </tr>\n",
       "    <tr>\n",
       "      <th>520</th>\n",
       "      <td>520</td>\n",
       "      <td>5</td>\n",
       "      <td>ZONGULDAK</td>\n",
       "      <td>ZONGULDAK ATATÜRK DEVLET HASTANESİ</td>\n",
       "    </tr>\n",
       "    <tr>\n",
       "      <th>521</th>\n",
       "      <td>521</td>\n",
       "      <td>7</td>\n",
       "      <td>ZONGULDAK-K. EREĞLİ</td>\n",
       "      <td>KARADENİZ EREĞLİ DEVLET HASTANESİ</td>\n",
       "    </tr>\n",
       "    <tr>\n",
       "      <th>522</th>\n",
       "      <td>522</td>\n",
       "      <td>6</td>\n",
       "      <td>ZONGULDAK-K. EREĞLİ</td>\n",
       "      <td>ÖZEL KARADENİZ EREĞLİ ECHOMAR HASTANESİ</td>\n",
       "    </tr>\n",
       "    <tr>\n",
       "      <th>523</th>\n",
       "      <td>523</td>\n",
       "      <td>8</td>\n",
       "      <td>ZONGULDAK-K. EREĞLİ</td>\n",
       "      <td>ÖZEL EREĞLİ ANADOLU HASTANESİ</td>\n",
       "    </tr>\n",
       "  </tbody>\n",
       "</table>\n",
       "<p>524 rows × 4 columns</p>\n",
       "</div>"
      ],
      "text/plain": [
       "       0                      1                    2  \\\n",
       "0     NO  YETKİLENDİRME GRUP NO                   İL   \n",
       "1      1                      1                ADANA   \n",
       "2      2                      3                ADANA   \n",
       "3      3                      5                ADANA   \n",
       "4      4                      5                ADANA   \n",
       "..   ...                    ...                  ...   \n",
       "519  519                      2            ZONGULDAK   \n",
       "520  520                      5            ZONGULDAK   \n",
       "521  521                      7  ZONGULDAK-K. EREĞLİ   \n",
       "522  522                      6  ZONGULDAK-K. EREĞLİ   \n",
       "523  523                      8  ZONGULDAK-K. EREĞLİ   \n",
       "\n",
       "                                                     3  \n",
       "0                                                KURUM  \n",
       "1    ADANA İL SAĞLIK MÜDÜRLÜĞÜ HALK SAĞLIĞI LABORAT...  \n",
       "2                                ADANA ŞEHİR HASTANESİ  \n",
       "3              ÇUKUROVA ÜNİVERSİTESİ BALCALI HASTANESİ  \n",
       "4                              SEYHAN DEVLET HASTANESİ  \n",
       "..                                                 ...  \n",
       "519  ZONGULDAK BÜLENT ECEVİT ÜNİVERSİTESİ TIP FAKÜL...  \n",
       "520                 ZONGULDAK ATATÜRK DEVLET HASTANESİ  \n",
       "521                  KARADENİZ EREĞLİ DEVLET HASTANESİ  \n",
       "522            ÖZEL KARADENİZ EREĞLİ ECHOMAR HASTANESİ  \n",
       "523                      ÖZEL EREĞLİ ANADOLU HASTANESİ  \n",
       "\n",
       "[524 rows x 4 columns]"
      ]
     },
     "execution_count": 164,
     "metadata": {},
     "output_type": "execute_result"
    }
   ],
   "source": [
    "df_covid[0]"
   ]
  },
  {
   "cell_type": "code",
   "execution_count": 165,
   "id": "3a3a6da9",
   "metadata": {
    "ExecuteTime": {
     "end_time": "2023-05-21T12:56:55.674312Z",
     "start_time": "2023-05-21T12:56:55.645298Z"
    }
   },
   "outputs": [
    {
     "ename": "IndexError",
     "evalue": "list index out of range",
     "output_type": "error",
     "traceback": [
      "\u001b[1;31m---------------------------------------------------------------------------\u001b[0m",
      "\u001b[1;31mIndexError\u001b[0m                                Traceback (most recent call last)",
      "\u001b[1;32m~\\AppData\\Local\\Temp\\ipykernel_22824\\814785288.py\u001b[0m in \u001b[0;36m<module>\u001b[1;34m\u001b[0m\n\u001b[1;32m----> 1\u001b[1;33m \u001b[0mdf_covid\u001b[0m\u001b[1;33m[\u001b[0m\u001b[1;36m1\u001b[0m\u001b[1;33m]\u001b[0m\u001b[1;33m\u001b[0m\u001b[1;33m\u001b[0m\u001b[0m\n\u001b[0m",
      "\u001b[1;31mIndexError\u001b[0m: list index out of range"
     ]
    }
   ],
   "source": [
    "df_covid[1]"
   ]
  },
  {
   "cell_type": "code",
   "execution_count": 69,
   "id": "54b40a05",
   "metadata": {
    "ExecuteTime": {
     "end_time": "2023-05-20T07:43:21.956884Z",
     "start_time": "2023-05-20T07:43:21.903030Z"
    }
   },
   "outputs": [
    {
     "data": {
      "text/html": [
       "<div>\n",
       "<style scoped>\n",
       "    .dataframe tbody tr th:only-of-type {\n",
       "        vertical-align: middle;\n",
       "    }\n",
       "\n",
       "    .dataframe tbody tr th {\n",
       "        vertical-align: top;\n",
       "    }\n",
       "\n",
       "    .dataframe thead th {\n",
       "        text-align: right;\n",
       "    }\n",
       "</style>\n",
       "<table border=\"1\" class=\"dataframe\">\n",
       "  <thead>\n",
       "    <tr style=\"text-align: right;\">\n",
       "      <th></th>\n",
       "      <th>NO</th>\n",
       "      <th>YETKİLENDİRME GRUP NO</th>\n",
       "      <th>İL</th>\n",
       "      <th>KURUM</th>\n",
       "    </tr>\n",
       "  </thead>\n",
       "  <tbody>\n",
       "    <tr>\n",
       "      <th>0</th>\n",
       "      <td>1</td>\n",
       "      <td>1</td>\n",
       "      <td>ADANA</td>\n",
       "      <td>ADANA İL SAĞLIK MÜDÜRLÜĞÜ HALK SAĞLIĞI LABORAT...</td>\n",
       "    </tr>\n",
       "    <tr>\n",
       "      <th>1</th>\n",
       "      <td>2</td>\n",
       "      <td>3</td>\n",
       "      <td>ADANA</td>\n",
       "      <td>ADANA ŞEHİR HASTANESİ</td>\n",
       "    </tr>\n",
       "    <tr>\n",
       "      <th>2</th>\n",
       "      <td>3</td>\n",
       "      <td>5</td>\n",
       "      <td>ADANA</td>\n",
       "      <td>ÇUKUROVA ÜNİVERSİTESİ BALCALI HASTANESİ</td>\n",
       "    </tr>\n",
       "    <tr>\n",
       "      <th>3</th>\n",
       "      <td>4</td>\n",
       "      <td>5</td>\n",
       "      <td>ADANA</td>\n",
       "      <td>SEYHAN DEVLET HASTANESİ</td>\n",
       "    </tr>\n",
       "    <tr>\n",
       "      <th>4</th>\n",
       "      <td>5</td>\n",
       "      <td>5</td>\n",
       "      <td>ADANA</td>\n",
       "      <td>ÖZEL YAŞAMLAB LABORATUVARI</td>\n",
       "    </tr>\n",
       "    <tr>\n",
       "      <th>...</th>\n",
       "      <td>...</td>\n",
       "      <td>...</td>\n",
       "      <td>...</td>\n",
       "      <td>...</td>\n",
       "    </tr>\n",
       "    <tr>\n",
       "      <th>518</th>\n",
       "      <td>519</td>\n",
       "      <td>2</td>\n",
       "      <td>ZONGULDAK</td>\n",
       "      <td>ZONGULDAK BÜLENT ECEVİT ÜNİVERSİTESİ TIP FAKÜL...</td>\n",
       "    </tr>\n",
       "    <tr>\n",
       "      <th>519</th>\n",
       "      <td>520</td>\n",
       "      <td>5</td>\n",
       "      <td>ZONGULDAK</td>\n",
       "      <td>ZONGULDAK ATATÜRK DEVLET HASTANESİ</td>\n",
       "    </tr>\n",
       "    <tr>\n",
       "      <th>520</th>\n",
       "      <td>521</td>\n",
       "      <td>7</td>\n",
       "      <td>ZONGULDAK-K. EREĞLİ</td>\n",
       "      <td>KARADENİZ EREĞLİ DEVLET HASTANESİ</td>\n",
       "    </tr>\n",
       "    <tr>\n",
       "      <th>521</th>\n",
       "      <td>522</td>\n",
       "      <td>6</td>\n",
       "      <td>ZONGULDAK-K. EREĞLİ</td>\n",
       "      <td>ÖZEL KARADENİZ EREĞLİ ECHOMAR HASTANESİ</td>\n",
       "    </tr>\n",
       "    <tr>\n",
       "      <th>522</th>\n",
       "      <td>523</td>\n",
       "      <td>8</td>\n",
       "      <td>ZONGULDAK-K. EREĞLİ</td>\n",
       "      <td>ÖZEL EREĞLİ ANADOLU HASTANESİ</td>\n",
       "    </tr>\n",
       "  </tbody>\n",
       "</table>\n",
       "<p>523 rows × 4 columns</p>\n",
       "</div>"
      ],
      "text/plain": [
       "      NO  YETKİLENDİRME GRUP NO                   İL  \\\n",
       "0      1                      1                ADANA   \n",
       "1      2                      3                ADANA   \n",
       "2      3                      5                ADANA   \n",
       "3      4                      5                ADANA   \n",
       "4      5                      5                ADANA   \n",
       "..   ...                    ...                  ...   \n",
       "518  519                      2            ZONGULDAK   \n",
       "519  520                      5            ZONGULDAK   \n",
       "520  521                      7  ZONGULDAK-K. EREĞLİ   \n",
       "521  522                      6  ZONGULDAK-K. EREĞLİ   \n",
       "522  523                      8  ZONGULDAK-K. EREĞLİ   \n",
       "\n",
       "                                                 KURUM  \n",
       "0    ADANA İL SAĞLIK MÜDÜRLÜĞÜ HALK SAĞLIĞI LABORAT...  \n",
       "1                                ADANA ŞEHİR HASTANESİ  \n",
       "2             ÇUKUROVA ÜNİVERSİTESİ BALCALI HASTANESİ   \n",
       "3                              SEYHAN DEVLET HASTANESİ  \n",
       "4                           ÖZEL YAŞAMLAB LABORATUVARI  \n",
       "..                                                 ...  \n",
       "518  ZONGULDAK BÜLENT ECEVİT ÜNİVERSİTESİ TIP FAKÜL...  \n",
       "519                 ZONGULDAK ATATÜRK DEVLET HASTANESİ  \n",
       "520                  KARADENİZ EREĞLİ DEVLET HASTANESİ  \n",
       "521            ÖZEL KARADENİZ EREĞLİ ECHOMAR HASTANESİ  \n",
       "522                      ÖZEL EREĞLİ ANADOLU HASTANESİ  \n",
       "\n",
       "[523 rows x 4 columns]"
      ]
     },
     "execution_count": 69,
     "metadata": {},
     "output_type": "execute_result"
    }
   ],
   "source": [
    "df = pd.read_clipboard()    #Once kodu buraya yapistir. Sonra tablodan kopyala. Ardindan buraya gel ve kodu calistir.  \n",
    "df"
   ]
  },
  {
   "cell_type": "code",
   "execution_count": 70,
   "id": "0412a2bf",
   "metadata": {
    "ExecuteTime": {
     "end_time": "2023-05-20T07:43:59.042135Z",
     "start_time": "2023-05-20T07:43:59.024184Z"
    }
   },
   "outputs": [],
   "source": [
    "df.to_csv(\"clipboard_copy_paste.csv\")"
   ]
  },
  {
   "cell_type": "code",
   "execution_count": 71,
   "id": "bc3819e8",
   "metadata": {
    "ExecuteTime": {
     "end_time": "2023-05-20T07:45:22.304566Z",
     "start_time": "2023-05-20T07:45:22.276638Z"
    }
   },
   "outputs": [
    {
     "data": {
      "text/html": [
       "<div>\n",
       "<style scoped>\n",
       "    .dataframe tbody tr th:only-of-type {\n",
       "        vertical-align: middle;\n",
       "    }\n",
       "\n",
       "    .dataframe tbody tr th {\n",
       "        vertical-align: top;\n",
       "    }\n",
       "\n",
       "    .dataframe thead th {\n",
       "        text-align: right;\n",
       "    }\n",
       "</style>\n",
       "<table border=\"1\" class=\"dataframe\">\n",
       "  <thead>\n",
       "    <tr style=\"text-align: right;\">\n",
       "      <th></th>\n",
       "      <th>NO</th>\n",
       "      <th>YETKİLENDİRME GRUP NO</th>\n",
       "      <th>İL</th>\n",
       "      <th>KURUM</th>\n",
       "    </tr>\n",
       "  </thead>\n",
       "  <tbody>\n",
       "    <tr>\n",
       "      <th>0</th>\n",
       "      <td>1</td>\n",
       "      <td>1</td>\n",
       "      <td>ADANA</td>\n",
       "      <td>ADANA İL SAĞLIK MÜDÜRLÜĞÜ HALK SAĞLIĞI LABORAT...</td>\n",
       "    </tr>\n",
       "    <tr>\n",
       "      <th>1</th>\n",
       "      <td>2</td>\n",
       "      <td>3</td>\n",
       "      <td>ADANA</td>\n",
       "      <td>ADANA ŞEHİR HASTANESİ</td>\n",
       "    </tr>\n",
       "    <tr>\n",
       "      <th>2</th>\n",
       "      <td>3</td>\n",
       "      <td>5</td>\n",
       "      <td>ADANA</td>\n",
       "      <td>ÇUKUROVA ÜNİVERSİTESİ BALCALI HASTANESİ</td>\n",
       "    </tr>\n",
       "    <tr>\n",
       "      <th>3</th>\n",
       "      <td>4</td>\n",
       "      <td>5</td>\n",
       "      <td>ADANA</td>\n",
       "      <td>SEYHAN DEVLET HASTANESİ</td>\n",
       "    </tr>\n",
       "    <tr>\n",
       "      <th>4</th>\n",
       "      <td>5</td>\n",
       "      <td>5</td>\n",
       "      <td>ADANA</td>\n",
       "      <td>ÖZEL YAŞAMLAB LABORATUVARI</td>\n",
       "    </tr>\n",
       "    <tr>\n",
       "      <th>5</th>\n",
       "      <td>6</td>\n",
       "      <td>9</td>\n",
       "      <td>ADANA</td>\n",
       "      <td>ÖZEL BİR-LAB LABORATUVARI</td>\n",
       "    </tr>\n",
       "    <tr>\n",
       "      <th>6</th>\n",
       "      <td>7</td>\n",
       "      <td>9</td>\n",
       "      <td>ADANA</td>\n",
       "      <td>ÖZEL ADANA METRO HASTANESİ</td>\n",
       "    </tr>\n",
       "    <tr>\n",
       "      <th>7</th>\n",
       "      <td>8</td>\n",
       "      <td>9</td>\n",
       "      <td>ADANA-YÜREĞİR</td>\n",
       "      <td>YÜREĞİR DEVLET HASTANESİ</td>\n",
       "    </tr>\n",
       "    <tr>\n",
       "      <th>8</th>\n",
       "      <td>9</td>\n",
       "      <td>2</td>\n",
       "      <td>ADIYAMAN</td>\n",
       "      <td>ADIYAMAN EĞİTİM VE ARAŞTIRMA HASTANESİ MİKROBİ...</td>\n",
       "    </tr>\n",
       "    <tr>\n",
       "      <th>9</th>\n",
       "      <td>10</td>\n",
       "      <td>6</td>\n",
       "      <td>ADIYAMAN</td>\n",
       "      <td>ÖZEL ADIYAMAN PARK HOSPİTAL</td>\n",
       "    </tr>\n",
       "  </tbody>\n",
       "</table>\n",
       "</div>"
      ],
      "text/plain": [
       "   NO  YETKİLENDİRME GRUP NO             İL  \\\n",
       "0   1                      1          ADANA   \n",
       "1   2                      3          ADANA   \n",
       "2   3                      5          ADANA   \n",
       "3   4                      5          ADANA   \n",
       "4   5                      5          ADANA   \n",
       "5   6                      9          ADANA   \n",
       "6   7                      9          ADANA   \n",
       "7   8                      9  ADANA-YÜREĞİR   \n",
       "8   9                      2       ADIYAMAN   \n",
       "9  10                      6       ADIYAMAN   \n",
       "\n",
       "                                               KURUM  \n",
       "0  ADANA İL SAĞLIK MÜDÜRLÜĞÜ HALK SAĞLIĞI LABORAT...  \n",
       "1                              ADANA ŞEHİR HASTANESİ  \n",
       "2           ÇUKUROVA ÜNİVERSİTESİ BALCALI HASTANESİ   \n",
       "3                            SEYHAN DEVLET HASTANESİ  \n",
       "4                         ÖZEL YAŞAMLAB LABORATUVARI  \n",
       "5                          ÖZEL BİR-LAB LABORATUVARI  \n",
       "6                         ÖZEL ADANA METRO HASTANESİ  \n",
       "7                           YÜREĞİR DEVLET HASTANESİ  \n",
       "8  ADIYAMAN EĞİTİM VE ARAŞTIRMA HASTANESİ MİKROBİ...  \n",
       "9                        ÖZEL ADIYAMAN PARK HOSPİTAL  "
      ]
     },
     "execution_count": 71,
     "metadata": {},
     "output_type": "execute_result"
    }
   ],
   "source": [
    "df_till10 = pd.read_clipboard()        \n",
    "df_till10"
   ]
  },
  {
   "cell_type": "code",
   "execution_count": null,
   "id": "b345ea75",
   "metadata": {},
   "outputs": [],
   "source": []
  },
  {
   "cell_type": "markdown",
   "id": "93c92325-29ae-46d2-b1f7-f071905dcb9e",
   "metadata": {},
   "source": [
    "# https://www.bbc.com/news/world-51235105"
   ]
  },
  {
   "cell_type": "code",
   "execution_count": 166,
   "id": "8caa3b4f",
   "metadata": {
    "ExecuteTime": {
     "end_time": "2023-05-21T12:57:20.944132Z",
     "start_time": "2023-05-21T12:57:20.929294Z"
    }
   },
   "outputs": [],
   "source": [
    "url2 = \"https://www.bbc.com/news/world-51235105\""
   ]
  },
  {
   "cell_type": "code",
   "execution_count": 167,
   "id": "db982279-9ef7-472f-8c41-4a9be9392870",
   "metadata": {
    "ExecuteTime": {
     "end_time": "2023-05-21T12:57:25.724755Z",
     "start_time": "2023-05-21T12:57:21.429676Z"
    }
   },
   "outputs": [
    {
     "data": {
      "text/plain": [
       "[              Country   Deaths  Death rate*  Total Cases  \\\n",
       " 0                  US  1012833        308.6     87030788   \n",
       " 1              Brazil   672033        318.4     32535923   \n",
       " 2               India   525242         38.4     43531650   \n",
       " 3              Russia   373595        258.8     18173480   \n",
       " 4              Mexico   325793        255.4      6093835   \n",
       " ..                ...      ...          ...          ...   \n",
       " 220        Micronesia        0          0.0           38   \n",
       " 221           Vatican        0          0.0           29   \n",
       " 222  Marshall Islands        0          0.0           18   \n",
       " 223        Antarctica        0          NaN           11   \n",
       " 224      Saint Helena        0          0.0            4   \n",
       " \n",
       "      New Cases  0  10  100  1k  10k  **  Unnamed: 5  \n",
       " 0                                   NaN         NaN  \n",
       " 1                                   NaN         NaN  \n",
       " 2                                   NaN         NaN  \n",
       " 3                                   NaN         NaN  \n",
       " 4                                   NaN         NaN  \n",
       " ..                                  ...         ...  \n",
       " 220                                 NaN         NaN  \n",
       " 221                                 NaN         NaN  \n",
       " 222                                 NaN         NaN  \n",
       " 223                                 NaN         NaN  \n",
       " 224                                 NaN         NaN  \n",
       " \n",
       " [225 rows x 6 columns],\n",
       "                                          Location  Percent fully vaccinated  \\\n",
       " 0                                           World                      61.0   \n",
       " 1                                           China                      87.0   \n",
       " 2                                           India                      66.0   \n",
       " 3                                              US                      67.0   \n",
       " 4                                          Brazil                      79.0   \n",
       " ..                                            ...                       ...   \n",
       " 212                British Indian Ocean Territory                       0.0   \n",
       " 213                                       Eritrea                       0.0   \n",
       " 214                                   North Korea                       0.0   \n",
       " 215  South Georgia and the South Sandwich Islands                       0.0   \n",
       " 216                                       Vatican                       0.0   \n",
       " \n",
       "      Total doses  \n",
       " 0    12120524547  \n",
       " 1     3403643000  \n",
       " 2     1978918170  \n",
       " 3      596233489  \n",
       " 4      456903089  \n",
       " ..           ...  \n",
       " 212            0  \n",
       " 213            0  \n",
       " 214            0  \n",
       " 215            0  \n",
       " 216            0  \n",
       " \n",
       " [217 rows x 3 columns]]"
      ]
     },
     "execution_count": 167,
     "metadata": {},
     "output_type": "execute_result"
    }
   ],
   "source": [
    "df_covid_world = pd.read_html(url2)\n",
    "df_covid_world"
   ]
  },
  {
   "cell_type": "code",
   "execution_count": 74,
   "id": "58c23307",
   "metadata": {
    "ExecuteTime": {
     "end_time": "2023-05-20T07:48:19.803065Z",
     "start_time": "2023-05-20T07:48:19.776139Z"
    }
   },
   "outputs": [
    {
     "data": {
      "text/html": [
       "<div>\n",
       "<style scoped>\n",
       "    .dataframe tbody tr th:only-of-type {\n",
       "        vertical-align: middle;\n",
       "    }\n",
       "\n",
       "    .dataframe tbody tr th {\n",
       "        vertical-align: top;\n",
       "    }\n",
       "\n",
       "    .dataframe thead th {\n",
       "        text-align: right;\n",
       "    }\n",
       "</style>\n",
       "<table border=\"1\" class=\"dataframe\">\n",
       "  <thead>\n",
       "    <tr style=\"text-align: right;\">\n",
       "      <th></th>\n",
       "      <th>Country</th>\n",
       "      <th>Deaths</th>\n",
       "      <th>Death rate*</th>\n",
       "      <th>Total Cases</th>\n",
       "      <th>New Cases  0  10  100  1k  10k  **</th>\n",
       "      <th>Unnamed: 5</th>\n",
       "    </tr>\n",
       "  </thead>\n",
       "  <tbody>\n",
       "    <tr>\n",
       "      <th>0</th>\n",
       "      <td>US</td>\n",
       "      <td>1012833</td>\n",
       "      <td>308.6</td>\n",
       "      <td>87030788</td>\n",
       "      <td>NaN</td>\n",
       "      <td>NaN</td>\n",
       "    </tr>\n",
       "    <tr>\n",
       "      <th>1</th>\n",
       "      <td>Brazil</td>\n",
       "      <td>672033</td>\n",
       "      <td>318.4</td>\n",
       "      <td>32535923</td>\n",
       "      <td>NaN</td>\n",
       "      <td>NaN</td>\n",
       "    </tr>\n",
       "    <tr>\n",
       "      <th>2</th>\n",
       "      <td>India</td>\n",
       "      <td>525242</td>\n",
       "      <td>38.4</td>\n",
       "      <td>43531650</td>\n",
       "      <td>NaN</td>\n",
       "      <td>NaN</td>\n",
       "    </tr>\n",
       "    <tr>\n",
       "      <th>3</th>\n",
       "      <td>Russia</td>\n",
       "      <td>373595</td>\n",
       "      <td>258.8</td>\n",
       "      <td>18173480</td>\n",
       "      <td>NaN</td>\n",
       "      <td>NaN</td>\n",
       "    </tr>\n",
       "    <tr>\n",
       "      <th>4</th>\n",
       "      <td>Mexico</td>\n",
       "      <td>325793</td>\n",
       "      <td>255.4</td>\n",
       "      <td>6093835</td>\n",
       "      <td>NaN</td>\n",
       "      <td>NaN</td>\n",
       "    </tr>\n",
       "    <tr>\n",
       "      <th>...</th>\n",
       "      <td>...</td>\n",
       "      <td>...</td>\n",
       "      <td>...</td>\n",
       "      <td>...</td>\n",
       "      <td>...</td>\n",
       "      <td>...</td>\n",
       "    </tr>\n",
       "    <tr>\n",
       "      <th>220</th>\n",
       "      <td>Micronesia</td>\n",
       "      <td>0</td>\n",
       "      <td>0.0</td>\n",
       "      <td>38</td>\n",
       "      <td>NaN</td>\n",
       "      <td>NaN</td>\n",
       "    </tr>\n",
       "    <tr>\n",
       "      <th>221</th>\n",
       "      <td>Vatican</td>\n",
       "      <td>0</td>\n",
       "      <td>0.0</td>\n",
       "      <td>29</td>\n",
       "      <td>NaN</td>\n",
       "      <td>NaN</td>\n",
       "    </tr>\n",
       "    <tr>\n",
       "      <th>222</th>\n",
       "      <td>Marshall Islands</td>\n",
       "      <td>0</td>\n",
       "      <td>0.0</td>\n",
       "      <td>18</td>\n",
       "      <td>NaN</td>\n",
       "      <td>NaN</td>\n",
       "    </tr>\n",
       "    <tr>\n",
       "      <th>223</th>\n",
       "      <td>Antarctica</td>\n",
       "      <td>0</td>\n",
       "      <td>NaN</td>\n",
       "      <td>11</td>\n",
       "      <td>NaN</td>\n",
       "      <td>NaN</td>\n",
       "    </tr>\n",
       "    <tr>\n",
       "      <th>224</th>\n",
       "      <td>Saint Helena</td>\n",
       "      <td>0</td>\n",
       "      <td>0.0</td>\n",
       "      <td>4</td>\n",
       "      <td>NaN</td>\n",
       "      <td>NaN</td>\n",
       "    </tr>\n",
       "  </tbody>\n",
       "</table>\n",
       "<p>225 rows × 6 columns</p>\n",
       "</div>"
      ],
      "text/plain": [
       "              Country   Deaths  Death rate*  Total Cases  \\\n",
       "0                  US  1012833        308.6     87030788   \n",
       "1              Brazil   672033        318.4     32535923   \n",
       "2               India   525242         38.4     43531650   \n",
       "3              Russia   373595        258.8     18173480   \n",
       "4              Mexico   325793        255.4      6093835   \n",
       "..                ...      ...          ...          ...   \n",
       "220        Micronesia        0          0.0           38   \n",
       "221           Vatican        0          0.0           29   \n",
       "222  Marshall Islands        0          0.0           18   \n",
       "223        Antarctica        0          NaN           11   \n",
       "224      Saint Helena        0          0.0            4   \n",
       "\n",
       "     New Cases  0  10  100  1k  10k  **  Unnamed: 5  \n",
       "0                                   NaN         NaN  \n",
       "1                                   NaN         NaN  \n",
       "2                                   NaN         NaN  \n",
       "3                                   NaN         NaN  \n",
       "4                                   NaN         NaN  \n",
       "..                                  ...         ...  \n",
       "220                                 NaN         NaN  \n",
       "221                                 NaN         NaN  \n",
       "222                                 NaN         NaN  \n",
       "223                                 NaN         NaN  \n",
       "224                                 NaN         NaN  \n",
       "\n",
       "[225 rows x 6 columns]"
      ]
     },
     "execution_count": 74,
     "metadata": {},
     "output_type": "execute_result"
    }
   ],
   "source": [
    "df_covid_world[0]"
   ]
  },
  {
   "cell_type": "code",
   "execution_count": 168,
   "id": "4d403571",
   "metadata": {
    "ExecuteTime": {
     "end_time": "2023-05-21T12:57:25.755670Z",
     "start_time": "2023-05-21T12:57:25.731734Z"
    }
   },
   "outputs": [],
   "source": [
    "df_covid_world[0].to_csv(\"covid_data.csv\") "
   ]
  },
  {
   "cell_type": "code",
   "execution_count": null,
   "id": "f469102a",
   "metadata": {},
   "outputs": [],
   "source": []
  },
  {
   "cell_type": "markdown",
   "id": "2f88935d-b853-471d-8b95-69cde8a33d91",
   "metadata": {},
   "source": [
    "## SQL Connection"
   ]
  },
  {
   "cell_type": "code",
   "execution_count": 76,
   "id": "f848f62c-c2e8-4181-b7aa-762e6af0c6b7",
   "metadata": {
    "ExecuteTime": {
     "end_time": "2023-05-20T07:50:03.691417Z",
     "start_time": "2023-05-20T07:49:51.678711Z"
    }
   },
   "outputs": [
    {
     "name": "stdout",
     "output_type": "stream",
     "text": [
      "Requirement already satisfied: sqlalchemy in c:\\users\\user\\anaconda3\\lib\\site-packages (1.4.39)\n",
      "Requirement already satisfied: greenlet!=0.4.17 in c:\\users\\user\\anaconda3\\lib\\site-packages (from sqlalchemy) (1.1.1)\n"
     ]
    }
   ],
   "source": [
    "!pip install sqlalchemy"
   ]
  },
  {
   "cell_type": "markdown",
   "id": "c2426e0b-026b-4fd3-8238-4ac740e621d1",
   "metadata": {},
   "source": [
    "https://en.wikipedia.org/wiki/World_population"
   ]
  },
  {
   "cell_type": "code",
   "execution_count": 77,
   "id": "50e026bf",
   "metadata": {
    "ExecuteTime": {
     "end_time": "2023-05-20T07:50:19.820315Z",
     "start_time": "2023-05-20T07:50:19.811374Z"
    }
   },
   "outputs": [],
   "source": [
    "from sqlalchemy import create_engine"
   ]
  },
  {
   "cell_type": "code",
   "execution_count": 78,
   "id": "e0ab7d96",
   "metadata": {
    "ExecuteTime": {
     "end_time": "2023-05-20T07:51:01.360823Z",
     "start_time": "2023-05-20T07:51:01.316940Z"
    }
   },
   "outputs": [],
   "source": [
    "temp_db = create_engine(\"sqlite:///:memory:\")"
   ]
  },
  {
   "cell_type": "code",
   "execution_count": 79,
   "id": "d83bea2f",
   "metadata": {
    "ExecuteTime": {
     "end_time": "2023-05-20T07:51:17.206992Z",
     "start_time": "2023-05-20T07:51:17.151342Z"
    }
   },
   "outputs": [
    {
     "data": {
      "text/plain": [
       "[]"
      ]
     },
     "execution_count": 79,
     "metadata": {},
     "output_type": "execute_result"
    }
   ],
   "source": [
    "temp_db.table_names()"
   ]
  },
  {
   "cell_type": "code",
   "execution_count": 80,
   "id": "bbf91fbd",
   "metadata": {
    "ExecuteTime": {
     "end_time": "2023-05-20T07:51:48.248547Z",
     "start_time": "2023-05-20T07:51:47.368851Z"
    }
   },
   "outputs": [
    {
     "data": {
      "text/plain": [
       "[      Population         1     2     3     4     5     6     7     8     9  \\\n",
       " 0           Year      1804  1930  1960  1974  1987  1999  2011  2022  2037   \n",
       " 1  Years elapsed  200,000+   126    30    14    13    12    12    11    15   \n",
       " \n",
       "      10  \n",
       " 0  2057  \n",
       " 1    20  ,\n",
       "                              Region  2022 (percent)  2030 (percent)  \\\n",
       " 0                Sub-Saharan Africa  1,152 (14.51%)  1,401 (16.46%)   \n",
       " 1  Northern Africa and Western Asia     549 (6.91%)     617 (7.25%)   \n",
       " 2         Central and Southern Asia  2,075 (26.13%)  2,248 (26.41%)   \n",
       " 3     Eastern and Southeastern Asia  2,342 (29.49%)  2,372 (27.87%)   \n",
       " 4       Europe and Northern America  1,120 (14.10%)  1,129 (13.26%)   \n",
       " 5   Latin America and the Caribbean     658 (8.29%)     695 (8.17%)   \n",
       " 6             Australia/New Zealand      31 (0.39%)      34 (0.40%)   \n",
       " 7                     Other Oceania      14 (0.18%)      15 (0.18%)   \n",
       " 8                             World            7942            8512   \n",
       " \n",
       "    2050 (percent)  \n",
       " 0  2,094 (21.62%)  \n",
       " 1     771 (7.96%)  \n",
       " 2  2,575 (26.58%)  \n",
       " 3  2,317 (23.92%)  \n",
       " 4  1,125 (11.61%)  \n",
       " 5     749 (7.73%)  \n",
       " 6      38 (0.39%)  \n",
       " 7      20 (0.21%)  \n",
       " 8            9687  ,\n",
       "     0                                                  1\n",
       " 0 NaN  Graphs are temporarily unavailable due to tech...,\n",
       "                      Region Density(inhabitants/km2) Population(millions)  \\\n",
       " 0                      Asia                    104.1                 4641   \n",
       " 1                    Africa                     44.4                 1340   \n",
       " 2                    Europe                     73.4                  747   \n",
       " 3             Latin America                     24.1                  653   \n",
       " 4  Northern America[note 1]                     14.9                  368   \n",
       " 5                   Oceania                        5                   42   \n",
       " 6                Antarctica                       ~0            0.004[89]   \n",
       " \n",
       "                                Most populous country  \\\n",
       " 0                              1,418,459,382 – India   \n",
       " 1                            0,211,401,000 – Nigeria   \n",
       " 2  0,146,171,000 – Russia, approx. 110 million in...   \n",
       " 3                             0,214,103,000 – Brazil   \n",
       " 4                      0,332,909,000 – United States   \n",
       " 5                          0,025,917,000 – Australia   \n",
       " 6                                        N/A[note 2]   \n",
       " \n",
       "               Most populous city (metropolitan area)  \n",
       " 0  13,515,000 – Tokyo Metropolis(37,400,000 – Gre...  \n",
       " 1     09,500,000 – Cairo(20,076,000 – Greater Cairo)  \n",
       " 2  13,200,000 – Moscow(20,004,000 – Moscow metrop...  \n",
       " 3  12,252,000 – São Paulo City(21,650,000 – São P...  \n",
       " 4  08,804,000 – New York City(23,582,649 – New Yo...  \n",
       " 5                                05,367,000 – Sydney  \n",
       " 6                       00,001,258 – McMurdo Station  ,\n",
       "    Rank Country / Dependency  Population  Percentage of the world  \\\n",
       " 0     1                India  1425775850                      NaN   \n",
       " 1     2                China  1412600000                      NaN   \n",
       " 2     3        United States   334761120                      NaN   \n",
       " 3     4            Indonesia   275773800                      NaN   \n",
       " 4     5             Pakistan   229488994                      NaN   \n",
       " 5     6              Nigeria   216746934                      NaN   \n",
       " 6     7               Brazil   216165271                      NaN   \n",
       " 7     8           Bangladesh   168220000                      NaN   \n",
       " 8     9               Russia   147190000                      NaN   \n",
       " 9    10               Mexico   128271248                      NaN   \n",
       " \n",
       "           Date Source (official or from the United Nations)  \n",
       " 0  14 Apr 2023                            UN projection[92]  \n",
       " 1  31 Dec 2021                 National annual estimate[93]  \n",
       " 2  20 May 2023                National population clock[94]  \n",
       " 3   1 Jul 2022                 National annual estimate[95]  \n",
       " 4   1 Jul 2022                            UN projection[96]  \n",
       " 5   1 Jul 2022                            UN projection[96]  \n",
       " 6  20 May 2023                National population clock[97]  \n",
       " 7   1 Jul 2020               Annual Population Estimate[98]  \n",
       " 8   1 Oct 2021          2021 preliminary census results[99]  \n",
       " 9  31 Mar 2022                                          NaN  ,\n",
       "                                                              #  \\\n",
       "    Graphs are temporarily unavailable due to technical issues.   \n",
       "    Graphs are temporarily unavailable due to technical issues.   \n",
       "    Graphs are temporarily unavailable due to technical issues.   \n",
       "    Graphs are temporarily unavailable due to technical issues.   \n",
       "    Graphs are temporarily unavailable due to technical issues.   \n",
       "    Graphs are temporarily unavailable due to technical issues.   \n",
       "    Graphs are temporarily unavailable due to technical issues.   \n",
       "    Graphs are temporarily unavailable due to technical issues.   \n",
       "    Graphs are temporarily unavailable due to technical issues.   \n",
       "    Graphs are temporarily unavailable due to technical issues.   \n",
       "    Graphs are temporarily unavailable due to technical issues.   \n",
       " 0                                                 NaN            \n",
       " 1                                                   1            \n",
       " 2                                                   2            \n",
       " 3                                                   3            \n",
       " 4                                                   4            \n",
       " 5                                                   5            \n",
       " 6                                                   6            \n",
       " 7                                                   7            \n",
       " 8                                                   8            \n",
       " 9                                                   9            \n",
       " 10                                                 10            \n",
       " 11                                                NaN            \n",
       " 12  Notes: .mw-parser-output .reflist{font-size:90...            \n",
       " \n",
       "                               Most populous countries  \\\n",
       "                                    Unnamed: 1_level_1   \n",
       "                                    Unnamed: 1_level_2   \n",
       "                                    Unnamed: 1_level_3   \n",
       "                                    Unnamed: 1_level_4   \n",
       "                                    Unnamed: 1_level_5   \n",
       "                                    Unnamed: 1_level_6   \n",
       "                                    Unnamed: 1_level_7   \n",
       "                                    Unnamed: 1_level_8   \n",
       "                                    Unnamed: 1_level_9   \n",
       "                                   Unnamed: 1_level_10   \n",
       "                                   Unnamed: 1_level_11   \n",
       " 0   Graphs are temporarily unavailable due to tech...   \n",
       " 1                                            China[B]   \n",
       " 2                                               India   \n",
       " 3                                       United States   \n",
       " 4                                           Indonesia   \n",
       " 5                                            Pakistan   \n",
       " 6                                              Brazil   \n",
       " 7                                             Nigeria   \n",
       " 8                                          Bangladesh   \n",
       " 9                                              Russia   \n",
       " 10                                             Mexico   \n",
       " 11                                        World total   \n",
       " 12  Notes: .mw-parser-output .reflist{font-size:90...   \n",
       " \n",
       "                                                  2000  \\\n",
       "                                    Unnamed: 2_level_1   \n",
       "                                    Unnamed: 2_level_2   \n",
       "                                    Unnamed: 2_level_3   \n",
       "                                    Unnamed: 2_level_4   \n",
       "                                    Unnamed: 2_level_5   \n",
       "                                    Unnamed: 2_level_6   \n",
       "                                    Unnamed: 2_level_7   \n",
       "                                    Unnamed: 2_level_8   \n",
       "                                    Unnamed: 2_level_9   \n",
       "                                   Unnamed: 2_level_10   \n",
       "                                   Unnamed: 2_level_11   \n",
       " 0                                                 NaN   \n",
       " 1                                                1270   \n",
       " 2                                                1053   \n",
       " 3                                                 283   \n",
       " 4                                                 212   \n",
       " 5                                                 136   \n",
       " 6                                                 176   \n",
       " 7                                                 123   \n",
       " 8                                                 131   \n",
       " 9                                                 146   \n",
       " 10                                                103   \n",
       " 11                                               6127   \n",
       " 12  Notes: .mw-parser-output .reflist{font-size:90...   \n",
       " \n",
       "                                                  2015  \\\n",
       "                                    Unnamed: 3_level_1   \n",
       "                                    Unnamed: 3_level_2   \n",
       "                                    Unnamed: 3_level_3   \n",
       "                                    Unnamed: 3_level_4   \n",
       "                                    Unnamed: 3_level_5   \n",
       "                                    Unnamed: 3_level_6   \n",
       "                                    Unnamed: 3_level_7   \n",
       "                                    Unnamed: 3_level_8   \n",
       "                                    Unnamed: 3_level_9   \n",
       "                                   Unnamed: 3_level_10   \n",
       "                                   Unnamed: 3_level_11   \n",
       " 0                                                 NaN   \n",
       " 1                                                1376   \n",
       " 2                                                1311   \n",
       " 3                                                 322   \n",
       " 4                                                 258   \n",
       " 5                                                 208   \n",
       " 6                                                 206   \n",
       " 7                                                 182   \n",
       " 8                                                 161   \n",
       " 9                                                 146   \n",
       " 10                                                127   \n",
       " 11                                               7349   \n",
       " 12  Notes: .mw-parser-output .reflist{font-size:90...   \n",
       " \n",
       "                                               2030[A]  \\\n",
       "                                    Unnamed: 4_level_1   \n",
       "                                    Unnamed: 4_level_2   \n",
       "                                    Unnamed: 4_level_3   \n",
       "                                    Unnamed: 4_level_4   \n",
       "                                    Unnamed: 4_level_5   \n",
       "                                    Unnamed: 4_level_6   \n",
       "                                    Unnamed: 4_level_7   \n",
       "                                    Unnamed: 4_level_8   \n",
       "                                    Unnamed: 4_level_9   \n",
       "                                   Unnamed: 4_level_10   \n",
       "                                   Unnamed: 4_level_11   \n",
       " 0                                                 NaN   \n",
       " 1                                                1416   \n",
       " 2                                                1528   \n",
       " 3                                                 356   \n",
       " 4                                                 295   \n",
       " 5                                                 245   \n",
       " 6                                                 228   \n",
       " 7                                                 263   \n",
       " 8                                                 186   \n",
       " 9                                                 149   \n",
       " 10                                                148   \n",
       " 11                                               8501   \n",
       " 12  Notes: .mw-parser-output .reflist{font-size:90...   \n",
       " \n",
       "    Graphs are temporarily unavailable due to technical issues.  \n",
       "                                             Unnamed: 5_level_1  \n",
       "                                             Unnamed: 5_level_2  \n",
       "                                             Unnamed: 5_level_3  \n",
       "                                             Unnamed: 5_level_4  \n",
       "                                             Unnamed: 5_level_5  \n",
       "                                             Unnamed: 5_level_6  \n",
       "                                             Unnamed: 5_level_7  \n",
       "                                             Unnamed: 5_level_8  \n",
       "                                             Unnamed: 5_level_9  \n",
       "                                            Unnamed: 5_level_10  \n",
       "                                            Unnamed: 5_level_11  \n",
       " 0                                                 NaN           \n",
       " 1                                                 NaN           \n",
       " 2                                                 NaN           \n",
       " 3                                                 NaN           \n",
       " 4                                                 NaN           \n",
       " 5                                                 NaN           \n",
       " 6                                                 NaN           \n",
       " 7                                                 NaN           \n",
       " 8                                                 NaN           \n",
       " 9                                                 NaN           \n",
       " 10                                                NaN           \n",
       " 11                                                NaN           \n",
       " 12  Notes: .mw-parser-output .reflist{font-size:90...           ,\n",
       "     0                                                  1\n",
       " 0 NaN  Graphs are temporarily unavailable due to tech...,\n",
       "    Rank         Country  Population  Area(km2)  Density(pop/km2)\n",
       " 0     1       Singapore     5921231        719              8235\n",
       " 1     2      Bangladesh   165650475     148460              1116\n",
       " 2     3  Palestine[103]     5223000       6025               867\n",
       " 3     4          Taiwan    23580712      35980               655\n",
       " 4     5     South Korea    51844834      99720               520\n",
       " 5     6         Lebanon     5296814      10400               509\n",
       " 6     7          Rwanda    13173730      26338               500\n",
       " 7     8         Burundi    12696478      27830               456\n",
       " 8     9           India  1389637446    3287263               423\n",
       " 9    10     Netherlands    17400824      41543               419,\n",
       "    Rank         Country  Population  Area(km2)  Density(pop/km2)  \\\n",
       " 0     1           India  1389637446    3287263               423   \n",
       " 1     2        Pakistan   242923845     796095               305   \n",
       " 2     3      Bangladesh   165650475     148460              1116   \n",
       " 3     4           Japan   124214766     377915               329   \n",
       " 4     5     Philippines   114597229     300000               382   \n",
       " 5     6         Vietnam   103808319     331210               313   \n",
       " 6     7  United Kingdom    67791400     243610               278   \n",
       " 7     8     South Korea    51844834      99720               520   \n",
       " 8     9          Taiwan    23580712      35980               655   \n",
       " 9    10       Sri Lanka    23187516      65610               353   \n",
       " \n",
       "   Population trend[citation needed]  \n",
       " 0                           Growing  \n",
       " 1                   Rapidly growing  \n",
       " 2                           Growing  \n",
       " 3                    Declining[104]  \n",
       " 4                           Growing  \n",
       " 5                           Growing  \n",
       " 6                           Growing  \n",
       " 7                            Steady  \n",
       " 8                            Steady  \n",
       " 9                           Growing  ,\n",
       "     0                                                  1\n",
       " 0 NaN  Graphs are temporarily unavailable due to tech...,\n",
       "     0                                                  1\n",
       " 0 NaN  Graphs are temporarily unavailable due to tech...,\n",
       "     Year  Population Yearly growth           Density(pop/km2)  \\\n",
       "     Year  Population             %    Number Density(pop/km2)   \n",
       " 0   1951  2584034261         1.88%  47603112               17   \n",
       " 1   1952  2630861562         1.81%  46827301               18   \n",
       " 2   1953  2677608960         1.78%  46747398               18   \n",
       " 3   1954  2724846741         1.76%  47237781               18   \n",
       " 4   1955  2773019936         1.77%  48173195               19   \n",
       " ..   ...         ...           ...       ...              ...   \n",
       " 65  2016  7464022000         1.14%  84225000               50   \n",
       " 66  2017  7547859000         1.12%  83837000               51   \n",
       " 67  2018  7631091000         1.10%  83232000               51   \n",
       " 68  2019  7713468000         1.08%  82377000               52   \n",
       " 69  2020  7795000000         1.05%  81331000               52   \n",
       " \n",
       "    Urban population       \n",
       "              Number    %  \n",
       " 0         775067697  30%  \n",
       " 1         799282533  30%  \n",
       " 2         824289989  31%  \n",
       " 3         850179106  31%  \n",
       " 4         877008842  32%  \n",
       " ..              ...  ...  \n",
       " 65       4060653000  54%  \n",
       " 66       4140189000  55%  \n",
       " 67       4219817000  55%  \n",
       " 68       4299439000  56%  \n",
       " 69       4378900000  56%  \n",
       " \n",
       " [70 rows x 7 columns],\n",
       "                      Region  1500  1600  1700  1750  1800  1850  1900  1950  \\\n",
       " 0                     World   585   660   710   791   978  1262  1650  2521   \n",
       " 1                    Africa    86   114   106   106   107   111   133   221   \n",
       " 2                      Asia   282   350   411   502   635   809   947  1402   \n",
       " 3                    Europe   168   170   178   190   203   276   408   547   \n",
       " 4     Latin America[Note 1]    40    20    10    16    24    38    74   167   \n",
       " 5  Northern America[Note 1]     6     3     2     2     7    26    82   172   \n",
       " 6                   Oceania     3     3     3     2     2     2     6    13   \n",
       " \n",
       "    1999  2008  2010  2012  2050  2150  \n",
       " 0  6008  6707  6896  7052  9725  9746  \n",
       " 1   783   973  1022  1052  2478  2308  \n",
       " 2  3700  4054  4164  4250  5267  5561  \n",
       " 3   675   732   738   740   734   517  \n",
       " 4   508   577   590   603   784   912  \n",
       " 5   312   337   345   351   433   398  \n",
       " 6    30    34    37    38    57    51  ,\n",
       "                      Region  1500  1600  1700  1750  1800  1850  1900  1950  \\\n",
       " 0                    Africa  14.7  17.3  14.9  13.4  10.9   8.8   8.1   8.8   \n",
       " 1                      Asia  48.2  53.0  57.9  63.5  64.9  64.1  57.4  55.6   \n",
       " 2                    Europe  28.7  25.8  25.1  20.6  20.8  21.9  24.7  21.7   \n",
       " 3     Latin America[Note 1]   6.8   3.0   1.4   2.0   2.5   3.0   4.5   6.6   \n",
       " 4  Northern America[Note 1]   1.0   0.5   0.3   0.3   0.7   2.1   5.0   6.8   \n",
       " 5                   Oceania   0.5   0.5   0.4   0.3   0.2   0.2   0.4   0.5   \n",
       " \n",
       "    1999  2008  2010  2012  2050  2150  \n",
       " 0  13.0  14.5  14.8  15.2  25.5  23.7  \n",
       " 1  61.6  60.4  60.4  60.3  54.2  57.1  \n",
       " 2  11.2  10.9  10.7  10.5   7.6   5.3  \n",
       " 3   8.5   8.6   8.6   8.6   8.1   9.4  \n",
       " 4   5.2   5.0   5.0   5.0   4.5   4.1  \n",
       " 5   0.5   0.5   0.5   0.5   0.6   0.5  ,\n",
       "          Year    World  Africa    Asia  Europe  Latin America& Carib.[Note 1]  \\\n",
       " 0   70,000 BC  < 0.015     NaN     NaN     NaN                            0.0   \n",
       " 1   10,000 BC        4     NaN     NaN     NaN                            NaN   \n",
       " 2     8000 BC        5     NaN     NaN     NaN                            NaN   \n",
       " 3     6500 BC        5     NaN     NaN     NaN                            NaN   \n",
       " 4     5000 BC        5     NaN     NaN     NaN                            NaN   \n",
       " 5     4000 BC        7     NaN     NaN     NaN                            NaN   \n",
       " 6     3000 BC       14     NaN     NaN     NaN                            NaN   \n",
       " 7     2000 BC       27     NaN     NaN     NaN                            NaN   \n",
       " 8     1000 BC       50     7.0    33.0     9.0                            NaN   \n",
       " 9      500 BC      100    14.0    66.0    16.0                            NaN   \n",
       " 10       AD 1      200    23.0   141.0    28.0                            NaN   \n",
       " 11       1000      400    70.0   269.0    50.0                            8.0   \n",
       " 12       1500      458    86.0   243.0    84.0                           39.0   \n",
       " 13       1600      580   114.0   339.0   111.0                           10.0   \n",
       " 14       1700      682   106.0   436.0   125.0                           10.0   \n",
       " 15       1750      791   106.0   502.0   163.0                           16.0   \n",
       " 16       1800     1000   107.0   656.0   203.0                           24.0   \n",
       " 17       1850     1262   111.0   809.0   276.0                           38.0   \n",
       " 18       1900     1650   133.0   947.0   408.0                           74.0   \n",
       " 19       1950     2525   229.0  1394.0   549.0                          169.0   \n",
       " 20       1955     2758   254.0  1534.0   577.0                          193.0   \n",
       " 21       1960     3018   285.0  1687.0   606.0                          221.0   \n",
       " 22       1965     3322   322.0  1875.0   635.0                          254.0   \n",
       " 23       1970     3682   366.0  2120.0   657.0                          288.0   \n",
       " 24       1975     4061   416.0  2378.0   677.0                          326.0   \n",
       " 25       1980     4440   478.0  2626.0   694.0                          365.0   \n",
       " 26       1985     4853   550.0  2897.0   708.0                          406.0   \n",
       " 27       1990     5310   632.0  3202.0   721.0                          447.0   \n",
       " 28       1995     5735   720.0  3475.0   728.0                          487.0   \n",
       " 29       2000     6127   814.0  3714.0   726.0                          527.0   \n",
       " 30       2005     6520   920.0  3945.0   729.0                          564.0   \n",
       " 31       2010     6930  1044.0  4170.0   735.0                          600.0   \n",
       " 32       2015     7349  1186.0  4393.0   738.0                          634.0   \n",
       " \n",
       "     North America[Note 1]  Oceania              Notes  \n",
       " 0                     0.0      NaN              [121]  \n",
       " 1                     NaN      NaN              [122]  \n",
       " 2                     NaN      NaN                NaN  \n",
       " 3                     NaN      NaN                NaN  \n",
       " 4                     NaN      NaN                NaN  \n",
       " 5                     NaN      NaN                NaN  \n",
       " 6                     NaN      NaN                NaN  \n",
       " 7                     NaN      NaN                NaN  \n",
       " 8                     NaN      NaN  [citation needed]  \n",
       " 9                     NaN      NaN                NaN  \n",
       " 10                    NaN      NaN                NaN  \n",
       " 11                    1.0      2.0                NaN  \n",
       " 12                    3.0      3.0                NaN  \n",
       " 13                    3.0      3.0                NaN  \n",
       " 14                    2.0      3.0                NaN  \n",
       " 15                    2.0      2.0                NaN  \n",
       " 16                    7.0      3.0                NaN  \n",
       " 17                   26.0      2.0                NaN  \n",
       " 18                   82.0      6.0                NaN  \n",
       " 19                  172.0     12.7              [123]  \n",
       " 20                  187.0     14.2                NaN  \n",
       " 21                  204.0     15.8                NaN  \n",
       " 22                  219.0     17.5                NaN  \n",
       " 23                  231.0     19.7                NaN  \n",
       " 24                  242.0     21.5                NaN  \n",
       " 25                  254.0     23.0                NaN  \n",
       " 26                  267.0     24.9                NaN  \n",
       " 27                  281.0     27.0                NaN  \n",
       " 28                  296.0     29.1                NaN  \n",
       " 29                  314.0     31.1                NaN  \n",
       " 30                  329.0     33.4                NaN  \n",
       " 31                  344.0     36.4                NaN  \n",
       " 32                  358.0     39.3                NaN  ,\n",
       "     0                                                  1\n",
       " 0 NaN  This section needs additional citations for ve...,\n",
       "    Year  UN est.(millions) Difference  USCB est.(millions) Difference.1\n",
       " 0  2005               6542          –                 6473            –\n",
       " 1  2010               6957        415                 6866          393\n",
       " 2  2015               7380        423                 7256          390\n",
       " 3  2020               7795        415                 7643          380\n",
       " 4  2025               8184        390                 8007          363\n",
       " 5  2030               8549        364                 8341          334\n",
       " 6  2035               8888        339                 8646          306\n",
       " 7  2040               9199        311                 8926          280\n",
       " 8  2045               9482        283                 9180          254\n",
       " 9  2050               9735        253                 9408          228,\n",
       "     Year  World           Asia         Africa       Europe  \\\n",
       " 0   2000   6144  3,741 (60.9%)    811 (13.2%)  726 (11.8%)   \n",
       " 1   2005   6542  3,978 (60.8%)    916 (14.0%)  729 (11.2%)   \n",
       " 2   2010   6957  4,210 (60.5%)  1,039 (14.9%)  736 (10.6%)   \n",
       " 3   2015   7380  4,434 (60.1%)  1,182 (16.0%)  743 (10.1%)   \n",
       " 4   2020   7795  4,641 (59.5%)  1,341 (17.2%)   748 (9.6%)   \n",
       " 5   2025   8184  4,823 (58.9%)  1,509 (18.4%)   746 (9.1%)   \n",
       " 6   2030   8549  4,974 (58.2%)  1,688 (19.8%)   741 (8.7%)   \n",
       " 7   2035   8888  5,096 (57.3%)  1,878 (21.1%)   735 (8.3%)   \n",
       " 8   2040   9199  5,189 (56.4%)  2,077 (22.6%)   728 (7.9%)   \n",
       " 9   2045   9482  5,253 (55.4%)  2,282 (24.1%)   720 (7.6%)   \n",
       " 10  2050   9735  5,290 (54.3%)  2,489 (25.6%)   711 (7.3%)   \n",
       " 11  2055   9958  5,302 (53.2%)  2,698 (27.1%)   700 (7.0%)   \n",
       " 12  2060  10152  5,289 (52.1%)  2,905 (28.6%)   689 (6.8%)   \n",
       " 13  2065  10318  5,256 (51.0%)  3,109 (30.1%)   677 (6.6%)   \n",
       " 14  2070  10459  5,207 (49.8%)  3,308 (31.6%)   667 (6.4%)   \n",
       " 15  2075  10577  5,143 (48.6%)  3,499 (33.1%)   657 (6.2%)   \n",
       " 16  2080  10674  5,068 (47.5%)  3,681 (34.5%)   650 (6.1%)   \n",
       " 17  2085  10750  4,987 (46.4%)  3,851 (35.8%)   643 (6.0%)   \n",
       " 18  2090  10810  4,901 (45.3%)  4,008 (37.1%)   638 (5.9%)   \n",
       " 19  2095  10852  4,812 (44.3%)  4,152 (38.3%)   634 (5.8%)   \n",
       " 20  2100  10875  4,719 (43.4%)  4,280 (39.4%)   630 (5.8%)   \n",
       " \n",
       "    Latin America/Caribbean Northern America    Oceania  \n",
       " 0               522 (8.5%)       312 (5.1%)  31 (0.5%)  \n",
       " 1               558 (8.5%)       327 (5.0%)  34 (0.5%)  \n",
       " 2               591 (8.5%)       343 (4.9%)  37 (0.5%)  \n",
       " 3               624 (8.5%)       357 (4.8%)  40 (0.5%)  \n",
       " 4               654 (8.4%)       369 (4.7%)  43 (0.6%)  \n",
       " 5               682 (8.3%)       380 (4.6%)  45 (0.6%)  \n",
       " 6               706 (8.3%)       391 (4.6%)  48 (0.6%)  \n",
       " 7               726 (8.2%)       401 (4.5%)  50 (0.6%)  \n",
       " 8               742 (8.1%)       410 (4.5%)  53 (0.6%)  \n",
       " 9               754 (8.0%)       418 (4.4%)  55 (0.6%)  \n",
       " 10              762 (7.8%)       425 (4.4%)  57 (0.6%)  \n",
       " 11              767 (7.7%)       432 (4.3%)  60 (0.6%)  \n",
       " 12              768 (7.6%)       439 (4.3%)  62 (0.6%)  \n",
       " 13              765 (7.4%)       447 (4.3%)  64 (0.6%)  \n",
       " 14              759 (7.3%)       454 (4.3%)  66 (0.6%)  \n",
       " 15              750 (7.1%)       461 (4.4%)  67 (0.6%)  \n",
       " 16              739 (6.9%)       468 (4.4%)  69 (0.7%)  \n",
       " 17              726 (6.8%)       474 (4.4%)  71 (0.7%)  \n",
       " 18              711 (6.6%)       479 (4.4%)  72 (0.7%)  \n",
       " 19              696 (6.4%)       485 (4.5%)  74 (0.7%)  \n",
       " 20              680 (6.3%)       491 (4.5%)  75 (0.7%)  ,\n",
       "   Population(in billions)   0.5  0.5.1     1   1.1     2   2.1     4   4.1  \\\n",
       " 0                    Year  1500   1500  1804  1804  1927  1927  1974  1974   \n",
       " 1           Years elapsed     —    304   304   123   123    47    47    48   \n",
       " \n",
       "       8   8.1                                                 16  \\\n",
       " 0  2022  2022  .mw-parser-output .tooltip-dotted{border-botto...   \n",
       " 1    48    48                                                  —   \n",
       " \n",
       "                                                 16.1  \n",
       " 0  .mw-parser-output .tooltip-dotted{border-botto...  \n",
       " 1                                                NaN  ,\n",
       "   Population(in billions) 0.375  0.375.1  0.75  0.75.1   1.5  1.5.1     3  \\\n",
       " 0                    Year  1171     1171  1715    1715  1881   1881  1960   \n",
       " 1           Years elapsed     —      544   544     166   166     79    79   \n",
       " \n",
       "     3.1     6   6.1            12          12.1  \n",
       " 0  1960  1999  1999  c. 2100[146]  c. 2100[146]  \n",
       " 1    39    39    39       c. 100+       c. 100+  ,\n",
       "   .mw-parser-output .navbar{display:inline;font-size:88%;font-weight:normal}.mw-parser-output .navbar-collapse{float:left;text-align:left}.mw-parser-output .navbar-boxtext{word-spacing:0}.mw-parser-output .navbar ul{display:inline-block;white-space:nowrap;line-height:inherit}.mw-parser-output .navbar-brackets::before{margin-right:-0.125em;content:\"[ \"}.mw-parser-output .navbar-brackets::after{margin-left:-0.125em;content:\" ]\"}.mw-parser-output .navbar li{word-spacing:-0.125em}.mw-parser-output .navbar a>span,.mw-parser-output .navbar a>abbr{text-decoration:inherit}.mw-parser-output .navbar-mini abbr{font-variant:small-caps;border-bottom:none;text-decoration:none;cursor:inherit}.mw-parser-output .navbar-ct-full{font-size:114%;margin:0 7em}.mw-parser-output .navbar-ct-mini{font-size:114%;margin:0 4em}vtePopulation  \\\n",
       " 0                                       Major topics                                                                                                                                                                                                                                                                                                                                                                                                                                                                                                                                                                                                                                                                                                                                                                                                      \n",
       " 1                          Biology andrelated topics                                                                                                                                                                                                                                                                                                                                                                                                                                                                                                                                                                                                                                                                                                                                                                                                      \n",
       " 2                                  Populationecology                                                                                                                                                                                                                                                                                                                                                                                                                                                                                                                                                                                                                                                                                                                                                                                                      \n",
       " 3                             Society and population                                                                                                                                                                                                                                                                                                                                                                                                                                                                                                                                                                                                                                                                                                                                                                                                      \n",
       " 4                                       Publications                                                                                                                                                                                                                                                                                                                                                                                                                                                                                                                                                                                                                                                                                                                                                                                                      \n",
       " 5                                              Lists                                                                                                                                                                                                                                                                                                                                                                                                                                                                                                                                                                                                                                                                                                                                                                                                      \n",
       " 6                            Events andorganizations                                                                                                                                                                                                                                                                                                                                                                                                                                                                                                                                                                                                                                                                                                                                                                                                      \n",
       " 7                                     Related topics                                                                                                                                                                                                                                                                                                                                                                                                                                                                                                                                                                                                                                                                                                                                                                                                      \n",
       " 8                                  Commons  Category                                                                                                                                                                                                                                                                                                                                                                                                                                                                                                                                                                                                                                                                                                                                                                                                      \n",
       " \n",
       "   .mw-parser-output .navbar{display:inline;font-size:88%;font-weight:normal}.mw-parser-output .navbar-collapse{float:left;text-align:left}.mw-parser-output .navbar-boxtext{word-spacing:0}.mw-parser-output .navbar ul{display:inline-block;white-space:nowrap;line-height:inherit}.mw-parser-output .navbar-brackets::before{margin-right:-0.125em;content:\"[ \"}.mw-parser-output .navbar-brackets::after{margin-left:-0.125em;content:\" ]\"}.mw-parser-output .navbar li{word-spacing:-0.125em}.mw-parser-output .navbar a>span,.mw-parser-output .navbar a>abbr{text-decoration:inherit}.mw-parser-output .navbar-mini abbr{font-variant:small-caps;border-bottom:none;text-decoration:none;cursor:inherit}.mw-parser-output .navbar-ct-full{font-size:114%;margin:0 7em}.mw-parser-output .navbar-ct-mini{font-size:114%;margin:0 4em}vtePopulation.1  \n",
       " 0  Demographics of the world Demographic transiti...                                                                                                                                                                                                                                                                                                                                                                                                                                                                                                                                                                                                                                                                                                                                                                                                       \n",
       " 1  Population biology Population decline Populati...                                                                                                                                                                                                                                                                                                                                                                                                                                                                                                                                                                                                                                                                                                                                                                                                       \n",
       " 2  Earth's energy budget I = P × A × T Kaya ident...                                                                                                                                                                                                                                                                                                                                                                                                                                                                                                                                                                                                                                                                                                                                                                                                       \n",
       " 3  Biocapacity Human overpopulation Malthusian ca...                                                                                                                                                                                                                                                                                                                                                                                                                                                                                                                                                                                                                                                                                                                                                                                                       \n",
       " 4  Population and Environment Population and Deve...                                                                                                                                                                                                                                                                                                                                                                                                                                                                                                                                                                                                                                                                                                                                                                                                       \n",
       " 5  Population and housing censuses by country Lar...                                                                                                                                                                                                                                                                                                                                                                                                                                                                                                                                                                                                                                                                                                                                                                                                       \n",
       " 6  7 Billion Actions Church of Euthanasia Interna...                                                                                                                                                                                                                                                                                                                                                                                                                                                                                                                                                                                                                                                                                                                                                                                                       \n",
       " 7  Bennett's law Green Revolution Human impact on...                                                                                                                                                                                                                                                                                                                                                                                                                                                                                                                                                                                                                                                                                                                                                                                                       \n",
       " 8                                  Commons  Category                                                                                                                                                                                                                                                                                                                                                                                                                                                                                                                                                                                                                                                                                                                                                                                                       ,\n",
       "            Articles related to the world's population  \\\n",
       " 0   vteHuman impact on the environmentGeneral Anth...   \n",
       " 1                  vteHuman impact on the environment   \n",
       " 2                                             General   \n",
       " 3                                              Causes   \n",
       " 4                                             Effects   \n",
       " 5                                          Mitigation   \n",
       " 6   Commons  Category by country assessment mitiga...   \n",
       " 7      vteLists of countries by population statistics   \n",
       " 8                                              Global   \n",
       " 9                               Continents/subregions   \n",
       " 10                                   Intercontinental   \n",
       " 11                                 Cities/urban areas   \n",
       " 12                                    Past and future   \n",
       " 13                                 Population density   \n",
       " 14                                  Growth indicators   \n",
       " 15                                    Life expectancy   \n",
       " 16                                 Other demographics   \n",
       " 17                                             Health   \n",
       " 18                           Education and innovation   \n",
       " 19                                           Economic   \n",
       " 20    List of international rankings Lists by country   \n",
       " 21                               vteHierarchy of life   \n",
       " 22  Biosphere > Biome > Ecosystem > Biocoenosis > ...   \n",
       " 23                                   vteGlobalization   \n",
       " 24                          Journals  Outline Studies   \n",
       " 25                                            Aspects   \n",
       " 26                                             Issues   \n",
       " 27                                             Global   \n",
       " 28                                              Other   \n",
       " 29                                           Theories   \n",
       " 30                                    Notablescholars   \n",
       " 31                                          Economics   \n",
       " 32                                  Political economy   \n",
       " 33                               Politics / sociology   \n",
       " 34                                       Non–academic   \n",
       " 35                          Category  Business portal   \n",
       " \n",
       "          Articles related to the world's population.1  \n",
       " 0   vteHuman impact on the environmentGeneral Anth...  \n",
       " 1                  vteHuman impact on the environment  \n",
       " 2   Anthropocene Environmental issues list of issu...  \n",
       " 3   Agriculture animal agriculture cannabis cultiv...  \n",
       " 4   Biodiversity threats biodiversity loss decline...  \n",
       " 5   Alternative fuel vehicle propulsion Birth cont...  \n",
       " 6   Commons  Category by country assessment mitiga...  \n",
       " 7      vteLists of countries by population statistics  \n",
       " 8   Current population United Nations Demographics...  \n",
       " 9   Africa Antarctica Asia Europe North America Ca...  \n",
       " 10  Americas Arab world Commonwealth of Nations Eu...  \n",
       " 11  World cities National capitals Megacities Mega...  \n",
       " 12  Past and future population World population es...  \n",
       " 13  Current density Past and future population den...  \n",
       " 14  Population growth rate Natural increase Net re...  \n",
       " 15  world Africa Asia Europe North America South A...  \n",
       " 16  Age at childbearing Age at first marriage Age ...  \n",
       " 17  Antidepressant consumption Antiviral medicatio...  \n",
       " 18  Bloomberg Innovation Index Education Index Int...  \n",
       " 19  Access to financial services Development aid d...  \n",
       " 20    List of international rankings Lists by country  \n",
       " 21                               vteHierarchy of life  \n",
       " 22  Biosphere > Biome > Ecosystem > Biocoenosis > ...  \n",
       " 23                                   vteGlobalization  \n",
       " 24                          Journals  Outline Studies  \n",
       " 25  Alter-globalization Anti-globalization Cultura...  \n",
       " 26  Global Climate change Climate justice Disease ...  \n",
       " 27  Climate change Climate justice Disease COVID-1...  \n",
       " 28  Brain drain reverse Care drain Development aid...  \n",
       " 29  Capital accumulation Dependency Development Ea...  \n",
       " 30  Economics David Autor Richard Baldwin Ravi Bat...  \n",
       " 31  David Autor Richard Baldwin Ravi Batra Jagdish...  \n",
       " 32  Samir Amin Giovanni Arrighi Robert W. Cox Andr...  \n",
       " 33  Arjun Appadurai Daniele Archibugi K. Anthony A...  \n",
       " 34  Noam Chomsky Thomas Friedman Naomi Klein John ...  \n",
       " 35                          Category  Business portal  ,\n",
       "                   vteHuman impact on the environment  \\\n",
       " 0                                            General   \n",
       " 1                                             Causes   \n",
       " 2                                            Effects   \n",
       " 3                                         Mitigation   \n",
       " 4  Commons  Category by country assessment mitiga...   \n",
       " \n",
       "                 vteHuman impact on the environment.1  \n",
       " 0  Anthropocene Environmental issues list of issu...  \n",
       " 1  Agriculture animal agriculture cannabis cultiv...  \n",
       " 2  Biodiversity threats biodiversity loss decline...  \n",
       " 3  Alternative fuel vehicle propulsion Birth cont...  \n",
       " 4  Commons  Category by country assessment mitiga...  ,\n",
       "      vteLists of countries by population statistics  \\\n",
       " 0                                            Global   \n",
       " 1                             Continents/subregions   \n",
       " 2                                  Intercontinental   \n",
       " 3                                Cities/urban areas   \n",
       " 4                                   Past and future   \n",
       " 5                                Population density   \n",
       " 6                                 Growth indicators   \n",
       " 7                                   Life expectancy   \n",
       " 8                                Other demographics   \n",
       " 9                                            Health   \n",
       " 10                         Education and innovation   \n",
       " 11                                         Economic   \n",
       " 12  List of international rankings Lists by country   \n",
       " \n",
       "      vteLists of countries by population statistics.1  \n",
       " 0   Current population United Nations Demographics...  \n",
       " 1   Africa Antarctica Asia Europe North America Ca...  \n",
       " 2   Americas Arab world Commonwealth of Nations Eu...  \n",
       " 3   World cities National capitals Megacities Mega...  \n",
       " 4   Past and future population World population es...  \n",
       " 5   Current density Past and future population den...  \n",
       " 6   Population growth rate Natural increase Net re...  \n",
       " 7   world Africa Asia Europe North America South A...  \n",
       " 8   Age at childbearing Age at first marriage Age ...  \n",
       " 9   Antidepressant consumption Antiviral medicatio...  \n",
       " 10  Bloomberg Innovation Index Education Index Int...  \n",
       " 11  Access to financial services Development aid d...  \n",
       " 12    List of international rankings Lists by country  ,\n",
       "                                 vteHierarchy of life  \\\n",
       " 0  Biosphere > Biome > Ecosystem > Biocoenosis > ...   \n",
       " \n",
       "                               vteHierarchy of life.1  \n",
       " 0  Biosphere > Biome > Ecosystem > Biocoenosis > ...  ,\n",
       "              vteGlobalization  \\\n",
       " 0   Journals  Outline Studies   \n",
       " 1                     Aspects   \n",
       " 2                      Issues   \n",
       " 3                      Global   \n",
       " 4                       Other   \n",
       " 5                    Theories   \n",
       " 6             Notablescholars   \n",
       " 7                   Economics   \n",
       " 8           Political economy   \n",
       " 9        Politics / sociology   \n",
       " 10               Non–academic   \n",
       " 11  Category  Business portal   \n",
       " \n",
       "                                    vteGlobalization.1  \n",
       " 0                           Journals  Outline Studies  \n",
       " 1   Alter-globalization Anti-globalization Cultura...  \n",
       " 2   Global Climate change Climate justice Disease ...  \n",
       " 3   Climate change Climate justice Disease COVID-1...  \n",
       " 4   Brain drain reverse Care drain Development aid...  \n",
       " 5   Capital accumulation Dependency Development Ea...  \n",
       " 6   Economics David Autor Richard Baldwin Ravi Bat...  \n",
       " 7   David Autor Richard Baldwin Ravi Batra Jagdish...  \n",
       " 8   Samir Amin Giovanni Arrighi Robert W. Cox Andr...  \n",
       " 9   Arjun Appadurai Daniele Archibugi K. Anthony A...  \n",
       " 10  Noam Chomsky Thomas Friedman Naomi Klein John ...  \n",
       " 11                          Category  Business portal  ,\n",
       "         0                                                  1\n",
       " 0  Global  Climate change Climate justice Disease COVID-1...\n",
       " 1   Other  Brain drain reverse Care drain Development aid...,\n",
       "                       0                                                  1\n",
       " 0             Economics  David Autor Richard Baldwin Ravi Batra Jagdish...\n",
       " 1     Political economy  Samir Amin Giovanni Arrighi Robert W. Cox Andr...\n",
       " 2  Politics / sociology  Arjun Appadurai Daniele Archibugi K. Anthony A...\n",
       " 3          Non–academic  Noam Chomsky Thomas Friedman Naomi Klein John ...,\n",
       "                              0        1\n",
       " 0  Authority control: National  Germany]"
      ]
     },
     "execution_count": 80,
     "metadata": {},
     "output_type": "execute_result"
    }
   ],
   "source": [
    "html_table = pd.read_html(\"https://en.wikipedia.org/wiki/World_population\")\n",
    "html_table"
   ]
  },
  {
   "cell_type": "code",
   "execution_count": 82,
   "id": "53c5a972",
   "metadata": {
    "ExecuteTime": {
     "end_time": "2023-05-20T07:52:15.222971Z",
     "start_time": "2023-05-20T07:52:15.193053Z"
    }
   },
   "outputs": [
    {
     "data": {
      "text/html": [
       "<div>\n",
       "<style scoped>\n",
       "    .dataframe tbody tr th:only-of-type {\n",
       "        vertical-align: middle;\n",
       "    }\n",
       "\n",
       "    .dataframe tbody tr th {\n",
       "        vertical-align: top;\n",
       "    }\n",
       "\n",
       "    .dataframe thead th {\n",
       "        text-align: right;\n",
       "    }\n",
       "</style>\n",
       "<table border=\"1\" class=\"dataframe\">\n",
       "  <thead>\n",
       "    <tr style=\"text-align: right;\">\n",
       "      <th></th>\n",
       "      <th>Rank</th>\n",
       "      <th>Country</th>\n",
       "      <th>Population</th>\n",
       "      <th>Area(km2)</th>\n",
       "      <th>Density(pop/km2)</th>\n",
       "    </tr>\n",
       "  </thead>\n",
       "  <tbody>\n",
       "    <tr>\n",
       "      <th>0</th>\n",
       "      <td>1</td>\n",
       "      <td>Singapore</td>\n",
       "      <td>5921231</td>\n",
       "      <td>719</td>\n",
       "      <td>8235</td>\n",
       "    </tr>\n",
       "    <tr>\n",
       "      <th>1</th>\n",
       "      <td>2</td>\n",
       "      <td>Bangladesh</td>\n",
       "      <td>165650475</td>\n",
       "      <td>148460</td>\n",
       "      <td>1116</td>\n",
       "    </tr>\n",
       "    <tr>\n",
       "      <th>2</th>\n",
       "      <td>3</td>\n",
       "      <td>Palestine[103]</td>\n",
       "      <td>5223000</td>\n",
       "      <td>6025</td>\n",
       "      <td>867</td>\n",
       "    </tr>\n",
       "    <tr>\n",
       "      <th>3</th>\n",
       "      <td>4</td>\n",
       "      <td>Taiwan</td>\n",
       "      <td>23580712</td>\n",
       "      <td>35980</td>\n",
       "      <td>655</td>\n",
       "    </tr>\n",
       "    <tr>\n",
       "      <th>4</th>\n",
       "      <td>5</td>\n",
       "      <td>South Korea</td>\n",
       "      <td>51844834</td>\n",
       "      <td>99720</td>\n",
       "      <td>520</td>\n",
       "    </tr>\n",
       "    <tr>\n",
       "      <th>5</th>\n",
       "      <td>6</td>\n",
       "      <td>Lebanon</td>\n",
       "      <td>5296814</td>\n",
       "      <td>10400</td>\n",
       "      <td>509</td>\n",
       "    </tr>\n",
       "    <tr>\n",
       "      <th>6</th>\n",
       "      <td>7</td>\n",
       "      <td>Rwanda</td>\n",
       "      <td>13173730</td>\n",
       "      <td>26338</td>\n",
       "      <td>500</td>\n",
       "    </tr>\n",
       "    <tr>\n",
       "      <th>7</th>\n",
       "      <td>8</td>\n",
       "      <td>Burundi</td>\n",
       "      <td>12696478</td>\n",
       "      <td>27830</td>\n",
       "      <td>456</td>\n",
       "    </tr>\n",
       "    <tr>\n",
       "      <th>8</th>\n",
       "      <td>9</td>\n",
       "      <td>India</td>\n",
       "      <td>1389637446</td>\n",
       "      <td>3287263</td>\n",
       "      <td>423</td>\n",
       "    </tr>\n",
       "    <tr>\n",
       "      <th>9</th>\n",
       "      <td>10</td>\n",
       "      <td>Netherlands</td>\n",
       "      <td>17400824</td>\n",
       "      <td>41543</td>\n",
       "      <td>419</td>\n",
       "    </tr>\n",
       "  </tbody>\n",
       "</table>\n",
       "</div>"
      ],
      "text/plain": [
       "   Rank         Country  Population  Area(km2)  Density(pop/km2)\n",
       "0     1       Singapore     5921231        719              8235\n",
       "1     2      Bangladesh   165650475     148460              1116\n",
       "2     3  Palestine[103]     5223000       6025               867\n",
       "3     4          Taiwan    23580712      35980               655\n",
       "4     5     South Korea    51844834      99720               520\n",
       "5     6         Lebanon     5296814      10400               509\n",
       "6     7          Rwanda    13173730      26338               500\n",
       "7     8         Burundi    12696478      27830               456\n",
       "8     9           India  1389637446    3287263               423\n",
       "9    10     Netherlands    17400824      41543               419"
      ]
     },
     "execution_count": 82,
     "metadata": {},
     "output_type": "execute_result"
    }
   ],
   "source": [
    "html_table[7]"
   ]
  },
  {
   "cell_type": "code",
   "execution_count": 84,
   "id": "0f324850",
   "metadata": {
    "ExecuteTime": {
     "end_time": "2023-05-20T07:53:45.909222Z",
     "start_time": "2023-05-20T07:53:45.800511Z"
    }
   },
   "outputs": [
    {
     "ename": "ValueError",
     "evalue": "Table 'world_population' already exists.",
     "output_type": "error",
     "traceback": [
      "\u001b[1;31m---------------------------------------------------------------------------\u001b[0m",
      "\u001b[1;31mValueError\u001b[0m                                Traceback (most recent call last)",
      "\u001b[1;32m~\\AppData\\Local\\Temp\\ipykernel_22824\\3348997911.py\u001b[0m in \u001b[0;36m<module>\u001b[1;34m\u001b[0m\n\u001b[1;32m----> 1\u001b[1;33m \u001b[0mhtml_table\u001b[0m\u001b[1;33m[\u001b[0m\u001b[1;36m7\u001b[0m\u001b[1;33m]\u001b[0m\u001b[1;33m.\u001b[0m\u001b[0mto_sql\u001b[0m\u001b[1;33m(\u001b[0m\u001b[0mname\u001b[0m\u001b[1;33m=\u001b[0m\u001b[1;34m\"world_population\"\u001b[0m\u001b[1;33m,\u001b[0m \u001b[0mcon\u001b[0m\u001b[1;33m=\u001b[0m\u001b[0mtemp_db\u001b[0m\u001b[1;33m)\u001b[0m \u001b[1;31m#Tablo ismi ingilizceye uyumlu olmali ve arada bosluk olmamali.\u001b[0m\u001b[1;33m\u001b[0m\u001b[1;33m\u001b[0m\u001b[0m\n\u001b[0m",
      "\u001b[1;32m~\\anaconda3\\lib\\site-packages\\pandas\\core\\generic.py\u001b[0m in \u001b[0;36mto_sql\u001b[1;34m(self, name, con, schema, if_exists, index, index_label, chunksize, dtype, method)\u001b[0m\n\u001b[0;32m   2949\u001b[0m         \u001b[1;32mfrom\u001b[0m \u001b[0mpandas\u001b[0m\u001b[1;33m.\u001b[0m\u001b[0mio\u001b[0m \u001b[1;32mimport\u001b[0m \u001b[0msql\u001b[0m\u001b[1;33m\u001b[0m\u001b[1;33m\u001b[0m\u001b[0m\n\u001b[0;32m   2950\u001b[0m \u001b[1;33m\u001b[0m\u001b[0m\n\u001b[1;32m-> 2951\u001b[1;33m         return sql.to_sql(\n\u001b[0m\u001b[0;32m   2952\u001b[0m             \u001b[0mself\u001b[0m\u001b[1;33m,\u001b[0m\u001b[1;33m\u001b[0m\u001b[1;33m\u001b[0m\u001b[0m\n\u001b[0;32m   2953\u001b[0m             \u001b[0mname\u001b[0m\u001b[1;33m,\u001b[0m\u001b[1;33m\u001b[0m\u001b[1;33m\u001b[0m\u001b[0m\n",
      "\u001b[1;32m~\\anaconda3\\lib\\site-packages\\pandas\\io\\sql.py\u001b[0m in \u001b[0;36mto_sql\u001b[1;34m(frame, name, con, schema, if_exists, index, index_label, chunksize, dtype, method, engine, **engine_kwargs)\u001b[0m\n\u001b[0;32m    696\u001b[0m         )\n\u001b[0;32m    697\u001b[0m \u001b[1;33m\u001b[0m\u001b[0m\n\u001b[1;32m--> 698\u001b[1;33m     return pandas_sql.to_sql(\n\u001b[0m\u001b[0;32m    699\u001b[0m         \u001b[0mframe\u001b[0m\u001b[1;33m,\u001b[0m\u001b[1;33m\u001b[0m\u001b[1;33m\u001b[0m\u001b[0m\n\u001b[0;32m    700\u001b[0m         \u001b[0mname\u001b[0m\u001b[1;33m,\u001b[0m\u001b[1;33m\u001b[0m\u001b[1;33m\u001b[0m\u001b[0m\n",
      "\u001b[1;32m~\\anaconda3\\lib\\site-packages\\pandas\\io\\sql.py\u001b[0m in \u001b[0;36mto_sql\u001b[1;34m(self, frame, name, if_exists, index, index_label, schema, chunksize, dtype, method, engine, **engine_kwargs)\u001b[0m\n\u001b[0;32m   1730\u001b[0m         \u001b[0msql_engine\u001b[0m \u001b[1;33m=\u001b[0m \u001b[0mget_engine\u001b[0m\u001b[1;33m(\u001b[0m\u001b[0mengine\u001b[0m\u001b[1;33m)\u001b[0m\u001b[1;33m\u001b[0m\u001b[1;33m\u001b[0m\u001b[0m\n\u001b[0;32m   1731\u001b[0m \u001b[1;33m\u001b[0m\u001b[0m\n\u001b[1;32m-> 1732\u001b[1;33m         table = self.prep_table(\n\u001b[0m\u001b[0;32m   1733\u001b[0m             \u001b[0mframe\u001b[0m\u001b[1;33m=\u001b[0m\u001b[0mframe\u001b[0m\u001b[1;33m,\u001b[0m\u001b[1;33m\u001b[0m\u001b[1;33m\u001b[0m\u001b[0m\n\u001b[0;32m   1734\u001b[0m             \u001b[0mname\u001b[0m\u001b[1;33m=\u001b[0m\u001b[0mname\u001b[0m\u001b[1;33m,\u001b[0m\u001b[1;33m\u001b[0m\u001b[1;33m\u001b[0m\u001b[0m\n",
      "\u001b[1;32m~\\anaconda3\\lib\\site-packages\\pandas\\io\\sql.py\u001b[0m in \u001b[0;36mprep_table\u001b[1;34m(self, frame, name, if_exists, index, index_label, schema, dtype)\u001b[0m\n\u001b[0;32m   1629\u001b[0m             \u001b[0mdtype\u001b[0m\u001b[1;33m=\u001b[0m\u001b[0mdtype\u001b[0m\u001b[1;33m,\u001b[0m\u001b[1;33m\u001b[0m\u001b[1;33m\u001b[0m\u001b[0m\n\u001b[0;32m   1630\u001b[0m         )\n\u001b[1;32m-> 1631\u001b[1;33m         \u001b[0mtable\u001b[0m\u001b[1;33m.\u001b[0m\u001b[0mcreate\u001b[0m\u001b[1;33m(\u001b[0m\u001b[1;33m)\u001b[0m\u001b[1;33m\u001b[0m\u001b[1;33m\u001b[0m\u001b[0m\n\u001b[0m\u001b[0;32m   1632\u001b[0m         \u001b[1;32mreturn\u001b[0m \u001b[0mtable\u001b[0m\u001b[1;33m\u001b[0m\u001b[1;33m\u001b[0m\u001b[0m\n\u001b[0;32m   1633\u001b[0m \u001b[1;33m\u001b[0m\u001b[0m\n",
      "\u001b[1;32m~\\anaconda3\\lib\\site-packages\\pandas\\io\\sql.py\u001b[0m in \u001b[0;36mcreate\u001b[1;34m(self)\u001b[0m\n\u001b[0;32m    832\u001b[0m         \u001b[1;32mif\u001b[0m \u001b[0mself\u001b[0m\u001b[1;33m.\u001b[0m\u001b[0mexists\u001b[0m\u001b[1;33m(\u001b[0m\u001b[1;33m)\u001b[0m\u001b[1;33m:\u001b[0m\u001b[1;33m\u001b[0m\u001b[1;33m\u001b[0m\u001b[0m\n\u001b[0;32m    833\u001b[0m             \u001b[1;32mif\u001b[0m \u001b[0mself\u001b[0m\u001b[1;33m.\u001b[0m\u001b[0mif_exists\u001b[0m \u001b[1;33m==\u001b[0m \u001b[1;34m\"fail\"\u001b[0m\u001b[1;33m:\u001b[0m\u001b[1;33m\u001b[0m\u001b[1;33m\u001b[0m\u001b[0m\n\u001b[1;32m--> 834\u001b[1;33m                 \u001b[1;32mraise\u001b[0m \u001b[0mValueError\u001b[0m\u001b[1;33m(\u001b[0m\u001b[1;34mf\"Table '{self.name}' already exists.\"\u001b[0m\u001b[1;33m)\u001b[0m\u001b[1;33m\u001b[0m\u001b[1;33m\u001b[0m\u001b[0m\n\u001b[0m\u001b[0;32m    835\u001b[0m             \u001b[1;32melif\u001b[0m \u001b[0mself\u001b[0m\u001b[1;33m.\u001b[0m\u001b[0mif_exists\u001b[0m \u001b[1;33m==\u001b[0m \u001b[1;34m\"replace\"\u001b[0m\u001b[1;33m:\u001b[0m\u001b[1;33m\u001b[0m\u001b[1;33m\u001b[0m\u001b[0m\n\u001b[0;32m    836\u001b[0m                 \u001b[0mself\u001b[0m\u001b[1;33m.\u001b[0m\u001b[0mpd_sql\u001b[0m\u001b[1;33m.\u001b[0m\u001b[0mdrop_table\u001b[0m\u001b[1;33m(\u001b[0m\u001b[0mself\u001b[0m\u001b[1;33m.\u001b[0m\u001b[0mname\u001b[0m\u001b[1;33m,\u001b[0m \u001b[0mself\u001b[0m\u001b[1;33m.\u001b[0m\u001b[0mschema\u001b[0m\u001b[1;33m)\u001b[0m\u001b[1;33m\u001b[0m\u001b[1;33m\u001b[0m\u001b[0m\n",
      "\u001b[1;31mValueError\u001b[0m: Table 'world_population' already exists."
     ]
    }
   ],
   "source": [
    "html_table[7].to_sql(name=\"world_population\", con=temp_db) #Tablo ismi ingilizceye uyumlu olmali ve arada bosluk olmamali."
   ]
  },
  {
   "cell_type": "code",
   "execution_count": 85,
   "id": "d546970f",
   "metadata": {
    "ExecuteTime": {
     "end_time": "2023-05-20T07:54:15.078394Z",
     "start_time": "2023-05-20T07:54:15.053461Z"
    }
   },
   "outputs": [
    {
     "data": {
      "text/plain": [
       "['world_population']"
      ]
     },
     "execution_count": 85,
     "metadata": {},
     "output_type": "execute_result"
    }
   ],
   "source": [
    "temp_db.table_names()"
   ]
  },
  {
   "cell_type": "code",
   "execution_count": 86,
   "id": "0c5d8ccf",
   "metadata": {
    "ExecuteTime": {
     "end_time": "2023-05-20T07:57:39.910855Z",
     "start_time": "2023-05-20T07:57:39.866945Z"
    }
   },
   "outputs": [
    {
     "data": {
      "text/html": [
       "<div>\n",
       "<style scoped>\n",
       "    .dataframe tbody tr th:only-of-type {\n",
       "        vertical-align: middle;\n",
       "    }\n",
       "\n",
       "    .dataframe tbody tr th {\n",
       "        vertical-align: top;\n",
       "    }\n",
       "\n",
       "    .dataframe thead th {\n",
       "        text-align: right;\n",
       "    }\n",
       "</style>\n",
       "<table border=\"1\" class=\"dataframe\">\n",
       "  <thead>\n",
       "    <tr style=\"text-align: right;\">\n",
       "      <th></th>\n",
       "      <th>index</th>\n",
       "      <th>Rank</th>\n",
       "      <th>Country</th>\n",
       "      <th>Population</th>\n",
       "      <th>Area(km2)</th>\n",
       "      <th>Density(pop/km2)</th>\n",
       "    </tr>\n",
       "  </thead>\n",
       "  <tbody>\n",
       "    <tr>\n",
       "      <th>0</th>\n",
       "      <td>0</td>\n",
       "      <td>1</td>\n",
       "      <td>Singapore</td>\n",
       "      <td>5921231</td>\n",
       "      <td>719</td>\n",
       "      <td>8235</td>\n",
       "    </tr>\n",
       "    <tr>\n",
       "      <th>1</th>\n",
       "      <td>1</td>\n",
       "      <td>2</td>\n",
       "      <td>Bangladesh</td>\n",
       "      <td>165650475</td>\n",
       "      <td>148460</td>\n",
       "      <td>1116</td>\n",
       "    </tr>\n",
       "    <tr>\n",
       "      <th>2</th>\n",
       "      <td>2</td>\n",
       "      <td>3</td>\n",
       "      <td>Palestine[103]</td>\n",
       "      <td>5223000</td>\n",
       "      <td>6025</td>\n",
       "      <td>867</td>\n",
       "    </tr>\n",
       "    <tr>\n",
       "      <th>3</th>\n",
       "      <td>3</td>\n",
       "      <td>4</td>\n",
       "      <td>Taiwan</td>\n",
       "      <td>23580712</td>\n",
       "      <td>35980</td>\n",
       "      <td>655</td>\n",
       "    </tr>\n",
       "    <tr>\n",
       "      <th>4</th>\n",
       "      <td>4</td>\n",
       "      <td>5</td>\n",
       "      <td>South Korea</td>\n",
       "      <td>51844834</td>\n",
       "      <td>99720</td>\n",
       "      <td>520</td>\n",
       "    </tr>\n",
       "    <tr>\n",
       "      <th>5</th>\n",
       "      <td>5</td>\n",
       "      <td>6</td>\n",
       "      <td>Lebanon</td>\n",
       "      <td>5296814</td>\n",
       "      <td>10400</td>\n",
       "      <td>509</td>\n",
       "    </tr>\n",
       "    <tr>\n",
       "      <th>6</th>\n",
       "      <td>6</td>\n",
       "      <td>7</td>\n",
       "      <td>Rwanda</td>\n",
       "      <td>13173730</td>\n",
       "      <td>26338</td>\n",
       "      <td>500</td>\n",
       "    </tr>\n",
       "    <tr>\n",
       "      <th>7</th>\n",
       "      <td>7</td>\n",
       "      <td>8</td>\n",
       "      <td>Burundi</td>\n",
       "      <td>12696478</td>\n",
       "      <td>27830</td>\n",
       "      <td>456</td>\n",
       "    </tr>\n",
       "    <tr>\n",
       "      <th>8</th>\n",
       "      <td>8</td>\n",
       "      <td>9</td>\n",
       "      <td>India</td>\n",
       "      <td>1389637446</td>\n",
       "      <td>3287263</td>\n",
       "      <td>423</td>\n",
       "    </tr>\n",
       "    <tr>\n",
       "      <th>9</th>\n",
       "      <td>9</td>\n",
       "      <td>10</td>\n",
       "      <td>Netherlands</td>\n",
       "      <td>17400824</td>\n",
       "      <td>41543</td>\n",
       "      <td>419</td>\n",
       "    </tr>\n",
       "  </tbody>\n",
       "</table>\n",
       "</div>"
      ],
      "text/plain": [
       "   index  Rank         Country  Population  Area(km2)  Density(pop/km2)\n",
       "0      0     1       Singapore     5921231        719              8235\n",
       "1      1     2      Bangladesh   165650475     148460              1116\n",
       "2      2     3  Palestine[103]     5223000       6025               867\n",
       "3      3     4          Taiwan    23580712      35980               655\n",
       "4      4     5     South Korea    51844834      99720               520\n",
       "5      5     6         Lebanon     5296814      10400               509\n",
       "6      6     7          Rwanda    13173730      26338               500\n",
       "7      7     8         Burundi    12696478      27830               456\n",
       "8      8     9           India  1389637446    3287263               423\n",
       "9      9    10     Netherlands    17400824      41543               419"
      ]
     },
     "execution_count": 86,
     "metadata": {},
     "output_type": "execute_result"
    }
   ],
   "source": [
    "df_sql = pd.read_sql(sql=\"world_population\", con=temp_db)\n",
    "df_sql"
   ]
  },
  {
   "cell_type": "code",
   "execution_count": 87,
   "id": "58567c95",
   "metadata": {
    "ExecuteTime": {
     "end_time": "2023-05-20T07:58:43.611122Z",
     "start_time": "2023-05-20T07:58:43.582199Z"
    }
   },
   "outputs": [
    {
     "data": {
      "text/html": [
       "<div>\n",
       "<style scoped>\n",
       "    .dataframe tbody tr th:only-of-type {\n",
       "        vertical-align: middle;\n",
       "    }\n",
       "\n",
       "    .dataframe tbody tr th {\n",
       "        vertical-align: top;\n",
       "    }\n",
       "\n",
       "    .dataframe thead th {\n",
       "        text-align: right;\n",
       "    }\n",
       "</style>\n",
       "<table border=\"1\" class=\"dataframe\">\n",
       "  <thead>\n",
       "    <tr style=\"text-align: right;\">\n",
       "      <th></th>\n",
       "      <th>Country</th>\n",
       "      <th>Rank</th>\n",
       "      <th>Population</th>\n",
       "    </tr>\n",
       "  </thead>\n",
       "  <tbody>\n",
       "    <tr>\n",
       "      <th>0</th>\n",
       "      <td>Singapore</td>\n",
       "      <td>1</td>\n",
       "      <td>5921231</td>\n",
       "    </tr>\n",
       "    <tr>\n",
       "      <th>1</th>\n",
       "      <td>Bangladesh</td>\n",
       "      <td>2</td>\n",
       "      <td>165650475</td>\n",
       "    </tr>\n",
       "    <tr>\n",
       "      <th>2</th>\n",
       "      <td>Palestine[103]</td>\n",
       "      <td>3</td>\n",
       "      <td>5223000</td>\n",
       "    </tr>\n",
       "    <tr>\n",
       "      <th>3</th>\n",
       "      <td>Taiwan</td>\n",
       "      <td>4</td>\n",
       "      <td>23580712</td>\n",
       "    </tr>\n",
       "    <tr>\n",
       "      <th>4</th>\n",
       "      <td>South Korea</td>\n",
       "      <td>5</td>\n",
       "      <td>51844834</td>\n",
       "    </tr>\n",
       "    <tr>\n",
       "      <th>5</th>\n",
       "      <td>Lebanon</td>\n",
       "      <td>6</td>\n",
       "      <td>5296814</td>\n",
       "    </tr>\n",
       "    <tr>\n",
       "      <th>6</th>\n",
       "      <td>Rwanda</td>\n",
       "      <td>7</td>\n",
       "      <td>13173730</td>\n",
       "    </tr>\n",
       "    <tr>\n",
       "      <th>7</th>\n",
       "      <td>Burundi</td>\n",
       "      <td>8</td>\n",
       "      <td>12696478</td>\n",
       "    </tr>\n",
       "    <tr>\n",
       "      <th>8</th>\n",
       "      <td>India</td>\n",
       "      <td>9</td>\n",
       "      <td>1389637446</td>\n",
       "    </tr>\n",
       "    <tr>\n",
       "      <th>9</th>\n",
       "      <td>Netherlands</td>\n",
       "      <td>10</td>\n",
       "      <td>17400824</td>\n",
       "    </tr>\n",
       "  </tbody>\n",
       "</table>\n",
       "</div>"
      ],
      "text/plain": [
       "          Country  Rank  Population\n",
       "0       Singapore     1     5921231\n",
       "1      Bangladesh     2   165650475\n",
       "2  Palestine[103]     3     5223000\n",
       "3          Taiwan     4    23580712\n",
       "4     South Korea     5    51844834\n",
       "5         Lebanon     6     5296814\n",
       "6          Rwanda     7    13173730\n",
       "7         Burundi     8    12696478\n",
       "8           India     9  1389637446\n",
       "9     Netherlands    10    17400824"
      ]
     },
     "execution_count": 87,
     "metadata": {},
     "output_type": "execute_result"
    }
   ],
   "source": [
    "pd.read_sql_query(sql=\"SELECT Country, Rank, Population FROM world_population\", con=temp_db)"
   ]
  },
  {
   "cell_type": "code",
   "execution_count": 89,
   "id": "8d18616d",
   "metadata": {
    "ExecuteTime": {
     "end_time": "2023-05-20T07:59:25.435595Z",
     "start_time": "2023-05-20T07:59:25.408668Z"
    }
   },
   "outputs": [
    {
     "data": {
      "text/html": [
       "<div>\n",
       "<style scoped>\n",
       "    .dataframe tbody tr th:only-of-type {\n",
       "        vertical-align: middle;\n",
       "    }\n",
       "\n",
       "    .dataframe tbody tr th {\n",
       "        vertical-align: top;\n",
       "    }\n",
       "\n",
       "    .dataframe thead th {\n",
       "        text-align: right;\n",
       "    }\n",
       "</style>\n",
       "<table border=\"1\" class=\"dataframe\">\n",
       "  <thead>\n",
       "    <tr style=\"text-align: right;\">\n",
       "      <th></th>\n",
       "      <th>Country</th>\n",
       "      <th>Rank</th>\n",
       "    </tr>\n",
       "  </thead>\n",
       "  <tbody>\n",
       "    <tr>\n",
       "      <th>0</th>\n",
       "      <td>Singapore</td>\n",
       "      <td>1</td>\n",
       "    </tr>\n",
       "    <tr>\n",
       "      <th>1</th>\n",
       "      <td>Bangladesh</td>\n",
       "      <td>2</td>\n",
       "    </tr>\n",
       "    <tr>\n",
       "      <th>2</th>\n",
       "      <td>Palestine[103]</td>\n",
       "      <td>3</td>\n",
       "    </tr>\n",
       "    <tr>\n",
       "      <th>3</th>\n",
       "      <td>Taiwan</td>\n",
       "      <td>4</td>\n",
       "    </tr>\n",
       "    <tr>\n",
       "      <th>4</th>\n",
       "      <td>South Korea</td>\n",
       "      <td>5</td>\n",
       "    </tr>\n",
       "    <tr>\n",
       "      <th>5</th>\n",
       "      <td>Lebanon</td>\n",
       "      <td>6</td>\n",
       "    </tr>\n",
       "    <tr>\n",
       "      <th>6</th>\n",
       "      <td>Rwanda</td>\n",
       "      <td>7</td>\n",
       "    </tr>\n",
       "    <tr>\n",
       "      <th>7</th>\n",
       "      <td>Burundi</td>\n",
       "      <td>8</td>\n",
       "    </tr>\n",
       "    <tr>\n",
       "      <th>8</th>\n",
       "      <td>India</td>\n",
       "      <td>9</td>\n",
       "    </tr>\n",
       "    <tr>\n",
       "      <th>9</th>\n",
       "      <td>Netherlands</td>\n",
       "      <td>10</td>\n",
       "    </tr>\n",
       "  </tbody>\n",
       "</table>\n",
       "</div>"
      ],
      "text/plain": [
       "          Country  Rank\n",
       "0       Singapore     1\n",
       "1      Bangladesh     2\n",
       "2  Palestine[103]     3\n",
       "3          Taiwan     4\n",
       "4     South Korea     5\n",
       "5         Lebanon     6\n",
       "6          Rwanda     7\n",
       "7         Burundi     8\n",
       "8           India     9\n",
       "9     Netherlands    10"
      ]
     },
     "execution_count": 89,
     "metadata": {},
     "output_type": "execute_result"
    }
   ],
   "source": [
    "df_sql[[\"Country\",\"Rank\"]]"
   ]
  }
 ],
 "metadata": {
  "kernelspec": {
   "display_name": "Python 3 (ipykernel)",
   "language": "python",
   "name": "python3"
  },
  "language_info": {
   "codemirror_mode": {
    "name": "ipython",
    "version": 3
   },
   "file_extension": ".py",
   "mimetype": "text/x-python",
   "name": "python",
   "nbconvert_exporter": "python",
   "pygments_lexer": "ipython3",
   "version": "3.9.13"
  },
  "toc": {
   "base_numbering": 1,
   "nav_menu": {},
   "number_sections": true,
   "sideBar": true,
   "skip_h1_title": false,
   "title_cell": "Table of Contents",
   "title_sidebar": "Contents",
   "toc_cell": false,
   "toc_position": {},
   "toc_section_display": true,
   "toc_window_display": false
  }
 },
 "nbformat": 4,
 "nbformat_minor": 5
}
