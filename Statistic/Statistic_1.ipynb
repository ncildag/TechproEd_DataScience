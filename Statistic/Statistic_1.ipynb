{
 "cells": [
  {
   "cell_type": "code",
   "execution_count": 1,
   "id": "759f6a7e",
   "metadata": {
    "ExecuteTime": {
     "end_time": "2023-04-19T22:02:51.777014Z",
     "start_time": "2023-04-19T22:02:45.833440Z"
    }
   },
   "outputs": [],
   "source": [
    "import numpy as np\n",
    "import pandas as pd\n",
    "import seaborn as sns"
   ]
  },
  {
   "cell_type": "code",
   "execution_count": 46,
   "id": "0e55b54d",
   "metadata": {
    "ExecuteTime": {
     "end_time": "2023-04-19T23:40:44.424791Z",
     "start_time": "2023-04-19T23:40:44.414970Z"
    }
   },
   "outputs": [],
   "source": [
    "from scipy import stats\n",
    "from scipy.stats import iqr"
   ]
  },
  {
   "cell_type": "code",
   "execution_count": 2,
   "id": "80aa5bb1",
   "metadata": {
    "ExecuteTime": {
     "end_time": "2023-04-19T22:57:25.364387Z",
     "start_time": "2023-04-19T22:57:24.774023Z"
    }
   },
   "outputs": [
    {
     "data": {
      "text/plain": [
       "['anagrams',\n",
       " 'anscombe',\n",
       " 'attention',\n",
       " 'brain_networks',\n",
       " 'car_crashes',\n",
       " 'diamonds',\n",
       " 'dots',\n",
       " 'dowjones',\n",
       " 'exercise',\n",
       " 'flights',\n",
       " 'fmri',\n",
       " 'geyser',\n",
       " 'glue',\n",
       " 'healthexp',\n",
       " 'iris',\n",
       " 'mpg',\n",
       " 'penguins',\n",
       " 'planets',\n",
       " 'seaice',\n",
       " 'taxis',\n",
       " 'tips',\n",
       " 'titanic']"
      ]
     },
     "execution_count": 2,
     "metadata": {},
     "output_type": "execute_result"
    }
   ],
   "source": [
    "sns.get_dataset_names() #bring us draft datasets from this library"
   ]
  },
  {
   "cell_type": "code",
   "execution_count": 3,
   "id": "fc9431a5",
   "metadata": {
    "ExecuteTime": {
     "end_time": "2023-04-19T22:58:15.894886Z",
     "start_time": "2023-04-19T22:58:15.052330Z"
    }
   },
   "outputs": [],
   "source": [
    "df = sns.load_dataset(\"mpg\")"
   ]
  },
  {
   "cell_type": "code",
   "execution_count": 5,
   "id": "2920a2ee",
   "metadata": {
    "ExecuteTime": {
     "end_time": "2023-04-19T22:58:23.999562Z",
     "start_time": "2023-04-19T22:58:23.957956Z"
    }
   },
   "outputs": [
    {
     "data": {
      "text/html": [
       "<div>\n",
       "<style scoped>\n",
       "    .dataframe tbody tr th:only-of-type {\n",
       "        vertical-align: middle;\n",
       "    }\n",
       "\n",
       "    .dataframe tbody tr th {\n",
       "        vertical-align: top;\n",
       "    }\n",
       "\n",
       "    .dataframe thead th {\n",
       "        text-align: right;\n",
       "    }\n",
       "</style>\n",
       "<table border=\"1\" class=\"dataframe\">\n",
       "  <thead>\n",
       "    <tr style=\"text-align: right;\">\n",
       "      <th></th>\n",
       "      <th>mpg</th>\n",
       "      <th>cylinders</th>\n",
       "      <th>displacement</th>\n",
       "      <th>horsepower</th>\n",
       "      <th>weight</th>\n",
       "      <th>acceleration</th>\n",
       "      <th>model_year</th>\n",
       "      <th>origin</th>\n",
       "      <th>name</th>\n",
       "    </tr>\n",
       "  </thead>\n",
       "  <tbody>\n",
       "    <tr>\n",
       "      <th>0</th>\n",
       "      <td>18.0</td>\n",
       "      <td>8</td>\n",
       "      <td>307.0</td>\n",
       "      <td>130.0</td>\n",
       "      <td>3504</td>\n",
       "      <td>12.0</td>\n",
       "      <td>70</td>\n",
       "      <td>usa</td>\n",
       "      <td>chevrolet chevelle malibu</td>\n",
       "    </tr>\n",
       "    <tr>\n",
       "      <th>1</th>\n",
       "      <td>15.0</td>\n",
       "      <td>8</td>\n",
       "      <td>350.0</td>\n",
       "      <td>165.0</td>\n",
       "      <td>3693</td>\n",
       "      <td>11.5</td>\n",
       "      <td>70</td>\n",
       "      <td>usa</td>\n",
       "      <td>buick skylark 320</td>\n",
       "    </tr>\n",
       "    <tr>\n",
       "      <th>2</th>\n",
       "      <td>18.0</td>\n",
       "      <td>8</td>\n",
       "      <td>318.0</td>\n",
       "      <td>150.0</td>\n",
       "      <td>3436</td>\n",
       "      <td>11.0</td>\n",
       "      <td>70</td>\n",
       "      <td>usa</td>\n",
       "      <td>plymouth satellite</td>\n",
       "    </tr>\n",
       "    <tr>\n",
       "      <th>3</th>\n",
       "      <td>16.0</td>\n",
       "      <td>8</td>\n",
       "      <td>304.0</td>\n",
       "      <td>150.0</td>\n",
       "      <td>3433</td>\n",
       "      <td>12.0</td>\n",
       "      <td>70</td>\n",
       "      <td>usa</td>\n",
       "      <td>amc rebel sst</td>\n",
       "    </tr>\n",
       "    <tr>\n",
       "      <th>4</th>\n",
       "      <td>17.0</td>\n",
       "      <td>8</td>\n",
       "      <td>302.0</td>\n",
       "      <td>140.0</td>\n",
       "      <td>3449</td>\n",
       "      <td>10.5</td>\n",
       "      <td>70</td>\n",
       "      <td>usa</td>\n",
       "      <td>ford torino</td>\n",
       "    </tr>\n",
       "  </tbody>\n",
       "</table>\n",
       "</div>"
      ],
      "text/plain": [
       "    mpg  cylinders  displacement  horsepower  weight  acceleration  \\\n",
       "0  18.0          8         307.0       130.0    3504          12.0   \n",
       "1  15.0          8         350.0       165.0    3693          11.5   \n",
       "2  18.0          8         318.0       150.0    3436          11.0   \n",
       "3  16.0          8         304.0       150.0    3433          12.0   \n",
       "4  17.0          8         302.0       140.0    3449          10.5   \n",
       "\n",
       "   model_year origin                       name  \n",
       "0          70    usa  chevrolet chevelle malibu  \n",
       "1          70    usa          buick skylark 320  \n",
       "2          70    usa         plymouth satellite  \n",
       "3          70    usa              amc rebel sst  \n",
       "4          70    usa                ford torino  "
      ]
     },
     "execution_count": 5,
     "metadata": {},
     "output_type": "execute_result"
    }
   ],
   "source": [
    "df.head()"
   ]
  },
  {
   "cell_type": "code",
   "execution_count": 6,
   "id": "52d41736",
   "metadata": {
    "ExecuteTime": {
     "end_time": "2023-04-19T23:01:53.221295Z",
     "start_time": "2023-04-19T23:01:53.211487Z"
    }
   },
   "outputs": [
    {
     "data": {
      "text/plain": [
       "(398, 9)"
      ]
     },
     "execution_count": 6,
     "metadata": {},
     "output_type": "execute_result"
    }
   ],
   "source": [
    "df.shape"
   ]
  },
  {
   "cell_type": "code",
   "execution_count": 7,
   "id": "a416fe35",
   "metadata": {
    "ExecuteTime": {
     "end_time": "2023-04-19T23:02:01.127390Z",
     "start_time": "2023-04-19T23:02:01.108909Z"
    }
   },
   "outputs": [
    {
     "data": {
      "text/plain": [
       "Index(['mpg', 'cylinders', 'displacement', 'horsepower', 'weight',\n",
       "       'acceleration', 'model_year', 'origin', 'name'],\n",
       "      dtype='object')"
      ]
     },
     "execution_count": 7,
     "metadata": {},
     "output_type": "execute_result"
    }
   ],
   "source": [
    "df.columns"
   ]
  },
  {
   "cell_type": "code",
   "execution_count": 8,
   "id": "edc97b55",
   "metadata": {
    "ExecuteTime": {
     "end_time": "2023-04-19T23:02:23.732581Z",
     "start_time": "2023-04-19T23:02:23.688942Z"
    }
   },
   "outputs": [
    {
     "name": "stdout",
     "output_type": "stream",
     "text": [
      "<class 'pandas.core.frame.DataFrame'>\n",
      "RangeIndex: 398 entries, 0 to 397\n",
      "Data columns (total 9 columns):\n",
      " #   Column        Non-Null Count  Dtype  \n",
      "---  ------        --------------  -----  \n",
      " 0   mpg           398 non-null    float64\n",
      " 1   cylinders     398 non-null    int64  \n",
      " 2   displacement  398 non-null    float64\n",
      " 3   horsepower    392 non-null    float64\n",
      " 4   weight        398 non-null    int64  \n",
      " 5   acceleration  398 non-null    float64\n",
      " 6   model_year    398 non-null    int64  \n",
      " 7   origin        398 non-null    object \n",
      " 8   name          398 non-null    object \n",
      "dtypes: float64(4), int64(3), object(2)\n",
      "memory usage: 28.1+ KB\n"
     ]
    }
   ],
   "source": [
    "df.info()"
   ]
  },
  {
   "cell_type": "code",
   "execution_count": 9,
   "id": "2138905f",
   "metadata": {
    "ExecuteTime": {
     "end_time": "2023-04-19T23:03:27.758904Z",
     "start_time": "2023-04-19T23:03:27.728159Z"
    }
   },
   "outputs": [
    {
     "data": {
      "text/html": [
       "<div>\n",
       "<style scoped>\n",
       "    .dataframe tbody tr th:only-of-type {\n",
       "        vertical-align: middle;\n",
       "    }\n",
       "\n",
       "    .dataframe tbody tr th {\n",
       "        vertical-align: top;\n",
       "    }\n",
       "\n",
       "    .dataframe thead th {\n",
       "        text-align: right;\n",
       "    }\n",
       "</style>\n",
       "<table border=\"1\" class=\"dataframe\">\n",
       "  <thead>\n",
       "    <tr style=\"text-align: right;\">\n",
       "      <th></th>\n",
       "      <th>origin</th>\n",
       "      <th>name</th>\n",
       "    </tr>\n",
       "  </thead>\n",
       "  <tbody>\n",
       "    <tr>\n",
       "      <th>0</th>\n",
       "      <td>usa</td>\n",
       "      <td>chevrolet chevelle malibu</td>\n",
       "    </tr>\n",
       "    <tr>\n",
       "      <th>1</th>\n",
       "      <td>usa</td>\n",
       "      <td>buick skylark 320</td>\n",
       "    </tr>\n",
       "    <tr>\n",
       "      <th>2</th>\n",
       "      <td>usa</td>\n",
       "      <td>plymouth satellite</td>\n",
       "    </tr>\n",
       "    <tr>\n",
       "      <th>3</th>\n",
       "      <td>usa</td>\n",
       "      <td>amc rebel sst</td>\n",
       "    </tr>\n",
       "    <tr>\n",
       "      <th>4</th>\n",
       "      <td>usa</td>\n",
       "      <td>ford torino</td>\n",
       "    </tr>\n",
       "    <tr>\n",
       "      <th>...</th>\n",
       "      <td>...</td>\n",
       "      <td>...</td>\n",
       "    </tr>\n",
       "    <tr>\n",
       "      <th>393</th>\n",
       "      <td>usa</td>\n",
       "      <td>ford mustang gl</td>\n",
       "    </tr>\n",
       "    <tr>\n",
       "      <th>394</th>\n",
       "      <td>europe</td>\n",
       "      <td>vw pickup</td>\n",
       "    </tr>\n",
       "    <tr>\n",
       "      <th>395</th>\n",
       "      <td>usa</td>\n",
       "      <td>dodge rampage</td>\n",
       "    </tr>\n",
       "    <tr>\n",
       "      <th>396</th>\n",
       "      <td>usa</td>\n",
       "      <td>ford ranger</td>\n",
       "    </tr>\n",
       "    <tr>\n",
       "      <th>397</th>\n",
       "      <td>usa</td>\n",
       "      <td>chevy s-10</td>\n",
       "    </tr>\n",
       "  </tbody>\n",
       "</table>\n",
       "<p>398 rows × 2 columns</p>\n",
       "</div>"
      ],
      "text/plain": [
       "     origin                       name\n",
       "0       usa  chevrolet chevelle malibu\n",
       "1       usa          buick skylark 320\n",
       "2       usa         plymouth satellite\n",
       "3       usa              amc rebel sst\n",
       "4       usa                ford torino\n",
       "..      ...                        ...\n",
       "393     usa            ford mustang gl\n",
       "394  europe                  vw pickup\n",
       "395     usa              dodge rampage\n",
       "396     usa                ford ranger\n",
       "397     usa                 chevy s-10\n",
       "\n",
       "[398 rows x 2 columns]"
      ]
     },
     "execution_count": 9,
     "metadata": {},
     "output_type": "execute_result"
    }
   ],
   "source": [
    "df.select_dtypes(include=[\"object\"]) #datatype'i object olanlari getir."
   ]
  },
  {
   "cell_type": "code",
   "execution_count": 13,
   "id": "e1aef4cc",
   "metadata": {
    "ExecuteTime": {
     "end_time": "2023-04-19T23:06:20.255808Z",
     "start_time": "2023-04-19T23:06:20.232531Z"
    }
   },
   "outputs": [
    {
     "data": {
      "text/plain": [
       "mpg             129\n",
       "cylinders         5\n",
       "displacement     82\n",
       "horsepower       93\n",
       "weight          351\n",
       "acceleration     95\n",
       "model_year       13\n",
       "origin            3\n",
       "name            305\n",
       "dtype: int64"
      ]
     },
     "execution_count": 13,
     "metadata": {},
     "output_type": "execute_result"
    }
   ],
   "source": [
    "df.nunique(axis=0)"
   ]
  },
  {
   "cell_type": "code",
   "execution_count": 11,
   "id": "a8c53151",
   "metadata": {
    "ExecuteTime": {
     "end_time": "2023-04-19T23:06:01.334983Z",
     "start_time": "2023-04-19T23:06:01.264868Z"
    }
   },
   "outputs": [
    {
     "data": {
      "text/html": [
       "<div>\n",
       "<style scoped>\n",
       "    .dataframe tbody tr th:only-of-type {\n",
       "        vertical-align: middle;\n",
       "    }\n",
       "\n",
       "    .dataframe tbody tr th {\n",
       "        vertical-align: top;\n",
       "    }\n",
       "\n",
       "    .dataframe thead th {\n",
       "        text-align: right;\n",
       "    }\n",
       "</style>\n",
       "<table border=\"1\" class=\"dataframe\">\n",
       "  <thead>\n",
       "    <tr style=\"text-align: right;\">\n",
       "      <th></th>\n",
       "      <th>mpg</th>\n",
       "      <th>cylinders</th>\n",
       "      <th>displacement</th>\n",
       "      <th>horsepower</th>\n",
       "      <th>weight</th>\n",
       "      <th>acceleration</th>\n",
       "      <th>model_year</th>\n",
       "    </tr>\n",
       "  </thead>\n",
       "  <tbody>\n",
       "    <tr>\n",
       "      <th>count</th>\n",
       "      <td>398.000000</td>\n",
       "      <td>398.000000</td>\n",
       "      <td>398.000000</td>\n",
       "      <td>392.000000</td>\n",
       "      <td>398.000000</td>\n",
       "      <td>398.000000</td>\n",
       "      <td>398.000000</td>\n",
       "    </tr>\n",
       "    <tr>\n",
       "      <th>mean</th>\n",
       "      <td>23.514573</td>\n",
       "      <td>5.454774</td>\n",
       "      <td>193.425879</td>\n",
       "      <td>104.469388</td>\n",
       "      <td>2970.424623</td>\n",
       "      <td>15.568090</td>\n",
       "      <td>76.010050</td>\n",
       "    </tr>\n",
       "    <tr>\n",
       "      <th>std</th>\n",
       "      <td>7.815984</td>\n",
       "      <td>1.701004</td>\n",
       "      <td>104.269838</td>\n",
       "      <td>38.491160</td>\n",
       "      <td>846.841774</td>\n",
       "      <td>2.757689</td>\n",
       "      <td>3.697627</td>\n",
       "    </tr>\n",
       "    <tr>\n",
       "      <th>min</th>\n",
       "      <td>9.000000</td>\n",
       "      <td>3.000000</td>\n",
       "      <td>68.000000</td>\n",
       "      <td>46.000000</td>\n",
       "      <td>1613.000000</td>\n",
       "      <td>8.000000</td>\n",
       "      <td>70.000000</td>\n",
       "    </tr>\n",
       "    <tr>\n",
       "      <th>25%</th>\n",
       "      <td>17.500000</td>\n",
       "      <td>4.000000</td>\n",
       "      <td>104.250000</td>\n",
       "      <td>75.000000</td>\n",
       "      <td>2223.750000</td>\n",
       "      <td>13.825000</td>\n",
       "      <td>73.000000</td>\n",
       "    </tr>\n",
       "    <tr>\n",
       "      <th>50%</th>\n",
       "      <td>23.000000</td>\n",
       "      <td>4.000000</td>\n",
       "      <td>148.500000</td>\n",
       "      <td>93.500000</td>\n",
       "      <td>2803.500000</td>\n",
       "      <td>15.500000</td>\n",
       "      <td>76.000000</td>\n",
       "    </tr>\n",
       "    <tr>\n",
       "      <th>75%</th>\n",
       "      <td>29.000000</td>\n",
       "      <td>8.000000</td>\n",
       "      <td>262.000000</td>\n",
       "      <td>126.000000</td>\n",
       "      <td>3608.000000</td>\n",
       "      <td>17.175000</td>\n",
       "      <td>79.000000</td>\n",
       "    </tr>\n",
       "    <tr>\n",
       "      <th>max</th>\n",
       "      <td>46.600000</td>\n",
       "      <td>8.000000</td>\n",
       "      <td>455.000000</td>\n",
       "      <td>230.000000</td>\n",
       "      <td>5140.000000</td>\n",
       "      <td>24.800000</td>\n",
       "      <td>82.000000</td>\n",
       "    </tr>\n",
       "  </tbody>\n",
       "</table>\n",
       "</div>"
      ],
      "text/plain": [
       "              mpg   cylinders  displacement  horsepower       weight  \\\n",
       "count  398.000000  398.000000    398.000000  392.000000   398.000000   \n",
       "mean    23.514573    5.454774    193.425879  104.469388  2970.424623   \n",
       "std      7.815984    1.701004    104.269838   38.491160   846.841774   \n",
       "min      9.000000    3.000000     68.000000   46.000000  1613.000000   \n",
       "25%     17.500000    4.000000    104.250000   75.000000  2223.750000   \n",
       "50%     23.000000    4.000000    148.500000   93.500000  2803.500000   \n",
       "75%     29.000000    8.000000    262.000000  126.000000  3608.000000   \n",
       "max     46.600000    8.000000    455.000000  230.000000  5140.000000   \n",
       "\n",
       "       acceleration  model_year  \n",
       "count    398.000000  398.000000  \n",
       "mean      15.568090   76.010050  \n",
       "std        2.757689    3.697627  \n",
       "min        8.000000   70.000000  \n",
       "25%       13.825000   73.000000  \n",
       "50%       15.500000   76.000000  \n",
       "75%       17.175000   79.000000  \n",
       "max       24.800000   82.000000  "
      ]
     },
     "execution_count": 11,
     "metadata": {},
     "output_type": "execute_result"
    }
   ],
   "source": [
    "df.describe()"
   ]
  },
  {
   "cell_type": "code",
   "execution_count": 15,
   "id": "ed049717",
   "metadata": {
    "ExecuteTime": {
     "end_time": "2023-04-19T23:11:40.500322Z",
     "start_time": "2023-04-19T23:11:40.484058Z"
    }
   },
   "outputs": [],
   "source": [
    "np.random.seed(101) # Random number generate\n",
    "\n",
    "population = np.random.randint(0,100,size=1000)"
   ]
  },
  {
   "cell_type": "code",
   "execution_count": 16,
   "id": "1414aacf",
   "metadata": {
    "ExecuteTime": {
     "end_time": "2023-04-19T23:12:07.076233Z",
     "start_time": "2023-04-19T23:12:07.053369Z"
    }
   },
   "outputs": [
    {
     "data": {
      "text/plain": [
       "array([95, 11, 81, 70, 63, 87, 75,  9, 77, 40,  4, 63, 40, 60, 92, 64,  5,\n",
       "       12, 93, 40, 49, 83,  8, 29, 59, 34, 44, 72, 19, 10, 76, 95, 87,  0,\n",
       "       73,  8, 62, 36, 83, 99, 28, 63,  7, 10, 52, 56, 38, 73, 52, 18, 71,\n",
       "       15, 44,  0, 12, 17, 75, 79, 97, 93, 24, 36, 63, 19, 35, 30, 10, 60,\n",
       "       20, 27,  8, 86, 26, 87, 46, 47, 54, 86,  9, 45,  2, 18, 58, 92, 11,\n",
       "       10, 94, 35, 28,  3, 83, 84, 47, 14, 69, 60, 69, 51,  6, 88, 71, 68,\n",
       "       23, 35, 79, 98, 67, 82, 57, 77, 46,  3, 46, 29, 86, 21, 21, 81, 23,\n",
       "       94, 71, 20, 27, 75,  5, 49, 86, 89, 63, 82, 77,  3, 56, 14, 49, 87,\n",
       "       52, 13, 47, 49, 24, 20, 64, 52, 60, 47, 29, 60, 53, 11, 40, 91, 45,\n",
       "       97, 24, 36, 38,  9, 52, 67, 43,  1, 79, 68, 68, 61, 18, 51, 14, 28,\n",
       "       17, 87, 46, 52, 16, 70, 71, 84, 10, 62, 96, 57, 23, 86, 85, 26, 76,\n",
       "       66, 54, 17, 65, 57, 89,  2, 80, 50, 66, 88, 79, 93,  6, 92, 42, 22,\n",
       "       20, 25, 97, 54, 71, 72, 80, 93, 64, 63, 80, 38, 45, 35, 25, 95, 75,\n",
       "       72, 11, 76, 79, 50, 22, 59, 66,  1, 34, 37, 57, 35, 42, 44, 49, 31,\n",
       "       79, 85,  3, 55, 73, 93, 94, 99, 40, 54, 88, 94, 86, 17, 68, 17, 18,\n",
       "       60, 83, 82,  7, 67, 34, 76, 94, 20, 69, 73, 59, 34, 69, 25, 78, 92,\n",
       "       74, 75, 33,  9, 43, 20, 82, 30,  3, 46, 29, 47, 27, 81, 71, 25, 94,\n",
       "       57, 21, 29,  6, 54, 47, 47, 60,  6, 75, 97, 53, 44, 98, 39, 32, 87,\n",
       "       78, 21, 90, 14, 20,  1, 70, 25, 45, 96, 32, 31, 41, 79, 87, 22, 94,\n",
       "       46, 71, 24, 41, 36, 31, 16, 87, 22, 96,  3, 12, 71,  9, 87, 95, 39,\n",
       "       64, 62, 88, 76, 93, 83, 95, 68, 69, 59, 52,  7, 40, 73, 86, 14, 49,\n",
       "       97, 25, 57, 40, 17, 32, 83, 97, 27, 47, 13, 70, 15, 92, 18, 94, 48,\n",
       "       65, 82, 34,  5, 46, 83, 27, 26, 20, 87, 84, 17, 59, 64, 44,  4, 51,\n",
       "       49, 74, 82, 37, 53, 93, 73,  5, 37, 56, 35, 15, 40, 42, 71, 37, 46,\n",
       "       71, 91, 97, 36, 43, 27, 66, 57,  3, 55, 70, 41, 67, 72, 88, 67, 75,\n",
       "       69, 92, 20, 15, 57,  9, 69, 97, 91, 51, 54, 45, 38, 15, 42, 61,  8,\n",
       "        3, 88, 72, 41, 24, 93, 28, 95, 43, 48, 69, 42, 66, 82, 66, 88, 78,\n",
       "       14, 53, 46, 14, 27, 68, 21, 38, 42, 30, 88, 79, 56, 65, 93, 37, 87,\n",
       "       66, 16, 60, 25, 99, 30, 41, 72, 45, 26, 87, 65, 60, 89, 70, 33, 59,\n",
       "       28, 16, 49, 95, 41, 11, 86, 15, 95, 91, 19, 69,  1, 77, 63, 87, 28,\n",
       "       70,  5,  3, 12, 62, 26, 96, 61, 87, 74, 99, 97, 64, 95,  3, 88, 59,\n",
       "       38, 29, 31, 88, 57,  9, 62, 31, 13, 35, 47,  2, 17, 50, 22, 30, 36,\n",
       "       22, 97, 51, 38, 28,  4,  0, 12, 90,  2,  7, 44, 54, 49, 76, 98,  3,\n",
       "       32, 91, 43,  7, 42, 66,  9,  5, 26, 66, 22, 47, 27, 46, 14, 52, 74,\n",
       "       54,  3, 94, 36, 63, 41, 18, 37, 45, 82, 47, 66, 97, 20,  9, 87, 40,\n",
       "       13, 95, 16, 38, 87, 72, 60, 78, 53, 48, 83, 90, 41, 84, 78, 55, 70,\n",
       "       93, 57, 86, 67,  8, 47, 70, 39, 53,  5, 40, 88, 58, 12, 70,  5, 82,\n",
       "        8, 60, 58, 45, 92, 85, 44, 62, 39, 38, 54, 98, 80, 93, 16, 37, 58,\n",
       "       40, 72, 72, 22, 42, 38, 45, 16, 52, 17, 22, 15, 18, 37, 48,  2,  2,\n",
       "       31, 50, 78, 70, 40, 60, 62, 69, 34, 95, 58,  4, 70, 20, 18, 66, 23,\n",
       "       87, 45, 64,  6, 39, 29, 60, 33, 18, 59, 64, 59, 65, 10, 86, 66, 38,\n",
       "       76, 97, 79,  7, 65, 50, 53,  4, 39,  1,  5, 67, 92, 50, 59,  2, 91,\n",
       "       14, 12, 68, 87, 13, 18,  4, 89, 22, 40,  7,  2, 83, 19, 68, 89, 16,\n",
       "        1,  2, 73, 65, 24, 84, 17, 21, 97, 44, 36, 38, 93, 32,  5, 76, 19,\n",
       "       33, 76, 41, 21, 20, 54, 77, 62, 99,  4, 52, 83, 55, 11, 46, 39, 92,\n",
       "       34, 54, 49, 11, 62, 11, 83, 25, 32, 40, 27, 30, 92, 59, 86, 74, 17,\n",
       "       69, 85,  4,  5, 49, 29, 41, 38, 22, 45, 10, 65, 77, 72, 90, 80, 64,\n",
       "       81, 20,  2, 20, 53, 38, 94, 49, 26, 88, 21, 38, 52, 74, 96, 19, 77,\n",
       "        5, 70, 27, 92,  6, 97, 71, 23, 90, 78, 85, 61, 79, 54, 56, 64, 41,\n",
       "       61, 56,  2, 86, 19, 77,  5, 44, 15, 75, 70, 12, 13, 93, 21, 46, 28,\n",
       "       20, 70, 14, 56, 19, 79, 59, 33, 33, 11, 44, 43, 93,  3, 39, 77,  3,\n",
       "       58, 51, 32, 46,  8,  9, 13, 63, 59, 79,  5, 33, 47, 29, 79, 62, 25,\n",
       "       43, 46, 94, 68, 55, 69, 41, 41, 14, 47,  3, 64, 23, 80, 42, 84, 88,\n",
       "       89, 10, 78, 97, 65,  8, 14, 28, 80, 17, 62, 27, 33, 14, 21, 25, 96,\n",
       "       64, 84,  6, 76, 95, 43, 94, 40, 68, 45, 24, 50, 36, 62, 52,  9, 79,\n",
       "       74, 30, 70, 90, 58, 97, 57, 60, 64, 86, 93, 31, 22, 90,  3, 52,  9,\n",
       "       93, 60, 42,  1, 15, 38, 65, 10, 86, 63, 98, 11, 96, 67, 95, 94, 80,\n",
       "       16, 30, 89, 62, 62, 42, 10, 48, 86, 33, 52, 24, 94, 78, 71, 19, 75,\n",
       "       81, 71, 23, 93, 58, 48, 76, 63, 58, 28, 84, 47, 40, 63])"
      ]
     },
     "execution_count": 16,
     "metadata": {},
     "output_type": "execute_result"
    }
   ],
   "source": [
    "population"
   ]
  },
  {
   "cell_type": "code",
   "execution_count": 17,
   "id": "46efed87",
   "metadata": {
    "ExecuteTime": {
     "end_time": "2023-04-19T23:14:35.555841Z",
     "start_time": "2023-04-19T23:14:35.540353Z"
    }
   },
   "outputs": [],
   "source": [
    "# Create a sample from POPULATION and make the size equal 100\n",
    "\n",
    "np.random.seed(51)\n",
    "\n",
    "sample = np.random.choice(population,100)"
   ]
  },
  {
   "cell_type": "code",
   "execution_count": 18,
   "id": "23e44172",
   "metadata": {
    "ExecuteTime": {
     "end_time": "2023-04-19T23:14:38.490348Z",
     "start_time": "2023-04-19T23:14:38.475736Z"
    }
   },
   "outputs": [
    {
     "data": {
      "text/plain": [
       "array([79, 26, 84, 16, 92, 29, 96, 65, 45, 17,  9, 85, 33,  4, 47, 93, 19,\n",
       "       14, 20, 68, 43, 40, 19, 92, 43,  8, 75, 65, 55, 46, 15, 74, 32, 59,\n",
       "       87, 12, 87, 43, 19, 19, 26, 49, 57, 47,  5, 68, 52, 56, 78, 34, 11,\n",
       "       95, 65, 55, 21, 38, 52, 17, 31,  5, 81,  5, 72,  8, 49, 20, 19, 35,\n",
       "       27, 55, 44, 80, 18, 70, 82, 40, 76,  3, 48, 28, 47, 80, 69, 41, 41,\n",
       "       84, 54, 60, 62, 16, 64, 41, 28, 77, 90, 39, 27, 16, 20, 28])"
      ]
     },
     "execution_count": 18,
     "metadata": {},
     "output_type": "execute_result"
    }
   ],
   "source": [
    "sample"
   ]
  },
  {
   "cell_type": "code",
   "execution_count": 21,
   "id": "de955faa",
   "metadata": {
    "ExecuteTime": {
     "end_time": "2023-04-19T23:16:41.645919Z",
     "start_time": "2023-04-19T23:16:41.637770Z"
    }
   },
   "outputs": [
    {
     "data": {
      "text/plain": [
       "50.372"
      ]
     },
     "execution_count": 21,
     "metadata": {},
     "output_type": "execute_result"
    }
   ],
   "source": [
    "# Check mean values\n",
    "\n",
    "population.mean()"
   ]
  },
  {
   "cell_type": "code",
   "execution_count": 22,
   "id": "bedc009f",
   "metadata": {
    "ExecuteTime": {
     "end_time": "2023-04-19T23:16:44.670344Z",
     "start_time": "2023-04-19T23:16:44.652443Z"
    }
   },
   "outputs": [
    {
     "data": {
      "text/plain": [
       "45.8"
      ]
     },
     "execution_count": 22,
     "metadata": {},
     "output_type": "execute_result"
    }
   ],
   "source": [
    "sample.mean()"
   ]
  },
  {
   "cell_type": "code",
   "execution_count": 24,
   "id": "6580fe4a",
   "metadata": {
    "ExecuteTime": {
     "end_time": "2023-04-19T23:22:01.502067Z",
     "start_time": "2023-04-19T23:22:01.470174Z"
    }
   },
   "outputs": [
    {
     "data": {
      "text/plain": [
       "[51.98,\n",
       " 53.39,\n",
       " 48.28,\n",
       " 50.33,\n",
       " 50.36,\n",
       " 47.01,\n",
       " 48.24,\n",
       " 47.6,\n",
       " 50.75,\n",
       " 49.9,\n",
       " 58.83,\n",
       " 44.53,\n",
       " 46.64,\n",
       " 49.12,\n",
       " 47.63,\n",
       " 47.92,\n",
       " 50.54,\n",
       " 53.3,\n",
       " 50.04,\n",
       " 49.4,\n",
       " 49.2,\n",
       " 47.73,\n",
       " 43.4,\n",
       " 52.35,\n",
       " 51.46,\n",
       " 52.32,\n",
       " 47.49,\n",
       " 51.2,\n",
       " 53.15,\n",
       " 48.9,\n",
       " 55.29,\n",
       " 53.95,\n",
       " 47.77,\n",
       " 51.55,\n",
       " 49.66,\n",
       " 50.49,\n",
       " 44.77,\n",
       " 48.73,\n",
       " 49.4,\n",
       " 46.98,\n",
       " 53.46,\n",
       " 47.27,\n",
       " 47.78,\n",
       " 49.45,\n",
       " 48.04,\n",
       " 51.81,\n",
       " 49.46,\n",
       " 51.3,\n",
       " 46.92,\n",
       " 52.81,\n",
       " 47.37,\n",
       " 50.18,\n",
       " 47.18,\n",
       " 48.2,\n",
       " 47.83,\n",
       " 44.73,\n",
       " 53.1,\n",
       " 45.52,\n",
       " 51.52,\n",
       " 44.28,\n",
       " 51.0,\n",
       " 56.46,\n",
       " 51.12,\n",
       " 48.05,\n",
       " 48.89,\n",
       " 51.27,\n",
       " 52.27,\n",
       " 49.53,\n",
       " 53.95,\n",
       " 48.11,\n",
       " 53.33,\n",
       " 53.13,\n",
       " 51.33,\n",
       " 55.72,\n",
       " 49.97,\n",
       " 57.01,\n",
       " 50.26,\n",
       " 55.12,\n",
       " 50.41,\n",
       " 53.34,\n",
       " 52.31,\n",
       " 54.71,\n",
       " 51.37,\n",
       " 50.5,\n",
       " 51.43,\n",
       " 54.12,\n",
       " 45.63,\n",
       " 48.69,\n",
       " 50.38,\n",
       " 50.24,\n",
       " 51.37,\n",
       " 57.3,\n",
       " 45.99,\n",
       " 50.67,\n",
       " 53.86,\n",
       " 47.27,\n",
       " 53.73,\n",
       " 48.39,\n",
       " 51.93,\n",
       " 45.45]"
      ]
     },
     "execution_count": 24,
     "metadata": {},
     "output_type": "execute_result"
    }
   ],
   "source": [
    "sample_means=[]\n",
    "\n",
    "for i in range(100):\n",
    "    sample = np.random.choice(population,100)\n",
    "    sample_means.append(sample.mean())\n",
    "    \n",
    "sample_means"
   ]
  },
  {
   "cell_type": "code",
   "execution_count": 25,
   "id": "e6fa41cc",
   "metadata": {
    "ExecuteTime": {
     "end_time": "2023-04-19T23:23:20.956222Z",
     "start_time": "2023-04-19T23:23:20.943965Z"
    }
   },
   "outputs": [
    {
     "data": {
      "text/plain": [
       "50.254"
      ]
     },
     "execution_count": 25,
     "metadata": {},
     "output_type": "execute_result"
    }
   ],
   "source": [
    "np.mean(sample_means)"
   ]
  },
  {
   "cell_type": "markdown",
   "id": "0f0e4b57",
   "metadata": {},
   "source": [
    "## Mean median skewness kudosis"
   ]
  },
  {
   "cell_type": "code",
   "execution_count": 26,
   "id": "ba7d9cd5",
   "metadata": {
    "ExecuteTime": {
     "end_time": "2023-04-19T23:27:44.076925Z",
     "start_time": "2023-04-19T23:27:44.064976Z"
    }
   },
   "outputs": [],
   "source": [
    "age = [20, 22, 25, 25, 27, 27, 27, 29, 30, 31, 121]"
   ]
  },
  {
   "cell_type": "code",
   "execution_count": 27,
   "id": "a63f6f75",
   "metadata": {
    "ExecuteTime": {
     "end_time": "2023-04-19T23:28:40.157288Z",
     "start_time": "2023-04-19T23:28:40.142687Z"
    }
   },
   "outputs": [
    {
     "data": {
      "text/plain": [
       "34.90909090909091"
      ]
     },
     "execution_count": 27,
     "metadata": {},
     "output_type": "execute_result"
    }
   ],
   "source": [
    "np.mean(age)"
   ]
  },
  {
   "cell_type": "code",
   "execution_count": 28,
   "id": "0d8ad92e",
   "metadata": {
    "ExecuteTime": {
     "end_time": "2023-04-19T23:29:03.113355Z",
     "start_time": "2023-04-19T23:29:03.105564Z"
    }
   },
   "outputs": [
    {
     "data": {
      "text/plain": [
       "27.0"
      ]
     },
     "execution_count": 28,
     "metadata": {},
     "output_type": "execute_result"
    }
   ],
   "source": [
    "np.median(age)"
   ]
  },
  {
   "cell_type": "code",
   "execution_count": 29,
   "id": "d61fe5a4",
   "metadata": {
    "ExecuteTime": {
     "end_time": "2023-04-19T23:30:13.509200Z",
     "start_time": "2023-04-19T23:30:13.498127Z"
    }
   },
   "outputs": [
    {
     "name": "stderr",
     "output_type": "stream",
     "text": [
      "C:\\Users\\user\\AppData\\Local\\Temp\\ipykernel_13036\\3027840428.py:1: FutureWarning: Unlike other reduction functions (e.g. `skew`, `kurtosis`), the default behavior of `mode` typically preserves the axis it acts along. In SciPy 1.11.0, this behavior will change: the default value of `keepdims` will become False, the `axis` over which the statistic is taken will be eliminated, and the value None will no longer be accepted. Set `keepdims` to True or False to avoid this warning.\n",
      "  stats.mode(age) # Mode Calculation is scipy\n"
     ]
    },
    {
     "data": {
      "text/plain": [
       "ModeResult(mode=array([27]), count=array([3]))"
      ]
     },
     "execution_count": 29,
     "metadata": {},
     "output_type": "execute_result"
    }
   ],
   "source": [
    "stats.mode(age) # Mode Calculation is scipy"
   ]
  },
  {
   "cell_type": "code",
   "execution_count": 30,
   "id": "2eaf0c56",
   "metadata": {
    "ExecuteTime": {
     "end_time": "2023-04-19T23:31:40.090766Z",
     "start_time": "2023-04-19T23:31:40.079452Z"
    }
   },
   "outputs": [
    {
     "name": "stderr",
     "output_type": "stream",
     "text": [
      "C:\\Users\\user\\AppData\\Local\\Temp\\ipykernel_13036\\1931262433.py:1: FutureWarning: Unlike other reduction functions (e.g. `skew`, `kurtosis`), the default behavior of `mode` typically preserves the axis it acts along. In SciPy 1.11.0, this behavior will change: the default value of `keepdims` will become False, the `axis` over which the statistic is taken will be eliminated, and the value None will no longer be accepted. Set `keepdims` to True or False to avoid this warning.\n",
      "  stats.mode(age)[0]\n"
     ]
    },
    {
     "data": {
      "text/plain": [
       "array([27])"
      ]
     },
     "execution_count": 30,
     "metadata": {},
     "output_type": "execute_result"
    }
   ],
   "source": [
    "stats.mode(age)[0]"
   ]
  },
  {
   "cell_type": "code",
   "execution_count": 31,
   "id": "5b72d1a6",
   "metadata": {
    "ExecuteTime": {
     "end_time": "2023-04-19T23:33:30.923422Z",
     "start_time": "2023-04-19T23:33:30.912327Z"
    }
   },
   "outputs": [],
   "source": [
    "data = {\"D1\":[135, 137, 136, 138, 138],\n",
    "              \"D2\":[43,   42, 42, 42, 42],\n",
    "              \"D3\":[72, 73, 72, 72, 73],\n",
    "              \"D4\":[100, 102, 100, 103, 104]};"
   ]
  },
  {
   "cell_type": "code",
   "execution_count": 32,
   "id": "eaae8720",
   "metadata": {
    "ExecuteTime": {
     "end_time": "2023-04-19T23:34:04.943599Z",
     "start_time": "2023-04-19T23:34:04.928302Z"
    }
   },
   "outputs": [],
   "source": [
    "df = pd.DataFrame(data)"
   ]
  },
  {
   "cell_type": "code",
   "execution_count": 33,
   "id": "f6352c64",
   "metadata": {
    "ExecuteTime": {
     "end_time": "2023-04-19T23:34:14.719718Z",
     "start_time": "2023-04-19T23:34:14.704950Z"
    }
   },
   "outputs": [
    {
     "data": {
      "text/plain": [
       "D1    136.8\n",
       "D2     42.2\n",
       "D3     72.4\n",
       "D4    101.8\n",
       "dtype: float64"
      ]
     },
     "execution_count": 33,
     "metadata": {},
     "output_type": "execute_result"
    }
   ],
   "source": [
    "df.mean()"
   ]
  },
  {
   "cell_type": "code",
   "execution_count": 34,
   "id": "f253b82a",
   "metadata": {
    "ExecuteTime": {
     "end_time": "2023-04-19T23:34:27.921058Z",
     "start_time": "2023-04-19T23:34:27.902329Z"
    }
   },
   "outputs": [
    {
     "data": {
      "text/html": [
       "<div>\n",
       "<style scoped>\n",
       "    .dataframe tbody tr th:only-of-type {\n",
       "        vertical-align: middle;\n",
       "    }\n",
       "\n",
       "    .dataframe tbody tr th {\n",
       "        vertical-align: top;\n",
       "    }\n",
       "\n",
       "    .dataframe thead th {\n",
       "        text-align: right;\n",
       "    }\n",
       "</style>\n",
       "<table border=\"1\" class=\"dataframe\">\n",
       "  <thead>\n",
       "    <tr style=\"text-align: right;\">\n",
       "      <th></th>\n",
       "      <th>D1</th>\n",
       "      <th>D2</th>\n",
       "      <th>D3</th>\n",
       "      <th>D4</th>\n",
       "    </tr>\n",
       "  </thead>\n",
       "  <tbody>\n",
       "    <tr>\n",
       "      <th>0</th>\n",
       "      <td>135</td>\n",
       "      <td>43</td>\n",
       "      <td>72</td>\n",
       "      <td>100</td>\n",
       "    </tr>\n",
       "    <tr>\n",
       "      <th>1</th>\n",
       "      <td>137</td>\n",
       "      <td>42</td>\n",
       "      <td>73</td>\n",
       "      <td>102</td>\n",
       "    </tr>\n",
       "    <tr>\n",
       "      <th>2</th>\n",
       "      <td>136</td>\n",
       "      <td>42</td>\n",
       "      <td>72</td>\n",
       "      <td>100</td>\n",
       "    </tr>\n",
       "    <tr>\n",
       "      <th>3</th>\n",
       "      <td>138</td>\n",
       "      <td>42</td>\n",
       "      <td>72</td>\n",
       "      <td>103</td>\n",
       "    </tr>\n",
       "    <tr>\n",
       "      <th>4</th>\n",
       "      <td>138</td>\n",
       "      <td>42</td>\n",
       "      <td>73</td>\n",
       "      <td>104</td>\n",
       "    </tr>\n",
       "  </tbody>\n",
       "</table>\n",
       "</div>"
      ],
      "text/plain": [
       "    D1  D2  D3   D4\n",
       "0  135  43  72  100\n",
       "1  137  42  73  102\n",
       "2  136  42  72  100\n",
       "3  138  42  72  103\n",
       "4  138  42  73  104"
      ]
     },
     "execution_count": 34,
     "metadata": {},
     "output_type": "execute_result"
    }
   ],
   "source": [
    "df.head()"
   ]
  },
  {
   "cell_type": "code",
   "execution_count": 35,
   "id": "2dfaf324",
   "metadata": {
    "ExecuteTime": {
     "end_time": "2023-04-19T23:34:45.099262Z",
     "start_time": "2023-04-19T23:34:45.079641Z"
    }
   },
   "outputs": [
    {
     "data": {
      "text/plain": [
       "42.2"
      ]
     },
     "execution_count": 35,
     "metadata": {},
     "output_type": "execute_result"
    }
   ],
   "source": [
    "df[\"D2\"].mean()"
   ]
  },
  {
   "cell_type": "code",
   "execution_count": 36,
   "id": "56a72de3",
   "metadata": {
    "ExecuteTime": {
     "end_time": "2023-04-19T23:35:51.662063Z",
     "start_time": "2023-04-19T23:35:51.648434Z"
    }
   },
   "outputs": [
    {
     "data": {
      "text/plain": [
       "0    138\n",
       "Name: D1, dtype: int64"
      ]
     },
     "execution_count": 36,
     "metadata": {},
     "output_type": "execute_result"
    }
   ],
   "source": [
    "df[\"D1\"].mode()"
   ]
  },
  {
   "cell_type": "code",
   "execution_count": 38,
   "id": "cbee8cb6",
   "metadata": {
    "ExecuteTime": {
     "end_time": "2023-04-19T23:36:17.298242Z",
     "start_time": "2023-04-19T23:36:17.284596Z"
    }
   },
   "outputs": [
    {
     "data": {
      "text/plain": [
       "102.0"
      ]
     },
     "execution_count": 38,
     "metadata": {},
     "output_type": "execute_result"
    }
   ],
   "source": [
    "df[\"D4\"].median()"
   ]
  },
  {
   "cell_type": "markdown",
   "id": "aaad8018",
   "metadata": {},
   "source": [
    "## Dispersion"
   ]
  },
  {
   "cell_type": "code",
   "execution_count": 39,
   "id": "94133ade",
   "metadata": {
    "ExecuteTime": {
     "end_time": "2023-04-19T23:37:47.331845Z",
     "start_time": "2023-04-19T23:37:47.317466Z"
    }
   },
   "outputs": [],
   "source": [
    "age = [20, 22, 25, 25, 27, 27, 27, 29, 30, 31]"
   ]
  },
  {
   "cell_type": "code",
   "execution_count": 40,
   "id": "3fd4fe6c",
   "metadata": {
    "ExecuteTime": {
     "end_time": "2023-04-19T23:38:03.408583Z",
     "start_time": "2023-04-19T23:38:03.394542Z"
    }
   },
   "outputs": [
    {
     "data": {
      "text/plain": [
       "3.2572994949804666"
      ]
     },
     "execution_count": 40,
     "metadata": {},
     "output_type": "execute_result"
    }
   ],
   "source": [
    "np.std(age)"
   ]
  },
  {
   "cell_type": "code",
   "execution_count": 41,
   "id": "61017342",
   "metadata": {
    "ExecuteTime": {
     "end_time": "2023-04-19T23:38:26.549027Z",
     "start_time": "2023-04-19T23:38:26.541432Z"
    }
   },
   "outputs": [],
   "source": [
    "age2 = [20, 22, 25, 25, 27, 27, 27, 29, 30, 31, 121]"
   ]
  },
  {
   "cell_type": "code",
   "execution_count": 42,
   "id": "7a0853bf",
   "metadata": {
    "ExecuteTime": {
     "end_time": "2023-04-19T23:38:32.538417Z",
     "start_time": "2023-04-19T23:38:32.525858Z"
    }
   },
   "outputs": [
    {
     "data": {
      "text/plain": [
       "27.400910885504736"
      ]
     },
     "execution_count": 42,
     "metadata": {},
     "output_type": "execute_result"
    }
   ],
   "source": [
    "np.std(age2)"
   ]
  },
  {
   "cell_type": "code",
   "execution_count": 43,
   "id": "a02654b5",
   "metadata": {
    "ExecuteTime": {
     "end_time": "2023-04-19T23:39:30.662076Z",
     "start_time": "2023-04-19T23:39:30.653193Z"
    }
   },
   "outputs": [
    {
     "data": {
      "text/plain": [
       "101"
      ]
     },
     "execution_count": 43,
     "metadata": {},
     "output_type": "execute_result"
    }
   ],
   "source": [
    "np.max(age2)-np.min(age2)"
   ]
  },
  {
   "cell_type": "code",
   "execution_count": 44,
   "id": "9d919597",
   "metadata": {
    "ExecuteTime": {
     "end_time": "2023-04-19T23:39:53.531818Z",
     "start_time": "2023-04-19T23:39:53.515366Z"
    }
   },
   "outputs": [
    {
     "data": {
      "text/plain": [
       "750.809917355372"
      ]
     },
     "execution_count": 44,
     "metadata": {},
     "output_type": "execute_result"
    }
   ],
   "source": [
    "np.var(age2) #Varieance Calculation"
   ]
  },
  {
   "cell_type": "code",
   "execution_count": 47,
   "id": "48079e8d",
   "metadata": {
    "ExecuteTime": {
     "end_time": "2023-04-19T23:41:14.384574Z",
     "start_time": "2023-04-19T23:41:14.363405Z"
    }
   },
   "outputs": [
    {
     "data": {
      "text/plain": [
       "4.5"
      ]
     },
     "execution_count": 47,
     "metadata": {},
     "output_type": "execute_result"
    }
   ],
   "source": [
    "iqr(age2) #IQR calculation"
   ]
  },
  {
   "cell_type": "code",
   "execution_count": 48,
   "id": "dc51d385",
   "metadata": {
    "ExecuteTime": {
     "end_time": "2023-04-19T23:42:29.457457Z",
     "start_time": "2023-04-19T23:42:29.449108Z"
    }
   },
   "outputs": [],
   "source": [
    "q1 = np.percentile(age2, 25)"
   ]
  },
  {
   "cell_type": "code",
   "execution_count": 49,
   "id": "c7cca65e",
   "metadata": {
    "ExecuteTime": {
     "end_time": "2023-04-19T23:42:43.037069Z",
     "start_time": "2023-04-19T23:42:43.020301Z"
    }
   },
   "outputs": [],
   "source": [
    "q3 = np.percentile(age2, 75)"
   ]
  },
  {
   "cell_type": "code",
   "execution_count": 50,
   "id": "0e4f2812",
   "metadata": {
    "ExecuteTime": {
     "end_time": "2023-04-19T23:43:15.006292Z",
     "start_time": "2023-04-19T23:43:14.992401Z"
    }
   },
   "outputs": [
    {
     "data": {
      "text/plain": [
       "4.5"
      ]
     },
     "execution_count": 50,
     "metadata": {},
     "output_type": "execute_result"
    }
   ],
   "source": [
    "iqr = q3-q1\n",
    "iqr"
   ]
  },
  {
   "cell_type": "markdown",
   "id": "cb0daa02",
   "metadata": {},
   "source": [
    "## Skewness Kurtosis"
   ]
  },
  {
   "cell_type": "code",
   "execution_count": 51,
   "id": "39cc88c7",
   "metadata": {
    "ExecuteTime": {
     "end_time": "2023-04-19T23:44:29.354970Z",
     "start_time": "2023-04-19T23:44:29.329386Z"
    }
   },
   "outputs": [
    {
     "data": {
      "text/plain": [
       "5.876609699981859"
      ]
     },
     "execution_count": 51,
     "metadata": {},
     "output_type": "execute_result"
    }
   ],
   "source": [
    "stats.kurtosis(age2)"
   ]
  },
  {
   "cell_type": "code",
   "execution_count": 52,
   "id": "38c35dfb",
   "metadata": {
    "ExecuteTime": {
     "end_time": "2023-04-19T23:44:59.490709Z",
     "start_time": "2023-04-19T23:44:59.476087Z"
    }
   },
   "outputs": [
    {
     "data": {
      "text/plain": [
       "2.778572264050739"
      ]
     },
     "execution_count": 52,
     "metadata": {},
     "output_type": "execute_result"
    }
   ],
   "source": [
    "stats.skew(age2)"
   ]
  },
  {
   "cell_type": "code",
   "execution_count": null,
   "id": "a51632a4",
   "metadata": {},
   "outputs": [],
   "source": []
  }
 ],
 "metadata": {
  "kernelspec": {
   "display_name": "Python 3 (ipykernel)",
   "language": "python",
   "name": "python3"
  },
  "language_info": {
   "codemirror_mode": {
    "name": "ipython",
    "version": 3
   },
   "file_extension": ".py",
   "mimetype": "text/x-python",
   "name": "python",
   "nbconvert_exporter": "python",
   "pygments_lexer": "ipython3",
   "version": "3.9.13"
  },
  "toc": {
   "base_numbering": 1,
   "nav_menu": {},
   "number_sections": true,
   "sideBar": true,
   "skip_h1_title": false,
   "title_cell": "Table of Contents",
   "title_sidebar": "Contents",
   "toc_cell": false,
   "toc_position": {},
   "toc_section_display": true,
   "toc_window_display": false
  }
 },
 "nbformat": 4,
 "nbformat_minor": 5
}
