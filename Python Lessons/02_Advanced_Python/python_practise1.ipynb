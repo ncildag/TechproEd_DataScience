{
 "cells": [
  {
   "cell_type": "markdown",
   "id": "e013f805-a54c-44fb-a4b1-9a220bb4a182",
   "metadata": {
    "tags": []
   },
   "source": [
    "help(print)"
   ]
  },
  {
   "cell_type": "code",
   "execution_count": null,
   "id": "329aee69",
   "metadata": {},
   "outputs": [],
   "source": [
    "help(print)"
   ]
  },
  {
   "cell_type": "code",
   "execution_count": null,
   "id": "fe5a34eb",
   "metadata": {
    "scrolled": true
   },
   "outputs": [],
   "source": [
    "print(\"Ali\",\"Veli\",\"Hasan\",end='\\t')\n",
    "print(\"Ali\",\"Veli\",\"Hasan\",sep=\"         \",end=\"\\n\")\n",
    "print(\"Benim adım\\t {}, Yaşım {}\".format(\"Ahmet\",35))\n",
    "print(\"Benim adım\\t {1}, Yaşım {0}\".format(\"Ahmet\",35))\n",
    "print(\"Benim adım\\t {ad}, Yaşım {yas}\".format(ad=\"Ahmet\",yas=35))\n",
    "print(\"Benim adım: {ad},\\nYaşım: {yas}\".format(ad=\"Ahmet\",yas=35))\n"
   ]
  },
  {
   "cell_type": "code",
   "execution_count": null,
   "id": "c01672e8-a5be-450d-be5e-05050207a43f",
   "metadata": {},
   "outputs": [],
   "source": [
    "print(\"{0:>30}\".format(\"merhaba\",\"sezzai\")) # 0:>30 merhaba için; > sağda yazar, < solda yazar\n",
    "print(\"{1:>30}\".format(\"merhaba\",\"sezzai\")) # 1:>30 sezai için; > sağda yazar, < solda yazar\n",
    "print(\"{:^30}\".format(\"merhaba\"))  # ortalar\n",
    "print(\"{:*^30}\".format(\"merhaba\"))  # * lar arasında ortalar \n",
    "print((\"#\"*2).center(10,\"-\"))    # 10 - arasında 2# yi ortalar\n",
    "print(\"{0:3} {1:15}\".format(100, 1234567898765420))  # 0:ilk süsülü 100 iin"
   ]
  },
  {
   "cell_type": "code",
   "execution_count": null,
   "id": "9a644ca1",
   "metadata": {},
   "outputs": [],
   "source": [
    "print(\"Hello,\"*15)"
   ]
  },
  {
   "cell_type": "code",
   "execution_count": null,
   "id": "5e896a7b",
   "metadata": {},
   "outputs": [],
   "source": [
    "sayi=\"12\"\n",
    "print(sayi*5)"
   ]
  },
  {
   "cell_type": "code",
   "execution_count": null,
   "id": "f53b411f",
   "metadata": {},
   "outputs": [],
   "source": [
    "sayi0=1; sayi3=3\n",
    "sayi3"
   ]
  },
  {
   "cell_type": "code",
   "execution_count": null,
   "id": "2d49b79f",
   "metadata": {},
   "outputs": [],
   "source": [
    "sayi0"
   ]
  },
  {
   "cell_type": "code",
   "execution_count": null,
   "id": "b5601740",
   "metadata": {},
   "outputs": [],
   "source": [
    "st='Python'\n",
    "st"
   ]
  },
  {
   "cell_type": "code",
   "execution_count": null,
   "id": "a622ac7c",
   "metadata": {},
   "outputs": [],
   "source": [
    "print(st.upper())"
   ]
  },
  {
   "cell_type": "code",
   "execution_count": 40,
   "id": "4cf54836",
   "metadata": {},
   "outputs": [],
   "source": [
    "st=st.upper()"
   ]
  },
  {
   "cell_type": "code",
   "execution_count": null,
   "id": "c7ef8c3e-d9e9-461a-806c-46dea4104e50",
   "metadata": {},
   "outputs": [],
   "source": [
    "st"
   ]
  },
  {
   "cell_type": "code",
   "execution_count": null,
   "id": "026ddb99-5b68-4bc8-b18c-c6c5126dc190",
   "metadata": {},
   "outputs": [],
   "source": [
    "st.lower()"
   ]
  },
  {
   "cell_type": "code",
   "execution_count": null,
   "id": "a6691938-ac5e-4a09-9a9b-c24da21cbb28",
   "metadata": {},
   "outputs": [],
   "source": [
    "st"
   ]
  },
  {
   "cell_type": "code",
   "execution_count": null,
   "id": "819ce2b8",
   "metadata": {},
   "outputs": [],
   "source": [
    "st=st + \"   ders\"\n",
    "st.split()"
   ]
  },
  {
   "cell_type": "code",
   "execution_count": null,
   "id": "669ed8b7-7b25-416d-825e-6ce104bc5f27",
   "metadata": {},
   "outputs": [],
   "source": [
    "st"
   ]
  },
  {
   "cell_type": "code",
   "execution_count": null,
   "id": "643e5011",
   "metadata": {},
   "outputs": [],
   "source": [
    "a=\"ali veli SELlami hasan hüseyin\"\n",
    "a.swapcase()"
   ]
  },
  {
   "cell_type": "code",
   "execution_count": null,
   "id": "83d4600d-bf55-4b3b-a777-93fe98f6343c",
   "metadata": {},
   "outputs": [],
   "source": [
    "a"
   ]
  },
  {
   "cell_type": "code",
   "execution_count": null,
   "id": "84b54910",
   "metadata": {},
   "outputs": [],
   "source": [
    "# h harfinden parçalayalım\n",
    "st=\"Python\"  \n",
    "print(st.split(\"h\"))"
   ]
  },
  {
   "cell_type": "code",
   "execution_count": null,
   "id": "9e023b73",
   "metadata": {},
   "outputs": [],
   "source": [
    "st = 'Python'\n",
    "d = st.split('t')\n",
    "print(d)\n",
    "#st[0]='A'  #\"immutable\"    \n",
    "f = st[0:6]+'S'\n",
    "f"
   ]
  },
  {
   "cell_type": "code",
   "execution_count": null,
   "id": "b0373c0e",
   "metadata": {},
   "outputs": [],
   "source": [
    "st=\"Pyton Öğreynmek Çoyk Zevykli\"\n",
    "print(st.upper())\n",
    "print(st.lower())\n",
    "print(st.split(sep=\"y\",maxsplit=2))   \n",
    "print(st.split(\"y\",3))"
   ]
  },
  {
   "cell_type": "code",
   "execution_count": null,
   "id": "32eac0a4",
   "metadata": {},
   "outputs": [],
   "source": [
    "a = True\n",
    "x = False\n",
    "zz = \"False\"\n",
    "print(a,x,zz)\n",
    "print(type(a),type(x),type(zz),sep=\"-\")"
   ]
  },
  {
   "cell_type": "code",
   "execution_count": null,
   "id": "9f177515",
   "metadata": {},
   "outputs": [],
   "source": [
    "x = 10; y = 20\n",
    "x,y = 10,20\n",
    "# x=y=z=t=k=l=30\n",
    "print(x == y)\n",
    "x = 10; y = 20\n",
    "print(x!= y)\n",
    "print(not x == y)"
   ]
  },
  {
   "cell_type": "code",
   "execution_count": null,
   "id": "8212bb53",
   "metadata": {},
   "outputs": [],
   "source": [
    "Liste = [\"2\",\"5\",\"a\",5,\"s\",\"c\",\"h\",\"h\",5]\n",
    "print(Liste)\n",
    "Liste = [\"a\",\"b\"]+Liste\n",
    "Liste.insert(4,3)    # 4. indexin yerine yazılır. Harf sağa kayar\n",
    "Liste.append(3)     # listenin sonuna ekler\n",
    "print(Liste)\n",
    "del Liste[2:5]\n",
    "del Liste[3],Liste[5]\n",
    "print(Liste)"
   ]
  },
  {
   "cell_type": "code",
   "execution_count": null,
   "id": "d325acef",
   "metadata": {},
   "outputs": [],
   "source": [
    "Liste=[\"2\",\"5\",\"a\",5,\"s\",\"c\",\"h\",\"h\"]\n",
    "Liste.append(3)\n",
    "print(Liste)"
   ]
  },
  {
   "cell_type": "code",
   "execution_count": null,
   "id": "0ba24c9b",
   "metadata": {},
   "outputs": [],
   "source": [
    "a=Liste.pop()  # değer yazılmazsa son elemanı siler \n",
    "Liste"
   ]
  },
  {
   "cell_type": "code",
   "execution_count": null,
   "id": "fbcae1fe",
   "metadata": {
    "scrolled": true
   },
   "outputs": [],
   "source": [
    "Liste.pop(2)  "
   ]
  },
  {
   "cell_type": "code",
   "execution_count": null,
   "id": "e8315b0f",
   "metadata": {},
   "outputs": [],
   "source": [
    "Liste=['5',\"50\",'1','aaa', 'c', 'h']\n",
    "Liste.sort()\n",
    "Liste"
   ]
  },
  {
   "cell_type": "code",
   "execution_count": null,
   "id": "b28cc157",
   "metadata": {},
   "outputs": [],
   "source": [
    "a=Liste.pop(3)\n",
    "print(Liste)\n",
    "print(a)"
   ]
  },
  {
   "cell_type": "code",
   "execution_count": null,
   "id": "731e3256",
   "metadata": {},
   "outputs": [],
   "source": [
    "Liste=[2, 5,6,25, 5,4,78,4] # List de tekrarlayan eleman olabilir.\n",
    "Liste.sort()    # sort: set ve tuple de kullanılmaz\n",
    "Liste"
   ]
  },
  {
   "cell_type": "code",
   "execution_count": null,
   "id": "ae542d6c",
   "metadata": {},
   "outputs": [],
   "source": [
    "Liste.reverse()  # veya sort(reverse=True)\n",
    "Liste"
   ]
  },
  {
   "cell_type": "code",
   "execution_count": null,
   "id": "1084a00a",
   "metadata": {},
   "outputs": [],
   "source": [
    "A = set(Liste) \n",
    "type(A)"
   ]
  },
  {
   "cell_type": "code",
   "execution_count": null,
   "id": "bb080f91-bad5-4269-8840-5c491d7faed9",
   "metadata": {},
   "outputs": [],
   "source": [
    "A"
   ]
  },
  {
   "cell_type": "code",
   "execution_count": null,
   "id": "4d1dcff3-0654-4e2b-a594-5ed7cf25fcda",
   "metadata": {},
   "outputs": [],
   "source": [
    "b = {3,5,6,6,8,10,10}  \n",
    "b                      # Tekrarlayan elemanlar çıkarıldı"
   ]
  },
  {
   "cell_type": "code",
   "execution_count": null,
   "id": "77434d7e",
   "metadata": {},
   "outputs": [],
   "source": [
    "a = type(set())\n",
    "a"
   ]
  },
  {
   "cell_type": "code",
   "execution_count": null,
   "id": "850461e8",
   "metadata": {},
   "outputs": [],
   "source": [
    "Liste=[1,2,3,4,5,6,7,8,9,10,1]\n",
    "Tuple=(1,2,3,4,5,6,7,8,9,10,1)\n",
    "Liste[4]=55\n",
    "Liste"
   ]
  },
  {
   "cell_type": "code",
   "execution_count": null,
   "id": "211ace63-e0ad-4962-83d0-54fdfef20a55",
   "metadata": {},
   "outputs": [],
   "source": [
    "T = 1,5,6,8,10\n",
    "type(T)"
   ]
  },
  {
   "cell_type": "code",
   "execution_count": null,
   "id": "f8f82364",
   "metadata": {},
   "outputs": [],
   "source": [
    "Liste = [1,2,3,4,5,6,7,8,9,10,10]\n",
    "Tuple = (1,2,3,4,5,6,7,8,9,10,10)\n",
    "#Tuple[4]=55\n",
    "type(Tuple)"
   ]
  },
  {
   "cell_type": "code",
   "execution_count": null,
   "id": "b25c7309-4d5c-40ef-ba95-cdeae3859d5b",
   "metadata": {},
   "outputs": [],
   "source": [
    "l1 = [1,2,3,3]\n",
    "l2 = [2,4,5,6,1]\n",
    "l1.extend(l2)\n",
    "l1"
   ]
  },
  {
   "cell_type": "markdown",
   "id": "badc8dd1-1997-41d7-aa2d-12dc84ad2504",
   "metadata": {},
   "source": [
    "# count"
   ]
  },
  {
   "cell_type": "code",
   "execution_count": null,
   "id": "e6ba7bf1-0897-4861-8794-1932ac03446c",
   "metadata": {},
   "outputs": [],
   "source": [
    "ali = (1,5,\"a\",4,\"a\",5,'a')\n",
    "ali.count(\"a\")"
   ]
  },
  {
   "cell_type": "code",
   "execution_count": null,
   "id": "bf6caaf3",
   "metadata": {},
   "outputs": [],
   "source": [
    "ali.index(\"a\",3,6)  #ilk bulduğu değerin indexini döndürür"
   ]
  },
  {
   "cell_type": "code",
   "execution_count": null,
   "id": "025b18ea",
   "metadata": {},
   "outputs": [],
   "source": [
    "ali.index(\"f\")  # yoksa hata döndürür"
   ]
  },
  {
   "cell_type": "code",
   "execution_count": null,
   "id": "02543fa3",
   "metadata": {},
   "outputs": [],
   "source": [
    "dicti={'ad':'Ahmet','Soyad':'Ağa','Yas':35}\n",
    "dicti"
   ]
  },
  {
   "cell_type": "code",
   "execution_count": 42,
   "id": "81012dd9",
   "metadata": {},
   "outputs": [],
   "source": [
    "dicti={\n",
    "    'ad':'Ahmet',\n",
    "    'Soyad':'Ağa',\n",
    "    'Yas':35}"
   ]
  },
  {
   "cell_type": "code",
   "execution_count": null,
   "id": "9d77671f",
   "metadata": {},
   "outputs": [],
   "source": [
    "dicti['ad']   # [ ] yerine get komutu da kullanılır."
   ]
  },
  {
   "cell_type": "code",
   "execution_count": null,
   "id": "b51c470c-7c73-479f-bf71-2450fe705c2a",
   "metadata": {},
   "outputs": [],
   "source": [
    "dicti.get('ad')"
   ]
  },
  {
   "cell_type": "code",
   "execution_count": null,
   "id": "2eaf78bc-7ffb-4217-9974-7948031d9222",
   "metadata": {},
   "outputs": [],
   "source": [
    "type(dicti)"
   ]
  },
  {
   "cell_type": "code",
   "execution_count": null,
   "id": "ba347cc4",
   "metadata": {},
   "outputs": [],
   "source": [
    "participant={\n",
    "    'name':'John',\n",
    "    'country':'ABD',\n",
    "    'favorite_number':[7,42,92,8]\n",
    "}\n",
    "participant"
   ]
  },
  {
   "cell_type": "code",
   "execution_count": null,
   "id": "0d4974a5",
   "metadata": {},
   "outputs": [],
   "source": [
    "print(participant['favorite_number'])"
   ]
  },
  {
   "cell_type": "code",
   "execution_count": null,
   "id": "64d07ba9-16d7-4c2f-97ee-42604c25be24",
   "metadata": {},
   "outputs": [],
   "source": [
    "participant.get(\"name\")"
   ]
  },
  {
   "cell_type": "code",
   "execution_count": 105,
   "id": "3883cad6",
   "metadata": {},
   "outputs": [],
   "source": [
    "participant['favorite_language']='Python'"
   ]
  },
  {
   "cell_type": "code",
   "execution_count": null,
   "id": "63b7f129",
   "metadata": {},
   "outputs": [],
   "source": [
    "len(participant)"
   ]
  },
  {
   "cell_type": "code",
   "execution_count": null,
   "id": "8c9ed7c0-14f0-4599-8952-499599127c59",
   "metadata": {},
   "outputs": [],
   "source": [
    "participant"
   ]
  },
  {
   "cell_type": "code",
   "execution_count": 129,
   "id": "d4c6ad6a",
   "metadata": {},
   "outputs": [],
   "source": [
    "del participant['name']  #bunu calıştırdıktan sonra tekrar run edersen hata verir."
   ]
  },
  {
   "cell_type": "code",
   "execution_count": null,
   "id": "b08e7239",
   "metadata": {},
   "outputs": [],
   "source": [
    "participant"
   ]
  },
  {
   "cell_type": "code",
   "execution_count": 115,
   "id": "be235475-a85c-4ea0-b27e-48b80955248d",
   "metadata": {},
   "outputs": [],
   "source": [
    "set1 = {1,2,3,4,5,6}"
   ]
  },
  {
   "cell_type": "code",
   "execution_count": 116,
   "id": "35535e75-8d50-4eed-b11a-dddb3e120dfe",
   "metadata": {},
   "outputs": [],
   "source": [
    "set2 = {1,2,7,8,9,9}"
   ]
  },
  {
   "cell_type": "code",
   "execution_count": 117,
   "id": "1d2bf944-a248-481e-9f03-1f5b1996c01d",
   "metadata": {},
   "outputs": [],
   "source": [
    "t = set1.union(set2)"
   ]
  },
  {
   "cell_type": "code",
   "execution_count": null,
   "id": "0ea7fe64-efd5-41bc-aaf6-afb731c92a2a",
   "metadata": {},
   "outputs": [],
   "source": [
    "t"
   ]
  },
  {
   "cell_type": "code",
   "execution_count": 119,
   "id": "ab317360-b31b-4a62-9baa-7ca71d004ee5",
   "metadata": {},
   "outputs": [],
   "source": [
    "set1.update(set2)"
   ]
  },
  {
   "cell_type": "code",
   "execution_count": null,
   "id": "6e15bd27-48d4-4f9e-b886-a4792503a5b7",
   "metadata": {},
   "outputs": [],
   "source": [
    "set1"
   ]
  },
  {
   "cell_type": "code",
   "execution_count": 121,
   "id": "b3d3fe49-7828-499d-b2b0-6789ff2eff1c",
   "metadata": {},
   "outputs": [],
   "source": [
    "set1.add(99)"
   ]
  },
  {
   "cell_type": "code",
   "execution_count": null,
   "id": "5b9ce6d0-8ac2-402c-b4ce-19aa4895ba7d",
   "metadata": {},
   "outputs": [],
   "source": [
    "set1"
   ]
  },
  {
   "cell_type": "code",
   "execution_count": null,
   "id": "cd08f4ec-a0b1-48ed-ad8a-e8e019b4406c",
   "metadata": {},
   "outputs": [],
   "source": [
    "set1.sort()  # sıralama yok, indexlenmez"
   ]
  },
  {
   "cell_type": "code",
   "execution_count": null,
   "id": "4467de5f-0323-4de6-b82f-e05f7fe7ea46",
   "metadata": {},
   "outputs": [],
   "source": []
  }
 ],
 "metadata": {
  "kernelspec": {
   "display_name": "Python 3 (ipykernel)",
   "language": "python",
   "name": "python3"
  },
  "language_info": {
   "codemirror_mode": {
    "name": "ipython",
    "version": 3
   },
   "file_extension": ".py",
   "mimetype": "text/x-python",
   "name": "python",
   "nbconvert_exporter": "python",
   "pygments_lexer": "ipython3",
   "version": "3.9.7"
  },
  "vscode": {
   "interpreter": {
    "hash": "0ed8b1f1204e3ec9fd00160a1836bd979d4552f7e99d1a18dc9610716eedd92b"
   }
  }
 },
 "nbformat": 4,
 "nbformat_minor": 5
}
