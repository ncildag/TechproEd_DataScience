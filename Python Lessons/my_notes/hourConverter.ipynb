{
 "cells": [
  {
   "cell_type": "code",
   "execution_count": 9,
   "metadata": {},
   "outputs": [
    {
     "name": "stdout",
     "output_type": "stream",
     "text": [
      "2 hour 0 minute 9 second\n"
     ]
    }
   ],
   "source": [
    "x = 7209\n",
    "\n",
    "hour = int(x//3600)\n",
    "minute = int(x % 3600) // 60\n",
    "second = int(x % 3600) % 60\n",
    "\n",
    "print (hour, \"hour\", minute, \"minute\", second, \"second\")"
   ]
  },
  {
   "cell_type": "code",
   "execution_count": 32,
   "metadata": {},
   "outputs": [
    {
     "name": "stdout",
     "output_type": "stream",
     "text": [
      "samehmetri\n"
     ]
    }
   ],
   "source": [
    "str1 = \"sari\"\n",
    "str2 = \"mehmet\"\n",
    "\n",
    "## \"samehmetri\"\n",
    "\n",
    "x = str1[0:(len(str1)//2)] \n",
    "y = len(x)\n",
    "z = str1[y:(len(str1))] \n",
    "\n",
    "print (x+str2+z)\n"
   ]
  },
  {
   "cell_type": "code",
   "execution_count": 38,
   "metadata": {},
   "outputs": [
    {
     "name": "stdout",
     "output_type": "stream",
     "text": [
      "your note is A\n"
     ]
    },
    {
     "ename": "",
     "evalue": "",
     "output_type": "error",
     "traceback": [
      "\u001b[1;31mThe Kernel crashed while executing code in the the current cell or a previous cell. Please review the code in the cell(s) to identify a possible cause of the failure. Click <a href='https://aka.ms/vscodeJupyterKernelCrash'>here</a> for more info. View Jupyter <a href='command:jupyter.viewOutput'>log</a> for further details."
     ]
    }
   ],
   "source": [
    "x = int(input(\"give me a number between 1 and 100\"))\n",
    "\n",
    "if 0 < x <=100:\n",
    "\n",
    "    if x>= 90 :\n",
    "        exam_note = \"A\"\n",
    "    elif x < 90 and x>= 75 :\n",
    "        exam_note = \"B\"\n",
    "    elif x <75 and x >=60:\n",
    "        exam_note = \"C\"\n",
    "    elif x<60 and x>=45:\n",
    "        exam_note = \"D\"\n",
    "    elif x<45:\n",
    "        exam_note = \"F\"\n",
    "else:   \n",
    "    print(\"wrong number!!\")\n",
    "\n",
    "print(f\"your note is {exam_note}\")"
   ]
  },
  {
   "cell_type": "code",
   "execution_count": 4,
   "metadata": {},
   "outputs": [
    {
     "data": {
      "text/plain": [
       "'ximseyi arxada biraxmadix'"
      ]
     },
     "execution_count": 4,
     "metadata": {},
     "output_type": "execute_result"
    }
   ],
   "source": [
    "str2 = \"kimseyi arkada birakmadik\"\n",
    "str2.replace(\"k\", \"x\")"
   ]
  },
  {
   "cell_type": "code",
   "execution_count": null,
   "metadata": {},
   "outputs": [],
   "source": []
  }
 ],
 "metadata": {
  "kernelspec": {
   "display_name": "Python 3.10.9 64-bit (microsoft store)",
   "language": "python",
   "name": "python3"
  },
  "language_info": {
   "codemirror_mode": {
    "name": "ipython",
    "version": 3
   },
   "file_extension": ".py",
   "mimetype": "text/x-python",
   "name": "python",
   "nbconvert_exporter": "python",
   "pygments_lexer": "ipython3",
   "version": "3.10.9"
  },
  "orig_nbformat": 4,
  "vscode": {
   "interpreter": {
    "hash": "7b1f2b33e866b0bf2409397e5f58ba9cdf170d3b7f64c8f359c79998e2f88ad4"
   }
  }
 },
 "nbformat": 4,
 "nbformat_minor": 2
}
