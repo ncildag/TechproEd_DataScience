{
 "cells": [
  {
   "cell_type": "markdown",
   "id": "e013f805-a54c-44fb-a4b1-9a220bb4a182",
   "metadata": {
    "tags": []
   },
   "source": [
    "help(print)"
   ]
  },
  {
   "cell_type": "code",
   "execution_count": 1,
   "id": "329aee69",
   "metadata": {},
   "outputs": [
    {
     "name": "stdout",
     "output_type": "stream",
     "text": [
      "Help on built-in function print in module builtins:\n",
      "\n",
      "print(...)\n",
      "    print(value, ..., sep=' ', end='\\n', file=sys.stdout, flush=False)\n",
      "    \n",
      "    Prints the values to a stream, or to sys.stdout by default.\n",
      "    Optional keyword arguments:\n",
      "    file:  a file-like object (stream); defaults to the current sys.stdout.\n",
      "    sep:   string inserted between values, default a space.\n",
      "    end:   string appended after the last value, default a newline.\n",
      "    flush: whether to forcibly flush the stream.\n",
      "\n"
     ]
    }
   ],
   "source": [
    "help(print)"
   ]
  },
  {
   "cell_type": "code",
   "execution_count": 2,
   "id": "10dbbfb8",
   "metadata": {},
   "outputs": [
    {
     "name": "stdout",
     "output_type": "stream",
     "text": [
      "Help on list object:\n",
      "\n",
      "class list(object)\n",
      " |  list(iterable=(), /)\n",
      " |  \n",
      " |  Built-in mutable sequence.\n",
      " |  \n",
      " |  If no argument is given, the constructor creates a new empty list.\n",
      " |  The argument must be an iterable if specified.\n",
      " |  \n",
      " |  Methods defined here:\n",
      " |  \n",
      " |  __add__(self, value, /)\n",
      " |      Return self+value.\n",
      " |  \n",
      " |  __contains__(self, key, /)\n",
      " |      Return key in self.\n",
      " |  \n",
      " |  __delitem__(self, key, /)\n",
      " |      Delete self[key].\n",
      " |  \n",
      " |  __eq__(self, value, /)\n",
      " |      Return self==value.\n",
      " |  \n",
      " |  __ge__(self, value, /)\n",
      " |      Return self>=value.\n",
      " |  \n",
      " |  __getattribute__(self, name, /)\n",
      " |      Return getattr(self, name).\n",
      " |  \n",
      " |  __getitem__(...)\n",
      " |      x.__getitem__(y) <==> x[y]\n",
      " |  \n",
      " |  __gt__(self, value, /)\n",
      " |      Return self>value.\n",
      " |  \n",
      " |  __iadd__(self, value, /)\n",
      " |      Implement self+=value.\n",
      " |  \n",
      " |  __imul__(self, value, /)\n",
      " |      Implement self*=value.\n",
      " |  \n",
      " |  __init__(self, /, *args, **kwargs)\n",
      " |      Initialize self.  See help(type(self)) for accurate signature.\n",
      " |  \n",
      " |  __iter__(self, /)\n",
      " |      Implement iter(self).\n",
      " |  \n",
      " |  __le__(self, value, /)\n",
      " |      Return self<=value.\n",
      " |  \n",
      " |  __len__(self, /)\n",
      " |      Return len(self).\n",
      " |  \n",
      " |  __lt__(self, value, /)\n",
      " |      Return self<value.\n",
      " |  \n",
      " |  __mul__(self, value, /)\n",
      " |      Return self*value.\n",
      " |  \n",
      " |  __ne__(self, value, /)\n",
      " |      Return self!=value.\n",
      " |  \n",
      " |  __repr__(self, /)\n",
      " |      Return repr(self).\n",
      " |  \n",
      " |  __reversed__(self, /)\n",
      " |      Return a reverse iterator over the list.\n",
      " |  \n",
      " |  __rmul__(self, value, /)\n",
      " |      Return value*self.\n",
      " |  \n",
      " |  __setitem__(self, key, value, /)\n",
      " |      Set self[key] to value.\n",
      " |  \n",
      " |  __sizeof__(self, /)\n",
      " |      Return the size of the list in memory, in bytes.\n",
      " |  \n",
      " |  append(self, object, /)\n",
      " |      Append object to the end of the list.\n",
      " |  \n",
      " |  clear(self, /)\n",
      " |      Remove all items from list.\n",
      " |  \n",
      " |  copy(self, /)\n",
      " |      Return a shallow copy of the list.\n",
      " |  \n",
      " |  count(self, value, /)\n",
      " |      Return number of occurrences of value.\n",
      " |  \n",
      " |  extend(self, iterable, /)\n",
      " |      Extend list by appending elements from the iterable.\n",
      " |  \n",
      " |  index(self, value, start=0, stop=9223372036854775807, /)\n",
      " |      Return first index of value.\n",
      " |      \n",
      " |      Raises ValueError if the value is not present.\n",
      " |  \n",
      " |  insert(self, index, object, /)\n",
      " |      Insert object before index.\n",
      " |  \n",
      " |  pop(self, index=-1, /)\n",
      " |      Remove and return item at index (default last).\n",
      " |      \n",
      " |      Raises IndexError if list is empty or index is out of range.\n",
      " |  \n",
      " |  remove(self, value, /)\n",
      " |      Remove first occurrence of value.\n",
      " |      \n",
      " |      Raises ValueError if the value is not present.\n",
      " |  \n",
      " |  reverse(self, /)\n",
      " |      Reverse *IN PLACE*.\n",
      " |  \n",
      " |  sort(self, /, *, key=None, reverse=False)\n",
      " |      Sort the list in ascending order and return None.\n",
      " |      \n",
      " |      The sort is in-place (i.e. the list itself is modified) and stable (i.e. the\n",
      " |      order of two equal elements is maintained).\n",
      " |      \n",
      " |      If a key function is given, apply it once to each list item and sort them,\n",
      " |      ascending or descending, according to their function values.\n",
      " |      \n",
      " |      The reverse flag can be set to sort in descending order.\n",
      " |  \n",
      " |  ----------------------------------------------------------------------\n",
      " |  Class methods defined here:\n",
      " |  \n",
      " |  __class_getitem__(...) from builtins.type\n",
      " |      See PEP 585\n",
      " |  \n",
      " |  ----------------------------------------------------------------------\n",
      " |  Static methods defined here:\n",
      " |  \n",
      " |  __new__(*args, **kwargs) from builtins.type\n",
      " |      Create and return a new object.  See help(type) for accurate signature.\n",
      " |  \n",
      " |  ----------------------------------------------------------------------\n",
      " |  Data and other attributes defined here:\n",
      " |  \n",
      " |  __hash__ = None\n",
      "\n"
     ]
    }
   ],
   "source": [
    "help(list())"
   ]
  },
  {
   "cell_type": "code",
   "execution_count": 5,
   "id": "fe5a34eb",
   "metadata": {
    "scrolled": true
   },
   "outputs": [
    {
     "name": "stdout",
     "output_type": "stream",
     "text": [
      "Ali Veli Hasan\tAli         Veli         Hasan\n",
      "Benim adım\t Ahmet, Yaşım 35\n",
      "Benim adım\t 35, Yaşım Ahmet\n",
      "Benim adım\t Ahmet, Yaşım 35\n",
      "Benim adım: Ahmet,\n",
      "Yaşım: 35\n"
     ]
    }
   ],
   "source": [
    "print(\"Ali\",\"Veli\",\"Hasan\",end='\\t')\n",
    "print(\"Ali\",\"Veli\",\"Hasan\",sep=\"         \",end=\"\\n\")\n",
    "print(\"Benim adım\\t {}, Yaşım {}\".format(\"Ahmet\",35))\n",
    "print(\"Benim adım\\t {1}, Yaşım {0}\".format(\"Ahmet\",35))\n",
    "print(\"Benim adım\\t {ad}, Yaşım {yas}\".format(ad=\"Ahmet\",yas=35))\n",
    "print(\"Benim adım: {ad},\\nYaşım: {yas}\".format(ad=\"Ahmet\",yas=35))\n"
   ]
  },
  {
   "cell_type": "code",
   "execution_count": 151,
   "id": "c01672e8-a5be-450d-be5e-05050207a43f",
   "metadata": {},
   "outputs": [
    {
     "name": "stdout",
     "output_type": "stream",
     "text": [
      "                       merhaba\n",
      "sezzai                        \n",
      "           merhaba            \n",
      "***********merhaba************\n",
      "----##----\n",
      "1234567898765420.00 100.0000\n",
      "hel techpro educati\n"
     ]
    }
   ],
   "source": [
    "print(\"{0:>30}\".format(\"merhaba\",\"sezzai\")) # 0:>30 merhaba için; > sağda yazar, < solda yazar\n",
    "print(\"{1:<30}\".format(\"merhaba\",\"sezzai\")) # 1:>30 sezai için; > sağda yazar, < solda yazar\n",
    "print(\"{:^30}\".format(\"merhaba\"))  # ortalar\n",
    "print(\"{:*^30}\".format(\"merhaba\"))  # * lar arasında ortalar \n",
    "print((\"#\"*2).center(10,\"-\"))    # 10 - arasında 2# yi ortalar\n",
    "print(\"{1:.2f} {0:.4f}\".format(100, 1234567898765420))  # 0:ilk süsülü 100 iin , tekrar bak\n",
    "print(\"{0:.3} {1:.15}\".format(\"hello\", \"techpro education\"))"
   ]
  },
  {
   "cell_type": "code",
   "execution_count": 19,
   "id": "9a644ca1",
   "metadata": {},
   "outputs": [
    {
     "name": "stdout",
     "output_type": "stream",
     "text": [
      "Hello,Hello,Hello,Hello,Hello,Hello,Hello,Hello,Hello,Hello,Hello,Hello,Hello,Hello,Hello,\n"
     ]
    }
   ],
   "source": [
    "print(\"Hello,\" * 15)"
   ]
  },
  {
   "cell_type": "code",
   "execution_count": 20,
   "id": "5e896a7b",
   "metadata": {},
   "outputs": [
    {
     "name": "stdout",
     "output_type": "stream",
     "text": [
      "1212121212\n"
     ]
    }
   ],
   "source": [
    "sayi = \"12\"\n",
    "print(sayi * 5)"
   ]
  },
  {
   "cell_type": "code",
   "execution_count": 21,
   "id": "a0c9f8e8",
   "metadata": {},
   "outputs": [],
   "source": [
    "sayı0, sayı1, sayı2 = 5, 10, 15"
   ]
  },
  {
   "cell_type": "code",
   "execution_count": 22,
   "id": "8b89aa90",
   "metadata": {},
   "outputs": [
    {
     "data": {
      "text/plain": [
       "5"
      ]
     },
     "execution_count": 22,
     "metadata": {},
     "output_type": "execute_result"
    }
   ],
   "source": [
    "sayı0"
   ]
  },
  {
   "cell_type": "code",
   "execution_count": 23,
   "id": "f53b411f",
   "metadata": {},
   "outputs": [
    {
     "data": {
      "text/plain": [
       "3"
      ]
     },
     "execution_count": 23,
     "metadata": {},
     "output_type": "execute_result"
    }
   ],
   "source": [
    "sayi0 = 1; sayi3 = 3\n",
    "sayi3"
   ]
  },
  {
   "cell_type": "code",
   "execution_count": 24,
   "id": "2d49b79f",
   "metadata": {},
   "outputs": [
    {
     "data": {
      "text/plain": [
       "1"
      ]
     },
     "execution_count": 24,
     "metadata": {},
     "output_type": "execute_result"
    }
   ],
   "source": [
    "sayi0"
   ]
  },
  {
   "cell_type": "code",
   "execution_count": 25,
   "id": "b5601740",
   "metadata": {},
   "outputs": [
    {
     "data": {
      "text/plain": [
       "'Python'"
      ]
     },
     "execution_count": 25,
     "metadata": {},
     "output_type": "execute_result"
    }
   ],
   "source": [
    "st = 'Python'\n",
    "st"
   ]
  },
  {
   "cell_type": "code",
   "execution_count": 26,
   "id": "a622ac7c",
   "metadata": {},
   "outputs": [
    {
     "name": "stdout",
     "output_type": "stream",
     "text": [
      "PYTHON\n"
     ]
    }
   ],
   "source": [
    "print(st.upper())"
   ]
  },
  {
   "cell_type": "code",
   "execution_count": 27,
   "id": "103ea6ec",
   "metadata": {},
   "outputs": [
    {
     "data": {
      "text/plain": [
       "'Python'"
      ]
     },
     "execution_count": 27,
     "metadata": {},
     "output_type": "execute_result"
    }
   ],
   "source": [
    "st"
   ]
  },
  {
   "cell_type": "code",
   "execution_count": 28,
   "id": "4cf54836",
   "metadata": {},
   "outputs": [],
   "source": [
    "st = st.upper()"
   ]
  },
  {
   "cell_type": "code",
   "execution_count": 29,
   "id": "c7ef8c3e-d9e9-461a-806c-46dea4104e50",
   "metadata": {},
   "outputs": [
    {
     "data": {
      "text/plain": [
       "'PYTHON'"
      ]
     },
     "execution_count": 29,
     "metadata": {},
     "output_type": "execute_result"
    }
   ],
   "source": [
    "st"
   ]
  },
  {
   "cell_type": "code",
   "execution_count": 30,
   "id": "026ddb99-5b68-4bc8-b18c-c6c5126dc190",
   "metadata": {},
   "outputs": [
    {
     "data": {
      "text/plain": [
       "'python'"
      ]
     },
     "execution_count": 30,
     "metadata": {},
     "output_type": "execute_result"
    }
   ],
   "source": [
    "st.lower()"
   ]
  },
  {
   "cell_type": "code",
   "execution_count": 31,
   "id": "a6691938-ac5e-4a09-9a9b-c24da21cbb28",
   "metadata": {},
   "outputs": [
    {
     "data": {
      "text/plain": [
       "'PYTHON'"
      ]
     },
     "execution_count": 31,
     "metadata": {},
     "output_type": "execute_result"
    }
   ],
   "source": [
    "st"
   ]
  },
  {
   "cell_type": "code",
   "execution_count": 32,
   "id": "819ce2b8",
   "metadata": {},
   "outputs": [
    {
     "data": {
      "text/plain": [
       "'PYTHON   ders'"
      ]
     },
     "execution_count": 32,
     "metadata": {},
     "output_type": "execute_result"
    }
   ],
   "source": [
    "st = st + \"   ders\"\n",
    "st"
   ]
  },
  {
   "cell_type": "code",
   "execution_count": 33,
   "id": "ee87d714",
   "metadata": {},
   "outputs": [
    {
     "data": {
      "text/plain": [
       "['PYTHON', 'ders']"
      ]
     },
     "execution_count": 33,
     "metadata": {},
     "output_type": "execute_result"
    }
   ],
   "source": [
    "st.split()"
   ]
  },
  {
   "cell_type": "code",
   "execution_count": 34,
   "id": "669ed8b7-7b25-416d-825e-6ce104bc5f27",
   "metadata": {},
   "outputs": [
    {
     "data": {
      "text/plain": [
       "'PYTHON   ders'"
      ]
     },
     "execution_count": 34,
     "metadata": {},
     "output_type": "execute_result"
    }
   ],
   "source": [
    "st"
   ]
  },
  {
   "cell_type": "code",
   "execution_count": 35,
   "id": "643e5011",
   "metadata": {},
   "outputs": [
    {
     "data": {
      "text/plain": [
       "'ALI VELI selLAMI HASAN HÜSEYIN'"
      ]
     },
     "execution_count": 35,
     "metadata": {},
     "output_type": "execute_result"
    }
   ],
   "source": [
    "a = \"ali veli SELlami hasan hüseyin\"\n",
    "a.swapcase()"
   ]
  },
  {
   "cell_type": "code",
   "execution_count": 36,
   "id": "83d4600d-bf55-4b3b-a777-93fe98f6343c",
   "metadata": {},
   "outputs": [
    {
     "data": {
      "text/plain": [
       "'ali veli SELlami hasan hüseyin'"
      ]
     },
     "execution_count": 36,
     "metadata": {},
     "output_type": "execute_result"
    }
   ],
   "source": [
    "a"
   ]
  },
  {
   "cell_type": "code",
   "execution_count": 37,
   "id": "84b54910",
   "metadata": {},
   "outputs": [
    {
     "name": "stdout",
     "output_type": "stream",
     "text": [
      "['Pyt', 'on']\n"
     ]
    }
   ],
   "source": [
    "# h harfinden parçalayalım\n",
    "st = \"Python\"  \n",
    "print(st.split(\"h\"))"
   ]
  },
  {
   "cell_type": "code",
   "execution_count": 40,
   "id": "9e023b73",
   "metadata": {},
   "outputs": [
    {
     "name": "stdout",
     "output_type": "stream",
     "text": [
      "['Py', 'hon']\n"
     ]
    },
    {
     "ename": "TypeError",
     "evalue": "'str' object does not support item assignment",
     "output_type": "error",
     "traceback": [
      "\u001b[1;31m---------------------------------------------------------------------------\u001b[0m",
      "\u001b[1;31mTypeError\u001b[0m                                 Traceback (most recent call last)",
      "\u001b[1;32m~\\AppData\\Local\\Temp/ipykernel_10040/3628866424.py\u001b[0m in \u001b[0;36m<module>\u001b[1;34m\u001b[0m\n\u001b[0;32m      2\u001b[0m \u001b[0md\u001b[0m \u001b[1;33m=\u001b[0m \u001b[0mst\u001b[0m\u001b[1;33m.\u001b[0m\u001b[0msplit\u001b[0m\u001b[1;33m(\u001b[0m\u001b[1;34m't'\u001b[0m\u001b[1;33m)\u001b[0m\u001b[1;33m\u001b[0m\u001b[1;33m\u001b[0m\u001b[0m\n\u001b[0;32m      3\u001b[0m \u001b[0mprint\u001b[0m\u001b[1;33m(\u001b[0m\u001b[0md\u001b[0m\u001b[1;33m)\u001b[0m\u001b[1;33m\u001b[0m\u001b[1;33m\u001b[0m\u001b[0m\n\u001b[1;32m----> 4\u001b[1;33m \u001b[0mst\u001b[0m\u001b[1;33m[\u001b[0m\u001b[1;36m0\u001b[0m\u001b[1;33m]\u001b[0m\u001b[1;33m=\u001b[0m\u001b[1;34m'A'\u001b[0m  \u001b[1;31m#\"immutable\"\u001b[0m\u001b[1;33m\u001b[0m\u001b[1;33m\u001b[0m\u001b[0m\n\u001b[0m\u001b[0;32m      5\u001b[0m \u001b[0mf\u001b[0m \u001b[1;33m=\u001b[0m \u001b[0mst\u001b[0m\u001b[1;33m[\u001b[0m\u001b[1;36m0\u001b[0m\u001b[1;33m:\u001b[0m\u001b[1;36m6\u001b[0m\u001b[1;33m]\u001b[0m\u001b[1;33m+\u001b[0m\u001b[1;34m'S'\u001b[0m\u001b[1;33m\u001b[0m\u001b[1;33m\u001b[0m\u001b[0m\n\u001b[0;32m      6\u001b[0m \u001b[0mf\u001b[0m\u001b[1;33m\u001b[0m\u001b[1;33m\u001b[0m\u001b[0m\n",
      "\u001b[1;31mTypeError\u001b[0m: 'str' object does not support item assignment"
     ]
    }
   ],
   "source": [
    "st = 'Python'\n",
    "d = st.split('t')\n",
    "print(d)\n",
    "st[0]='A'  #\"immutable\"    \n",
    "f = st[0:6]+'S'\n",
    "f"
   ]
  },
  {
   "cell_type": "code",
   "execution_count": 42,
   "id": "7634166c",
   "metadata": {},
   "outputs": [
    {
     "name": "stdout",
     "output_type": "stream",
     "text": [
      "['Py', 'hon']\n"
     ]
    },
    {
     "data": {
      "text/plain": [
       "'PythoS'"
      ]
     },
     "execution_count": 42,
     "metadata": {},
     "output_type": "execute_result"
    }
   ],
   "source": [
    "st = 'Python'\n",
    "d = st.split('t')\n",
    "print(d)\n",
    "#st[0]='A'  #\"immutable\"    \n",
    "f = st[0:5] + 'S'\n",
    "f"
   ]
  },
  {
   "cell_type": "code",
   "execution_count": 39,
   "id": "6b2f18b5",
   "metadata": {},
   "outputs": [
    {
     "data": {
      "text/plain": [
       "['h', 'e', 'l', 'l', 'o']"
      ]
     },
     "execution_count": 39,
     "metadata": {},
     "output_type": "execute_result"
    }
   ],
   "source": [
    "list(\"hello\")"
   ]
  },
  {
   "cell_type": "code",
   "execution_count": 38,
   "id": "3e9c12ad",
   "metadata": {},
   "outputs": [
    {
     "name": "stdout",
     "output_type": "stream",
     "text": [
      "h e l l o\n"
     ]
    }
   ],
   "source": [
    "print(*\"hello\")"
   ]
  },
  {
   "cell_type": "code",
   "execution_count": 44,
   "id": "b0373c0e",
   "metadata": {},
   "outputs": [
    {
     "name": "stdout",
     "output_type": "stream",
     "text": [
      "PYTHON ÖĞREYNMEK ÇOYK ZEVYKLI\n",
      "python öğreynmek çoyk zevykli\n",
      "['P', 'thon Öğre', 'nmek Çoyk Zevykli']\n",
      "['P', 'thon Öğre', 'nmek Ço', 'k Zevykli']\n",
      "['P', 'thon Öğre', 'nmek Ço', 'k Zev', 'kli']\n"
     ]
    }
   ],
   "source": [
    "st = \"Python Öğreynmek Çoyk Zevykli\"\n",
    "print(st.upper())\n",
    "print(st.lower())\n",
    "print(st.split(sep=\"y\",maxsplit=2))   \n",
    "print(st.split(\"y\",3))\n",
    "print(st.split(sep=\"y\"))"
   ]
  },
  {
   "cell_type": "code",
   "execution_count": 45,
   "id": "32eac0a4",
   "metadata": {},
   "outputs": [
    {
     "name": "stdout",
     "output_type": "stream",
     "text": [
      "True False False\n",
      "<class 'bool'>---<class 'bool'>---<class 'str'>\n"
     ]
    }
   ],
   "source": [
    "a = True\n",
    "x = False\n",
    "zz = \"False\"\n",
    "print(a, x, zz)\n",
    "print(type(a), type(x), type(zz), sep=\"---\")"
   ]
  },
  {
   "cell_type": "code",
   "execution_count": 46,
   "id": "9f177515",
   "metadata": {},
   "outputs": [
    {
     "name": "stdout",
     "output_type": "stream",
     "text": [
      "False\n",
      "True\n",
      "True\n"
     ]
    }
   ],
   "source": [
    "x = 10; y = 20\n",
    "x, y = 10, 20\n",
    "# x=y=z=t=k=l=30\n",
    "print(x == y)\n",
    "print(x != y)\n",
    "print(not x == y)"
   ]
  },
  {
   "cell_type": "code",
   "execution_count": 49,
   "id": "8212bb53",
   "metadata": {},
   "outputs": [
    {
     "name": "stdout",
     "output_type": "stream",
     "text": [
      "['2', '5', 'a', 5, 's', 'c', 'h', 'h', 5]\n",
      "['a', 'b', '2', '5', 3, 'a', 5, 's', 'c', 'h', 'h', 5, 3]\n",
      "['a', 'b', 'a', 5, 's', 'c', 'h', 'h', 5, 3]\n",
      "['a', 'b', 'a', 's', 'c', 'h', 5, 3]\n"
     ]
    }
   ],
   "source": [
    "Liste = [\"2\",\"5\",\"a\",5,\"s\",\"c\",\"h\",\"h\",5]\n",
    "print(Liste)\n",
    "Liste = [\"a\",\"b\"] + Liste\n",
    "Liste.insert(4,3)    # 4. indexin yerine yazılır. Harf sağa kayar\n",
    "Liste.append(3)     # listenin sonuna ekler\n",
    "print(Liste)\n",
    "del Liste[2:5]\n",
    "print(Liste)\n",
    "del Liste[3], Liste[5]\n",
    "print(Liste)"
   ]
  },
  {
   "cell_type": "code",
   "execution_count": 50,
   "id": "d325acef",
   "metadata": {},
   "outputs": [
    {
     "name": "stdout",
     "output_type": "stream",
     "text": [
      "['2', '5', 'a', 5, 's', 'c', 'h', 'h', 3]\n"
     ]
    }
   ],
   "source": [
    "Liste = [\"2\",\"5\",\"a\",5,\"s\",\"c\",\"h\",\"h\"]\n",
    "Liste.append(3)\n",
    "print(Liste)"
   ]
  },
  {
   "cell_type": "code",
   "execution_count": 51,
   "id": "0d4c5746",
   "metadata": {},
   "outputs": [
    {
     "data": {
      "text/plain": [
       "3"
      ]
     },
     "execution_count": 51,
     "metadata": {},
     "output_type": "execute_result"
    }
   ],
   "source": [
    "Liste.pop()"
   ]
  },
  {
   "cell_type": "code",
   "execution_count": 52,
   "id": "18c0a162",
   "metadata": {},
   "outputs": [],
   "source": [
    "Liste.append(5)"
   ]
  },
  {
   "cell_type": "code",
   "execution_count": 53,
   "id": "6301ed48",
   "metadata": {},
   "outputs": [],
   "source": [
    "b = Liste.append(6)"
   ]
  },
  {
   "cell_type": "code",
   "execution_count": 55,
   "id": "b78d00bb",
   "metadata": {},
   "outputs": [
    {
     "name": "stdout",
     "output_type": "stream",
     "text": [
      "None\n"
     ]
    }
   ],
   "source": [
    "print(b)"
   ]
  },
  {
   "cell_type": "code",
   "execution_count": 56,
   "id": "0ba24c9b",
   "metadata": {},
   "outputs": [
    {
     "data": {
      "text/plain": [
       "['2', '5', 'a', 5, 's', 'c', 'h', 'h', 5]"
      ]
     },
     "execution_count": 56,
     "metadata": {},
     "output_type": "execute_result"
    }
   ],
   "source": [
    "a = Liste.pop()  # değer yazılmazsa son elemanı siler \n",
    "Liste"
   ]
  },
  {
   "cell_type": "code",
   "execution_count": 57,
   "id": "498bc80b",
   "metadata": {},
   "outputs": [
    {
     "data": {
      "text/plain": [
       "6"
      ]
     },
     "execution_count": 57,
     "metadata": {},
     "output_type": "execute_result"
    }
   ],
   "source": [
    "a"
   ]
  },
  {
   "cell_type": "code",
   "execution_count": 58,
   "id": "d51245d1",
   "metadata": {},
   "outputs": [
    {
     "data": {
      "text/plain": [
       "['2', '5', 'a', 5, 's', 'c', 'h', 'h', 5]"
      ]
     },
     "execution_count": 58,
     "metadata": {},
     "output_type": "execute_result"
    }
   ],
   "source": [
    "Liste"
   ]
  },
  {
   "cell_type": "code",
   "execution_count": 59,
   "id": "fbcae1fe",
   "metadata": {
    "scrolled": true
   },
   "outputs": [
    {
     "data": {
      "text/plain": [
       "'a'"
      ]
     },
     "execution_count": 59,
     "metadata": {},
     "output_type": "execute_result"
    }
   ],
   "source": [
    "Liste.pop(2)  "
   ]
  },
  {
   "cell_type": "code",
   "execution_count": 60,
   "id": "bb23a5fb",
   "metadata": {},
   "outputs": [
    {
     "data": {
      "text/plain": [
       "['2', '5', 5, 's', 'c', 'h', 'h', 5]"
      ]
     },
     "execution_count": 60,
     "metadata": {},
     "output_type": "execute_result"
    }
   ],
   "source": [
    "Liste"
   ]
  },
  {
   "cell_type": "code",
   "execution_count": 62,
   "id": "0196a7cb",
   "metadata": {},
   "outputs": [
    {
     "ename": "ValueError",
     "evalue": "list.remove(x): x not in list",
     "output_type": "error",
     "traceback": [
      "\u001b[1;31m---------------------------------------------------------------------------\u001b[0m",
      "\u001b[1;31mValueError\u001b[0m                                Traceback (most recent call last)",
      "\u001b[1;32m~\\AppData\\Local\\Temp/ipykernel_10040/3611530445.py\u001b[0m in \u001b[0;36m<module>\u001b[1;34m\u001b[0m\n\u001b[1;32m----> 1\u001b[1;33m \u001b[0mListe\u001b[0m\u001b[1;33m.\u001b[0m\u001b[0mremove\u001b[0m\u001b[1;33m(\u001b[0m\u001b[1;34m\"2\"\u001b[0m\u001b[1;33m)\u001b[0m\u001b[1;33m\u001b[0m\u001b[1;33m\u001b[0m\u001b[0m\n\u001b[0m\u001b[0;32m      2\u001b[0m \u001b[0mListe\u001b[0m\u001b[1;33m\u001b[0m\u001b[1;33m\u001b[0m\u001b[0m\n",
      "\u001b[1;31mValueError\u001b[0m: list.remove(x): x not in list"
     ]
    }
   ],
   "source": [
    "Liste.remove(\"2\") #eleman listenin içinde ise siler. İçinde değilse hata verir.\n",
    "Liste"
   ]
  },
  {
   "cell_type": "code",
   "execution_count": 63,
   "id": "e8315b0f",
   "metadata": {},
   "outputs": [
    {
     "data": {
      "text/plain": [
       "['1', '5', '50', 'aaa', 'c', 'h']"
      ]
     },
     "execution_count": 63,
     "metadata": {},
     "output_type": "execute_result"
    }
   ],
   "source": [
    "Liste = ['5',\"50\",'1','aaa', 'c', 'h']\n",
    "Liste.sort()\n",
    "Liste"
   ]
  },
  {
   "cell_type": "code",
   "execution_count": 67,
   "id": "039cf34c",
   "metadata": {},
   "outputs": [
    {
     "ename": "TypeError",
     "evalue": "'<' not supported between instances of 'str' and 'int'",
     "output_type": "error",
     "traceback": [
      "\u001b[1;31m---------------------------------------------------------------------------\u001b[0m",
      "\u001b[1;31mTypeError\u001b[0m                                 Traceback (most recent call last)",
      "\u001b[1;32m~\\AppData\\Local\\Temp/ipykernel_10040/446271268.py\u001b[0m in \u001b[0;36m<module>\u001b[1;34m\u001b[0m\n\u001b[1;32m----> 1\u001b[1;33m \u001b[1;33m[\u001b[0m\u001b[1;36m1\u001b[0m\u001b[1;33m,\u001b[0m\u001b[1;36m2\u001b[0m\u001b[1;33m,\u001b[0m\u001b[1;36m3\u001b[0m\u001b[1;33m,\u001b[0m\u001b[1;34m\"a\"\u001b[0m\u001b[1;33m,\u001b[0m\u001b[1;34m\"b\"\u001b[0m\u001b[1;33m]\u001b[0m\u001b[1;33m.\u001b[0m\u001b[0msort\u001b[0m\u001b[1;33m(\u001b[0m\u001b[1;33m)\u001b[0m\u001b[1;33m\u001b[0m\u001b[1;33m\u001b[0m\u001b[0m\n\u001b[0m",
      "\u001b[1;31mTypeError\u001b[0m: '<' not supported between instances of 'str' and 'int'"
     ]
    }
   ],
   "source": [
    "[1,2,3,\"a\",\"b\"].sort()"
   ]
  },
  {
   "cell_type": "code",
   "execution_count": 72,
   "id": "d7a96986",
   "metadata": {},
   "outputs": [],
   "source": [
    "aa = [1, 2.0, False]\n",
    "aa.sort()"
   ]
  },
  {
   "cell_type": "code",
   "execution_count": 82,
   "id": "9264edf6",
   "metadata": {},
   "outputs": [
    {
     "ename": "TypeError",
     "evalue": "'<' not supported between instances of 'str' and 'int'",
     "output_type": "error",
     "traceback": [
      "\u001b[1;31m---------------------------------------------------------------------------\u001b[0m",
      "\u001b[1;31mTypeError\u001b[0m                                 Traceback (most recent call last)",
      "\u001b[1;32m~\\AppData\\Local\\Temp/ipykernel_10040/624332394.py\u001b[0m in \u001b[0;36m<module>\u001b[1;34m\u001b[0m\n\u001b[0;32m      1\u001b[0m \u001b[0maa\u001b[0m \u001b[1;33m=\u001b[0m \u001b[1;33m[\u001b[0m\u001b[1;36m1\u001b[0m\u001b[1;33m,\u001b[0m \u001b[1;36m2.0\u001b[0m\u001b[1;33m,\u001b[0m \u001b[1;32mFalse\u001b[0m\u001b[1;33m,\u001b[0m\u001b[1;34m\"Techpro\"\u001b[0m\u001b[1;33m]\u001b[0m\u001b[1;33m\u001b[0m\u001b[1;33m\u001b[0m\u001b[0m\n\u001b[1;32m----> 2\u001b[1;33m \u001b[0maa\u001b[0m\u001b[1;33m.\u001b[0m\u001b[0msort\u001b[0m\u001b[1;33m(\u001b[0m\u001b[1;33m)\u001b[0m\u001b[1;33m\u001b[0m\u001b[1;33m\u001b[0m\u001b[0m\n\u001b[0m",
      "\u001b[1;31mTypeError\u001b[0m: '<' not supported between instances of 'str' and 'int'"
     ]
    }
   ],
   "source": [
    "aa = [1, 2.0, False,\"Techpro\"]\n",
    "aa.sort()"
   ]
  },
  {
   "cell_type": "code",
   "execution_count": 70,
   "id": "ec2c5503",
   "metadata": {},
   "outputs": [
    {
     "data": {
      "text/plain": [
       "[False, 1, 2.0]"
      ]
     },
     "execution_count": 70,
     "metadata": {},
     "output_type": "execute_result"
    }
   ],
   "source": [
    "aa"
   ]
  },
  {
   "cell_type": "code",
   "execution_count": 71,
   "id": "8c4924d6",
   "metadata": {},
   "outputs": [
    {
     "name": "stdout",
     "output_type": "stream",
     "text": [
      "None\n"
     ]
    }
   ],
   "source": [
    "bb = [1, 2.0, False]\n",
    "print(bb.sort())"
   ]
  },
  {
   "cell_type": "code",
   "execution_count": 64,
   "id": "16592226",
   "metadata": {},
   "outputs": [
    {
     "data": {
      "text/plain": [
       "49"
      ]
     },
     "execution_count": 64,
     "metadata": {},
     "output_type": "execute_result"
    }
   ],
   "source": [
    "ord(\"1\")"
   ]
  },
  {
   "cell_type": "code",
   "execution_count": 73,
   "id": "4b976cd8",
   "metadata": {},
   "outputs": [
    {
     "name": "stdout",
     "output_type": "stream",
     "text": [
      "49\n"
     ]
    }
   ],
   "source": [
    "print(ord(\"1\"))"
   ]
  },
  {
   "cell_type": "code",
   "execution_count": 65,
   "id": "2dc9a140",
   "metadata": {},
   "outputs": [
    {
     "data": {
      "text/plain": [
       "97"
      ]
     },
     "execution_count": 65,
     "metadata": {},
     "output_type": "execute_result"
    }
   ],
   "source": [
    "ord(\"a\")"
   ]
  },
  {
   "cell_type": "code",
   "execution_count": 66,
   "id": "b28cc157",
   "metadata": {},
   "outputs": [
    {
     "name": "stdout",
     "output_type": "stream",
     "text": [
      "['1', '5', '50', 'c', 'h']\n",
      "aaa\n"
     ]
    }
   ],
   "source": [
    "a = Liste.pop(3)\n",
    "print(Liste)\n",
    "print(a)"
   ]
  },
  {
   "cell_type": "code",
   "execution_count": 74,
   "id": "731e3256",
   "metadata": {},
   "outputs": [
    {
     "data": {
      "text/plain": [
       "[2, 4, 4, 5, 5, 6, 25, 78]"
      ]
     },
     "execution_count": 74,
     "metadata": {},
     "output_type": "execute_result"
    }
   ],
   "source": [
    "Liste = [2, 5, 6, 25, 5, 4, 78, 4] # List de tekrarlayan eleman olabilir.\n",
    "Liste.sort()    # sort: set ve tuple de kullanılmaz\n",
    "Liste"
   ]
  },
  {
   "cell_type": "code",
   "execution_count": 75,
   "id": "99693598",
   "metadata": {},
   "outputs": [
    {
     "data": {
      "text/plain": [
       "[78, 25, 6, 5, 5, 4, 4, 2]"
      ]
     },
     "execution_count": 75,
     "metadata": {},
     "output_type": "execute_result"
    }
   ],
   "source": [
    "Liste = [2, 5, 6, 25, 5, 4, 78, 4] # List de tekrarlayan eleman olabilir.\n",
    "Liste.sort(reverse=True)    # sort: set ve tuple de kullanılmaz\n",
    "Liste"
   ]
  },
  {
   "cell_type": "code",
   "execution_count": 78,
   "id": "e37dc954",
   "metadata": {},
   "outputs": [
    {
     "data": {
      "text/plain": [
       "[78, 25, 6, 5, 5, 4, 4, 2]"
      ]
     },
     "execution_count": 78,
     "metadata": {},
     "output_type": "execute_result"
    }
   ],
   "source": [
    "Liste = [2, 5, 6, 25, 5, 4, 78, 4] # List de tekrarlayan eleman olabilir.\n",
    "Liste.sort(reverse = 1)    # sort: set ve tuple de kullanılmaz\n",
    "Liste"
   ]
  },
  {
   "cell_type": "code",
   "execution_count": 79,
   "id": "ae542d6c",
   "metadata": {},
   "outputs": [
    {
     "data": {
      "text/plain": [
       "[4, 78, 4, 5, 25, 6, 5, 2]"
      ]
     },
     "execution_count": 79,
     "metadata": {},
     "output_type": "execute_result"
    }
   ],
   "source": [
    "Liste = [2, 5, 6, 25, 5, 4, 78, 4]\n",
    "Liste.reverse()  # elemanları tersten yazdırır.\n",
    "Liste"
   ]
  },
  {
   "cell_type": "code",
   "execution_count": 80,
   "id": "1321e412",
   "metadata": {},
   "outputs": [
    {
     "data": {
      "text/plain": [
       "[4, 78, 4, 5, 25, 6, 5, 2]"
      ]
     },
     "execution_count": 80,
     "metadata": {},
     "output_type": "execute_result"
    }
   ],
   "source": [
    "[2, 5, 6, 25, 5, 4, 78, 4][::-1]"
   ]
  },
  {
   "cell_type": "code",
   "execution_count": 81,
   "id": "83db6944",
   "metadata": {},
   "outputs": [
    {
     "data": {
      "text/plain": [
       "[4, 78, 4, 5, 25, 6, False, 'aaa', 'e', 'hello', 5, 2]"
      ]
     },
     "execution_count": 81,
     "metadata": {},
     "output_type": "execute_result"
    }
   ],
   "source": [
    "Liste = [2, 5, \"hello\",\"e\",\"aaa\",False,6, 25, 5, 4, 78, 4]\n",
    "Liste.reverse()  # elemanları tersten yazdırır.\n",
    "Liste"
   ]
  },
  {
   "cell_type": "code",
   "execution_count": 83,
   "id": "75f2d057",
   "metadata": {},
   "outputs": [
    {
     "data": {
      "text/plain": [
       "[4, 78, 4, 5, 25, 6, False, 'aaa', 'e', 'hello', 5, 2]"
      ]
     },
     "execution_count": 83,
     "metadata": {},
     "output_type": "execute_result"
    }
   ],
   "source": [
    "Liste"
   ]
  },
  {
   "cell_type": "code",
   "execution_count": 84,
   "id": "1084a00a",
   "metadata": {},
   "outputs": [
    {
     "data": {
      "text/plain": [
       "set"
      ]
     },
     "execution_count": 84,
     "metadata": {},
     "output_type": "execute_result"
    }
   ],
   "source": [
    "A = set(Liste) \n",
    "type(A)"
   ]
  },
  {
   "cell_type": "code",
   "execution_count": 86,
   "id": "bb080f91-bad5-4269-8840-5c491d7faed9",
   "metadata": {},
   "outputs": [
    {
     "name": "stdout",
     "output_type": "stream",
     "text": [
      "{False, 2, 4, 5, 6, 'e', 78, 'aaa', 25, 'hello'}\n"
     ]
    }
   ],
   "source": [
    "print(A)"
   ]
  },
  {
   "cell_type": "code",
   "execution_count": 87,
   "id": "4d1dcff3-0654-4e2b-a594-5ed7cf25fcda",
   "metadata": {},
   "outputs": [
    {
     "data": {
      "text/plain": [
       "{3, 5, 6, 8, 10}"
      ]
     },
     "execution_count": 87,
     "metadata": {},
     "output_type": "execute_result"
    }
   ],
   "source": [
    "b = {3,5,6,6,8,10,10}  \n",
    "b                      # Tekrarlayan elemanlar çıkarıldı"
   ]
  },
  {
   "cell_type": "code",
   "execution_count": 88,
   "id": "77434d7e",
   "metadata": {},
   "outputs": [
    {
     "data": {
      "text/plain": [
       "set"
      ]
     },
     "execution_count": 88,
     "metadata": {},
     "output_type": "execute_result"
    }
   ],
   "source": [
    "a = type(set())\n",
    "a"
   ]
  },
  {
   "cell_type": "code",
   "execution_count": 89,
   "id": "9d07388f",
   "metadata": {},
   "outputs": [
    {
     "data": {
      "text/plain": [
       "dict"
      ]
     },
     "execution_count": 89,
     "metadata": {},
     "output_type": "execute_result"
    }
   ],
   "source": [
    "b = {}\n",
    "type(b)"
   ]
  },
  {
   "cell_type": "code",
   "execution_count": 90,
   "id": "850461e8",
   "metadata": {},
   "outputs": [
    {
     "data": {
      "text/plain": [
       "[1, 2, 3, 4, 55, 6, 7, 8, 9, 10, 1]"
      ]
     },
     "execution_count": 90,
     "metadata": {},
     "output_type": "execute_result"
    }
   ],
   "source": [
    "Liste = [1,2,3,4,5,6,7,8,9,10,1]\n",
    "Tuple = (1,2,3,4,5,6,7,8,9,10,1)\n",
    "Liste[4] = 55\n",
    "Liste"
   ]
  },
  {
   "cell_type": "code",
   "execution_count": 92,
   "id": "ff252796",
   "metadata": {},
   "outputs": [
    {
     "ename": "TypeError",
     "evalue": "'tuple' object does not support item assignment",
     "output_type": "error",
     "traceback": [
      "\u001b[1;31m---------------------------------------------------------------------------\u001b[0m",
      "\u001b[1;31mTypeError\u001b[0m                                 Traceback (most recent call last)",
      "\u001b[1;32m~\\AppData\\Local\\Temp/ipykernel_10040/2409349839.py\u001b[0m in \u001b[0;36m<module>\u001b[1;34m\u001b[0m\n\u001b[0;32m      1\u001b[0m \u001b[0mListe\u001b[0m \u001b[1;33m=\u001b[0m \u001b[1;33m[\u001b[0m\u001b[1;36m1\u001b[0m\u001b[1;33m,\u001b[0m\u001b[1;36m2\u001b[0m\u001b[1;33m,\u001b[0m\u001b[1;36m3\u001b[0m\u001b[1;33m,\u001b[0m\u001b[1;36m4\u001b[0m\u001b[1;33m,\u001b[0m\u001b[1;36m5\u001b[0m\u001b[1;33m,\u001b[0m\u001b[1;36m6\u001b[0m\u001b[1;33m,\u001b[0m\u001b[1;36m7\u001b[0m\u001b[1;33m,\u001b[0m\u001b[1;36m8\u001b[0m\u001b[1;33m,\u001b[0m\u001b[1;36m9\u001b[0m\u001b[1;33m,\u001b[0m\u001b[1;36m10\u001b[0m\u001b[1;33m,\u001b[0m\u001b[1;36m1\u001b[0m\u001b[1;33m]\u001b[0m\u001b[1;33m\u001b[0m\u001b[1;33m\u001b[0m\u001b[0m\n\u001b[0;32m      2\u001b[0m \u001b[0mTuple\u001b[0m \u001b[1;33m=\u001b[0m \u001b[1;33m(\u001b[0m\u001b[1;36m1\u001b[0m\u001b[1;33m,\u001b[0m\u001b[1;36m2\u001b[0m\u001b[1;33m,\u001b[0m\u001b[1;36m3\u001b[0m\u001b[1;33m,\u001b[0m\u001b[1;36m4\u001b[0m\u001b[1;33m,\u001b[0m\u001b[1;36m5\u001b[0m\u001b[1;33m,\u001b[0m\u001b[1;36m6\u001b[0m\u001b[1;33m,\u001b[0m\u001b[1;36m7\u001b[0m\u001b[1;33m,\u001b[0m\u001b[1;36m8\u001b[0m\u001b[1;33m,\u001b[0m\u001b[1;36m9\u001b[0m\u001b[1;33m,\u001b[0m\u001b[1;36m10\u001b[0m\u001b[1;33m,\u001b[0m\u001b[1;36m1\u001b[0m\u001b[1;33m)\u001b[0m\u001b[1;33m\u001b[0m\u001b[1;33m\u001b[0m\u001b[0m\n\u001b[1;32m----> 3\u001b[1;33m \u001b[0mTuple\u001b[0m\u001b[1;33m[\u001b[0m\u001b[1;36m4\u001b[0m\u001b[1;33m]\u001b[0m \u001b[1;33m=\u001b[0m \u001b[1;36m55\u001b[0m\u001b[1;33m\u001b[0m\u001b[1;33m\u001b[0m\u001b[0m\n\u001b[0m\u001b[0;32m      4\u001b[0m \u001b[0mTuple\u001b[0m\u001b[1;33m\u001b[0m\u001b[1;33m\u001b[0m\u001b[0m\n",
      "\u001b[1;31mTypeError\u001b[0m: 'tuple' object does not support item assignment"
     ]
    }
   ],
   "source": [
    "Liste = [1,2,3,4,5,6,7,8,9,10,1]\n",
    "Tuple = (1,2,3,4,5,6,7,8,9,10,1)\n",
    "Tuple[4] = 55\n",
    "Tuple"
   ]
  },
  {
   "cell_type": "code",
   "execution_count": 93,
   "id": "211ace63-e0ad-4962-83d0-54fdfef20a55",
   "metadata": {},
   "outputs": [
    {
     "data": {
      "text/plain": [
       "tuple"
      ]
     },
     "execution_count": 93,
     "metadata": {},
     "output_type": "execute_result"
    }
   ],
   "source": [
    "T = 1, 5, 6, 8, 10\n",
    "type(T)"
   ]
  },
  {
   "cell_type": "code",
   "execution_count": 94,
   "id": "fdc55dac",
   "metadata": {},
   "outputs": [
    {
     "data": {
      "text/plain": [
       "str"
      ]
     },
     "execution_count": 94,
     "metadata": {},
     "output_type": "execute_result"
    }
   ],
   "source": [
    "c = (\"hello\")\n",
    "type(c)"
   ]
  },
  {
   "cell_type": "code",
   "execution_count": 95,
   "id": "248ffa82",
   "metadata": {},
   "outputs": [
    {
     "data": {
      "text/plain": [
       "tuple"
      ]
     },
     "execution_count": 95,
     "metadata": {},
     "output_type": "execute_result"
    }
   ],
   "source": [
    "c = (\"hello\",)\n",
    "type(c)"
   ]
  },
  {
   "cell_type": "code",
   "execution_count": 96,
   "id": "8f66c54c",
   "metadata": {},
   "outputs": [
    {
     "data": {
      "text/plain": [
       "tuple"
      ]
     },
     "execution_count": 96,
     "metadata": {},
     "output_type": "execute_result"
    }
   ],
   "source": [
    "c = (\"hello\", \"world\")\n",
    "type(c)"
   ]
  },
  {
   "cell_type": "code",
   "execution_count": 97,
   "id": "f8f82364",
   "metadata": {},
   "outputs": [
    {
     "data": {
      "text/plain": [
       "tuple"
      ]
     },
     "execution_count": 97,
     "metadata": {},
     "output_type": "execute_result"
    }
   ],
   "source": [
    "Liste = [1,2,3,4,5,6,7,8,9,10,10]\n",
    "Tuple = (1,2,3,4,5,6,7,8,9,10,10)\n",
    "#Tuple[4]=55\n",
    "type(Tuple)"
   ]
  },
  {
   "cell_type": "code",
   "execution_count": 98,
   "id": "b25c7309-4d5c-40ef-ba95-cdeae3859d5b",
   "metadata": {},
   "outputs": [
    {
     "data": {
      "text/plain": [
       "[1, 2, 3, 3, 2, 4, 5, 6, 1]"
      ]
     },
     "execution_count": 98,
     "metadata": {},
     "output_type": "execute_result"
    }
   ],
   "source": [
    "l1 = [1, 2, 3, 3]\n",
    "l2 = [2, 4, 5, 6, 1]\n",
    "l1.extend(l2)\n",
    "l1"
   ]
  },
  {
   "cell_type": "code",
   "execution_count": 101,
   "id": "32c8a9c3",
   "metadata": {},
   "outputs": [
    {
     "ename": "TypeError",
     "evalue": "list.append() takes exactly one argument (2 given)",
     "output_type": "error",
     "traceback": [
      "\u001b[1;31m---------------------------------------------------------------------------\u001b[0m",
      "\u001b[1;31mTypeError\u001b[0m                                 Traceback (most recent call last)",
      "\u001b[1;32m~\\AppData\\Local\\Temp/ipykernel_10040/3953451503.py\u001b[0m in \u001b[0;36m<module>\u001b[1;34m\u001b[0m\n\u001b[0;32m      1\u001b[0m \u001b[0ml1\u001b[0m \u001b[1;33m=\u001b[0m \u001b[1;33m[\u001b[0m\u001b[1;36m1\u001b[0m\u001b[1;33m,\u001b[0m \u001b[1;36m2\u001b[0m\u001b[1;33m,\u001b[0m \u001b[1;36m3\u001b[0m\u001b[1;33m,\u001b[0m \u001b[1;36m3\u001b[0m\u001b[1;33m]\u001b[0m\u001b[1;33m\u001b[0m\u001b[1;33m\u001b[0m\u001b[0m\n\u001b[0;32m      2\u001b[0m \u001b[0ml2\u001b[0m \u001b[1;33m=\u001b[0m \u001b[1;33m[\u001b[0m\u001b[1;36m2\u001b[0m\u001b[1;33m,\u001b[0m \u001b[1;36m4\u001b[0m\u001b[1;33m,\u001b[0m \u001b[1;36m5\u001b[0m\u001b[1;33m,\u001b[0m \u001b[1;36m6\u001b[0m\u001b[1;33m,\u001b[0m \u001b[1;36m1\u001b[0m\u001b[1;33m]\u001b[0m\u001b[1;33m\u001b[0m\u001b[1;33m\u001b[0m\u001b[0m\n\u001b[1;32m----> 3\u001b[1;33m \u001b[0ml1\u001b[0m\u001b[1;33m.\u001b[0m\u001b[0mappend\u001b[0m\u001b[1;33m(\u001b[0m\u001b[0ml2\u001b[0m\u001b[1;33m,\u001b[0m\u001b[1;34m\"a\"\u001b[0m\u001b[1;33m)\u001b[0m\u001b[1;33m\u001b[0m\u001b[1;33m\u001b[0m\u001b[0m\n\u001b[0m\u001b[0;32m      4\u001b[0m \u001b[0ml1\u001b[0m\u001b[1;33m\u001b[0m\u001b[1;33m\u001b[0m\u001b[0m\n",
      "\u001b[1;31mTypeError\u001b[0m: list.append() takes exactly one argument (2 given)"
     ]
    }
   ],
   "source": [
    "l1 = [1, 2, 3, 3]\n",
    "l2 = [2, 4, 5, 6, 1]\n",
    "l1.append(l2,\"a\") # append tek eleman ekler. \n",
    "l1"
   ]
  },
  {
   "cell_type": "code",
   "execution_count": 102,
   "id": "1d8a3240",
   "metadata": {},
   "outputs": [
    {
     "data": {
      "text/plain": [
       "[1, 2, 3, 3, [2, 4, 5, 6, 1]]"
      ]
     },
     "execution_count": 102,
     "metadata": {},
     "output_type": "execute_result"
    }
   ],
   "source": [
    "l1 = [1, 2, 3, 3]\n",
    "l2 = [2, 4, 5, 6, 1] \n",
    "l1.append(l2) # append liste,dict,tuple,set bunların hepsini ekleyebilir\n",
    "l1"
   ]
  },
  {
   "cell_type": "code",
   "execution_count": 105,
   "id": "ab3ca1f8",
   "metadata": {},
   "outputs": [
    {
     "data": {
      "text/plain": [
       "[1, 2, 3, 3, {'key': 'value'}]"
      ]
     },
     "execution_count": 105,
     "metadata": {},
     "output_type": "execute_result"
    }
   ],
   "source": [
    "l1 = [1, 2, 3, 3]\n",
    "l1.append({\"key\":\"value\"}) # append liste,dict,tuple,set bunların hepsini ekleyebilir\n",
    "l1"
   ]
  },
  {
   "cell_type": "markdown",
   "id": "badc8dd1-1997-41d7-aa2d-12dc84ad2504",
   "metadata": {},
   "source": [
    "# count"
   ]
  },
  {
   "cell_type": "code",
   "execution_count": 103,
   "id": "e6ba7bf1-0897-4861-8794-1932ac03446c",
   "metadata": {},
   "outputs": [
    {
     "data": {
      "text/plain": [
       "3"
      ]
     },
     "execution_count": 103,
     "metadata": {},
     "output_type": "execute_result"
    }
   ],
   "source": [
    "ali = (1,5,\"a\",4,\"a\",5,'a')\n",
    "ali.count(\"a\")"
   ]
  },
  {
   "cell_type": "code",
   "execution_count": 106,
   "id": "bf6caaf3",
   "metadata": {},
   "outputs": [
    {
     "data": {
      "text/plain": [
       "4"
      ]
     },
     "execution_count": 106,
     "metadata": {},
     "output_type": "execute_result"
    }
   ],
   "source": [
    "ali.index(\"a\",3,6)  #ilk bulduğu değerin indexini döndürür"
   ]
  },
  {
   "cell_type": "code",
   "execution_count": 107,
   "id": "025b18ea",
   "metadata": {},
   "outputs": [
    {
     "ename": "ValueError",
     "evalue": "tuple.index(x): x not in tuple",
     "output_type": "error",
     "traceback": [
      "\u001b[1;31m---------------------------------------------------------------------------\u001b[0m",
      "\u001b[1;31mValueError\u001b[0m                                Traceback (most recent call last)",
      "\u001b[1;32m~\\AppData\\Local\\Temp/ipykernel_10040/4011945548.py\u001b[0m in \u001b[0;36m<module>\u001b[1;34m\u001b[0m\n\u001b[1;32m----> 1\u001b[1;33m \u001b[0mali\u001b[0m\u001b[1;33m.\u001b[0m\u001b[0mindex\u001b[0m\u001b[1;33m(\u001b[0m\u001b[1;34m\"f\"\u001b[0m\u001b[1;33m)\u001b[0m  \u001b[1;31m# yoksa hata döndürür\u001b[0m\u001b[1;33m\u001b[0m\u001b[1;33m\u001b[0m\u001b[0m\n\u001b[0m",
      "\u001b[1;31mValueError\u001b[0m: tuple.index(x): x not in tuple"
     ]
    }
   ],
   "source": [
    "ali.index(\"f\")  # yoksa hata döndürür"
   ]
  },
  {
   "cell_type": "code",
   "execution_count": 108,
   "id": "02543fa3",
   "metadata": {},
   "outputs": [
    {
     "data": {
      "text/plain": [
       "{'ad': 'Ahmet', 'Soyad': 'Ağa', 'Yas': 35}"
      ]
     },
     "execution_count": 108,
     "metadata": {},
     "output_type": "execute_result"
    }
   ],
   "source": [
    "dicti = {'ad':'Ahmet','Soyad':'Ağa','Yas':35}\n",
    "dicti"
   ]
  },
  {
   "cell_type": "code",
   "execution_count": 109,
   "id": "88406cbf",
   "metadata": {},
   "outputs": [
    {
     "data": {
      "text/plain": [
       "dict_items([('ad', 'Ahmet'), ('Soyad', 'Ağa'), ('Yas', 35)])"
      ]
     },
     "execution_count": 109,
     "metadata": {},
     "output_type": "execute_result"
    }
   ],
   "source": [
    "dicti.items()"
   ]
  },
  {
   "cell_type": "code",
   "execution_count": 110,
   "id": "3a2d2f12",
   "metadata": {},
   "outputs": [
    {
     "data": {
      "text/plain": [
       "dict_keys(['ad', 'Soyad', 'Yas'])"
      ]
     },
     "execution_count": 110,
     "metadata": {},
     "output_type": "execute_result"
    }
   ],
   "source": [
    "dicti.keys()"
   ]
  },
  {
   "cell_type": "code",
   "execution_count": 111,
   "id": "2a29f341",
   "metadata": {},
   "outputs": [
    {
     "data": {
      "text/plain": [
       "<function dict.values>"
      ]
     },
     "execution_count": 111,
     "metadata": {},
     "output_type": "execute_result"
    }
   ],
   "source": [
    "dicti.values"
   ]
  },
  {
   "cell_type": "code",
   "execution_count": 112,
   "id": "c86786c1",
   "metadata": {},
   "outputs": [
    {
     "data": {
      "text/plain": [
       "dict_values(['Ahmet', 'Ağa', 35])"
      ]
     },
     "execution_count": 112,
     "metadata": {},
     "output_type": "execute_result"
    }
   ],
   "source": [
    "dicti.values()"
   ]
  },
  {
   "cell_type": "code",
   "execution_count": 113,
   "id": "81012dd9",
   "metadata": {},
   "outputs": [],
   "source": [
    "dicti = {\n",
    "    'ad'    : 'Ahmet',\n",
    "    'Soyad' : 'Ağa',\n",
    "    'Yas'   :  35}"
   ]
  },
  {
   "cell_type": "code",
   "execution_count": 114,
   "id": "5cc7b009",
   "metadata": {},
   "outputs": [
    {
     "data": {
      "text/plain": [
       "{'ad': 'Ahmet', 'Soyad': 'Ağa', 'Yas': 35}"
      ]
     },
     "execution_count": 114,
     "metadata": {},
     "output_type": "execute_result"
    }
   ],
   "source": [
    "dicti"
   ]
  },
  {
   "cell_type": "code",
   "execution_count": 115,
   "id": "9d77671f",
   "metadata": {},
   "outputs": [
    {
     "data": {
      "text/plain": [
       "'Ahmet'"
      ]
     },
     "execution_count": 115,
     "metadata": {},
     "output_type": "execute_result"
    }
   ],
   "source": [
    "dicti['ad']   # [ ] yerine get komutu da kullanılır."
   ]
  },
  {
   "cell_type": "code",
   "execution_count": 116,
   "id": "b51c470c-7c73-479f-bf71-2450fe705c2a",
   "metadata": {},
   "outputs": [
    {
     "data": {
      "text/plain": [
       "'Ahmet'"
      ]
     },
     "execution_count": 116,
     "metadata": {},
     "output_type": "execute_result"
    }
   ],
   "source": [
    "dicti.get('ad')"
   ]
  },
  {
   "cell_type": "code",
   "execution_count": 117,
   "id": "2eaf78bc-7ffb-4217-9974-7948031d9222",
   "metadata": {},
   "outputs": [
    {
     "data": {
      "text/plain": [
       "dict"
      ]
     },
     "execution_count": 117,
     "metadata": {},
     "output_type": "execute_result"
    }
   ],
   "source": [
    "type(dicti)"
   ]
  },
  {
   "cell_type": "code",
   "execution_count": 118,
   "id": "ba347cc4",
   "metadata": {},
   "outputs": [
    {
     "data": {
      "text/plain": [
       "{'name': 'John', 'country': 'ABD', 'favorite_number': [7, 42, 92, 8]}"
      ]
     },
     "execution_count": 118,
     "metadata": {},
     "output_type": "execute_result"
    }
   ],
   "source": [
    "participant = {\n",
    "    'name'            : 'John',\n",
    "    'country'         : 'ABD',\n",
    "    'favorite_number' : [7,42,92,8]\n",
    "}\n",
    "participant"
   ]
  },
  {
   "cell_type": "code",
   "execution_count": 119,
   "id": "0d4974a5",
   "metadata": {},
   "outputs": [
    {
     "name": "stdout",
     "output_type": "stream",
     "text": [
      "[7, 42, 92, 8]\n"
     ]
    }
   ],
   "source": [
    "print(participant['favorite_number'])"
   ]
  },
  {
   "cell_type": "code",
   "execution_count": 120,
   "id": "64d07ba9-16d7-4c2f-97ee-42604c25be24",
   "metadata": {},
   "outputs": [
    {
     "data": {
      "text/plain": [
       "'John'"
      ]
     },
     "execution_count": 120,
     "metadata": {},
     "output_type": "execute_result"
    }
   ],
   "source": [
    "participant.get(\"name\")"
   ]
  },
  {
   "cell_type": "code",
   "execution_count": 121,
   "id": "3883cad6",
   "metadata": {},
   "outputs": [],
   "source": [
    "participant['favorite_language'] = 'Python'"
   ]
  },
  {
   "cell_type": "code",
   "execution_count": 122,
   "id": "63b7f129",
   "metadata": {},
   "outputs": [
    {
     "data": {
      "text/plain": [
       "4"
      ]
     },
     "execution_count": 122,
     "metadata": {},
     "output_type": "execute_result"
    }
   ],
   "source": [
    "len(participant)"
   ]
  },
  {
   "cell_type": "code",
   "execution_count": 123,
   "id": "8c9ed7c0-14f0-4599-8952-499599127c59",
   "metadata": {},
   "outputs": [
    {
     "data": {
      "text/plain": [
       "{'name': 'John',\n",
       " 'country': 'ABD',\n",
       " 'favorite_number': [7, 42, 92, 8],\n",
       " 'favorite_language': 'Python'}"
      ]
     },
     "execution_count": 123,
     "metadata": {},
     "output_type": "execute_result"
    }
   ],
   "source": [
    "participant"
   ]
  },
  {
   "cell_type": "code",
   "execution_count": 126,
   "id": "d4c6ad6a",
   "metadata": {},
   "outputs": [
    {
     "ename": "KeyError",
     "evalue": "'name'",
     "output_type": "error",
     "traceback": [
      "\u001b[1;31m---------------------------------------------------------------------------\u001b[0m",
      "\u001b[1;31mKeyError\u001b[0m                                  Traceback (most recent call last)",
      "\u001b[1;32m~\\AppData\\Local\\Temp/ipykernel_10040/3208174143.py\u001b[0m in \u001b[0;36m<module>\u001b[1;34m\u001b[0m\n\u001b[1;32m----> 1\u001b[1;33m \u001b[1;32mdel\u001b[0m \u001b[0mparticipant\u001b[0m\u001b[1;33m[\u001b[0m\u001b[1;34m'name'\u001b[0m\u001b[1;33m]\u001b[0m  \u001b[1;31m#bunu calıştırdıktan sonra tekrar run edersen hata verir.\u001b[0m\u001b[1;33m\u001b[0m\u001b[1;33m\u001b[0m\u001b[0m\n\u001b[0m",
      "\u001b[1;31mKeyError\u001b[0m: 'name'"
     ]
    }
   ],
   "source": [
    "del participant['name']  #bunu calıştırdıktan sonra tekrar run edersen hata verir."
   ]
  },
  {
   "cell_type": "code",
   "execution_count": 125,
   "id": "b08e7239",
   "metadata": {},
   "outputs": [
    {
     "data": {
      "text/plain": [
       "{'country': 'ABD',\n",
       " 'favorite_number': [7, 42, 92, 8],\n",
       " 'favorite_language': 'Python'}"
      ]
     },
     "execution_count": 125,
     "metadata": {},
     "output_type": "execute_result"
    }
   ],
   "source": [
    "participant"
   ]
  },
  {
   "cell_type": "code",
   "execution_count": 129,
   "id": "be235475-a85c-4ea0-b27e-48b80955248d",
   "metadata": {},
   "outputs": [
    {
     "data": {
      "text/plain": [
       "{1, 2, 3, 4, 5, 6}"
      ]
     },
     "execution_count": 129,
     "metadata": {},
     "output_type": "execute_result"
    }
   ],
   "source": [
    "set1 = {1,2,3,4,5,6}\n",
    "set1"
   ]
  },
  {
   "cell_type": "code",
   "execution_count": 128,
   "id": "35535e75-8d50-4eed-b11a-dddb3e120dfe",
   "metadata": {},
   "outputs": [
    {
     "data": {
      "text/plain": [
       "{1, 2, 7, 8, 9}"
      ]
     },
     "execution_count": 128,
     "metadata": {},
     "output_type": "execute_result"
    }
   ],
   "source": [
    "set2 = {1,2,7,8,9,9}\n",
    "set2"
   ]
  },
  {
   "cell_type": "code",
   "execution_count": 130,
   "id": "4692d354",
   "metadata": {},
   "outputs": [
    {
     "ename": "TypeError",
     "evalue": "unsupported operand type(s) for +: 'set' and 'set'",
     "output_type": "error",
     "traceback": [
      "\u001b[1;31m---------------------------------------------------------------------------\u001b[0m",
      "\u001b[1;31mTypeError\u001b[0m                                 Traceback (most recent call last)",
      "\u001b[1;32m~\\AppData\\Local\\Temp/ipykernel_10040/2093052500.py\u001b[0m in \u001b[0;36m<module>\u001b[1;34m\u001b[0m\n\u001b[1;32m----> 1\u001b[1;33m \u001b[0mset1\u001b[0m \u001b[1;33m+\u001b[0m \u001b[0mset2\u001b[0m\u001b[1;33m\u001b[0m\u001b[1;33m\u001b[0m\u001b[0m\n\u001b[0m",
      "\u001b[1;31mTypeError\u001b[0m: unsupported operand type(s) for +: 'set' and 'set'"
     ]
    }
   ],
   "source": [
    "set1 + set2 "
   ]
  },
  {
   "cell_type": "code",
   "execution_count": 131,
   "id": "1d2bf944-a248-481e-9f03-1f5b1996c01d",
   "metadata": {},
   "outputs": [],
   "source": [
    "t = set1.union(set2)"
   ]
  },
  {
   "cell_type": "code",
   "execution_count": 132,
   "id": "0ea7fe64-efd5-41bc-aaf6-afb731c92a2a",
   "metadata": {},
   "outputs": [
    {
     "data": {
      "text/plain": [
       "{1, 2, 3, 4, 5, 6, 7, 8, 9}"
      ]
     },
     "execution_count": 132,
     "metadata": {},
     "output_type": "execute_result"
    }
   ],
   "source": [
    "t"
   ]
  },
  {
   "cell_type": "code",
   "execution_count": 133,
   "id": "12218daf",
   "metadata": {},
   "outputs": [
    {
     "data": {
      "text/plain": [
       "{1, 2, 3, 4, 5, 6, 7, 8, 9}"
      ]
     },
     "execution_count": 133,
     "metadata": {},
     "output_type": "execute_result"
    }
   ],
   "source": [
    "set2 | set1"
   ]
  },
  {
   "cell_type": "code",
   "execution_count": 134,
   "id": "165a2672",
   "metadata": {},
   "outputs": [
    {
     "data": {
      "text/plain": [
       "{1, 2, 7, 8, 9}"
      ]
     },
     "execution_count": 134,
     "metadata": {},
     "output_type": "execute_result"
    }
   ],
   "source": [
    "set2"
   ]
  },
  {
   "cell_type": "code",
   "execution_count": 135,
   "id": "c51461f9",
   "metadata": {},
   "outputs": [
    {
     "data": {
      "text/plain": [
       "{1, 2, 3, 4, 5, 6}"
      ]
     },
     "execution_count": 135,
     "metadata": {},
     "output_type": "execute_result"
    }
   ],
   "source": [
    "set1"
   ]
  },
  {
   "cell_type": "code",
   "execution_count": 136,
   "id": "ab317360-b31b-4a62-9baa-7ca71d004ee5",
   "metadata": {},
   "outputs": [],
   "source": [
    "set1.update(set2)"
   ]
  },
  {
   "cell_type": "code",
   "execution_count": 140,
   "id": "1a9ba8c9",
   "metadata": {},
   "outputs": [
    {
     "data": {
      "text/plain": [
       "{1, 2, 3, 4, 5, 6, 7, 8, 9}"
      ]
     },
     "execution_count": 140,
     "metadata": {},
     "output_type": "execute_result"
    }
   ],
   "source": [
    "set1"
   ]
  },
  {
   "cell_type": "code",
   "execution_count": 141,
   "id": "c7ac04cd",
   "metadata": {},
   "outputs": [
    {
     "data": {
      "text/plain": [
       "{1, 2, 7, 8, 9}"
      ]
     },
     "execution_count": 141,
     "metadata": {},
     "output_type": "execute_result"
    }
   ],
   "source": [
    "set2"
   ]
  },
  {
   "cell_type": "code",
   "execution_count": 142,
   "id": "6e15bd27-48d4-4f9e-b886-a4792503a5b7",
   "metadata": {},
   "outputs": [
    {
     "data": {
      "text/plain": [
       "{3, 4, 5, 6}"
      ]
     },
     "execution_count": 142,
     "metadata": {},
     "output_type": "execute_result"
    }
   ],
   "source": [
    "set1.difference(set2)"
   ]
  },
  {
   "cell_type": "code",
   "execution_count": 139,
   "id": "975ff09c",
   "metadata": {},
   "outputs": [
    {
     "data": {
      "text/plain": [
       "{1, 2, 3, 4, 5, 6, 7, 8, 9}"
      ]
     },
     "execution_count": 139,
     "metadata": {},
     "output_type": "execute_result"
    }
   ],
   "source": [
    "set1"
   ]
  },
  {
   "cell_type": "code",
   "execution_count": 143,
   "id": "68e55d7f",
   "metadata": {},
   "outputs": [],
   "source": [
    "set1.difference_update(set2)"
   ]
  },
  {
   "cell_type": "code",
   "execution_count": 144,
   "id": "39c20043",
   "metadata": {},
   "outputs": [
    {
     "data": {
      "text/plain": [
       "{3, 4, 5, 6}"
      ]
     },
     "execution_count": 144,
     "metadata": {},
     "output_type": "execute_result"
    }
   ],
   "source": [
    "set1"
   ]
  },
  {
   "cell_type": "code",
   "execution_count": 145,
   "id": "b3d3fe49-7828-499d-b2b0-6789ff2eff1c",
   "metadata": {},
   "outputs": [],
   "source": [
    "set1.add(99)"
   ]
  },
  {
   "cell_type": "code",
   "execution_count": 146,
   "id": "5b9ce6d0-8ac2-402c-b4ce-19aa4895ba7d",
   "metadata": {},
   "outputs": [
    {
     "data": {
      "text/plain": [
       "{3, 4, 5, 6, 99}"
      ]
     },
     "execution_count": 146,
     "metadata": {},
     "output_type": "execute_result"
    }
   ],
   "source": [
    "set1"
   ]
  },
  {
   "cell_type": "code",
   "execution_count": 147,
   "id": "cd08f4ec-a0b1-48ed-ad8a-e8e019b4406c",
   "metadata": {},
   "outputs": [
    {
     "ename": "AttributeError",
     "evalue": "'set' object has no attribute 'sort'",
     "output_type": "error",
     "traceback": [
      "\u001b[1;31m---------------------------------------------------------------------------\u001b[0m",
      "\u001b[1;31mAttributeError\u001b[0m                            Traceback (most recent call last)",
      "\u001b[1;32m~\\AppData\\Local\\Temp/ipykernel_10040/4030476568.py\u001b[0m in \u001b[0;36m<module>\u001b[1;34m\u001b[0m\n\u001b[1;32m----> 1\u001b[1;33m \u001b[0mset1\u001b[0m\u001b[1;33m.\u001b[0m\u001b[0msort\u001b[0m\u001b[1;33m(\u001b[0m\u001b[1;33m)\u001b[0m  \u001b[1;31m# sıralama yok, indexlenmez\u001b[0m\u001b[1;33m\u001b[0m\u001b[1;33m\u001b[0m\u001b[0m\n\u001b[0m",
      "\u001b[1;31mAttributeError\u001b[0m: 'set' object has no attribute 'sort'"
     ]
    }
   ],
   "source": [
    "set1.sort()  # sıralama yok, indexlenmez"
   ]
  },
  {
   "cell_type": "code",
   "execution_count": 1,
   "id": "81f355cc",
   "metadata": {},
   "outputs": [
    {
     "name": "stdout",
     "output_type": "stream",
     "text": [
      "{'T': 1, 'e': 4, 'c': 2, 'h': 2, 'p': 1, 'r': 1, 'o': 2, ' ': 4, 'd': 1, 'u': 1, 'a': 1, 't': 3, 'i': 2, 'n': 1, 's': 2, 'b': 1}\n"
     ]
    }
   ],
   "source": [
    "aa = \"Techpro education is the best\"\n",
    "\n",
    "index = 0\n",
    "\n",
    "my_dict = {}\n",
    "\n",
    "while index < len(aa):\n",
    "\n",
    "    if aa[index] in my_dict:\n",
    "        my_dict[aa[index]] += 1\n",
    "    else:\n",
    "        my_dict[aa[index]] = 1\n",
    "\n",
    "    index += 1\n",
    "\n",
    "print(my_dict)"
   ]
  },
  {
   "cell_type": "code",
   "execution_count": 2,
   "id": "8f7a2f5b",
   "metadata": {},
   "outputs": [
    {
     "name": "stdout",
     "output_type": "stream",
     "text": [
      "{}\n"
     ]
    }
   ],
   "source": [
    "aa = \"Techpro education is the best\"\n",
    "\n",
    "\n",
    "index = 0\n",
    "\n",
    "my_dict = {}\n",
    "\n",
    "while index < len(aa):\n",
    "\n",
    "\n",
    "    if aa[index] in my_dict:\n",
    "        my_dict[aa[index]] += 1\n",
    "    else:\n",
    "        my_dict[aa[index]] = 1\n",
    "\n",
    "    index += 1\n",
    "\n",
    "print(my_dict)"
   ]
  }
 ],
 "metadata": {
  "kernelspec": {
   "display_name": "Python 3 (ipykernel)",
   "language": "python",
   "name": "python3"
  },
  "language_info": {
   "codemirror_mode": {
    "name": "ipython",
    "version": 3
   },
   "file_extension": ".py",
   "mimetype": "text/x-python",
   "name": "python",
   "nbconvert_exporter": "python",
   "pygments_lexer": "ipython3",
   "version": "3.9.7"
  },
  "vscode": {
   "interpreter": {
    "hash": "0ed8b1f1204e3ec9fd00160a1836bd979d4552f7e99d1a18dc9610716eedd92b"
   }
  }
 },
 "nbformat": 4,
 "nbformat_minor": 5
}
