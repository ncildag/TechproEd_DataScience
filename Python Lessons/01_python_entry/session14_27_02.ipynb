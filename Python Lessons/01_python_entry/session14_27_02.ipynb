{
 "cells": [
  {
   "attachments": {},
   "cell_type": "markdown",
   "metadata": {},
   "source": [
    "# for loops"
   ]
  },
  {
   "cell_type": "markdown",
   "metadata": {},
   "source": [
    "for değişken in iterable:\n",
    "    işlem satırı/ları"
   ]
  },
  {
   "cell_type": "code",
   "execution_count": 1,
   "metadata": {},
   "outputs": [
    {
     "name": "stdout",
     "output_type": "stream",
     "text": [
      "t\n",
      "e\n",
      "c\n",
      "h\n",
      "p\n",
      "r\n",
      "o\n"
     ]
    }
   ],
   "source": [
    "for i in \"techpro\":\n",
    "    print(i)"
   ]
  },
  {
   "cell_type": "code",
   "execution_count": 2,
   "metadata": {},
   "outputs": [
    {
     "name": "stdout",
     "output_type": "stream",
     "text": [
      "1\n",
      "2\n",
      "3\n",
      "4\n",
      "5\n"
     ]
    }
   ],
   "source": [
    "for i in [1,2,3,4,5]:\n",
    "    print(i)"
   ]
  },
  {
   "cell_type": "code",
   "execution_count": 3,
   "metadata": {},
   "outputs": [
    {
     "ename": "TypeError",
     "evalue": "'int' object is not iterable",
     "output_type": "error",
     "traceback": [
      "\u001b[1;31m---------------------------------------------------------------------------\u001b[0m",
      "\u001b[1;31mTypeError\u001b[0m                                 Traceback (most recent call last)",
      "\u001b[1;32m~\\AppData\\Local\\Temp/ipykernel_10180/547197829.py\u001b[0m in \u001b[0;36m<module>\u001b[1;34m\u001b[0m\n\u001b[1;32m----> 1\u001b[1;33m \u001b[1;32mfor\u001b[0m \u001b[0mi\u001b[0m \u001b[1;32min\u001b[0m \u001b[1;36m1453\u001b[0m\u001b[1;33m:\u001b[0m\u001b[1;33m\u001b[0m\u001b[1;33m\u001b[0m\u001b[0m\n\u001b[0m\u001b[0;32m      2\u001b[0m     \u001b[0mprint\u001b[0m\u001b[1;33m(\u001b[0m\u001b[0mi\u001b[0m\u001b[1;33m)\u001b[0m\u001b[1;33m\u001b[0m\u001b[1;33m\u001b[0m\u001b[0m\n",
      "\u001b[1;31mTypeError\u001b[0m: 'int' object is not iterable"
     ]
    }
   ],
   "source": [
    "for i in 1453: #iterable olması lazım\n",
    "    print(i)"
   ]
  },
  {
   "cell_type": "code",
   "execution_count": 4,
   "metadata": {},
   "outputs": [
    {
     "name": "stdout",
     "output_type": "stream",
     "text": [
      "adem\n",
      "ahmad\n",
      "filiz\n"
     ]
    }
   ],
   "source": [
    "for name in (\"adem\",\"ahmad\",\"filiz\"):\n",
    "    print(name)"
   ]
  },
  {
   "cell_type": "code",
   "execution_count": 6,
   "metadata": {},
   "outputs": [
    {
     "data": {
      "text/plain": [
       "[1, 2, 3, 4, 5]"
      ]
     },
     "execution_count": 6,
     "metadata": {},
     "output_type": "execute_result"
    }
   ],
   "source": [
    "liste_1 = [1, 2, 3, 4, 5]\n",
    "liste_1"
   ]
  },
  {
   "cell_type": "code",
   "execution_count": 7,
   "metadata": {},
   "outputs": [
    {
     "name": "stdout",
     "output_type": "stream",
     "text": [
      "1\n",
      "4\n",
      "9\n",
      "16\n",
      "25\n"
     ]
    }
   ],
   "source": [
    "for i in liste_1:\n",
    "    print(i ** 2)"
   ]
  },
  {
   "cell_type": "code",
   "execution_count": 9,
   "metadata": {},
   "outputs": [
    {
     "name": "stdout",
     "output_type": "stream",
     "text": [
      "1\n",
      "4\n",
      "9\n",
      "16\n",
      "25\n"
     ]
    }
   ],
   "source": [
    "i = 0\n",
    "while i < len(liste_1):\n",
    "    print(liste_1[i] ** 2)\n",
    "    i += 1"
   ]
  },
  {
   "cell_type": "code",
   "execution_count": 19,
   "metadata": {},
   "outputs": [
    {
     "name": "stdout",
     "output_type": "stream",
     "text": [
      "1-4-9-16-25-"
     ]
    }
   ],
   "source": [
    "for i in liste_1:\n",
    "    print(i ** 2,end=\"-\")"
   ]
  },
  {
   "cell_type": "code",
   "execution_count": 20,
   "metadata": {},
   "outputs": [
    {
     "name": "stdout",
     "output_type": "stream",
     "text": [
      "t-\n",
      "e-\n",
      "c-\n",
      "h-\n",
      "p-\n",
      "r-\n",
      "o-\n"
     ]
    }
   ],
   "source": [
    "empty_str = \"\"\n",
    "for i in \"techpro\":\n",
    "    print(i + \"-\")\n"
   ]
  },
  {
   "cell_type": "code",
   "execution_count": 21,
   "metadata": {},
   "outputs": [
    {
     "name": "stdout",
     "output_type": "stream",
     "text": [
      "t-e-c-h-p-r-o-\n"
     ]
    }
   ],
   "source": [
    "empty_str = \"\"\n",
    "for i in \"techpro\":\n",
    "    empty_str += i + \"-\"\n",
    "print(empty_str) "
   ]
  },
  {
   "cell_type": "code",
   "execution_count": 18,
   "metadata": {},
   "outputs": [
    {
     "name": "stdout",
     "output_type": "stream",
     "text": [
      "t-e-c-h-p-r-o\n"
     ]
    }
   ],
   "source": [
    "empty_str = \"\"\n",
    "for i in \"techpro\":\n",
    "    empty_str += i + \"-\"\n",
    "print(empty_str.rstrip(\"-\")) "
   ]
  },
  {
   "cell_type": "code",
   "execution_count": 22,
   "metadata": {},
   "outputs": [
    {
     "name": "stdout",
     "output_type": "stream",
     "text": [
      "['t', '-', 'e', '-', 'c', '-', 'h', '-', 'p', '-', 'r', '-', 'o', '-']\n"
     ]
    }
   ],
   "source": [
    "empty_list = []\n",
    "for i in \"techpro\":\n",
    "    empty_list.append(i)\n",
    "    empty_list.append(\"-\")\n",
    "print(empty_list)"
   ]
  },
  {
   "cell_type": "code",
   "execution_count": 23,
   "metadata": {},
   "outputs": [
    {
     "name": "stdout",
     "output_type": "stream",
     "text": [
      "['t', '-', 'e', '-', 'c', '-', 'h', '-', 'p', '-', 'r', '-', 'o']\n"
     ]
    }
   ],
   "source": [
    "empty_list = []\n",
    "for i in \"techpro\":\n",
    "    empty_list.append(i)\n",
    "    empty_list.append(\"-\")\n",
    "empty_list.pop()\n",
    "print(empty_list)"
   ]
  },
  {
   "cell_type": "code",
   "execution_count": 24,
   "metadata": {},
   "outputs": [
    {
     "name": "stdout",
     "output_type": "stream",
     "text": [
      "t-e-c-h-p-r-o\n"
     ]
    }
   ],
   "source": [
    "empty_list = []\n",
    "for i in \"techpro\":\n",
    "    empty_list.append(i)\n",
    "    empty_list.append(\"-\")\n",
    "empty_list.pop()\n",
    "print(\"\".join(empty_list))"
   ]
  },
  {
   "cell_type": "code",
   "execution_count": 26,
   "metadata": {},
   "outputs": [
    {
     "data": {
      "text/plain": [
       "('1', '2', '3', '4', '5')"
      ]
     },
     "execution_count": 26,
     "metadata": {},
     "output_type": "execute_result"
    }
   ],
   "source": [
    "a = tuple(\"12345\")\n",
    "a"
   ]
  },
  {
   "cell_type": "code",
   "execution_count": 27,
   "metadata": {},
   "outputs": [
    {
     "name": "stdout",
     "output_type": "stream",
     "text": [
      "1\n",
      "2\n",
      "3\n",
      "4\n",
      "5\n"
     ]
    }
   ],
   "source": [
    "for i in a:\n",
    "    print(i)"
   ]
  },
  {
   "cell_type": "code",
   "execution_count": 29,
   "metadata": {},
   "outputs": [
    {
     "name": "stdout",
     "output_type": "stream",
     "text": [
      "{'i', 's', 't', 'a', 'h', 'n', 'b'}\n"
     ]
    }
   ],
   "source": [
    "b = set(\"sabahattin\")\n",
    "print(b)"
   ]
  },
  {
   "cell_type": "code",
   "execution_count": 30,
   "metadata": {},
   "outputs": [
    {
     "name": "stdout",
     "output_type": "stream",
     "text": [
      "i\n",
      "s\n",
      "t\n",
      "a\n",
      "h\n",
      "n\n",
      "b\n"
     ]
    }
   ],
   "source": [
    "for i in b:\n",
    "    print(i)"
   ]
  },
  {
   "cell_type": "code",
   "execution_count": 31,
   "metadata": {},
   "outputs": [
    {
     "data": {
      "text/plain": [
       "{'name': 'ismet', 'job': 'data scientist', 'age': 25}"
      ]
     },
     "execution_count": 31,
     "metadata": {},
     "output_type": "execute_result"
    }
   ],
   "source": [
    "dict_1 = {\"name\" : \"ismet\", \"job\" : \"data scientist\", \"age\" : 25}\n",
    "dict_1"
   ]
  },
  {
   "cell_type": "code",
   "execution_count": 32,
   "metadata": {},
   "outputs": [
    {
     "name": "stdout",
     "output_type": "stream",
     "text": [
      "name\n",
      "job\n",
      "age\n"
     ]
    }
   ],
   "source": [
    "for i in dict_1:\n",
    "    print(i)"
   ]
  },
  {
   "cell_type": "code",
   "execution_count": 34,
   "metadata": {},
   "outputs": [
    {
     "data": {
      "text/plain": [
       "dict_values(['ismet', 'data scientist', 25])"
      ]
     },
     "execution_count": 34,
     "metadata": {},
     "output_type": "execute_result"
    }
   ],
   "source": [
    "dict_1.values()"
   ]
  },
  {
   "cell_type": "code",
   "execution_count": 33,
   "metadata": {},
   "outputs": [
    {
     "name": "stdout",
     "output_type": "stream",
     "text": [
      "ismet\n",
      "data scientist\n",
      "25\n"
     ]
    }
   ],
   "source": [
    "for i in dict_1.values():\n",
    "    print(i)"
   ]
  },
  {
   "cell_type": "code",
   "execution_count": 35,
   "metadata": {},
   "outputs": [
    {
     "name": "stdout",
     "output_type": "stream",
     "text": [
      "name\n",
      "job\n",
      "age\n"
     ]
    }
   ],
   "source": [
    "for i in dict_1.keys():\n",
    "    print(i)"
   ]
  },
  {
   "cell_type": "code",
   "execution_count": 36,
   "metadata": {},
   "outputs": [
    {
     "ename": "ValueError",
     "evalue": "too many values to unpack (expected 2)",
     "output_type": "error",
     "traceback": [
      "\u001b[1;31m---------------------------------------------------------------------------\u001b[0m",
      "\u001b[1;31mValueError\u001b[0m                                Traceback (most recent call last)",
      "\u001b[1;32m~\\AppData\\Local\\Temp/ipykernel_10180/1048596609.py\u001b[0m in \u001b[0;36m<module>\u001b[1;34m\u001b[0m\n\u001b[1;32m----> 1\u001b[1;33m \u001b[1;32mfor\u001b[0m \u001b[0mi\u001b[0m\u001b[1;33m,\u001b[0m \u001b[0mj\u001b[0m \u001b[1;32min\u001b[0m \u001b[0mdict_1\u001b[0m\u001b[1;33m:\u001b[0m\u001b[1;33m\u001b[0m\u001b[1;33m\u001b[0m\u001b[0m\n\u001b[0m\u001b[0;32m      2\u001b[0m     \u001b[0mprint\u001b[0m\u001b[1;33m(\u001b[0m\u001b[0mi\u001b[0m\u001b[1;33m,\u001b[0m\u001b[0mj\u001b[0m\u001b[1;33m)\u001b[0m\u001b[1;33m\u001b[0m\u001b[1;33m\u001b[0m\u001b[0m\n",
      "\u001b[1;31mValueError\u001b[0m: too many values to unpack (expected 2)"
     ]
    }
   ],
   "source": [
    "for i, j in dict_1:\n",
    "    print(i,j)"
   ]
  },
  {
   "cell_type": "code",
   "execution_count": 37,
   "metadata": {},
   "outputs": [
    {
     "data": {
      "text/plain": [
       "dict_items([('name', 'ismet'), ('job', 'data scientist'), ('age', 25)])"
      ]
     },
     "execution_count": 37,
     "metadata": {},
     "output_type": "execute_result"
    }
   ],
   "source": [
    "dict_1.items()"
   ]
  },
  {
   "cell_type": "code",
   "execution_count": 38,
   "metadata": {},
   "outputs": [
    {
     "name": "stdout",
     "output_type": "stream",
     "text": [
      "name ismet\n",
      "job data scientist\n",
      "age 25\n"
     ]
    }
   ],
   "source": [
    "for i, j in dict_1.items():\n",
    "    print(i,j)"
   ]
  },
  {
   "cell_type": "code",
   "execution_count": 50,
   "metadata": {},
   "outputs": [
    {
     "data": {
      "text/plain": [
       "{'name': 'ismet', 'surname': 'yılmaz', 'age': 25}"
      ]
     },
     "execution_count": 50,
     "metadata": {},
     "output_type": "execute_result"
    }
   ],
   "source": [
    "dict_2 = {\"name\" : \"ismet\", \"surname\" : \"yılmaz\", \"age\" : 25}\n",
    "dict_2"
   ]
  },
  {
   "cell_type": "code",
   "execution_count": 51,
   "metadata": {},
   "outputs": [
    {
     "name": "stdout",
     "output_type": "stream",
     "text": [
      "key : name                , value : ismet               \n",
      "key : surname             , value : yılmaz              \n",
      "key : age                 , value : 25                  \n"
     ]
    }
   ],
   "source": [
    "for i, j in dict_2.items():\n",
    "    print(f\"key : {i:<20}, value : {j:<20}\")"
   ]
  },
  {
   "cell_type": "code",
   "execution_count": null,
   "metadata": {},
   "outputs": [],
   "source": [
    "#çalıştırma sonsuz döngü\n",
    "aa = [1,2]\n",
    "for i in aa:\n",
    "    print(i)\n",
    "    aa.append(i)"
   ]
  },
  {
   "cell_type": "code",
   "execution_count": null,
   "metadata": {},
   "outputs": [],
   "source": [
    "for i in range(50):\n",
    "    print(\"hoca bize ceza verdi\")"
   ]
  },
  {
   "cell_type": "code",
   "execution_count": 57,
   "metadata": {},
   "outputs": [
    {
     "name": "stdout",
     "output_type": "stream",
     "text": [
      "1.hoca bize ceza verdi\n",
      "2.hoca bize ceza verdi\n",
      "3.hoca bize ceza verdi\n",
      "4.hoca bize ceza verdi\n",
      "5.hoca bize ceza verdi\n",
      "6.hoca bize ceza verdi\n",
      "7.hoca bize ceza verdi\n",
      "8.hoca bize ceza verdi\n",
      "9.hoca bize ceza verdi\n",
      "10.hoca bize ceza verdi\n",
      "11.hoca bize ceza verdi\n",
      "12.hoca bize ceza verdi\n",
      "13.hoca bize ceza verdi\n",
      "14.hoca bize ceza verdi\n",
      "15.hoca bize ceza verdi\n",
      "16.hoca bize ceza verdi\n",
      "17.hoca bize ceza verdi\n",
      "18.hoca bize ceza verdi\n",
      "19.hoca bize ceza verdi\n",
      "20.hoca bize ceza verdi\n",
      "21.hoca bize ceza verdi\n",
      "22.hoca bize ceza verdi\n",
      "23.hoca bize ceza verdi\n",
      "24.hoca bize ceza verdi\n",
      "25.hoca bize ceza verdi\n",
      "26.hoca bize ceza verdi\n",
      "27.hoca bize ceza verdi\n",
      "28.hoca bize ceza verdi\n",
      "29.hoca bize ceza verdi\n",
      "30.hoca bize ceza verdi\n",
      "31.hoca bize ceza verdi\n",
      "32.hoca bize ceza verdi\n",
      "33.hoca bize ceza verdi\n",
      "34.hoca bize ceza verdi\n",
      "35.hoca bize ceza verdi\n",
      "36.hoca bize ceza verdi\n",
      "37.hoca bize ceza verdi\n",
      "38.hoca bize ceza verdi\n",
      "39.hoca bize ceza verdi\n",
      "40.hoca bize ceza verdi\n",
      "41.hoca bize ceza verdi\n",
      "42.hoca bize ceza verdi\n",
      "43.hoca bize ceza verdi\n",
      "44.hoca bize ceza verdi\n",
      "45.hoca bize ceza verdi\n",
      "46.hoca bize ceza verdi\n",
      "47.hoca bize ceza verdi\n",
      "48.hoca bize ceza verdi\n",
      "49.hoca bize ceza verdi\n",
      "50.hoca bize ceza verdi\n"
     ]
    }
   ],
   "source": [
    "for i in range(1,51):\n",
    "    print(f\"{i}.hoca bize ceza verdi\")"
   ]
  },
  {
   "cell_type": "code",
   "execution_count": 66,
   "metadata": {},
   "outputs": [
    {
     "data": {
      "text/plain": [
       "[0, 1, 2, 3, 4, 5, 6, 7, 8, 9]"
      ]
     },
     "execution_count": 66,
     "metadata": {},
     "output_type": "execute_result"
    }
   ],
   "source": [
    "list(range(10))"
   ]
  },
  {
   "cell_type": "code",
   "execution_count": 65,
   "metadata": {},
   "outputs": [
    {
     "name": "stdout",
     "output_type": "stream",
     "text": [
      "1  x 5 = 5\n",
      "2  x 5 = 10\n",
      "3  x 5 = 15\n",
      "4  x 5 = 20\n",
      "5  x 5 = 25\n",
      "6  x 5 = 30\n",
      "7  x 5 = 35\n",
      "8  x 5 = 40\n",
      "9  x 5 = 45\n",
      "10 x 5 = 50\n"
     ]
    }
   ],
   "source": [
    "number = int(input(\"0 ile 9 arasında bir rakam girin.(0 ve 9 dahil)\"))\n",
    "\n",
    "if number in [0,1,2,3,4,5,6,7,8,9]:\n",
    "    for i in range(1,11):\n",
    "        print(f\"{i:<2} x {number} = {i * number}\")\n",
    "else:\n",
    "    print(\"0 ile 9 arasında sayı girmenizi istemiştim.\")\n"
   ]
  },
  {
   "cell_type": "code",
   "execution_count": 2,
   "metadata": {},
   "outputs": [
    {
     "name": "stdout",
     "output_type": "stream",
     "text": [
      "0 ile 9 arasında sayı girmenizi istemiştim. Lütfen doğru sayıyı girin\n",
      "0 ile 9 arasında sayı girmenizi istemiştim. Lütfen doğru sayıyı girin\n",
      "0 ile 9 arasında sayı girmenizi istemiştim. Lütfen doğru sayıyı girin\n",
      "0 ile 9 arasında sayı girmenizi istemiştim. Lütfen doğru sayıyı girin\n",
      "0 ile 9 arasında sayı girmenizi istemiştim. Lütfen doğru sayıyı girin\n",
      "0 ile 9 arasında sayı girmenizi istemiştim. Lütfen doğru sayıyı girin\n",
      "0 ile 9 arasında sayı girmenizi istemiştim. Lütfen doğru sayıyı girin\n",
      "0 ile 9 arasında sayı girmenizi istemiştim. Lütfen doğru sayıyı girin\n",
      "0 ile 9 arasında sayı girmenizi istemiştim. Lütfen doğru sayıyı girin\n",
      "0 ile 9 arasında sayı girmenizi istemiştim. Lütfen doğru sayıyı girin\n",
      "1  x 5 = 5\n",
      "2  x 5 = 10\n",
      "3  x 5 = 15\n",
      "4  x 5 = 20\n",
      "5  x 5 = 25\n",
      "6  x 5 = 30\n",
      "7  x 5 = 35\n",
      "8  x 5 = 40\n",
      "9  x 5 = 45\n",
      "10 x 5 = 50\n"
     ]
    }
   ],
   "source": [
    "while True:    \n",
    "    number = int(input(\"0 ile 9 arasında bir rakam girin.(0 ve 9 dahil)\"))\n",
    "\n",
    "    if number in [0,1,2,3,4,5,6,7,8,9]:\n",
    "        for i in range(1,11):\n",
    "            print(f\"{i:<2} x {number} = {i * number}\")\n",
    "        break\n",
    "    else:\n",
    "        print(\"0 ile 9 arasında sayı girmenizi istemiştim. Lütfen doğru sayıyı girin\")\n"
   ]
  },
  {
   "cell_type": "code",
   "execution_count": 4,
   "metadata": {},
   "outputs": [
    {
     "name": "stdout",
     "output_type": "stream",
     "text": [
      "0 ile 9 arasında sayı girmenizi istemiştim. Lütfen doğru sayıyı girin\n",
      "0 ile 9 arasında sayı girmenizi istemiştim. Lütfen doğru sayıyı girin\n",
      "0 ile 9 arasında sayı girmenizi istemiştim. Lütfen doğru sayıyı girin\n",
      "giriş hakkınız bitti\n"
     ]
    }
   ],
   "source": [
    "giriş_hakkı = 3\n",
    "while True:    \n",
    "    number = int(input(\"0 ile 9 arasında bir rakam girin.(0 ve 9 dahil)\"))\n",
    "    giriş_hakkı -= 1\n",
    "    if number in [0,1,2,3,4,5,6,7,8,9]:\n",
    "        for i in range(1,11):\n",
    "            print(f\"{i:<2} x {number} = {i * number}\")\n",
    "        break\n",
    "    else:\n",
    "        print(\"0 ile 9 arasında sayı girmenizi istemiştim. Lütfen doğru sayıyı girin\")\n",
    "    \n",
    "    if giriş_hakkı == 0:\n",
    "        print(\"giriş hakkınız bitti\")\n",
    "        break"
   ]
  },
  {
   "cell_type": "code",
   "execution_count": 5,
   "metadata": {},
   "outputs": [
    {
     "name": "stdout",
     "output_type": "stream",
     "text": [
      "0 ile 9 arasında sayı girmenizi istemiştim. Lütfen doğru sayıyı girin\n",
      "0 ile 9 arasında sayı girmenizi istemiştim. Lütfen doğru sayıyı girin\n",
      "giriş hakkınız bitti\n"
     ]
    }
   ],
   "source": [
    "giriş_hakkı = 3\n",
    "while True:    \n",
    "    number = int(input(\"0 ile 9 arasında bir rakam girin.(0 ve 9 dahil)\"))\n",
    "    giriş_hakkı -= 1\n",
    "    if number in [0,1,2,3,4,5,6,7,8,9]:\n",
    "        for i in range(1,11):\n",
    "            print(f\"{i:<2} x {number} = {i * number}\")\n",
    "        break\n",
    "        \n",
    "    if giriş_hakkı == 0:\n",
    "        print(\"giriş hakkınız bitti\")\n",
    "        break\n",
    "    else:\n",
    "        print(\"0 ile 9 arasında sayı girmenizi istemiştim. Lütfen doğru sayıyı girin\")\n",
    "    "
   ]
  },
  {
   "cell_type": "code",
   "execution_count": 6,
   "metadata": {},
   "outputs": [
    {
     "data": {
      "text/plain": [
       "1275.0"
      ]
     },
     "execution_count": 6,
     "metadata": {},
     "output_type": "execute_result"
    }
   ],
   "source": [
    "50 * 51 /2"
   ]
  },
  {
   "cell_type": "code",
   "execution_count": null,
   "metadata": {},
   "outputs": [],
   "source": [
    "sum_ = 0\n",
    "for i in range(51):\n",
    "    sum_ += i\n",
    "    print(sum_)"
   ]
  },
  {
   "cell_type": "code",
   "execution_count": 9,
   "metadata": {},
   "outputs": [
    {
     "name": "stdout",
     "output_type": "stream",
     "text": [
      "1275\n"
     ]
    }
   ],
   "source": [
    "sum_ = 0\n",
    "for i in range(51):\n",
    "    sum_ += i\n",
    "print(sum_)"
   ]
  },
  {
   "cell_type": "code",
   "execution_count": 10,
   "metadata": {},
   "outputs": [
    {
     "name": "stdout",
     "output_type": "stream",
     "text": [
      "1085\n"
     ]
    }
   ],
   "source": [
    "sum_ = 0\n",
    "for i in range(20,51):\n",
    "    sum_ += i\n",
    "print(sum_)"
   ]
  },
  {
   "cell_type": "code",
   "execution_count": null,
   "metadata": {},
   "outputs": [],
   "source": [
    "list(range(0,51,2))"
   ]
  },
  {
   "cell_type": "code",
   "execution_count": 12,
   "metadata": {},
   "outputs": [
    {
     "name": "stdout",
     "output_type": "stream",
     "text": [
      "650\n"
     ]
    }
   ],
   "source": [
    "# çift sayıların toplamı\n",
    "sum_ = 0\n",
    "for i in range(0,51,2):\n",
    "    sum_ += i\n",
    "print(sum_)"
   ]
  },
  {
   "cell_type": "code",
   "execution_count": 13,
   "metadata": {},
   "outputs": [
    {
     "name": "stdout",
     "output_type": "stream",
     "text": [
      "625\n"
     ]
    }
   ],
   "source": [
    "# tek sayıların toplamı\n",
    "sum_ = 0\n",
    "for i in range(1,50,2):\n",
    "    sum_ += i\n",
    "print(sum_)"
   ]
  },
  {
   "cell_type": "code",
   "execution_count": 2,
   "metadata": {},
   "outputs": [
    {
     "data": {
      "text/plain": [
       "15"
      ]
     },
     "execution_count": 2,
     "metadata": {},
     "output_type": "execute_result"
    }
   ],
   "source": [
    "sum([1,2,3,4,5])"
   ]
  },
  {
   "cell_type": "code",
   "execution_count": 5,
   "metadata": {},
   "outputs": [
    {
     "data": {
      "text/plain": [
       "1275"
      ]
     },
     "execution_count": 5,
     "metadata": {},
     "output_type": "execute_result"
    }
   ],
   "source": [
    "sum(range(51))"
   ]
  },
  {
   "cell_type": "code",
   "execution_count": 3,
   "metadata": {},
   "outputs": [
    {
     "data": {
      "text/plain": [
       "1275"
      ]
     },
     "execution_count": 3,
     "metadata": {},
     "output_type": "execute_result"
    }
   ],
   "source": [
    "sum(list(range(51)))"
   ]
  },
  {
   "cell_type": "code",
   "execution_count": 4,
   "metadata": {},
   "outputs": [
    {
     "data": {
      "text/plain": [
       "10.8"
      ]
     },
     "execution_count": 4,
     "metadata": {},
     "output_type": "execute_result"
    }
   ],
   "source": [
    "sum((1, 2, 3.3, 4.5))"
   ]
  },
  {
   "cell_type": "code",
   "execution_count": 7,
   "metadata": {},
   "outputs": [
    {
     "data": {
      "text/plain": [
       "39"
      ]
     },
     "execution_count": 7,
     "metadata": {},
     "output_type": "execute_result"
    }
   ],
   "source": [
    "sum((4,5,6,7,8,9))"
   ]
  },
  {
   "cell_type": "code",
   "execution_count": 8,
   "metadata": {},
   "outputs": [
    {
     "data": {
      "text/plain": [
       "45"
      ]
     },
     "execution_count": 8,
     "metadata": {},
     "output_type": "execute_result"
    }
   ],
   "source": [
    "sum((4,5,6,7,8,9),6)"
   ]
  },
  {
   "cell_type": "code",
   "execution_count": 9,
   "metadata": {},
   "outputs": [
    {
     "data": {
      "text/plain": [
       "139"
      ]
     },
     "execution_count": 9,
     "metadata": {},
     "output_type": "execute_result"
    }
   ],
   "source": [
    "sum((4,5,6,7,8,9), 100)"
   ]
  },
  {
   "cell_type": "code",
   "execution_count": 10,
   "metadata": {},
   "outputs": [
    {
     "data": {
      "text/plain": [
       "40"
      ]
     },
     "execution_count": 10,
     "metadata": {},
     "output_type": "execute_result"
    }
   ],
   "source": [
    "sum((4,5,6,7,8,9,True))"
   ]
  },
  {
   "cell_type": "code",
   "execution_count": 11,
   "metadata": {},
   "outputs": [
    {
     "ename": "TypeError",
     "evalue": "unsupported operand type(s) for +: 'int' and 'str'",
     "output_type": "error",
     "traceback": [
      "\u001b[1;31m---------------------------------------------------------------------------\u001b[0m",
      "\u001b[1;31mTypeError\u001b[0m                                 Traceback (most recent call last)",
      "\u001b[1;32m~\\AppData\\Local\\Temp/ipykernel_2084/4220301149.py\u001b[0m in \u001b[0;36m<module>\u001b[1;34m\u001b[0m\n\u001b[1;32m----> 1\u001b[1;33m \u001b[0msum\u001b[0m\u001b[1;33m(\u001b[0m\u001b[1;33m(\u001b[0m\u001b[1;36m4\u001b[0m\u001b[1;33m,\u001b[0m\u001b[1;36m5\u001b[0m\u001b[1;33m,\u001b[0m\u001b[1;36m6\u001b[0m\u001b[1;33m,\u001b[0m\u001b[1;36m7\u001b[0m\u001b[1;33m,\u001b[0m\u001b[1;36m8\u001b[0m\u001b[1;33m,\u001b[0m\u001b[1;36m9\u001b[0m\u001b[1;33m,\u001b[0m\u001b[1;32mTrue\u001b[0m\u001b[1;33m,\u001b[0m\u001b[1;34m\"a\"\u001b[0m\u001b[1;33m)\u001b[0m\u001b[1;33m)\u001b[0m\u001b[1;33m\u001b[0m\u001b[1;33m\u001b[0m\u001b[0m\n\u001b[0m",
      "\u001b[1;31mTypeError\u001b[0m: unsupported operand type(s) for +: 'int' and 'str'"
     ]
    }
   ],
   "source": [
    "sum((4,5,6,7,8,9,True,\"a\"))"
   ]
  },
  {
   "cell_type": "code",
   "execution_count": 14,
   "metadata": {},
   "outputs": [
    {
     "ename": "TypeError",
     "evalue": "unsupported operand type(s) for +: 'int' and 'str'",
     "output_type": "error",
     "traceback": [
      "\u001b[1;31m---------------------------------------------------------------------------\u001b[0m",
      "\u001b[1;31mTypeError\u001b[0m                                 Traceback (most recent call last)",
      "\u001b[1;32m~\\AppData\\Local\\Temp/ipykernel_2084/1486476259.py\u001b[0m in \u001b[0;36m<module>\u001b[1;34m\u001b[0m\n\u001b[1;32m----> 1\u001b[1;33m \u001b[0msum\u001b[0m\u001b[1;33m(\u001b[0m\u001b[1;33m(\u001b[0m\u001b[1;34m\"a\"\u001b[0m\u001b[1;33m,\u001b[0m\u001b[1;34m\"b\"\u001b[0m\u001b[1;33m,\u001b[0m\u001b[1;34m\"c\"\u001b[0m\u001b[1;33m)\u001b[0m\u001b[1;33m)\u001b[0m\u001b[1;33m\u001b[0m\u001b[1;33m\u001b[0m\u001b[0m\n\u001b[0m",
      "\u001b[1;31mTypeError\u001b[0m: unsupported operand type(s) for +: 'int' and 'str'"
     ]
    }
   ],
   "source": [
    "sum((\"a\",\"b\",\"c\")) # default değeri int sıfır olduğu için işlem yapmaz"
   ]
  },
  {
   "attachments": {},
   "cell_type": "markdown",
   "metadata": {},
   "source": [
    "### break, continue"
   ]
  },
  {
   "cell_type": "code",
   "execution_count": 15,
   "metadata": {},
   "outputs": [
    {
     "name": "stdout",
     "output_type": "stream",
     "text": [
      "1\n",
      "2\n",
      "3\n",
      "4\n",
      "5\n",
      "6\n",
      "7\n",
      "8\n",
      "9\n"
     ]
    }
   ],
   "source": [
    "for i in [1,2,3,4,5,6,7,8,9]:\n",
    "    print(i)"
   ]
  },
  {
   "cell_type": "code",
   "execution_count": 16,
   "metadata": {},
   "outputs": [
    {
     "name": "stdout",
     "output_type": "stream",
     "text": [
      "1\n",
      "2\n",
      "3\n",
      "9\n"
     ]
    }
   ],
   "source": [
    "for i in [1,2,3,4,5,6,7,8,9]:\n",
    "    print(i)\n",
    "    if i % 3 == 0:\n",
    "        print(i ** 2)\n",
    "        break\n"
   ]
  },
  {
   "cell_type": "code",
   "execution_count": 21,
   "metadata": {},
   "outputs": [
    {
     "data": {
      "text/plain": [
       "45"
      ]
     },
     "execution_count": 21,
     "metadata": {},
     "output_type": "execute_result"
    }
   ],
   "source": [
    "sum([1,2,3,4,5,6,7,8,9])"
   ]
  },
  {
   "cell_type": "code",
   "execution_count": 20,
   "metadata": {},
   "outputs": [
    {
     "name": "stdout",
     "output_type": "stream",
     "text": [
      "40\n"
     ]
    }
   ],
   "source": [
    "k = 0\n",
    "for i in [1,2,3,4,5,6,7,8,9]:\n",
    "    if i == 5:\n",
    "        continue\n",
    "    k += i\n",
    "\n",
    "print(k)\n"
   ]
  },
  {
   "cell_type": "code",
   "execution_count": 22,
   "metadata": {},
   "outputs": [
    {
     "name": "stdout",
     "output_type": "stream",
     "text": [
      "t\n",
      "e\n",
      "c\n",
      "h\n",
      "r\n",
      "o\n"
     ]
    }
   ],
   "source": [
    "for i in \"techpro\":\n",
    "    if i == \"p\":\n",
    "        continue\n",
    "    print(i)\n"
   ]
  },
  {
   "cell_type": "code",
   "execution_count": 23,
   "metadata": {},
   "outputs": [
    {
     "name": "stdout",
     "output_type": "stream",
     "text": [
      "0\n"
     ]
    }
   ],
   "source": [
    "k = 0\n",
    "for i in [1,2,3,4,5,6,7,8,9]:\n",
    "    if i == 5:\n",
    "        continue\n",
    "    #k += i\n",
    "\n",
    "print(k)"
   ]
  },
  {
   "attachments": {},
   "cell_type": "markdown",
   "metadata": {},
   "source": [
    "### zip()"
   ]
  },
  {
   "cell_type": "code",
   "execution_count": 24,
   "metadata": {},
   "outputs": [],
   "source": [
    "a = [\"apple\", \"orange\", \"banana\"]\n",
    "b = [1,2,3]"
   ]
  },
  {
   "cell_type": "code",
   "execution_count": 25,
   "metadata": {},
   "outputs": [
    {
     "data": {
      "text/plain": [
       "<zip at 0x2579de78c40>"
      ]
     },
     "execution_count": 25,
     "metadata": {},
     "output_type": "execute_result"
    }
   ],
   "source": [
    "zip(a,b)"
   ]
  },
  {
   "cell_type": "code",
   "execution_count": 26,
   "metadata": {},
   "outputs": [
    {
     "data": {
      "text/plain": [
       "[('apple', 1), ('orange', 2), ('banana', 3)]"
      ]
     },
     "execution_count": 26,
     "metadata": {},
     "output_type": "execute_result"
    }
   ],
   "source": [
    "list(zip(a,b))"
   ]
  },
  {
   "cell_type": "code",
   "execution_count": 27,
   "metadata": {},
   "outputs": [
    {
     "data": {
      "text/plain": [
       "(('apple', 1), ('orange', 2), ('banana', 3))"
      ]
     },
     "execution_count": 27,
     "metadata": {},
     "output_type": "execute_result"
    }
   ],
   "source": [
    "tuple(zip(a,b))"
   ]
  },
  {
   "cell_type": "code",
   "execution_count": 28,
   "metadata": {},
   "outputs": [
    {
     "data": {
      "text/plain": [
       "{('apple', 1), ('banana', 3), ('orange', 2)}"
      ]
     },
     "execution_count": 28,
     "metadata": {},
     "output_type": "execute_result"
    }
   ],
   "source": [
    "set(zip(a,b))"
   ]
  },
  {
   "cell_type": "code",
   "execution_count": 29,
   "metadata": {},
   "outputs": [],
   "source": [
    "x = \"techpro\"\n",
    "y = \"sedat\"\n",
    "z = \"ali\""
   ]
  },
  {
   "cell_type": "code",
   "execution_count": 30,
   "metadata": {},
   "outputs": [
    {
     "data": {
      "text/plain": [
       "[('t', 's', 'a'), ('e', 'e', 'l'), ('c', 'd', 'i')]"
      ]
     },
     "execution_count": 30,
     "metadata": {},
     "output_type": "execute_result"
    }
   ],
   "source": [
    "list(zip(x,y,z))"
   ]
  },
  {
   "cell_type": "code",
   "execution_count": 31,
   "metadata": {},
   "outputs": [
    {
     "data": {
      "text/plain": [
       "[]"
      ]
     },
     "execution_count": 31,
     "metadata": {},
     "output_type": "execute_result"
    }
   ],
   "source": [
    "list(zip(\"techpro\", [], (1,2,3)))"
   ]
  },
  {
   "cell_type": "code",
   "execution_count": 32,
   "metadata": {},
   "outputs": [
    {
     "ename": "ValueError",
     "evalue": "dictionary update sequence element #0 has length 3; 2 is required",
     "output_type": "error",
     "traceback": [
      "\u001b[1;31m---------------------------------------------------------------------------\u001b[0m",
      "\u001b[1;31mValueError\u001b[0m                                Traceback (most recent call last)",
      "\u001b[1;32m~\\AppData\\Local\\Temp/ipykernel_2084/456908580.py\u001b[0m in \u001b[0;36m<module>\u001b[1;34m\u001b[0m\n\u001b[1;32m----> 1\u001b[1;33m \u001b[0mdict\u001b[0m\u001b[1;33m(\u001b[0m\u001b[0mzip\u001b[0m\u001b[1;33m(\u001b[0m\u001b[0mx\u001b[0m\u001b[1;33m,\u001b[0m\u001b[0my\u001b[0m\u001b[1;33m,\u001b[0m\u001b[0mz\u001b[0m\u001b[1;33m)\u001b[0m\u001b[1;33m)\u001b[0m\u001b[1;33m\u001b[0m\u001b[1;33m\u001b[0m\u001b[0m\n\u001b[0m",
      "\u001b[1;31mValueError\u001b[0m: dictionary update sequence element #0 has length 3; 2 is required"
     ]
    }
   ],
   "source": [
    "dict(zip(x,y,z))"
   ]
  },
  {
   "cell_type": "code",
   "execution_count": null,
   "metadata": {},
   "outputs": [],
   "source": [
    "help(zip)"
   ]
  },
  {
   "cell_type": "code",
   "execution_count": null,
   "metadata": {},
   "outputs": [],
   "source": []
  }
 ],
 "metadata": {
  "kernelspec": {
   "display_name": "base",
   "language": "python",
   "name": "python3"
  },
  "language_info": {
   "codemirror_mode": {
    "name": "ipython",
    "version": 3
   },
   "file_extension": ".py",
   "mimetype": "text/x-python",
   "name": "python",
   "nbconvert_exporter": "python",
   "pygments_lexer": "ipython3",
   "version": "3.9.7"
  },
  "orig_nbformat": 4,
  "vscode": {
   "interpreter": {
    "hash": "0ed8b1f1204e3ec9fd00160a1836bd979d4552f7e99d1a18dc9610716eedd92b"
   }
  }
 },
 "nbformat": 4,
 "nbformat_minor": 2
}
