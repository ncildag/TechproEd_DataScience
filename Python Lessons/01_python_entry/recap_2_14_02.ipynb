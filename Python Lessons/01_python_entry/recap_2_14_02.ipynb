{
 "cells": [
  {
   "cell_type": "code",
   "execution_count": null,
   "metadata": {},
   "outputs": [],
   "source": [
    "# 8765 sn kaaç saat kaç dk ve kaç sn dir?"
   ]
  },
  {
   "cell_type": "code",
   "execution_count": 4,
   "metadata": {},
   "outputs": [
    {
     "name": "stdout",
     "output_type": "stream",
     "text": [
      "8765 saniye = 2 saat 26 dakika 5 saniye eder\n"
     ]
    }
   ],
   "source": [
    "verilen_saniye = 8765\n",
    "saat = verilen_saniye // 3600  # 1 saat 60 dk veya 3600 sn dir.\n",
    "dakika = (verilen_saniye % 3600) // 60\n",
    "saniye = (verilen_saniye % 3600) % 60   \n",
    "print(verilen_saniye, \"saniye =\",saat,\"saat\",dakika, \"dakika\", saniye,\"saniye eder\")"
   ]
  },
  {
   "cell_type": "code",
   "execution_count": 6,
   "metadata": {},
   "outputs": [
    {
     "name": "stdout",
     "output_type": "stream",
     "text": [
      "8765 saniye; 2 saat 26 dakika 5 saniye eder\n"
     ]
    }
   ],
   "source": [
    "print(f\"{verilen_saniye} saniye; {saat} saat {dakika} dakika {saniye} saniye eder\")"
   ]
  },
  {
   "cell_type": "code",
   "execution_count": 8,
   "metadata": {},
   "outputs": [
    {
     "name": "stdout",
     "output_type": "stream",
     "text": [
      "None or 1\n"
     ]
    }
   ],
   "source": [
    "print(\"None or 1\")"
   ]
  },
  {
   "cell_type": "code",
   "execution_count": 7,
   "metadata": {},
   "outputs": [
    {
     "ename": "NameError",
     "evalue": "name 'salise' is not defined",
     "output_type": "error",
     "traceback": [
      "\u001b[1;31m---------------------------------------------------------------------------\u001b[0m",
      "\u001b[1;31mNameError\u001b[0m                                 Traceback (most recent call last)",
      "\u001b[1;32m~\\AppData\\Local\\Temp/ipykernel_13720/1874876909.py\u001b[0m in \u001b[0;36m<module>\u001b[1;34m\u001b[0m\n\u001b[1;32m----> 1\u001b[1;33m \u001b[0mprint\u001b[0m\u001b[1;33m(\u001b[0m\u001b[1;34mf\"{verilen_saniye} saniye; {salise} saat {dakika} dakika {saniye} saniye eder\"\u001b[0m\u001b[1;33m)\u001b[0m\u001b[1;33m\u001b[0m\u001b[1;33m\u001b[0m\u001b[0m\n\u001b[0m",
      "\u001b[1;31mNameError\u001b[0m: name 'salise' is not defined"
     ]
    }
   ],
   "source": [
    "print(f\"{verilen_saniye} saniye; {salise} saat {dakika} dakika {saniye} saniye eder\")"
   ]
  },
  {
   "cell_type": "code",
   "execution_count": null,
   "metadata": {},
   "outputs": [],
   "source": [
    "verilen_saniye = 8765\n",
    "saat = verilen_saniye // 3600  # 1 saat 60 dk veya 3600 sn dir.\n",
    "dakika = (verilen_saniye % 3600) // 60\n",
    "saniye = (verilen_saniye % 3600) % 60\n",
    "print(verilen_saniye, \"saniye =\",saat,\"saat\",dakika, \"dakika\", saniye,\"saniye eder\") "
   ]
  },
  {
   "cell_type": "code",
   "execution_count": 12,
   "metadata": {},
   "outputs": [
    {
     "name": "stdout",
     "output_type": "stream",
     "text": [
      "8765 saniye; 2 saat 26 dakika 5 saniye eder\n"
     ]
    }
   ],
   "source": [
    "print(\"{} saniye; {} saat {} dakika {} saniye eder\".format(verilen_saniye,saat,dakika,saniye))"
   ]
  },
  {
   "cell_type": "code",
   "execution_count": 13,
   "metadata": {},
   "outputs": [
    {
     "name": "stdout",
     "output_type": "stream",
     "text": [
      "8765 saniye; 2 saat 26 dakika 5 saniye eder\n"
     ]
    }
   ],
   "source": [
    "print(\"{} saniye; {} saat {} dakika {} saniye eder\".format(verilen_saniye,saat,dakika,saniye,saat))"
   ]
  },
  {
   "cell_type": "code",
   "execution_count": 14,
   "metadata": {},
   "outputs": [
    {
     "ename": "IndexError",
     "evalue": "Replacement index 3 out of range for positional args tuple",
     "output_type": "error",
     "traceback": [
      "\u001b[1;31m---------------------------------------------------------------------------\u001b[0m",
      "\u001b[1;31mIndexError\u001b[0m                                Traceback (most recent call last)",
      "\u001b[1;32m~\\AppData\\Local\\Temp/ipykernel_13720/2342243307.py\u001b[0m in \u001b[0;36m<module>\u001b[1;34m\u001b[0m\n\u001b[1;32m----> 1\u001b[1;33m \u001b[0mprint\u001b[0m\u001b[1;33m(\u001b[0m\u001b[1;34m\"{} saniye; {} saat {} dakika {} saniye eder\"\u001b[0m\u001b[1;33m.\u001b[0m\u001b[0mformat\u001b[0m\u001b[1;33m(\u001b[0m\u001b[0mverilen_saniye\u001b[0m\u001b[1;33m,\u001b[0m\u001b[0msaat\u001b[0m\u001b[1;33m,\u001b[0m\u001b[0mdakika\u001b[0m\u001b[1;33m)\u001b[0m\u001b[1;33m)\u001b[0m\u001b[1;33m\u001b[0m\u001b[1;33m\u001b[0m\u001b[0m\n\u001b[0m",
      "\u001b[1;31mIndexError\u001b[0m: Replacement index 3 out of range for positional args tuple"
     ]
    }
   ],
   "source": [
    "print(\"{} saniye; {} saat {} dakika {} saniye eder\".format(verilen_saniye,saat,dakika))"
   ]
  },
  {
   "attachments": {},
   "cell_type": "markdown",
   "metadata": {},
   "source": [
    "## len()"
   ]
  },
  {
   "cell_type": "code",
   "execution_count": null,
   "metadata": {},
   "outputs": [],
   "source": [
    "\"Techpro\""
   ]
  },
  {
   "cell_type": "code",
   "execution_count": 15,
   "metadata": {},
   "outputs": [
    {
     "data": {
      "text/plain": [
       "7"
      ]
     },
     "execution_count": 15,
     "metadata": {},
     "output_type": "execute_result"
    }
   ],
   "source": [
    "len(\"Techpro\")"
   ]
  },
  {
   "cell_type": "code",
   "execution_count": 21,
   "metadata": {},
   "outputs": [
    {
     "data": {
      "text/plain": [
       "'Meh'"
      ]
     },
     "execution_count": 21,
     "metadata": {},
     "output_type": "execute_result"
    }
   ],
   "source": [
    "name = \"Mehmet\"\n",
    "\"Mehmet\"[:(len(name) // 2)]"
   ]
  },
  {
   "cell_type": "code",
   "execution_count": 22,
   "metadata": {},
   "outputs": [
    {
     "data": {
      "text/plain": [
       "'met'"
      ]
     },
     "execution_count": 22,
     "metadata": {},
     "output_type": "execute_result"
    }
   ],
   "source": [
    "name = \"Mehmet\"\n",
    "\"Mehmet\"[(len(name) // 2):]"
   ]
  },
  {
   "cell_type": "code",
   "execution_count": 24,
   "metadata": {},
   "outputs": [],
   "source": [
    "str1 = \"sarı\"\n",
    "str2 = \"mehmet\" # \"samehmetrı\""
   ]
  },
  {
   "cell_type": "code",
   "execution_count": 32,
   "metadata": {},
   "outputs": [
    {
     "data": {
      "text/plain": [
       "'samehmetrı'"
      ]
     },
     "execution_count": 32,
     "metadata": {},
     "output_type": "execute_result"
    }
   ],
   "source": [
    "ilk_bölüm = str1[:(len(str1) // 2)]\n",
    "son_bölüm = str1[(len(str1) // 2):]\n",
    "sonuç = ilk_bölüm + str2 + son_bölüm\n",
    "sonuç"
   ]
  },
  {
   "cell_type": "code",
   "execution_count": 30,
   "metadata": {},
   "outputs": [
    {
     "data": {
      "text/plain": [
       "'Tec'"
      ]
     },
     "execution_count": 30,
     "metadata": {},
     "output_type": "execute_result"
    }
   ],
   "source": [
    "\"Techpro\"[:int((len(\"Techpro\") / 2))]"
   ]
  },
  {
   "cell_type": "code",
   "execution_count": 33,
   "metadata": {},
   "outputs": [],
   "source": [
    "str1 = \"Techpro\"\n",
    "str2 = \"best\""
   ]
  },
  {
   "cell_type": "code",
   "execution_count": 35,
   "metadata": {},
   "outputs": [
    {
     "name": "stdout",
     "output_type": "stream",
     "text": [
      "Tecbesthpro\n"
     ]
    }
   ],
   "source": [
    "ilk_bölüm = str1[:(len(str1) // 2)]\n",
    "son_bölüm = str1[(len(str1) // 2):]\n",
    "sonuç = ilk_bölüm + str2 + son_bölüm\n",
    "print(sonuç)"
   ]
  },
  {
   "cell_type": "code",
   "execution_count": 37,
   "metadata": {},
   "outputs": [
    {
     "data": {
      "text/plain": [
       "'Tec'"
      ]
     },
     "execution_count": 37,
     "metadata": {},
     "output_type": "execute_result"
    }
   ],
   "source": [
    "str1[:len(str1) // 2]"
   ]
  },
  {
   "cell_type": "code",
   "execution_count": 36,
   "metadata": {},
   "outputs": [
    {
     "data": {
      "text/plain": [
       "7"
      ]
     },
     "execution_count": 36,
     "metadata": {},
     "output_type": "execute_result"
    }
   ],
   "source": [
    "len(str1)"
   ]
  },
  {
   "cell_type": "code",
   "execution_count": 38,
   "metadata": {},
   "outputs": [
    {
     "name": "stdout",
     "output_type": "stream",
     "text": [
      "Tecbesthpro\n"
     ]
    }
   ],
   "source": [
    "print(str1[:(len(str1) // 2)] + str2 + str1[(len(str1) // 2):] )"
   ]
  },
  {
   "attachments": {},
   "cell_type": "markdown",
   "metadata": {},
   "source": [
    "## If - Elif - Else"
   ]
  },
  {
   "cell_type": "code",
   "execution_count": 40,
   "metadata": {},
   "outputs": [
    {
     "name": "stdout",
     "output_type": "stream",
     "text": [
      "5, 4 ten büyüktür\n"
     ]
    }
   ],
   "source": [
    "if 5 > 4:\n",
    "    print(\"5, 4 ten büyüktür\")"
   ]
  },
  {
   "cell_type": "code",
   "execution_count": 41,
   "metadata": {},
   "outputs": [],
   "source": [
    "if 5 < 4:\n",
    "    print(\"5, 4 ten büyüktür\")"
   ]
  },
  {
   "cell_type": "code",
   "execution_count": 42,
   "metadata": {},
   "outputs": [
    {
     "ename": "IndentationError",
     "evalue": "expected an indented block (Temp/ipykernel_13720/116114887.py, line 2)",
     "output_type": "error",
     "traceback": [
      "\u001b[1;36m  File \u001b[1;32m\"C:\\Users\\a\\AppData\\Local\\Temp/ipykernel_13720/116114887.py\"\u001b[1;36m, line \u001b[1;32m2\u001b[0m\n\u001b[1;33m    print(\"5, 4 ten büyüktür\")\u001b[0m\n\u001b[1;37m    ^\u001b[0m\n\u001b[1;31mIndentationError\u001b[0m\u001b[1;31m:\u001b[0m expected an indented block\n"
     ]
    }
   ],
   "source": [
    "if 5 > 4:\n",
    "print(\"5, 4 ten büyüktür\")"
   ]
  },
  {
   "cell_type": "code",
   "execution_count": 43,
   "metadata": {},
   "outputs": [
    {
     "ename": "SyntaxError",
     "evalue": "invalid syntax (Temp/ipykernel_13720/723120755.py, line 1)",
     "output_type": "error",
     "traceback": [
      "\u001b[1;36m  File \u001b[1;32m\"C:\\Users\\a\\AppData\\Local\\Temp/ipykernel_13720/723120755.py\"\u001b[1;36m, line \u001b[1;32m1\u001b[0m\n\u001b[1;33m    if 5 > 4\u001b[0m\n\u001b[1;37m            ^\u001b[0m\n\u001b[1;31mSyntaxError\u001b[0m\u001b[1;31m:\u001b[0m invalid syntax\n"
     ]
    }
   ],
   "source": [
    "if 5 > 4\n",
    "    print(\"5, 4 ten büyüktür\")"
   ]
  },
  {
   "cell_type": "code",
   "execution_count": 44,
   "metadata": {},
   "outputs": [
    {
     "name": "stdout",
     "output_type": "stream",
     "text": [
      "5, 4 ten büyüktür\n"
     ]
    }
   ],
   "source": [
    "if 5 < 4:\n",
    "    print(\"5, 4 ten küçüktür\")\n",
    "elif 5 > 4:\n",
    "    print(\"5, 4 ten büyüktür\")"
   ]
  },
  {
   "cell_type": "code",
   "execution_count": 45,
   "metadata": {},
   "outputs": [
    {
     "name": "stdout",
     "output_type": "stream",
     "text": [
      "5 sayısı 4 ten küçük değilmiş. Aynı zamanda 5 sayısı 4 e eşitte değilmiş\n"
     ]
    }
   ],
   "source": [
    "if 5 < 4:\n",
    "    print(\"5, 4 ten küçüktür\")\n",
    "elif 5 == 4:\n",
    "    print(\"5, 4 e eşittir\")\n",
    "else:\n",
    "    print(\"5 sayısı 4 ten küçük değilmiş. Aynı zamanda 5 sayısı 4 e eşitte değilmiş\")\n"
   ]
  },
  {
   "cell_type": "code",
   "execution_count": 46,
   "metadata": {},
   "outputs": [
    {
     "name": "stdout",
     "output_type": "stream",
     "text": [
      "5 sayısı 4 ten küçük değilmiş.\n"
     ]
    }
   ],
   "source": [
    "if 5 < 4:\n",
    "    print(\"5, 4 ten küçüktür\")\n",
    "else:\n",
    "    print(\"5 sayısı 4 ten küçük değilmiş.\")"
   ]
  },
  {
   "attachments": {},
   "cell_type": "markdown",
   "metadata": {},
   "source": [
    "input ile kullanıcıdan 100 lük sistemde aldığı notu isteyin ve harf notunu döndüren bir algoritma oluşturun\n",
    "90 ve üstü A\n",
    "75 ve üstü B\n",
    "60 ve üstü C\n",
    "45 ve üstü D\n",
    "45 in altı F"
   ]
  },
  {
   "cell_type": "code",
   "execution_count": 47,
   "metadata": {},
   "outputs": [
    {
     "data": {
      "text/plain": [
       "True"
      ]
     },
     "execution_count": 47,
     "metadata": {},
     "output_type": "execute_result"
    }
   ],
   "source": [
    "95 >= 90"
   ]
  },
  {
   "cell_type": "code",
   "execution_count": 48,
   "metadata": {},
   "outputs": [
    {
     "data": {
      "text/plain": [
       "True"
      ]
     },
     "execution_count": 48,
     "metadata": {},
     "output_type": "execute_result"
    }
   ],
   "source": [
    "90 >= 90"
   ]
  },
  {
   "cell_type": "code",
   "execution_count": 52,
   "metadata": {},
   "outputs": [
    {
     "name": "stdout",
     "output_type": "stream",
     "text": [
      "sınavdan aldığınız not F harfine denk gelmektedir\n"
     ]
    }
   ],
   "source": [
    "sınav_notu = int(input(\"Sınav notunuzu girin.(0 ile 100 arasında)\"))\n",
    "\n",
    "if sınav_notu >= 90:\n",
    "    harf_notu = \"A\"\n",
    "elif sınav_notu >= 75:\n",
    "    harf_notu = \"B\"\n",
    "elif sınav_notu >= 60:\n",
    "    harf_notu = \"C\"\n",
    "elif sınav_notu >= 45:\n",
    "    harf_notu = \"D\"\n",
    "elif sınav_notu < 45:\n",
    "    harf_notu = \"F\"\n",
    "\n",
    "print(f\"sınavdan aldığınız not {harf_notu} harfine denk gelmektedir\")"
   ]
  },
  {
   "cell_type": "code",
   "execution_count": 57,
   "metadata": {},
   "outputs": [
    {
     "name": "stdout",
     "output_type": "stream",
     "text": [
      "sınavdan aldığınız not A harfine denk gelmektedir\n"
     ]
    }
   ],
   "source": [
    "sınav_notu = int(input(\"Sınav notunuzu girin.(0 ile 100 arasında)\"))\n",
    "\n",
    "if sınav_notu >= 90:\n",
    "    harf_notu = \"A\"\n",
    "elif sınav_notu >= 75:\n",
    "    harf_notu = \"B\"\n",
    "elif sınav_notu >= 60:\n",
    "    harf_notu = \"C\"\n",
    "elif sınav_notu >= 45:\n",
    "    harf_notu = \"D\"\n",
    "else:\n",
    "    harf_notu = \"F\"\n",
    "\n",
    "print(f\"sınavdan aldığınız not {harf_notu} harfine denk gelmektedir\")"
   ]
  },
  {
   "cell_type": "code",
   "execution_count": 60,
   "metadata": {},
   "outputs": [
    {
     "name": "stdout",
     "output_type": "stream",
     "text": [
      "sınavdan aldığınız not F harfine denk gelmektedir\n"
     ]
    }
   ],
   "source": [
    "sinav_notu = int(input(\"Sınav notunuzu girin.(0 ile 100 arasında)\"))\n",
    "\n",
    "if 0 <= sinav_notu <= 100:\n",
    "    if sinav_notu >= 90:\n",
    "        harf_notu = \"A\"\n",
    "    elif sinav_notu >= 75:\n",
    "        harf_notu = \"B\"\n",
    "    elif sinav_notu >= 60:\n",
    "        harf_notu = \"C\"\n",
    "    elif sinav_notu >= 45:\n",
    "        harf_notu = \"D\"\n",
    "    else:\n",
    "        harf_notu = \"F\"\n",
    "    print(f\"sınavdan aldığınız not {harf_notu} harfine denk gelmektedir\")\n",
    "else:\n",
    "    print(\"hatalı giriş yaptınız\")\n",
    "\n"
   ]
  },
  {
   "cell_type": "code",
   "execution_count": 61,
   "metadata": {},
   "outputs": [
    {
     "name": "stdout",
     "output_type": "stream",
     "text": [
      "D\n",
      "sınavdan aldığınız not55 harfine denk gelmektedir.\n"
     ]
    }
   ],
   "source": [
    "x = int(input(\"lutfen notunuzu girin\"))\n",
    "if x >= 90:\n",
    "    print(\"A\")\n",
    "elif x >= 75:\n",
    "    print(\"B\")\n",
    "elif x >= 60:\n",
    "    print(\"C\")\n",
    "elif x >= 45:\n",
    "    print(\"D\")\n",
    "else :\n",
    "    print(\"F\")\n",
    "print(f\"sınavdan aldığınız not{x} harfine denk gelmektedir.\")"
   ]
  },
  {
   "cell_type": "code",
   "execution_count": 62,
   "metadata": {},
   "outputs": [
    {
     "name": "stdout",
     "output_type": "stream",
     "text": [
      "D\n"
     ]
    }
   ],
   "source": [
    "notu = int(input(\"Sinav Sonucu Giri;s\"))\n",
    "if 90 <= notu <= 100:\n",
    "        print (\"A\")\n",
    "elif 75<= notu < 90:\n",
    "    print(\"B\")\n",
    "elif 60 <= notu <75:\n",
    "    print (\"C\")\n",
    "elif 45 <= notu <60:\n",
    "    print (\"D\")\n",
    "else:\n",
    "    print (\"E\")\n"
   ]
  },
  {
   "cell_type": "code",
   "execution_count": null,
   "metadata": {},
   "outputs": [],
   "source": [
    "notu = int(input(\"Sinav Sonucu Giri;s\"))\n",
    "\n",
    "if 90 <= notu <= 100:\n",
    "        print (\"A\")\n",
    "elif 75<= notu < 90:\n",
    "    print(\"B\")\n",
    "elif 60 <= notu <75:\n",
    "    print (\"C\")\n",
    "elif 45 <= notu <60:\n",
    "    print (\"D\")\n",
    "else:\n",
    "    print (\"E\")"
   ]
  }
 ],
 "metadata": {
  "kernelspec": {
   "display_name": "base",
   "language": "python",
   "name": "python3"
  },
  "language_info": {
   "codemirror_mode": {
    "name": "ipython",
    "version": 3
   },
   "file_extension": ".py",
   "mimetype": "text/x-python",
   "name": "python",
   "nbconvert_exporter": "python",
   "pygments_lexer": "ipython3",
   "version": "3.9.7"
  },
  "orig_nbformat": 4,
  "vscode": {
   "interpreter": {
    "hash": "0ed8b1f1204e3ec9fd00160a1836bd979d4552f7e99d1a18dc9610716eedd92b"
   }
  }
 },
 "nbformat": 4,
 "nbformat_minor": 2
}
