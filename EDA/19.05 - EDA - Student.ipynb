{
 "cells": [
  {
   "cell_type": "markdown",
   "id": "6e672b65-f79f-435b-b51b-ea9a13b5619c",
   "metadata": {},
   "source": [
    "\n",
    "## <p style=\"background-color:#9d4f8c; font-family:newtimeroman; color:#FFF9ED; font-size:175%; text-align:center; border-radius:10px 10px;\">Reading HTML, EXCEL, CSV tables and SQL Connection  as Pandas Dataframe </p>"
   ]
  },
  {
   "cell_type": "code",
   "execution_count": 1,
   "id": "2d991620",
   "metadata": {
    "ExecuteTime": {
     "end_time": "2023-05-19T17:37:30.969595Z",
     "start_time": "2023-05-19T17:37:30.902769Z"
    }
   },
   "outputs": [
    {
     "ename": "SyntaxError",
     "evalue": "invalid syntax (3683572001.py, line 1)",
     "output_type": "error",
     "traceback": [
      "\u001b[1;36m  File \u001b[1;32m\"C:\\Users\\user\\AppData\\Local\\Temp\\ipykernel_2560\\3683572001.py\"\u001b[1;36m, line \u001b[1;32m1\u001b[0m\n\u001b[1;33m    Exploratory Data Analysis\u001b[0m\n\u001b[1;37m                ^\u001b[0m\n\u001b[1;31mSyntaxError\u001b[0m\u001b[1;31m:\u001b[0m invalid syntax\n"
     ]
    }
   ],
   "source": [
    "Exploratory Data Analysis"
   ]
  },
  {
   "cell_type": "markdown",
   "id": "96d2cb83-4fcc-462c-a268-4a7f93634703",
   "metadata": {},
   "source": [
    "# **Table of Contents**\n",
    "\n",
    "1. [Import Library](#1)\n",
    "1. [CSV Read](#2)\n",
    "1. [CSV Output](#3)\n",
    "1. [Excel Input](#4)"
   ]
  },
  {
   "cell_type": "markdown",
   "id": "c8a22ae9-7f88-40b2-addf-028dc30809a6",
   "metadata": {},
   "source": [
    "---\n",
    "# 📤 **Import Library** <a class=\"anchor\" id=\"1\"></a>\n",
    "---"
   ]
  },
  {
   "cell_type": "code",
   "execution_count": 3,
   "id": "e1c78828-b64e-496e-a6ba-50870fc419a9",
   "metadata": {
    "ExecuteTime": {
     "end_time": "2023-05-19T17:43:03.830101Z",
     "start_time": "2023-05-19T17:43:01.289636Z"
    }
   },
   "outputs": [],
   "source": [
    "import pandas as pd\n",
    "import numpy as np\n",
    "\n",
    "import warnings\n",
    "warnings.filterwarnings(\"ignore\")\n",
    "warnings.warn(\"this will not show\")"
   ]
  },
  {
   "cell_type": "markdown",
   "id": "68937249-874e-4226-b42e-21772c81afa0",
   "metadata": {},
   "source": [
    "---\n",
    "# 💾 **CSV Read** <a class=\"anchor\" id=\"2\"></a>\n",
    "---"
   ]
  },
  {
   "cell_type": "code",
   "execution_count": 4,
   "id": "68732702",
   "metadata": {
    "ExecuteTime": {
     "end_time": "2023-05-19T17:43:04.581191Z",
     "start_time": "2023-05-19T17:43:04.418739Z"
    }
   },
   "outputs": [
    {
     "data": {
      "text/html": [
       "<div>\n",
       "<style scoped>\n",
       "    .dataframe tbody tr th:only-of-type {\n",
       "        vertical-align: middle;\n",
       "    }\n",
       "\n",
       "    .dataframe tbody tr th {\n",
       "        vertical-align: top;\n",
       "    }\n",
       "\n",
       "    .dataframe thead th {\n",
       "        text-align: right;\n",
       "    }\n",
       "</style>\n",
       "<table border=\"1\" class=\"dataframe\">\n",
       "  <thead>\n",
       "    <tr style=\"text-align: right;\">\n",
       "      <th></th>\n",
       "      <th>name</th>\n",
       "      <th>age</th>\n",
       "      <th>job</th>\n",
       "    </tr>\n",
       "  </thead>\n",
       "  <tbody>\n",
       "    <tr>\n",
       "      <th>0</th>\n",
       "      <td>Murat</td>\n",
       "      <td>25</td>\n",
       "      <td>data_scintist</td>\n",
       "    </tr>\n",
       "    <tr>\n",
       "      <th>1</th>\n",
       "      <td>Hande</td>\n",
       "      <td>28</td>\n",
       "      <td>data_analyst</td>\n",
       "    </tr>\n",
       "    <tr>\n",
       "      <th>2</th>\n",
       "      <td>Ezgi</td>\n",
       "      <td>23</td>\n",
       "      <td>Hr</td>\n",
       "    </tr>\n",
       "  </tbody>\n",
       "</table>\n",
       "</div>"
      ],
      "text/plain": [
       "    name  age            job\n",
       "0  Murat   25  data_scintist\n",
       "1  Hande   28   data_analyst\n",
       "2   Ezgi   23             Hr"
      ]
     },
     "execution_count": 4,
     "metadata": {},
     "output_type": "execute_result"
    }
   ],
   "source": [
    "pd.read_csv(\"sample_comma.csv\")"
   ]
  },
  {
   "cell_type": "code",
   "execution_count": 9,
   "id": "18defe2b-f2d7-4b39-9bf5-219ad5883866",
   "metadata": {
    "ExecuteTime": {
     "end_time": "2023-05-19T17:47:36.717065Z",
     "start_time": "2023-05-19T17:47:36.675824Z"
    }
   },
   "outputs": [
    {
     "data": {
      "text/html": [
       "<div>\n",
       "<style scoped>\n",
       "    .dataframe tbody tr th:only-of-type {\n",
       "        vertical-align: middle;\n",
       "    }\n",
       "\n",
       "    .dataframe tbody tr th {\n",
       "        vertical-align: top;\n",
       "    }\n",
       "\n",
       "    .dataframe thead th {\n",
       "        text-align: right;\n",
       "    }\n",
       "</style>\n",
       "<table border=\"1\" class=\"dataframe\">\n",
       "  <thead>\n",
       "    <tr style=\"text-align: right;\">\n",
       "      <th></th>\n",
       "      <th>name;age;job</th>\n",
       "    </tr>\n",
       "  </thead>\n",
       "  <tbody>\n",
       "    <tr>\n",
       "      <th>0</th>\n",
       "      <td>Murat;25;data_scintist</td>\n",
       "    </tr>\n",
       "    <tr>\n",
       "      <th>1</th>\n",
       "      <td>Hande;28;data_analyst</td>\n",
       "    </tr>\n",
       "    <tr>\n",
       "      <th>2</th>\n",
       "      <td>Ezgi;23;Hr</td>\n",
       "    </tr>\n",
       "  </tbody>\n",
       "</table>\n",
       "</div>"
      ],
      "text/plain": [
       "             name;age;job\n",
       "0  Murat;25;data_scintist\n",
       "1   Hande;28;data_analyst\n",
       "2              Ezgi;23;Hr"
      ]
     },
     "execution_count": 9,
     "metadata": {},
     "output_type": "execute_result"
    }
   ],
   "source": [
    "pd.read_csv(\"sample_semicolon.csv\") # Noktali virgül ile ayrildigindan separator vermeliyiz."
   ]
  },
  {
   "cell_type": "code",
   "execution_count": 8,
   "id": "828d8784",
   "metadata": {
    "ExecuteTime": {
     "end_time": "2023-05-19T17:47:30.069695Z",
     "start_time": "2023-05-19T17:47:29.981165Z"
    }
   },
   "outputs": [
    {
     "data": {
      "text/html": [
       "<div>\n",
       "<style scoped>\n",
       "    .dataframe tbody tr th:only-of-type {\n",
       "        vertical-align: middle;\n",
       "    }\n",
       "\n",
       "    .dataframe tbody tr th {\n",
       "        vertical-align: top;\n",
       "    }\n",
       "\n",
       "    .dataframe thead th {\n",
       "        text-align: right;\n",
       "    }\n",
       "</style>\n",
       "<table border=\"1\" class=\"dataframe\">\n",
       "  <thead>\n",
       "    <tr style=\"text-align: right;\">\n",
       "      <th></th>\n",
       "      <th>name</th>\n",
       "      <th>age</th>\n",
       "      <th>job</th>\n",
       "    </tr>\n",
       "  </thead>\n",
       "  <tbody>\n",
       "    <tr>\n",
       "      <th>0</th>\n",
       "      <td>Murat</td>\n",
       "      <td>25</td>\n",
       "      <td>data_scintist</td>\n",
       "    </tr>\n",
       "    <tr>\n",
       "      <th>1</th>\n",
       "      <td>Hande</td>\n",
       "      <td>28</td>\n",
       "      <td>data_analyst</td>\n",
       "    </tr>\n",
       "    <tr>\n",
       "      <th>2</th>\n",
       "      <td>Ezgi</td>\n",
       "      <td>23</td>\n",
       "      <td>Hr</td>\n",
       "    </tr>\n",
       "  </tbody>\n",
       "</table>\n",
       "</div>"
      ],
      "text/plain": [
       "    name  age            job\n",
       "0  Murat   25  data_scintist\n",
       "1  Hande   28   data_analyst\n",
       "2   Ezgi   23             Hr"
      ]
     },
     "execution_count": 8,
     "metadata": {},
     "output_type": "execute_result"
    }
   ],
   "source": [
    "pd.read_csv(\"sample_semicolon.csv\", sep=\";\")"
   ]
  },
  {
   "cell_type": "code",
   "execution_count": 10,
   "id": "dab1e77f",
   "metadata": {
    "ExecuteTime": {
     "end_time": "2023-05-19T17:50:14.072105Z",
     "start_time": "2023-05-19T17:50:13.996306Z"
    }
   },
   "outputs": [
    {
     "data": {
      "text/html": [
       "<div>\n",
       "<style scoped>\n",
       "    .dataframe tbody tr th:only-of-type {\n",
       "        vertical-align: middle;\n",
       "    }\n",
       "\n",
       "    .dataframe tbody tr th {\n",
       "        vertical-align: top;\n",
       "    }\n",
       "\n",
       "    .dataframe thead th {\n",
       "        text-align: right;\n",
       "    }\n",
       "</style>\n",
       "<table border=\"1\" class=\"dataframe\">\n",
       "  <thead>\n",
       "    <tr style=\"text-align: right;\">\n",
       "      <th></th>\n",
       "      <th>age</th>\n",
       "      <th>job</th>\n",
       "    </tr>\n",
       "    <tr>\n",
       "      <th>name</th>\n",
       "      <th></th>\n",
       "      <th></th>\n",
       "    </tr>\n",
       "  </thead>\n",
       "  <tbody>\n",
       "    <tr>\n",
       "      <th>Murat</th>\n",
       "      <td>25</td>\n",
       "      <td>data_scintist</td>\n",
       "    </tr>\n",
       "    <tr>\n",
       "      <th>Hande</th>\n",
       "      <td>28</td>\n",
       "      <td>data_analyst</td>\n",
       "    </tr>\n",
       "    <tr>\n",
       "      <th>Ezgi</th>\n",
       "      <td>23</td>\n",
       "      <td>Hr</td>\n",
       "    </tr>\n",
       "  </tbody>\n",
       "</table>\n",
       "</div>"
      ],
      "text/plain": [
       "       age            job\n",
       "name                     \n",
       "Murat   25  data_scintist\n",
       "Hande   28   data_analyst\n",
       "Ezgi    23             Hr"
      ]
     },
     "execution_count": 10,
     "metadata": {},
     "output_type": "execute_result"
    }
   ],
   "source": [
    "# Index 0,1,2,3 degilde name values'u indey yapalim.\n",
    "\n",
    "pd.read_csv(\"sample_semicolon.csv\", sep=\";\", index_col=0)"
   ]
  },
  {
   "cell_type": "code",
   "execution_count": 13,
   "id": "9f793f60",
   "metadata": {
    "ExecuteTime": {
     "end_time": "2023-05-19T17:53:51.163895Z",
     "start_time": "2023-05-19T17:53:51.116044Z"
    }
   },
   "outputs": [
    {
     "data": {
      "text/html": [
       "<div>\n",
       "<style scoped>\n",
       "    .dataframe tbody tr th:only-of-type {\n",
       "        vertical-align: middle;\n",
       "    }\n",
       "\n",
       "    .dataframe tbody tr th {\n",
       "        vertical-align: top;\n",
       "    }\n",
       "\n",
       "    .dataframe thead th {\n",
       "        text-align: right;\n",
       "    }\n",
       "</style>\n",
       "<table border=\"1\" class=\"dataframe\">\n",
       "  <thead>\n",
       "    <tr style=\"text-align: right;\">\n",
       "      <th></th>\n",
       "      <th>name</th>\n",
       "      <th>age</th>\n",
       "      <th>job</th>\n",
       "    </tr>\n",
       "  </thead>\n",
       "  <tbody>\n",
       "    <tr>\n",
       "      <th>0</th>\n",
       "      <td>Murat</td>\n",
       "      <td>25</td>\n",
       "      <td>data_scintist</td>\n",
       "    </tr>\n",
       "    <tr>\n",
       "      <th>1</th>\n",
       "      <td>Hande</td>\n",
       "      <td>28</td>\n",
       "      <td>data_analyst</td>\n",
       "    </tr>\n",
       "  </tbody>\n",
       "</table>\n",
       "</div>"
      ],
      "text/plain": [
       "    name  age            job\n",
       "0  Murat   25  data_scintist\n",
       "1  Hande   28   data_analyst"
      ]
     },
     "execution_count": 13,
     "metadata": {},
     "output_type": "execute_result"
    }
   ],
   "source": [
    "pd.read_csv(\"sample_semicolon.csv\", sep=\";\", nrows=2) #Column numarasi ile"
   ]
  },
  {
   "cell_type": "code",
   "execution_count": 14,
   "id": "4c311b51",
   "metadata": {
    "ExecuteTime": {
     "end_time": "2023-05-19T17:53:52.882880Z",
     "start_time": "2023-05-19T17:53:52.856531Z"
    }
   },
   "outputs": [
    {
     "data": {
      "text/html": [
       "<div>\n",
       "<style scoped>\n",
       "    .dataframe tbody tr th:only-of-type {\n",
       "        vertical-align: middle;\n",
       "    }\n",
       "\n",
       "    .dataframe tbody tr th {\n",
       "        vertical-align: top;\n",
       "    }\n",
       "\n",
       "    .dataframe thead th {\n",
       "        text-align: right;\n",
       "    }\n",
       "</style>\n",
       "<table border=\"1\" class=\"dataframe\">\n",
       "  <thead>\n",
       "    <tr style=\"text-align: right;\">\n",
       "      <th></th>\n",
       "      <th>age</th>\n",
       "      <th>job</th>\n",
       "    </tr>\n",
       "    <tr>\n",
       "      <th>name</th>\n",
       "      <th></th>\n",
       "      <th></th>\n",
       "    </tr>\n",
       "  </thead>\n",
       "  <tbody>\n",
       "    <tr>\n",
       "      <th>Murat</th>\n",
       "      <td>25</td>\n",
       "      <td>data_scintist</td>\n",
       "    </tr>\n",
       "    <tr>\n",
       "      <th>Hande</th>\n",
       "      <td>28</td>\n",
       "      <td>data_analyst</td>\n",
       "    </tr>\n",
       "    <tr>\n",
       "      <th>Ezgi</th>\n",
       "      <td>23</td>\n",
       "      <td>Hr</td>\n",
       "    </tr>\n",
       "  </tbody>\n",
       "</table>\n",
       "</div>"
      ],
      "text/plain": [
       "       age            job\n",
       "name                     \n",
       "Murat   25  data_scintist\n",
       "Hande   28   data_analyst\n",
       "Ezgi    23             Hr"
      ]
     },
     "execution_count": 14,
     "metadata": {},
     "output_type": "execute_result"
    }
   ],
   "source": [
    "pd.read_csv(\"sample_semicolon.csv\", sep=\";\", index_col=\"name\") #Column name ile"
   ]
  },
  {
   "cell_type": "code",
   "execution_count": 15,
   "id": "b870ab78",
   "metadata": {
    "ExecuteTime": {
     "end_time": "2023-05-19T17:55:13.426445Z",
     "start_time": "2023-05-19T17:55:13.396496Z"
    }
   },
   "outputs": [
    {
     "data": {
      "text/html": [
       "<div>\n",
       "<style scoped>\n",
       "    .dataframe tbody tr th:only-of-type {\n",
       "        vertical-align: middle;\n",
       "    }\n",
       "\n",
       "    .dataframe tbody tr th {\n",
       "        vertical-align: top;\n",
       "    }\n",
       "\n",
       "    .dataframe thead th {\n",
       "        text-align: right;\n",
       "    }\n",
       "</style>\n",
       "<table border=\"1\" class=\"dataframe\">\n",
       "  <thead>\n",
       "    <tr style=\"text-align: right;\">\n",
       "      <th></th>\n",
       "      <th>name</th>\n",
       "      <th>age</th>\n",
       "      <th>job</th>\n",
       "    </tr>\n",
       "  </thead>\n",
       "  <tbody>\n",
       "    <tr>\n",
       "      <th>0</th>\n",
       "      <td>Murat</td>\n",
       "      <td>25</td>\n",
       "      <td>data_scintist</td>\n",
       "    </tr>\n",
       "    <tr>\n",
       "      <th>1</th>\n",
       "      <td>Hande</td>\n",
       "      <td>28</td>\n",
       "      <td>data_analyst</td>\n",
       "    </tr>\n",
       "    <tr>\n",
       "      <th>2</th>\n",
       "      <td>Ezgi</td>\n",
       "      <td>23</td>\n",
       "      <td>Hr</td>\n",
       "    </tr>\n",
       "  </tbody>\n",
       "</table>\n",
       "</div>"
      ],
      "text/plain": [
       "    name  age            job\n",
       "0  Murat   25  data_scintist\n",
       "1  Hande   28   data_analyst\n",
       "2   Ezgi   23             Hr"
      ]
     },
     "execution_count": 15,
     "metadata": {},
     "output_type": "execute_result"
    }
   ],
   "source": [
    "pd.read_csv(\"sample_tab.csv\", sep=\"\\t\")"
   ]
  },
  {
   "cell_type": "code",
   "execution_count": 17,
   "id": "d20161ce",
   "metadata": {
    "ExecuteTime": {
     "end_time": "2023-05-19T17:58:04.678715Z",
     "start_time": "2023-05-19T17:58:04.626804Z"
    }
   },
   "outputs": [
    {
     "data": {
      "text/html": [
       "<div>\n",
       "<style scoped>\n",
       "    .dataframe tbody tr th:only-of-type {\n",
       "        vertical-align: middle;\n",
       "    }\n",
       "\n",
       "    .dataframe tbody tr th {\n",
       "        vertical-align: top;\n",
       "    }\n",
       "\n",
       "    .dataframe thead th {\n",
       "        text-align: right;\n",
       "    }\n",
       "</style>\n",
       "<table border=\"1\" class=\"dataframe\">\n",
       "  <thead>\n",
       "    <tr style=\"text-align: right;\">\n",
       "      <th></th>\n",
       "      <th>name</th>\n",
       "      <th>age</th>\n",
       "      <th>job</th>\n",
       "    </tr>\n",
       "  </thead>\n",
       "  <tbody>\n",
       "    <tr>\n",
       "      <th>0</th>\n",
       "      <td>name</td>\n",
       "      <td>age</td>\n",
       "      <td>job</td>\n",
       "    </tr>\n",
       "    <tr>\n",
       "      <th>1</th>\n",
       "      <td>Murat</td>\n",
       "      <td>yirmibes</td>\n",
       "      <td>data_scintist</td>\n",
       "    </tr>\n",
       "    <tr>\n",
       "      <th>2</th>\n",
       "      <td>Hande</td>\n",
       "      <td>28</td>\n",
       "      <td>data_analyst</td>\n",
       "    </tr>\n",
       "    <tr>\n",
       "      <th>3</th>\n",
       "      <td>Ezgi</td>\n",
       "      <td>23</td>\n",
       "      <td>Hr</td>\n",
       "    </tr>\n",
       "  </tbody>\n",
       "</table>\n",
       "</div>"
      ],
      "text/plain": [
       "    name       age            job\n",
       "0   name       age            job\n",
       "1  Murat  yirmibes  data_scintist\n",
       "2  Hande        28   data_analyst\n",
       "3   Ezgi        23             Hr"
      ]
     },
     "execution_count": 17,
     "metadata": {},
     "output_type": "execute_result"
    }
   ],
   "source": [
    "pd.read_csv(\"sample_unwanted.csv\") # First row contains repetition."
   ]
  },
  {
   "cell_type": "code",
   "execution_count": 20,
   "id": "fc325df7",
   "metadata": {
    "ExecuteTime": {
     "end_time": "2023-05-19T18:00:08.667778Z",
     "start_time": "2023-05-19T18:00:08.603946Z"
    }
   },
   "outputs": [
    {
     "data": {
      "text/html": [
       "<div>\n",
       "<style scoped>\n",
       "    .dataframe tbody tr th:only-of-type {\n",
       "        vertical-align: middle;\n",
       "    }\n",
       "\n",
       "    .dataframe tbody tr th {\n",
       "        vertical-align: top;\n",
       "    }\n",
       "\n",
       "    .dataframe thead th {\n",
       "        text-align: right;\n",
       "    }\n",
       "</style>\n",
       "<table border=\"1\" class=\"dataframe\">\n",
       "  <thead>\n",
       "    <tr style=\"text-align: right;\">\n",
       "      <th></th>\n",
       "      <th>name</th>\n",
       "      <th>age</th>\n",
       "      <th>job</th>\n",
       "    </tr>\n",
       "  </thead>\n",
       "  <tbody>\n",
       "    <tr>\n",
       "      <th>0</th>\n",
       "      <td>Murat</td>\n",
       "      <td>yirmibes</td>\n",
       "      <td>data_scintist</td>\n",
       "    </tr>\n",
       "    <tr>\n",
       "      <th>1</th>\n",
       "      <td>Hande</td>\n",
       "      <td>28</td>\n",
       "      <td>data_analyst</td>\n",
       "    </tr>\n",
       "    <tr>\n",
       "      <th>2</th>\n",
       "      <td>Ezgi</td>\n",
       "      <td>23</td>\n",
       "      <td>Hr</td>\n",
       "    </tr>\n",
       "  </tbody>\n",
       "</table>\n",
       "</div>"
      ],
      "text/plain": [
       "    name       age            job\n",
       "0  Murat  yirmibes  data_scintist\n",
       "1  Hande        28   data_analyst\n",
       "2   Ezgi        23             Hr"
      ]
     },
     "execution_count": 20,
     "metadata": {},
     "output_type": "execute_result"
    }
   ],
   "source": [
    "pd.read_csv(\"sample_unwanted.csv\", header=1) #Header row has not been deleted but first row has been accepted as header instead."
   ]
  },
  {
   "cell_type": "code",
   "execution_count": 21,
   "id": "d2141ecb",
   "metadata": {
    "ExecuteTime": {
     "end_time": "2023-05-19T18:01:44.704903Z",
     "start_time": "2023-05-19T18:01:44.654037Z"
    }
   },
   "outputs": [
    {
     "data": {
      "text/html": [
       "<div>\n",
       "<style scoped>\n",
       "    .dataframe tbody tr th:only-of-type {\n",
       "        vertical-align: middle;\n",
       "    }\n",
       "\n",
       "    .dataframe tbody tr th {\n",
       "        vertical-align: top;\n",
       "    }\n",
       "\n",
       "    .dataframe thead th {\n",
       "        text-align: right;\n",
       "    }\n",
       "</style>\n",
       "<table border=\"1\" class=\"dataframe\">\n",
       "  <thead>\n",
       "    <tr style=\"text-align: right;\">\n",
       "      <th></th>\n",
       "      <th>name</th>\n",
       "      <th>age</th>\n",
       "      <th>job</th>\n",
       "    </tr>\n",
       "  </thead>\n",
       "  <tbody>\n",
       "    <tr>\n",
       "      <th>0</th>\n",
       "      <td>name</td>\n",
       "      <td>age</td>\n",
       "      <td>job</td>\n",
       "    </tr>\n",
       "    <tr>\n",
       "      <th>1</th>\n",
       "      <td>Murat</td>\n",
       "      <td>NaN</td>\n",
       "      <td>data_scintist</td>\n",
       "    </tr>\n",
       "    <tr>\n",
       "      <th>2</th>\n",
       "      <td>Hande</td>\n",
       "      <td>28</td>\n",
       "      <td>data_analyst</td>\n",
       "    </tr>\n",
       "    <tr>\n",
       "      <th>3</th>\n",
       "      <td>Ezgi</td>\n",
       "      <td>23</td>\n",
       "      <td>Hr</td>\n",
       "    </tr>\n",
       "  </tbody>\n",
       "</table>\n",
       "</div>"
      ],
      "text/plain": [
       "    name  age            job\n",
       "0   name  age            job\n",
       "1  Murat  NaN  data_scintist\n",
       "2  Hande   28   data_analyst\n",
       "3   Ezgi   23             Hr"
      ]
     },
     "execution_count": 21,
     "metadata": {},
     "output_type": "execute_result"
    }
   ],
   "source": [
    "# Let's remove yirmibes as it is not in line with other integer values.\n",
    "pd.read_csv(\"sample_unwanted.csv\", na_values=\"yirmibes\")"
   ]
  },
  {
   "cell_type": "code",
   "execution_count": 22,
   "id": "a5812057",
   "metadata": {
    "ExecuteTime": {
     "end_time": "2023-05-19T18:03:36.700146Z",
     "start_time": "2023-05-19T18:03:36.682197Z"
    }
   },
   "outputs": [],
   "source": [
    "# Let's remove all non-integer values??\n"
   ]
  },
  {
   "cell_type": "markdown",
   "id": "8483d415-f6bd-4399-8d61-66209686c1b1",
   "metadata": {},
   "source": [
    "\n",
    "---\n",
    "#  **CSV Output** <a class=\"anchor\" id=\"3\"></a>\n",
    "---\n",
    "\n",
    "\n",
    "\n"
   ]
  },
  {
   "cell_type": "code",
   "execution_count": 23,
   "id": "03db5ade",
   "metadata": {
    "ExecuteTime": {
     "end_time": "2023-05-19T18:04:47.305724Z",
     "start_time": "2023-05-19T18:04:47.251761Z"
    }
   },
   "outputs": [
    {
     "data": {
      "text/html": [
       "<div>\n",
       "<style scoped>\n",
       "    .dataframe tbody tr th:only-of-type {\n",
       "        vertical-align: middle;\n",
       "    }\n",
       "\n",
       "    .dataframe tbody tr th {\n",
       "        vertical-align: top;\n",
       "    }\n",
       "\n",
       "    .dataframe thead th {\n",
       "        text-align: right;\n",
       "    }\n",
       "</style>\n",
       "<table border=\"1\" class=\"dataframe\">\n",
       "  <thead>\n",
       "    <tr style=\"text-align: right;\">\n",
       "      <th></th>\n",
       "      <th>name</th>\n",
       "      <th>age</th>\n",
       "      <th>job</th>\n",
       "    </tr>\n",
       "  </thead>\n",
       "  <tbody>\n",
       "    <tr>\n",
       "      <th>0</th>\n",
       "      <td>Murat</td>\n",
       "      <td>NaN</td>\n",
       "      <td>data_scintist</td>\n",
       "    </tr>\n",
       "    <tr>\n",
       "      <th>1</th>\n",
       "      <td>Hande</td>\n",
       "      <td>28.0</td>\n",
       "      <td>data_analyst</td>\n",
       "    </tr>\n",
       "    <tr>\n",
       "      <th>2</th>\n",
       "      <td>Ezgi</td>\n",
       "      <td>23.0</td>\n",
       "      <td>Hr</td>\n",
       "    </tr>\n",
       "  </tbody>\n",
       "</table>\n",
       "</div>"
      ],
      "text/plain": [
       "    name   age            job\n",
       "0  Murat   NaN  data_scintist\n",
       "1  Hande  28.0   data_analyst\n",
       "2   Ezgi  23.0             Hr"
      ]
     },
     "execution_count": 23,
     "metadata": {},
     "output_type": "execute_result"
    }
   ],
   "source": [
    "df = pd.read_csv(\"sample_unwanted.csv\", na_values=\"yirmibes\", header=1)\n",
    "df"
   ]
  },
  {
   "cell_type": "code",
   "execution_count": 24,
   "id": "1d12b834-3547-4569-a2dc-fbd9c33579fb",
   "metadata": {
    "ExecuteTime": {
     "end_time": "2023-05-19T18:05:18.197917Z",
     "start_time": "2023-05-19T18:05:18.146059Z"
    }
   },
   "outputs": [],
   "source": [
    "df.to_csv(\"final.csv\") # Save as a new .csv file"
   ]
  },
  {
   "cell_type": "code",
   "execution_count": 25,
   "id": "7023248f",
   "metadata": {
    "ExecuteTime": {
     "end_time": "2023-05-19T18:05:37.232621Z",
     "start_time": "2023-05-19T18:05:37.196144Z"
    }
   },
   "outputs": [
    {
     "data": {
      "text/html": [
       "<div>\n",
       "<style scoped>\n",
       "    .dataframe tbody tr th:only-of-type {\n",
       "        vertical-align: middle;\n",
       "    }\n",
       "\n",
       "    .dataframe tbody tr th {\n",
       "        vertical-align: top;\n",
       "    }\n",
       "\n",
       "    .dataframe thead th {\n",
       "        text-align: right;\n",
       "    }\n",
       "</style>\n",
       "<table border=\"1\" class=\"dataframe\">\n",
       "  <thead>\n",
       "    <tr style=\"text-align: right;\">\n",
       "      <th></th>\n",
       "      <th>Unnamed: 0</th>\n",
       "      <th>name</th>\n",
       "      <th>age</th>\n",
       "      <th>job</th>\n",
       "    </tr>\n",
       "  </thead>\n",
       "  <tbody>\n",
       "    <tr>\n",
       "      <th>0</th>\n",
       "      <td>0</td>\n",
       "      <td>Murat</td>\n",
       "      <td>NaN</td>\n",
       "      <td>data_scintist</td>\n",
       "    </tr>\n",
       "    <tr>\n",
       "      <th>1</th>\n",
       "      <td>1</td>\n",
       "      <td>Hande</td>\n",
       "      <td>28.0</td>\n",
       "      <td>data_analyst</td>\n",
       "    </tr>\n",
       "    <tr>\n",
       "      <th>2</th>\n",
       "      <td>2</td>\n",
       "      <td>Ezgi</td>\n",
       "      <td>23.0</td>\n",
       "      <td>Hr</td>\n",
       "    </tr>\n",
       "  </tbody>\n",
       "</table>\n",
       "</div>"
      ],
      "text/plain": [
       "   Unnamed: 0   name   age            job\n",
       "0           0  Murat   NaN  data_scintist\n",
       "1           1  Hande  28.0   data_analyst\n",
       "2           2   Ezgi  23.0             Hr"
      ]
     },
     "execution_count": 25,
     "metadata": {},
     "output_type": "execute_result"
    }
   ],
   "source": [
    "pd.read_csv(\"final.csv\")"
   ]
  },
  {
   "cell_type": "code",
   "execution_count": 28,
   "id": "715eee36",
   "metadata": {
    "ExecuteTime": {
     "end_time": "2023-05-19T18:07:47.380993Z",
     "start_time": "2023-05-19T18:07:47.352106Z"
    }
   },
   "outputs": [],
   "source": [
    "df.to_csv(\"final.nonindex.csv\", index = False) #Index'im olmasin diyoruz."
   ]
  },
  {
   "cell_type": "code",
   "execution_count": 29,
   "id": "626ece2e",
   "metadata": {
    "ExecuteTime": {
     "end_time": "2023-05-19T18:07:50.907898Z",
     "start_time": "2023-05-19T18:07:50.851479Z"
    }
   },
   "outputs": [
    {
     "data": {
      "text/html": [
       "<div>\n",
       "<style scoped>\n",
       "    .dataframe tbody tr th:only-of-type {\n",
       "        vertical-align: middle;\n",
       "    }\n",
       "\n",
       "    .dataframe tbody tr th {\n",
       "        vertical-align: top;\n",
       "    }\n",
       "\n",
       "    .dataframe thead th {\n",
       "        text-align: right;\n",
       "    }\n",
       "</style>\n",
       "<table border=\"1\" class=\"dataframe\">\n",
       "  <thead>\n",
       "    <tr style=\"text-align: right;\">\n",
       "      <th></th>\n",
       "      <th>name</th>\n",
       "      <th>age</th>\n",
       "      <th>job</th>\n",
       "    </tr>\n",
       "  </thead>\n",
       "  <tbody>\n",
       "    <tr>\n",
       "      <th>0</th>\n",
       "      <td>Murat</td>\n",
       "      <td>NaN</td>\n",
       "      <td>data_scintist</td>\n",
       "    </tr>\n",
       "    <tr>\n",
       "      <th>1</th>\n",
       "      <td>Hande</td>\n",
       "      <td>28.0</td>\n",
       "      <td>data_analyst</td>\n",
       "    </tr>\n",
       "    <tr>\n",
       "      <th>2</th>\n",
       "      <td>Ezgi</td>\n",
       "      <td>23.0</td>\n",
       "      <td>Hr</td>\n",
       "    </tr>\n",
       "  </tbody>\n",
       "</table>\n",
       "</div>"
      ],
      "text/plain": [
       "    name   age            job\n",
       "0  Murat   NaN  data_scintist\n",
       "1  Hande  28.0   data_analyst\n",
       "2   Ezgi  23.0             Hr"
      ]
     },
     "execution_count": 29,
     "metadata": {},
     "output_type": "execute_result"
    }
   ],
   "source": [
    "pd.read_csv(\"final.nonindex.csv\")"
   ]
  },
  {
   "cell_type": "markdown",
   "id": "65453885-19d3-4845-a581-bac4a8b3fa19",
   "metadata": {},
   "source": [
    "---\n",
    "# 💾 **Excel Input** <a class=\"anchor\" id=\"4\"></a>\n",
    "---"
   ]
  },
  {
   "cell_type": "code",
   "execution_count": 31,
   "id": "40ff66fe",
   "metadata": {
    "ExecuteTime": {
     "end_time": "2023-05-19T18:08:45.473803Z",
     "start_time": "2023-05-19T18:08:37.931480Z"
    }
   },
   "outputs": [
    {
     "name": "stdout",
     "output_type": "stream",
     "text": [
      "Requirement already satisfied: openpyxl in c:\\users\\user\\anaconda3\\lib\\site-packages (3.0.10)\n",
      "Requirement already satisfied: et_xmlfile in c:\\users\\user\\anaconda3\\lib\\site-packages (from openpyxl) (1.1.0)\n"
     ]
    }
   ],
   "source": [
    "!pip install openpyxl"
   ]
  },
  {
   "cell_type": "code",
   "execution_count": 32,
   "id": "fd8ea3e9",
   "metadata": {
    "ExecuteTime": {
     "end_time": "2023-05-19T18:09:36.791430Z",
     "start_time": "2023-05-19T18:09:35.895334Z"
    }
   },
   "outputs": [
    {
     "data": {
      "text/html": [
       "<div>\n",
       "<style scoped>\n",
       "    .dataframe tbody tr th:only-of-type {\n",
       "        vertical-align: middle;\n",
       "    }\n",
       "\n",
       "    .dataframe tbody tr th {\n",
       "        vertical-align: top;\n",
       "    }\n",
       "\n",
       "    .dataframe thead th {\n",
       "        text-align: right;\n",
       "    }\n",
       "</style>\n",
       "<table border=\"1\" class=\"dataframe\">\n",
       "  <thead>\n",
       "    <tr style=\"text-align: right;\">\n",
       "      <th></th>\n",
       "      <th>a</th>\n",
       "      <th>b</th>\n",
       "      <th>c</th>\n",
       "      <th>d</th>\n",
       "    </tr>\n",
       "  </thead>\n",
       "  <tbody>\n",
       "    <tr>\n",
       "      <th>0</th>\n",
       "      <td>1</td>\n",
       "      <td>8</td>\n",
       "      <td>15</td>\n",
       "      <td>3</td>\n",
       "    </tr>\n",
       "    <tr>\n",
       "      <th>1</th>\n",
       "      <td>2</td>\n",
       "      <td>9</td>\n",
       "      <td>227</td>\n",
       "      <td>11</td>\n",
       "    </tr>\n",
       "    <tr>\n",
       "      <th>2</th>\n",
       "      <td>32</td>\n",
       "      <td>52</td>\n",
       "      <td>125</td>\n",
       "      <td>5</td>\n",
       "    </tr>\n",
       "    <tr>\n",
       "      <th>3</th>\n",
       "      <td>4</td>\n",
       "      <td>15</td>\n",
       "      <td>3</td>\n",
       "      <td>1</td>\n",
       "    </tr>\n",
       "  </tbody>\n",
       "</table>\n",
       "</div>"
      ],
      "text/plain": [
       "    a   b    c   d\n",
       "0   1   8   15   3\n",
       "1   2   9  227  11\n",
       "2  32  52  125   5\n",
       "3   4  15    3   1"
      ]
     },
     "execution_count": 32,
     "metadata": {},
     "output_type": "execute_result"
    }
   ],
   "source": [
    "pd.read_excel(\"sample_excel_1.xlsx\")"
   ]
  },
  {
   "cell_type": "code",
   "execution_count": 39,
   "id": "338e41bf",
   "metadata": {
    "ExecuteTime": {
     "end_time": "2023-05-19T18:17:12.144489Z",
     "start_time": "2023-05-19T18:17:12.058684Z"
    }
   },
   "outputs": [],
   "source": [
    "df_excel_1 = pd.read_excel(\"sample_excel_1.xlsx\", sheet_name=\"Sayfa1\")"
   ]
  },
  {
   "cell_type": "code",
   "execution_count": 40,
   "id": "527c44e4",
   "metadata": {
    "ExecuteTime": {
     "end_time": "2023-05-19T18:17:20.238153Z",
     "start_time": "2023-05-19T18:17:20.198311Z"
    }
   },
   "outputs": [],
   "source": [
    "df_excel_2 = pd.read_excel(\"sample_excel_1.xlsx\", sheet_name=\"Sayfa2\") #Sheetname ile cagirmmak icin, normalde ilk sheet gelir."
   ]
  },
  {
   "cell_type": "code",
   "execution_count": 36,
   "id": "c09472f3",
   "metadata": {
    "ExecuteTime": {
     "end_time": "2023-05-19T18:13:41.476992Z",
     "start_time": "2023-05-19T18:13:41.374114Z"
    }
   },
   "outputs": [
    {
     "data": {
      "text/html": [
       "<div>\n",
       "<style scoped>\n",
       "    .dataframe tbody tr th:only-of-type {\n",
       "        vertical-align: middle;\n",
       "    }\n",
       "\n",
       "    .dataframe tbody tr th {\n",
       "        vertical-align: top;\n",
       "    }\n",
       "\n",
       "    .dataframe thead th {\n",
       "        text-align: right;\n",
       "    }\n",
       "</style>\n",
       "<table border=\"1\" class=\"dataframe\">\n",
       "  <thead>\n",
       "    <tr style=\"text-align: right;\">\n",
       "      <th></th>\n",
       "      <th>0</th>\n",
       "      <th>name</th>\n",
       "      <th>age</th>\n",
       "      <th>job</th>\n",
       "    </tr>\n",
       "  </thead>\n",
       "  <tbody>\n",
       "    <tr>\n",
       "      <th>0</th>\n",
       "      <td>1</td>\n",
       "      <td>Murat</td>\n",
       "      <td>25</td>\n",
       "      <td>data_scintist</td>\n",
       "    </tr>\n",
       "    <tr>\n",
       "      <th>1</th>\n",
       "      <td>2</td>\n",
       "      <td>Hande</td>\n",
       "      <td>28</td>\n",
       "      <td>data_analyst</td>\n",
       "    </tr>\n",
       "    <tr>\n",
       "      <th>2</th>\n",
       "      <td>3</td>\n",
       "      <td>Ezgi</td>\n",
       "      <td>23</td>\n",
       "      <td>Hr</td>\n",
       "    </tr>\n",
       "  </tbody>\n",
       "</table>\n",
       "</div>"
      ],
      "text/plain": [
       "   0   name  age            job\n",
       "0  1  Murat   25  data_scintist\n",
       "1  2  Hande   28   data_analyst\n",
       "2  3   Ezgi   23             Hr"
      ]
     },
     "execution_count": 36,
     "metadata": {},
     "output_type": "execute_result"
    }
   ],
   "source": [
    "pd.read_excel(\"sample_excel_1.xlsx\", sheet_name=\"Sayfa2\", header=1) #make first row header"
   ]
  },
  {
   "cell_type": "code",
   "execution_count": 42,
   "id": "dfc05187",
   "metadata": {
    "ExecuteTime": {
     "end_time": "2023-05-19T18:18:35.507058Z",
     "start_time": "2023-05-19T18:18:35.403465Z"
    }
   },
   "outputs": [],
   "source": [
    "df_excel_dict = pd.read_excel(\"sample_excel_1.xlsx\", sheet_name=None) #It will return the both sheets as dictionary."
   ]
  },
  {
   "cell_type": "code",
   "execution_count": 43,
   "id": "29c7af68",
   "metadata": {
    "ExecuteTime": {
     "end_time": "2023-05-19T18:18:40.021849Z",
     "start_time": "2023-05-19T18:18:40.001300Z"
    }
   },
   "outputs": [
    {
     "data": {
      "text/plain": [
       "dict"
      ]
     },
     "execution_count": 43,
     "metadata": {},
     "output_type": "execute_result"
    }
   ],
   "source": [
    "type(df_excel_dict)"
   ]
  },
  {
   "cell_type": "code",
   "execution_count": 44,
   "id": "dca25824",
   "metadata": {
    "ExecuteTime": {
     "end_time": "2023-05-19T18:20:11.362821Z",
     "start_time": "2023-05-19T18:20:11.332722Z"
    }
   },
   "outputs": [
    {
     "data": {
      "text/plain": [
       "dict_keys(['Sayfa1', 'Sayfa2'])"
      ]
     },
     "execution_count": 44,
     "metadata": {},
     "output_type": "execute_result"
    }
   ],
   "source": [
    "df_excel_dict.keys()"
   ]
  },
  {
   "cell_type": "code",
   "execution_count": 45,
   "id": "7b521c22",
   "metadata": {
    "ExecuteTime": {
     "end_time": "2023-05-19T18:20:30.803942Z",
     "start_time": "2023-05-19T18:20:30.771029Z"
    }
   },
   "outputs": [
    {
     "data": {
      "text/plain": [
       "dict_values([    a   b    c   d\n",
       "0   1   8   15   3\n",
       "1   2   9  227  11\n",
       "2  32  52  125   5\n",
       "3   4  15    3   1,    0 personal personal.1        general\n",
       "0  0     name        age            job\n",
       "1  1    Murat         25  data_scintist\n",
       "2  2    Hande         28   data_analyst\n",
       "3  3     Ezgi         23             Hr])"
      ]
     },
     "execution_count": 45,
     "metadata": {},
     "output_type": "execute_result"
    }
   ],
   "source": [
    "df_excel_dict.values()"
   ]
  },
  {
   "cell_type": "markdown",
   "id": "39d8f5e3-bc81-40d2-a853-0c117caa75af",
   "metadata": {},
   "source": [
    "## Excel Output"
   ]
  },
  {
   "cell_type": "code",
   "execution_count": 46,
   "id": "233da61c",
   "metadata": {
    "ExecuteTime": {
     "end_time": "2023-05-19T18:34:01.165584Z",
     "start_time": "2023-05-19T18:34:01.084200Z"
    }
   },
   "outputs": [],
   "source": [
    "df_excel_1.to_csv(\"sample_excel_to_csv_file.csv\", index=False)"
   ]
  },
  {
   "cell_type": "code",
   "execution_count": 47,
   "id": "aa55944d",
   "metadata": {
    "ExecuteTime": {
     "end_time": "2023-05-19T18:35:49.987962Z",
     "start_time": "2023-05-19T18:35:49.583963Z"
    }
   },
   "outputs": [],
   "source": [
    "df_excel_1.to_excel(\"sample_excel_output.xlsx\",index=False)"
   ]
  },
  {
   "cell_type": "code",
   "execution_count": 48,
   "id": "b1fdaa3c",
   "metadata": {
    "ExecuteTime": {
     "end_time": "2023-05-19T18:35:56.702261Z",
     "start_time": "2023-05-19T18:35:56.663798Z"
    }
   },
   "outputs": [
    {
     "data": {
      "text/html": [
       "<div>\n",
       "<style scoped>\n",
       "    .dataframe tbody tr th:only-of-type {\n",
       "        vertical-align: middle;\n",
       "    }\n",
       "\n",
       "    .dataframe tbody tr th {\n",
       "        vertical-align: top;\n",
       "    }\n",
       "\n",
       "    .dataframe thead th {\n",
       "        text-align: right;\n",
       "    }\n",
       "</style>\n",
       "<table border=\"1\" class=\"dataframe\">\n",
       "  <thead>\n",
       "    <tr style=\"text-align: right;\">\n",
       "      <th></th>\n",
       "      <th>a</th>\n",
       "      <th>b</th>\n",
       "      <th>c</th>\n",
       "      <th>d</th>\n",
       "    </tr>\n",
       "  </thead>\n",
       "  <tbody>\n",
       "    <tr>\n",
       "      <th>0</th>\n",
       "      <td>1</td>\n",
       "      <td>8</td>\n",
       "      <td>15</td>\n",
       "      <td>3</td>\n",
       "    </tr>\n",
       "    <tr>\n",
       "      <th>1</th>\n",
       "      <td>2</td>\n",
       "      <td>9</td>\n",
       "      <td>227</td>\n",
       "      <td>11</td>\n",
       "    </tr>\n",
       "    <tr>\n",
       "      <th>2</th>\n",
       "      <td>32</td>\n",
       "      <td>52</td>\n",
       "      <td>125</td>\n",
       "      <td>5</td>\n",
       "    </tr>\n",
       "    <tr>\n",
       "      <th>3</th>\n",
       "      <td>4</td>\n",
       "      <td>15</td>\n",
       "      <td>3</td>\n",
       "      <td>1</td>\n",
       "    </tr>\n",
       "  </tbody>\n",
       "</table>\n",
       "</div>"
      ],
      "text/plain": [
       "    a   b    c   d\n",
       "0   1   8   15   3\n",
       "1   2   9  227  11\n",
       "2  32  52  125   5\n",
       "3   4  15    3   1"
      ]
     },
     "execution_count": 48,
     "metadata": {},
     "output_type": "execute_result"
    }
   ],
   "source": [
    "df_excel_1"
   ]
  },
  {
   "cell_type": "code",
   "execution_count": 49,
   "id": "fd2cd10c",
   "metadata": {
    "ExecuteTime": {
     "end_time": "2023-05-19T18:36:06.464507Z",
     "start_time": "2023-05-19T18:36:06.413093Z"
    }
   },
   "outputs": [
    {
     "data": {
      "text/html": [
       "<div>\n",
       "<style scoped>\n",
       "    .dataframe tbody tr th:only-of-type {\n",
       "        vertical-align: middle;\n",
       "    }\n",
       "\n",
       "    .dataframe tbody tr th {\n",
       "        vertical-align: top;\n",
       "    }\n",
       "\n",
       "    .dataframe thead th {\n",
       "        text-align: right;\n",
       "    }\n",
       "</style>\n",
       "<table border=\"1\" class=\"dataframe\">\n",
       "  <thead>\n",
       "    <tr style=\"text-align: right;\">\n",
       "      <th></th>\n",
       "      <th>0</th>\n",
       "      <th>personal</th>\n",
       "      <th>personal.1</th>\n",
       "      <th>general</th>\n",
       "    </tr>\n",
       "  </thead>\n",
       "  <tbody>\n",
       "    <tr>\n",
       "      <th>0</th>\n",
       "      <td>0</td>\n",
       "      <td>name</td>\n",
       "      <td>age</td>\n",
       "      <td>job</td>\n",
       "    </tr>\n",
       "    <tr>\n",
       "      <th>1</th>\n",
       "      <td>1</td>\n",
       "      <td>Murat</td>\n",
       "      <td>25</td>\n",
       "      <td>data_scintist</td>\n",
       "    </tr>\n",
       "    <tr>\n",
       "      <th>2</th>\n",
       "      <td>2</td>\n",
       "      <td>Hande</td>\n",
       "      <td>28</td>\n",
       "      <td>data_analyst</td>\n",
       "    </tr>\n",
       "    <tr>\n",
       "      <th>3</th>\n",
       "      <td>3</td>\n",
       "      <td>Ezgi</td>\n",
       "      <td>23</td>\n",
       "      <td>Hr</td>\n",
       "    </tr>\n",
       "  </tbody>\n",
       "</table>\n",
       "</div>"
      ],
      "text/plain": [
       "   0 personal personal.1        general\n",
       "0  0     name        age            job\n",
       "1  1    Murat         25  data_scintist\n",
       "2  2    Hande         28   data_analyst\n",
       "3  3     Ezgi         23             Hr"
      ]
     },
     "execution_count": 49,
     "metadata": {},
     "output_type": "execute_result"
    }
   ],
   "source": [
    "df_excel_2"
   ]
  },
  {
   "cell_type": "code",
   "execution_count": 50,
   "id": "7db6fc89",
   "metadata": {
    "ExecuteTime": {
     "end_time": "2023-05-19T18:38:02.718086Z",
     "start_time": "2023-05-19T18:38:02.499292Z"
    }
   },
   "outputs": [],
   "source": [
    "with pd.ExcelWriter(\"Combined.xlsx\") as writer:\n",
    "    df_excel_1.to_excel(writer, sheet_name=\"garip_sayilar\")\n",
    "    df_excel_2.to_excel(writer, sheet_name=\"personel_bilgileri\", index=False)"
   ]
  },
  {
   "cell_type": "code",
   "execution_count": 52,
   "id": "e1000b9c",
   "metadata": {
    "ExecuteTime": {
     "end_time": "2023-05-19T18:39:16.383026Z",
     "start_time": "2023-05-19T18:39:16.286141Z"
    }
   },
   "outputs": [
    {
     "data": {
      "text/html": [
       "<div>\n",
       "<style scoped>\n",
       "    .dataframe tbody tr th:only-of-type {\n",
       "        vertical-align: middle;\n",
       "    }\n",
       "\n",
       "    .dataframe tbody tr th {\n",
       "        vertical-align: top;\n",
       "    }\n",
       "\n",
       "    .dataframe thead th {\n",
       "        text-align: right;\n",
       "    }\n",
       "</style>\n",
       "<table border=\"1\" class=\"dataframe\">\n",
       "  <thead>\n",
       "    <tr style=\"text-align: right;\">\n",
       "      <th></th>\n",
       "      <th>Unnamed: 0</th>\n",
       "      <th>a</th>\n",
       "      <th>b</th>\n",
       "      <th>c</th>\n",
       "      <th>d</th>\n",
       "    </tr>\n",
       "  </thead>\n",
       "  <tbody>\n",
       "    <tr>\n",
       "      <th>0</th>\n",
       "      <td>0</td>\n",
       "      <td>1</td>\n",
       "      <td>8</td>\n",
       "      <td>15</td>\n",
       "      <td>3</td>\n",
       "    </tr>\n",
       "    <tr>\n",
       "      <th>1</th>\n",
       "      <td>1</td>\n",
       "      <td>2</td>\n",
       "      <td>9</td>\n",
       "      <td>227</td>\n",
       "      <td>11</td>\n",
       "    </tr>\n",
       "    <tr>\n",
       "      <th>2</th>\n",
       "      <td>2</td>\n",
       "      <td>32</td>\n",
       "      <td>52</td>\n",
       "      <td>125</td>\n",
       "      <td>5</td>\n",
       "    </tr>\n",
       "    <tr>\n",
       "      <th>3</th>\n",
       "      <td>3</td>\n",
       "      <td>4</td>\n",
       "      <td>15</td>\n",
       "      <td>3</td>\n",
       "      <td>1</td>\n",
       "    </tr>\n",
       "  </tbody>\n",
       "</table>\n",
       "</div>"
      ],
      "text/plain": [
       "   Unnamed: 0   a   b    c   d\n",
       "0           0   1   8   15   3\n",
       "1           1   2   9  227  11\n",
       "2           2  32  52  125   5\n",
       "3           3   4  15    3   1"
      ]
     },
     "execution_count": 52,
     "metadata": {},
     "output_type": "execute_result"
    }
   ],
   "source": [
    "pd.read_excel(\"Combined.xlsx\", sheet_name=\"garip_sayilar\")"
   ]
  },
  {
   "cell_type": "code",
   "execution_count": 53,
   "id": "c27f03be",
   "metadata": {
    "ExecuteTime": {
     "end_time": "2023-05-19T18:40:06.968246Z",
     "start_time": "2023-05-19T18:40:06.870716Z"
    }
   },
   "outputs": [
    {
     "data": {
      "text/html": [
       "<div>\n",
       "<style scoped>\n",
       "    .dataframe tbody tr th:only-of-type {\n",
       "        vertical-align: middle;\n",
       "    }\n",
       "\n",
       "    .dataframe tbody tr th {\n",
       "        vertical-align: top;\n",
       "    }\n",
       "\n",
       "    .dataframe thead th {\n",
       "        text-align: right;\n",
       "    }\n",
       "</style>\n",
       "<table border=\"1\" class=\"dataframe\">\n",
       "  <thead>\n",
       "    <tr style=\"text-align: right;\">\n",
       "      <th></th>\n",
       "      <th>0</th>\n",
       "      <th>personal</th>\n",
       "      <th>personal.1</th>\n",
       "      <th>general</th>\n",
       "    </tr>\n",
       "  </thead>\n",
       "  <tbody>\n",
       "    <tr>\n",
       "      <th>0</th>\n",
       "      <td>0</td>\n",
       "      <td>name</td>\n",
       "      <td>age</td>\n",
       "      <td>job</td>\n",
       "    </tr>\n",
       "    <tr>\n",
       "      <th>1</th>\n",
       "      <td>1</td>\n",
       "      <td>Murat</td>\n",
       "      <td>25</td>\n",
       "      <td>data_scintist</td>\n",
       "    </tr>\n",
       "    <tr>\n",
       "      <th>2</th>\n",
       "      <td>2</td>\n",
       "      <td>Hande</td>\n",
       "      <td>28</td>\n",
       "      <td>data_analyst</td>\n",
       "    </tr>\n",
       "    <tr>\n",
       "      <th>3</th>\n",
       "      <td>3</td>\n",
       "      <td>Ezgi</td>\n",
       "      <td>23</td>\n",
       "      <td>Hr</td>\n",
       "    </tr>\n",
       "  </tbody>\n",
       "</table>\n",
       "</div>"
      ],
      "text/plain": [
       "   0 personal personal.1        general\n",
       "0  0     name        age            job\n",
       "1  1    Murat         25  data_scintist\n",
       "2  2    Hande         28   data_analyst\n",
       "3  3     Ezgi         23             Hr"
      ]
     },
     "execution_count": 53,
     "metadata": {},
     "output_type": "execute_result"
    }
   ],
   "source": [
    "pd.read_excel(\"Combined.xlsx\", sheet_name=\"personel_bilgileri\")"
   ]
  },
  {
   "cell_type": "code",
   "execution_count": null,
   "id": "040221c9",
   "metadata": {},
   "outputs": [],
   "source": []
  },
  {
   "cell_type": "markdown",
   "id": "43f77380-82b5-43bc-be7e-18a811c08433",
   "metadata": {},
   "source": [
    "## Read HTML"
   ]
  },
  {
   "cell_type": "code",
   "execution_count": 54,
   "id": "579a290a-5329-462c-b804-3f2755617270",
   "metadata": {
    "ExecuteTime": {
     "end_time": "2023-05-19T18:43:46.601826Z",
     "start_time": "2023-05-19T18:43:27.887070Z"
    }
   },
   "outputs": [
    {
     "name": "stdout",
     "output_type": "stream",
     "text": [
      "Requirement already satisfied: lxml in c:\\users\\user\\anaconda3\\lib\\site-packages (4.9.1)\n",
      "Collecting html5lib\n",
      "  Downloading html5lib-1.1-py2.py3-none-any.whl (112 kB)\n",
      "     -------------------------------------- 112.2/112.2 kB 2.2 MB/s eta 0:00:00\n",
      "Requirement already satisfied: webencodings in c:\\users\\user\\anaconda3\\lib\\site-packages (from html5lib) (0.5.1)\n",
      "Requirement already satisfied: six>=1.9 in c:\\users\\user\\anaconda3\\lib\\site-packages (from html5lib) (1.16.0)\n",
      "Installing collected packages: html5lib\n",
      "Successfully installed html5lib-1.1\n",
      "Requirement already satisfied: BeautifulSoup4 in c:\\users\\user\\anaconda3\\lib\\site-packages (4.11.1)\n",
      "Requirement already satisfied: soupsieve>1.2 in c:\\users\\user\\anaconda3\\lib\\site-packages (from BeautifulSoup4) (2.3.1)\n"
     ]
    }
   ],
   "source": [
    "!pip install lxml\n",
    "!pip install html5lib\n",
    "!pip install BeautifulSoup4"
   ]
  },
  {
   "cell_type": "markdown",
   "id": "9bc5ceb2",
   "metadata": {},
   "source": [
    "https://hsgm.saglik.gov.tr/tr/haberler/yetkilendirilmis-covi-d-19-tani-laboratuvarlari.html"
   ]
  },
  {
   "cell_type": "code",
   "execution_count": 56,
   "id": "a16c3eb0",
   "metadata": {
    "ExecuteTime": {
     "end_time": "2023-05-19T18:49:26.612690Z",
     "start_time": "2023-05-19T18:49:26.593792Z"
    }
   },
   "outputs": [],
   "source": [
    "url = \"https://hsgm.saglik.gov.tr/tr/haberler/yetkilendirilmis-covi-d-19-tani-laboratuvarlari.html\""
   ]
  },
  {
   "cell_type": "code",
   "execution_count": 58,
   "id": "76c0f355",
   "metadata": {
    "ExecuteTime": {
     "end_time": "2023-05-19T18:50:50.213133Z",
     "start_time": "2023-05-19T18:50:48.663311Z"
    }
   },
   "outputs": [
    {
     "data": {
      "text/plain": [
       "[       0                      1                    2  \\\n",
       " 0     NO  YETKİLENDİRME GRUP NO                   İL   \n",
       " 1      1                      1                ADANA   \n",
       " 2      2                      3                ADANA   \n",
       " 3      3                      5                ADANA   \n",
       " 4      4                      5                ADANA   \n",
       " ..   ...                    ...                  ...   \n",
       " 519  519                      2            ZONGULDAK   \n",
       " 520  520                      5            ZONGULDAK   \n",
       " 521  521                      7  ZONGULDAK-K. EREĞLİ   \n",
       " 522  522                      6  ZONGULDAK-K. EREĞLİ   \n",
       " 523  523                      8  ZONGULDAK-K. EREĞLİ   \n",
       " \n",
       "                                                      3  \n",
       " 0                                                KURUM  \n",
       " 1    ADANA İL SAĞLIK MÜDÜRLÜĞÜ HALK SAĞLIĞI LABORAT...  \n",
       " 2                                ADANA ŞEHİR HASTANESİ  \n",
       " 3              ÇUKUROVA ÜNİVERSİTESİ BALCALI HASTANESİ  \n",
       " 4                              SEYHAN DEVLET HASTANESİ  \n",
       " ..                                                 ...  \n",
       " 519  ZONGULDAK BÜLENT ECEVİT ÜNİVERSİTESİ TIP FAKÜL...  \n",
       " 520                 ZONGULDAK ATATÜRK DEVLET HASTANESİ  \n",
       " 521                  KARADENİZ EREĞLİ DEVLET HASTANESİ  \n",
       " 522            ÖZEL KARADENİZ EREĞLİ ECHOMAR HASTANESİ  \n",
       " 523                      ÖZEL EREĞLİ ANADOLU HASTANESİ  \n",
       " \n",
       " [524 rows x 4 columns]]"
      ]
     },
     "execution_count": 58,
     "metadata": {},
     "output_type": "execute_result"
    }
   ],
   "source": [
    "df_covid = pd.read_html(url)\n",
    "df_covid"
   ]
  },
  {
   "cell_type": "code",
   "execution_count": 59,
   "id": "c442b815",
   "metadata": {
    "ExecuteTime": {
     "end_time": "2023-05-19T18:51:01.810671Z",
     "start_time": "2023-05-19T18:51:01.775767Z"
    }
   },
   "outputs": [
    {
     "data": {
      "text/plain": [
       "list"
      ]
     },
     "execution_count": 59,
     "metadata": {},
     "output_type": "execute_result"
    }
   ],
   "source": [
    "type(df_covid)"
   ]
  },
  {
   "cell_type": "code",
   "execution_count": 60,
   "id": "bd342d27",
   "metadata": {
    "ExecuteTime": {
     "end_time": "2023-05-19T18:51:47.971209Z",
     "start_time": "2023-05-19T18:51:47.916923Z"
    }
   },
   "outputs": [
    {
     "data": {
      "text/html": [
       "<div>\n",
       "<style scoped>\n",
       "    .dataframe tbody tr th:only-of-type {\n",
       "        vertical-align: middle;\n",
       "    }\n",
       "\n",
       "    .dataframe tbody tr th {\n",
       "        vertical-align: top;\n",
       "    }\n",
       "\n",
       "    .dataframe thead th {\n",
       "        text-align: right;\n",
       "    }\n",
       "</style>\n",
       "<table border=\"1\" class=\"dataframe\">\n",
       "  <thead>\n",
       "    <tr style=\"text-align: right;\">\n",
       "      <th></th>\n",
       "      <th>0</th>\n",
       "      <th>1</th>\n",
       "      <th>2</th>\n",
       "      <th>3</th>\n",
       "    </tr>\n",
       "  </thead>\n",
       "  <tbody>\n",
       "    <tr>\n",
       "      <th>0</th>\n",
       "      <td>NO</td>\n",
       "      <td>YETKİLENDİRME GRUP NO</td>\n",
       "      <td>İL</td>\n",
       "      <td>KURUM</td>\n",
       "    </tr>\n",
       "    <tr>\n",
       "      <th>1</th>\n",
       "      <td>1</td>\n",
       "      <td>1</td>\n",
       "      <td>ADANA</td>\n",
       "      <td>ADANA İL SAĞLIK MÜDÜRLÜĞÜ HALK SAĞLIĞI LABORAT...</td>\n",
       "    </tr>\n",
       "    <tr>\n",
       "      <th>2</th>\n",
       "      <td>2</td>\n",
       "      <td>3</td>\n",
       "      <td>ADANA</td>\n",
       "      <td>ADANA ŞEHİR HASTANESİ</td>\n",
       "    </tr>\n",
       "    <tr>\n",
       "      <th>3</th>\n",
       "      <td>3</td>\n",
       "      <td>5</td>\n",
       "      <td>ADANA</td>\n",
       "      <td>ÇUKUROVA ÜNİVERSİTESİ BALCALI HASTANESİ</td>\n",
       "    </tr>\n",
       "    <tr>\n",
       "      <th>4</th>\n",
       "      <td>4</td>\n",
       "      <td>5</td>\n",
       "      <td>ADANA</td>\n",
       "      <td>SEYHAN DEVLET HASTANESİ</td>\n",
       "    </tr>\n",
       "    <tr>\n",
       "      <th>...</th>\n",
       "      <td>...</td>\n",
       "      <td>...</td>\n",
       "      <td>...</td>\n",
       "      <td>...</td>\n",
       "    </tr>\n",
       "    <tr>\n",
       "      <th>519</th>\n",
       "      <td>519</td>\n",
       "      <td>2</td>\n",
       "      <td>ZONGULDAK</td>\n",
       "      <td>ZONGULDAK BÜLENT ECEVİT ÜNİVERSİTESİ TIP FAKÜL...</td>\n",
       "    </tr>\n",
       "    <tr>\n",
       "      <th>520</th>\n",
       "      <td>520</td>\n",
       "      <td>5</td>\n",
       "      <td>ZONGULDAK</td>\n",
       "      <td>ZONGULDAK ATATÜRK DEVLET HASTANESİ</td>\n",
       "    </tr>\n",
       "    <tr>\n",
       "      <th>521</th>\n",
       "      <td>521</td>\n",
       "      <td>7</td>\n",
       "      <td>ZONGULDAK-K. EREĞLİ</td>\n",
       "      <td>KARADENİZ EREĞLİ DEVLET HASTANESİ</td>\n",
       "    </tr>\n",
       "    <tr>\n",
       "      <th>522</th>\n",
       "      <td>522</td>\n",
       "      <td>6</td>\n",
       "      <td>ZONGULDAK-K. EREĞLİ</td>\n",
       "      <td>ÖZEL KARADENİZ EREĞLİ ECHOMAR HASTANESİ</td>\n",
       "    </tr>\n",
       "    <tr>\n",
       "      <th>523</th>\n",
       "      <td>523</td>\n",
       "      <td>8</td>\n",
       "      <td>ZONGULDAK-K. EREĞLİ</td>\n",
       "      <td>ÖZEL EREĞLİ ANADOLU HASTANESİ</td>\n",
       "    </tr>\n",
       "  </tbody>\n",
       "</table>\n",
       "<p>524 rows × 4 columns</p>\n",
       "</div>"
      ],
      "text/plain": [
       "       0                      1                    2  \\\n",
       "0     NO  YETKİLENDİRME GRUP NO                   İL   \n",
       "1      1                      1                ADANA   \n",
       "2      2                      3                ADANA   \n",
       "3      3                      5                ADANA   \n",
       "4      4                      5                ADANA   \n",
       "..   ...                    ...                  ...   \n",
       "519  519                      2            ZONGULDAK   \n",
       "520  520                      5            ZONGULDAK   \n",
       "521  521                      7  ZONGULDAK-K. EREĞLİ   \n",
       "522  522                      6  ZONGULDAK-K. EREĞLİ   \n",
       "523  523                      8  ZONGULDAK-K. EREĞLİ   \n",
       "\n",
       "                                                     3  \n",
       "0                                                KURUM  \n",
       "1    ADANA İL SAĞLIK MÜDÜRLÜĞÜ HALK SAĞLIĞI LABORAT...  \n",
       "2                                ADANA ŞEHİR HASTANESİ  \n",
       "3              ÇUKUROVA ÜNİVERSİTESİ BALCALI HASTANESİ  \n",
       "4                              SEYHAN DEVLET HASTANESİ  \n",
       "..                                                 ...  \n",
       "519  ZONGULDAK BÜLENT ECEVİT ÜNİVERSİTESİ TIP FAKÜL...  \n",
       "520                 ZONGULDAK ATATÜRK DEVLET HASTANESİ  \n",
       "521                  KARADENİZ EREĞLİ DEVLET HASTANESİ  \n",
       "522            ÖZEL KARADENİZ EREĞLİ ECHOMAR HASTANESİ  \n",
       "523                      ÖZEL EREĞLİ ANADOLU HASTANESİ  \n",
       "\n",
       "[524 rows x 4 columns]"
      ]
     },
     "execution_count": 60,
     "metadata": {},
     "output_type": "execute_result"
    }
   ],
   "source": [
    "df_covid[0]"
   ]
  },
  {
   "cell_type": "code",
   "execution_count": 61,
   "id": "8c2f3a50",
   "metadata": {
    "ExecuteTime": {
     "end_time": "2023-05-19T18:52:46.233053Z",
     "start_time": "2023-05-19T18:52:46.146030Z"
    }
   },
   "outputs": [
    {
     "ename": "IndexError",
     "evalue": "list index out of range",
     "output_type": "error",
     "traceback": [
      "\u001b[1;31m---------------------------------------------------------------------------\u001b[0m",
      "\u001b[1;31mIndexError\u001b[0m                                Traceback (most recent call last)",
      "\u001b[1;32m~\\AppData\\Local\\Temp\\ipykernel_2560\\814785288.py\u001b[0m in \u001b[0;36m<module>\u001b[1;34m\u001b[0m\n\u001b[1;32m----> 1\u001b[1;33m \u001b[0mdf_covid\u001b[0m\u001b[1;33m[\u001b[0m\u001b[1;36m1\u001b[0m\u001b[1;33m]\u001b[0m\u001b[1;33m\u001b[0m\u001b[1;33m\u001b[0m\u001b[0m\n\u001b[0m",
      "\u001b[1;31mIndexError\u001b[0m: list index out of range"
     ]
    }
   ],
   "source": [
    "df_covid[1]"
   ]
  },
  {
   "cell_type": "code",
   "execution_count": null,
   "id": "9b5d61b6",
   "metadata": {},
   "outputs": [],
   "source": []
  },
  {
   "cell_type": "code",
   "execution_count": null,
   "id": "1a9536bc",
   "metadata": {},
   "outputs": [],
   "source": []
  },
  {
   "cell_type": "code",
   "execution_count": null,
   "id": "48098ec6",
   "metadata": {},
   "outputs": [],
   "source": []
  },
  {
   "cell_type": "markdown",
   "id": "93c92325-29ae-46d2-b1f7-f071905dcb9e",
   "metadata": {},
   "source": [
    "# https://www.bbc.com/news/world-51235105"
   ]
  },
  {
   "cell_type": "code",
   "execution_count": 62,
   "id": "8caa3b4f",
   "metadata": {
    "ExecuteTime": {
     "end_time": "2023-05-19T18:55:22.212405Z",
     "start_time": "2023-05-19T18:55:22.194452Z"
    }
   },
   "outputs": [],
   "source": [
    "\n",
    "url_2 = \"https://www.bbc.com/news/world-51235105\""
   ]
  },
  {
   "cell_type": "code",
   "execution_count": 65,
   "id": "db982279-9ef7-472f-8c41-4a9be9392870",
   "metadata": {
    "ExecuteTime": {
     "end_time": "2023-05-19T18:57:41.614900Z",
     "start_time": "2023-05-19T18:57:39.732642Z"
    }
   },
   "outputs": [
    {
     "data": {
      "text/plain": [
       "[              Country   Deaths  Death rate*  Total Cases  \\\n",
       " 0                  US  1012833        308.6     87030788   \n",
       " 1              Brazil   672033        318.4     32535923   \n",
       " 2               India   525242         38.4     43531650   \n",
       " 3              Russia   373595        258.8     18173480   \n",
       " 4              Mexico   325793        255.4      6093835   \n",
       " ..                ...      ...          ...          ...   \n",
       " 220        Micronesia        0          0.0           38   \n",
       " 221           Vatican        0          0.0           29   \n",
       " 222  Marshall Islands        0          0.0           18   \n",
       " 223        Antarctica        0          NaN           11   \n",
       " 224      Saint Helena        0          0.0            4   \n",
       " \n",
       "      New Cases  0  10  100  1k  10k  **  Unnamed: 5  \n",
       " 0                                   NaN         NaN  \n",
       " 1                                   NaN         NaN  \n",
       " 2                                   NaN         NaN  \n",
       " 3                                   NaN         NaN  \n",
       " 4                                   NaN         NaN  \n",
       " ..                                  ...         ...  \n",
       " 220                                 NaN         NaN  \n",
       " 221                                 NaN         NaN  \n",
       " 222                                 NaN         NaN  \n",
       " 223                                 NaN         NaN  \n",
       " 224                                 NaN         NaN  \n",
       " \n",
       " [225 rows x 6 columns],\n",
       "                                          Location  Percent fully vaccinated  \\\n",
       " 0                                           World                      61.0   \n",
       " 1                                           China                      87.0   \n",
       " 2                                           India                      66.0   \n",
       " 3                                              US                      67.0   \n",
       " 4                                          Brazil                      79.0   \n",
       " ..                                            ...                       ...   \n",
       " 212                British Indian Ocean Territory                       0.0   \n",
       " 213                                       Eritrea                       0.0   \n",
       " 214                                   North Korea                       0.0   \n",
       " 215  South Georgia and the South Sandwich Islands                       0.0   \n",
       " 216                                       Vatican                       0.0   \n",
       " \n",
       "      Total doses  \n",
       " 0    12120524547  \n",
       " 1     3403643000  \n",
       " 2     1978918170  \n",
       " 3      596233489  \n",
       " 4      456903089  \n",
       " ..           ...  \n",
       " 212            0  \n",
       " 213            0  \n",
       " 214            0  \n",
       " 215            0  \n",
       " 216            0  \n",
       " \n",
       " [217 rows x 3 columns]]"
      ]
     },
     "execution_count": 65,
     "metadata": {},
     "output_type": "execute_result"
    }
   ],
   "source": [
    "df_covid_world = pd.read_html(url_2)\n",
    "df_covid_world"
   ]
  },
  {
   "cell_type": "code",
   "execution_count": 66,
   "id": "6f422320",
   "metadata": {
    "ExecuteTime": {
     "end_time": "2023-05-19T18:58:31.706829Z",
     "start_time": "2023-05-19T18:58:31.637942Z"
    }
   },
   "outputs": [
    {
     "data": {
      "text/html": [
       "<div>\n",
       "<style scoped>\n",
       "    .dataframe tbody tr th:only-of-type {\n",
       "        vertical-align: middle;\n",
       "    }\n",
       "\n",
       "    .dataframe tbody tr th {\n",
       "        vertical-align: top;\n",
       "    }\n",
       "\n",
       "    .dataframe thead th {\n",
       "        text-align: right;\n",
       "    }\n",
       "</style>\n",
       "<table border=\"1\" class=\"dataframe\">\n",
       "  <thead>\n",
       "    <tr style=\"text-align: right;\">\n",
       "      <th></th>\n",
       "      <th>Country</th>\n",
       "      <th>Deaths</th>\n",
       "      <th>Death rate*</th>\n",
       "      <th>Total Cases</th>\n",
       "      <th>New Cases  0  10  100  1k  10k  **</th>\n",
       "      <th>Unnamed: 5</th>\n",
       "    </tr>\n",
       "  </thead>\n",
       "  <tbody>\n",
       "    <tr>\n",
       "      <th>0</th>\n",
       "      <td>US</td>\n",
       "      <td>1012833</td>\n",
       "      <td>308.6</td>\n",
       "      <td>87030788</td>\n",
       "      <td>NaN</td>\n",
       "      <td>NaN</td>\n",
       "    </tr>\n",
       "    <tr>\n",
       "      <th>1</th>\n",
       "      <td>Brazil</td>\n",
       "      <td>672033</td>\n",
       "      <td>318.4</td>\n",
       "      <td>32535923</td>\n",
       "      <td>NaN</td>\n",
       "      <td>NaN</td>\n",
       "    </tr>\n",
       "    <tr>\n",
       "      <th>2</th>\n",
       "      <td>India</td>\n",
       "      <td>525242</td>\n",
       "      <td>38.4</td>\n",
       "      <td>43531650</td>\n",
       "      <td>NaN</td>\n",
       "      <td>NaN</td>\n",
       "    </tr>\n",
       "    <tr>\n",
       "      <th>3</th>\n",
       "      <td>Russia</td>\n",
       "      <td>373595</td>\n",
       "      <td>258.8</td>\n",
       "      <td>18173480</td>\n",
       "      <td>NaN</td>\n",
       "      <td>NaN</td>\n",
       "    </tr>\n",
       "    <tr>\n",
       "      <th>4</th>\n",
       "      <td>Mexico</td>\n",
       "      <td>325793</td>\n",
       "      <td>255.4</td>\n",
       "      <td>6093835</td>\n",
       "      <td>NaN</td>\n",
       "      <td>NaN</td>\n",
       "    </tr>\n",
       "    <tr>\n",
       "      <th>...</th>\n",
       "      <td>...</td>\n",
       "      <td>...</td>\n",
       "      <td>...</td>\n",
       "      <td>...</td>\n",
       "      <td>...</td>\n",
       "      <td>...</td>\n",
       "    </tr>\n",
       "    <tr>\n",
       "      <th>220</th>\n",
       "      <td>Micronesia</td>\n",
       "      <td>0</td>\n",
       "      <td>0.0</td>\n",
       "      <td>38</td>\n",
       "      <td>NaN</td>\n",
       "      <td>NaN</td>\n",
       "    </tr>\n",
       "    <tr>\n",
       "      <th>221</th>\n",
       "      <td>Vatican</td>\n",
       "      <td>0</td>\n",
       "      <td>0.0</td>\n",
       "      <td>29</td>\n",
       "      <td>NaN</td>\n",
       "      <td>NaN</td>\n",
       "    </tr>\n",
       "    <tr>\n",
       "      <th>222</th>\n",
       "      <td>Marshall Islands</td>\n",
       "      <td>0</td>\n",
       "      <td>0.0</td>\n",
       "      <td>18</td>\n",
       "      <td>NaN</td>\n",
       "      <td>NaN</td>\n",
       "    </tr>\n",
       "    <tr>\n",
       "      <th>223</th>\n",
       "      <td>Antarctica</td>\n",
       "      <td>0</td>\n",
       "      <td>NaN</td>\n",
       "      <td>11</td>\n",
       "      <td>NaN</td>\n",
       "      <td>NaN</td>\n",
       "    </tr>\n",
       "    <tr>\n",
       "      <th>224</th>\n",
       "      <td>Saint Helena</td>\n",
       "      <td>0</td>\n",
       "      <td>0.0</td>\n",
       "      <td>4</td>\n",
       "      <td>NaN</td>\n",
       "      <td>NaN</td>\n",
       "    </tr>\n",
       "  </tbody>\n",
       "</table>\n",
       "<p>225 rows × 6 columns</p>\n",
       "</div>"
      ],
      "text/plain": [
       "              Country   Deaths  Death rate*  Total Cases  \\\n",
       "0                  US  1012833        308.6     87030788   \n",
       "1              Brazil   672033        318.4     32535923   \n",
       "2               India   525242         38.4     43531650   \n",
       "3              Russia   373595        258.8     18173480   \n",
       "4              Mexico   325793        255.4      6093835   \n",
       "..                ...      ...          ...          ...   \n",
       "220        Micronesia        0          0.0           38   \n",
       "221           Vatican        0          0.0           29   \n",
       "222  Marshall Islands        0          0.0           18   \n",
       "223        Antarctica        0          NaN           11   \n",
       "224      Saint Helena        0          0.0            4   \n",
       "\n",
       "     New Cases  0  10  100  1k  10k  **  Unnamed: 5  \n",
       "0                                   NaN         NaN  \n",
       "1                                   NaN         NaN  \n",
       "2                                   NaN         NaN  \n",
       "3                                   NaN         NaN  \n",
       "4                                   NaN         NaN  \n",
       "..                                  ...         ...  \n",
       "220                                 NaN         NaN  \n",
       "221                                 NaN         NaN  \n",
       "222                                 NaN         NaN  \n",
       "223                                 NaN         NaN  \n",
       "224                                 NaN         NaN  \n",
       "\n",
       "[225 rows x 6 columns]"
      ]
     },
     "execution_count": 66,
     "metadata": {},
     "output_type": "execute_result"
    }
   ],
   "source": [
    "df_covid_world[0]\n"
   ]
  },
  {
   "cell_type": "code",
   "execution_count": 68,
   "id": "17fd2ab6",
   "metadata": {
    "ExecuteTime": {
     "end_time": "2023-05-19T19:00:09.018238Z",
     "start_time": "2023-05-19T19:00:08.984334Z"
    }
   },
   "outputs": [],
   "source": [
    "df_covid_world[0].to_csv(\"covid_data.csv\")"
   ]
  },
  {
   "cell_type": "code",
   "execution_count": null,
   "id": "12cb5a6c",
   "metadata": {},
   "outputs": [],
   "source": []
  },
  {
   "cell_type": "code",
   "execution_count": null,
   "id": "50571267",
   "metadata": {},
   "outputs": [],
   "source": []
  },
  {
   "cell_type": "markdown",
   "id": "2f88935d-b853-471d-8b95-69cde8a33d91",
   "metadata": {},
   "source": [
    "## SQL Connection"
   ]
  },
  {
   "cell_type": "code",
   "execution_count": 69,
   "id": "f848f62c-c2e8-4181-b7aa-762e6af0c6b7",
   "metadata": {
    "ExecuteTime": {
     "end_time": "2023-05-19T19:03:48.678713Z",
     "start_time": "2023-05-19T19:03:42.629652Z"
    }
   },
   "outputs": [
    {
     "name": "stdout",
     "output_type": "stream",
     "text": [
      "Requirement already satisfied: sqlalchemy in c:\\users\\user\\anaconda3\\lib\\site-packages (1.4.39)\n",
      "Requirement already satisfied: greenlet!=0.4.17 in c:\\users\\user\\anaconda3\\lib\\site-packages (from sqlalchemy) (1.1.1)\n"
     ]
    }
   ],
   "source": [
    "!pip install sqlalchemy"
   ]
  },
  {
   "cell_type": "code",
   "execution_count": 70,
   "id": "3c967a31",
   "metadata": {
    "ExecuteTime": {
     "end_time": "2023-05-19T19:04:33.792556Z",
     "start_time": "2023-05-19T19:04:33.778865Z"
    }
   },
   "outputs": [],
   "source": [
    "from sqlalchemy import create_engine"
   ]
  },
  {
   "cell_type": "markdown",
   "id": "c2426e0b-026b-4fd3-8238-4ac740e621d1",
   "metadata": {},
   "source": [
    "https://en.wikipedia.org/wiki/World_population"
   ]
  },
  {
   "cell_type": "code",
   "execution_count": 71,
   "id": "50e026bf",
   "metadata": {
    "ExecuteTime": {
     "end_time": "2023-05-19T19:06:18.703024Z",
     "start_time": "2023-05-19T19:06:18.606747Z"
    }
   },
   "outputs": [],
   "source": [
    "temp_db = create_engine(\"sqlite:///:memory:\")"
   ]
  },
  {
   "cell_type": "code",
   "execution_count": 72,
   "id": "e0ab7d96",
   "metadata": {
    "ExecuteTime": {
     "end_time": "2023-05-19T19:06:45.866949Z",
     "start_time": "2023-05-19T19:06:45.837237Z"
    }
   },
   "outputs": [
    {
     "data": {
      "text/plain": [
       "[]"
      ]
     },
     "execution_count": 72,
     "metadata": {},
     "output_type": "execute_result"
    }
   ],
   "source": [
    "temp_db.table_names()"
   ]
  },
  {
   "cell_type": "code",
   "execution_count": 74,
   "id": "d4a78c68",
   "metadata": {
    "ExecuteTime": {
     "end_time": "2023-05-19T19:08:34.668847Z",
     "start_time": "2023-05-19T19:08:34.146096Z"
    }
   },
   "outputs": [],
   "source": [
    "html_table = pd.read_html(\"https://en.wikipedia.org/wiki/World_population\")"
   ]
  },
  {
   "cell_type": "code",
   "execution_count": 76,
   "id": "028c1dc8",
   "metadata": {
    "ExecuteTime": {
     "end_time": "2023-05-19T19:10:20.937343Z",
     "start_time": "2023-05-19T19:10:20.900886Z"
    }
   },
   "outputs": [
    {
     "data": {
      "text/html": [
       "<div>\n",
       "<style scoped>\n",
       "    .dataframe tbody tr th:only-of-type {\n",
       "        vertical-align: middle;\n",
       "    }\n",
       "\n",
       "    .dataframe tbody tr th {\n",
       "        vertical-align: top;\n",
       "    }\n",
       "\n",
       "    .dataframe thead th {\n",
       "        text-align: right;\n",
       "    }\n",
       "</style>\n",
       "<table border=\"1\" class=\"dataframe\">\n",
       "  <thead>\n",
       "    <tr style=\"text-align: right;\">\n",
       "      <th></th>\n",
       "      <th>Rank</th>\n",
       "      <th>Country</th>\n",
       "      <th>Population</th>\n",
       "      <th>Area(km2)</th>\n",
       "      <th>Density(pop/km2)</th>\n",
       "    </tr>\n",
       "  </thead>\n",
       "  <tbody>\n",
       "    <tr>\n",
       "      <th>0</th>\n",
       "      <td>1</td>\n",
       "      <td>Singapore</td>\n",
       "      <td>5921231</td>\n",
       "      <td>719</td>\n",
       "      <td>8235</td>\n",
       "    </tr>\n",
       "    <tr>\n",
       "      <th>1</th>\n",
       "      <td>2</td>\n",
       "      <td>Bangladesh</td>\n",
       "      <td>165650475</td>\n",
       "      <td>148460</td>\n",
       "      <td>1116</td>\n",
       "    </tr>\n",
       "    <tr>\n",
       "      <th>2</th>\n",
       "      <td>3</td>\n",
       "      <td>Palestine[103]</td>\n",
       "      <td>5223000</td>\n",
       "      <td>6025</td>\n",
       "      <td>867</td>\n",
       "    </tr>\n",
       "    <tr>\n",
       "      <th>3</th>\n",
       "      <td>4</td>\n",
       "      <td>Taiwan</td>\n",
       "      <td>23580712</td>\n",
       "      <td>35980</td>\n",
       "      <td>655</td>\n",
       "    </tr>\n",
       "    <tr>\n",
       "      <th>4</th>\n",
       "      <td>5</td>\n",
       "      <td>South Korea</td>\n",
       "      <td>51844834</td>\n",
       "      <td>99720</td>\n",
       "      <td>520</td>\n",
       "    </tr>\n",
       "    <tr>\n",
       "      <th>5</th>\n",
       "      <td>6</td>\n",
       "      <td>Lebanon</td>\n",
       "      <td>5296814</td>\n",
       "      <td>10400</td>\n",
       "      <td>509</td>\n",
       "    </tr>\n",
       "    <tr>\n",
       "      <th>6</th>\n",
       "      <td>7</td>\n",
       "      <td>Rwanda</td>\n",
       "      <td>13173730</td>\n",
       "      <td>26338</td>\n",
       "      <td>500</td>\n",
       "    </tr>\n",
       "    <tr>\n",
       "      <th>7</th>\n",
       "      <td>8</td>\n",
       "      <td>Burundi</td>\n",
       "      <td>12696478</td>\n",
       "      <td>27830</td>\n",
       "      <td>456</td>\n",
       "    </tr>\n",
       "    <tr>\n",
       "      <th>8</th>\n",
       "      <td>9</td>\n",
       "      <td>India</td>\n",
       "      <td>1389637446</td>\n",
       "      <td>3287263</td>\n",
       "      <td>423</td>\n",
       "    </tr>\n",
       "    <tr>\n",
       "      <th>9</th>\n",
       "      <td>10</td>\n",
       "      <td>Netherlands</td>\n",
       "      <td>17400824</td>\n",
       "      <td>41543</td>\n",
       "      <td>419</td>\n",
       "    </tr>\n",
       "  </tbody>\n",
       "</table>\n",
       "</div>"
      ],
      "text/plain": [
       "   Rank         Country  Population  Area(km2)  Density(pop/km2)\n",
       "0     1       Singapore     5921231        719              8235\n",
       "1     2      Bangladesh   165650475     148460              1116\n",
       "2     3  Palestine[103]     5223000       6025               867\n",
       "3     4          Taiwan    23580712      35980               655\n",
       "4     5     South Korea    51844834      99720               520\n",
       "5     6         Lebanon     5296814      10400               509\n",
       "6     7          Rwanda    13173730      26338               500\n",
       "7     8         Burundi    12696478      27830               456\n",
       "8     9           India  1389637446    3287263               423\n",
       "9    10     Netherlands    17400824      41543               419"
      ]
     },
     "execution_count": 76,
     "metadata": {},
     "output_type": "execute_result"
    }
   ],
   "source": [
    "html_table[7]"
   ]
  },
  {
   "cell_type": "code",
   "execution_count": 78,
   "id": "7734034b",
   "metadata": {
    "ExecuteTime": {
     "end_time": "2023-05-19T19:13:47.773978Z",
     "start_time": "2023-05-19T19:13:47.705126Z"
    }
   },
   "outputs": [
    {
     "data": {
      "text/plain": [
       "10"
      ]
     },
     "execution_count": 78,
     "metadata": {},
     "output_type": "execute_result"
    }
   ],
   "source": [
    "html_table[7].to_sql(name =\"world_population\", con=temp_db)"
   ]
  },
  {
   "cell_type": "code",
   "execution_count": 80,
   "id": "8b9c09f4",
   "metadata": {
    "ExecuteTime": {
     "end_time": "2023-05-19T19:14:12.528958Z",
     "start_time": "2023-05-19T19:14:12.514995Z"
    }
   },
   "outputs": [
    {
     "data": {
      "text/plain": [
       "['world_population']"
      ]
     },
     "execution_count": 80,
     "metadata": {},
     "output_type": "execute_result"
    }
   ],
   "source": [
    "temp_db.table_names()"
   ]
  },
  {
   "cell_type": "code",
   "execution_count": 81,
   "id": "ec23cbe2",
   "metadata": {
    "ExecuteTime": {
     "end_time": "2023-05-19T19:27:21.136896Z",
     "start_time": "2023-05-19T19:27:21.084898Z"
    }
   },
   "outputs": [
    {
     "data": {
      "text/html": [
       "<div>\n",
       "<style scoped>\n",
       "    .dataframe tbody tr th:only-of-type {\n",
       "        vertical-align: middle;\n",
       "    }\n",
       "\n",
       "    .dataframe tbody tr th {\n",
       "        vertical-align: top;\n",
       "    }\n",
       "\n",
       "    .dataframe thead th {\n",
       "        text-align: right;\n",
       "    }\n",
       "</style>\n",
       "<table border=\"1\" class=\"dataframe\">\n",
       "  <thead>\n",
       "    <tr style=\"text-align: right;\">\n",
       "      <th></th>\n",
       "      <th>Country</th>\n",
       "      <th>Population</th>\n",
       "    </tr>\n",
       "  </thead>\n",
       "  <tbody>\n",
       "    <tr>\n",
       "      <th>0</th>\n",
       "      <td>Singapore</td>\n",
       "      <td>5921231</td>\n",
       "    </tr>\n",
       "    <tr>\n",
       "      <th>1</th>\n",
       "      <td>Bangladesh</td>\n",
       "      <td>165650475</td>\n",
       "    </tr>\n",
       "    <tr>\n",
       "      <th>2</th>\n",
       "      <td>Palestine[103]</td>\n",
       "      <td>5223000</td>\n",
       "    </tr>\n",
       "    <tr>\n",
       "      <th>3</th>\n",
       "      <td>Taiwan</td>\n",
       "      <td>23580712</td>\n",
       "    </tr>\n",
       "    <tr>\n",
       "      <th>4</th>\n",
       "      <td>South Korea</td>\n",
       "      <td>51844834</td>\n",
       "    </tr>\n",
       "    <tr>\n",
       "      <th>5</th>\n",
       "      <td>Lebanon</td>\n",
       "      <td>5296814</td>\n",
       "    </tr>\n",
       "    <tr>\n",
       "      <th>6</th>\n",
       "      <td>Rwanda</td>\n",
       "      <td>13173730</td>\n",
       "    </tr>\n",
       "    <tr>\n",
       "      <th>7</th>\n",
       "      <td>Burundi</td>\n",
       "      <td>12696478</td>\n",
       "    </tr>\n",
       "    <tr>\n",
       "      <th>8</th>\n",
       "      <td>India</td>\n",
       "      <td>1389637446</td>\n",
       "    </tr>\n",
       "    <tr>\n",
       "      <th>9</th>\n",
       "      <td>Netherlands</td>\n",
       "      <td>17400824</td>\n",
       "    </tr>\n",
       "  </tbody>\n",
       "</table>\n",
       "</div>"
      ],
      "text/plain": [
       "          Country  Population\n",
       "0       Singapore     5921231\n",
       "1      Bangladesh   165650475\n",
       "2  Palestine[103]     5223000\n",
       "3          Taiwan    23580712\n",
       "4     South Korea    51844834\n",
       "5         Lebanon     5296814\n",
       "6          Rwanda    13173730\n",
       "7         Burundi    12696478\n",
       "8           India  1389637446\n",
       "9     Netherlands    17400824"
      ]
     },
     "execution_count": 81,
     "metadata": {},
     "output_type": "execute_result"
    }
   ],
   "source": [
    "pd.read_sql_query(sql=\"SELECT Country, Population FROM world_population\", con=temp_db)"
   ]
  },
  {
   "cell_type": "code",
   "execution_count": 82,
   "id": "4ac856c4",
   "metadata": {
    "ExecuteTime": {
     "end_time": "2023-05-19T19:28:36.540084Z",
     "start_time": "2023-05-19T19:28:36.486229Z"
    }
   },
   "outputs": [
    {
     "ename": "NameError",
     "evalue": "name 'df_sql' is not defined",
     "output_type": "error",
     "traceback": [
      "\u001b[1;31m---------------------------------------------------------------------------\u001b[0m",
      "\u001b[1;31mNameError\u001b[0m                                 Traceback (most recent call last)",
      "\u001b[1;32m~\\AppData\\Local\\Temp\\ipykernel_2560\\2335070971.py\u001b[0m in \u001b[0;36m<module>\u001b[1;34m\u001b[0m\n\u001b[1;32m----> 1\u001b[1;33m \u001b[0mdf_sql\u001b[0m\u001b[1;33m[\u001b[0m\u001b[1;33m[\u001b[0m\u001b[1;34m\"Country\"\u001b[0m\u001b[1;33m,\u001b[0m \u001b[1;34m\"Population\"\u001b[0m\u001b[1;33m]\u001b[0m\u001b[1;33m]\u001b[0m\u001b[1;33m\u001b[0m\u001b[1;33m\u001b[0m\u001b[0m\n\u001b[0m",
      "\u001b[1;31mNameError\u001b[0m: name 'df_sql' is not defined"
     ]
    }
   ],
   "source": [
    "df_sql[[\"Country\", \"Population\"]]"
   ]
  },
  {
   "cell_type": "code",
   "execution_count": null,
   "id": "ae2f0fb7",
   "metadata": {},
   "outputs": [],
   "source": [
    "\n"
   ]
  }
 ],
 "metadata": {
  "kernelspec": {
   "display_name": "Python 3 (ipykernel)",
   "language": "python",
   "name": "python3"
  },
  "language_info": {
   "codemirror_mode": {
    "name": "ipython",
    "version": 3
   },
   "file_extension": ".py",
   "mimetype": "text/x-python",
   "name": "python",
   "nbconvert_exporter": "python",
   "pygments_lexer": "ipython3",
   "version": "3.9.13"
  },
  "toc": {
   "base_numbering": 1,
   "nav_menu": {},
   "number_sections": true,
   "sideBar": true,
   "skip_h1_title": false,
   "title_cell": "Table of Contents",
   "title_sidebar": "Contents",
   "toc_cell": false,
   "toc_position": {},
   "toc_section_display": true,
   "toc_window_display": false
  }
 },
 "nbformat": 4,
 "nbformat_minor": 5
}
